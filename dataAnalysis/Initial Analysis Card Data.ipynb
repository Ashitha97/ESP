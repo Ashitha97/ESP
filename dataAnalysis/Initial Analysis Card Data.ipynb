{
 "cells": [
  {
   "cell_type": "markdown",
   "metadata": {},
   "source": [
    "# Analysis of tblCardData\n",
    "\n",
    "This notebook contains codes and functions to run queries to analyze and understand the data present in the table `tblCardData` of the xspoc database."
   ]
  },
  {
   "cell_type": "code",
   "execution_count": 1,
   "metadata": {},
   "outputs": [],
   "source": [
    "\"\"\"\n",
    "For setting up local imports in an Ipython Shell\n",
    "This is a workaround for ipython, dont need it for basic python scripts\n",
    "\"\"\"\n",
    "import os\n",
    "import sys\n",
    "module_path = os.path.abspath(os.path.join('..'))\n",
    "if module_path not in sys.path:\n",
    "    sys.path.append(module_path)"
   ]
  },
  {
   "cell_type": "code",
   "execution_count": 20,
   "metadata": {},
   "outputs": [],
   "source": [
    "import pandas as pd\n",
    "import numpy as np\n",
    "import struct\n",
    "import matplotlib.pyplot as plt\n",
    "\n",
    "# Project Library\n",
    "from dbconnection.postgresql import PostgresRDS"
   ]
  },
  {
   "cell_type": "markdown",
   "metadata": {},
   "source": [
    "## Querying\n",
    "\n",
    "Use the function `run_query(*args)` to get run queries from the table. Some examples are given below\n",
    "\n",
    "&nbsp;\n",
    "\n",
    "**Get list of unique WellNames in the dataset**\n",
    "\n",
    "Query Time: *1m 30s*\n",
    "```\n",
    "SELECT DISTINCT(\"NodeID\") \n",
    "FROM xspoc_dbo.\"tblCardData\"\n",
    "ORDER BY \"NodeID\"\n",
    "```\n",
    "\n",
    "\n",
    "\n",
    "&nbsp;\n",
    "\n",
    "**Get Card Data**\n",
    "\n",
    "To get any sort of Card data (bytea dtype) use the following mapping `encode(\"tblCardData\".\"CardColumn\", 'hex') as cardcolumn`.\n",
    "\n",
    "An Example for importing `DownholeCardB` and `SurfaceCardB` from well `K2 Holdings` will be:\n",
    "\n",
    "```\n",
    "SELECT \n",
    "\"NodeID\",\n",
    "\"Date\",\n",
    "encode(\"tblCardData\".\"DownholeCardB\", 'hex') as downcard,\n",
    "encode(\"tblCardData\".\"SurfaceCardB\", 'hex') as surfcard,\n",
    "FROM xspoc_dbo.\"tblCardData\"\n",
    "WHERE \"NodeID\" = 'K2 Holdings'\n",
    "ORDER BY \"NodeID\" , \"Date\" \n",
    "```"
   ]
  },
  {
   "cell_type": "code",
   "execution_count": null,
   "metadata": {},
   "outputs": [],
   "source": []
  },
  {
   "cell_type": "code",
   "execution_count": null,
   "metadata": {},
   "outputs": [],
   "source": []
  },
  {
   "cell_type": "code",
   "execution_count": 16,
   "metadata": {},
   "outputs": [],
   "source": [
    "def run_query(sql, engine):\n",
    "    data = pd.read_sql(sql, con=engine)\n",
    "    return data\n",
    "\n",
    "def get_dyna(card_arr):\n",
    "    \"\"\"\n",
    "    Transforms Hexadecimal Dyna Card Value into Position and Load value\n",
    "    Logic for Client1 dyna cards\n",
    "    :param card_arr: Hexadecimal Array\n",
    "    :return: Position, Load 2D array\n",
    "    \"\"\"\n",
    "    if pd.isnull(card_arr):\n",
    "        pos = [0, 0, 0]\n",
    "        load = [0, 0, 0]\n",
    "\n",
    "    else:\n",
    "#         test_card = card_arr[2:].strip()\n",
    "        test_card = card_arr\n",
    "        display(len(test_card))\n",
    "        mid = len(test_card) / 2\n",
    "        mid = int(mid)\n",
    "\n",
    "        load = []\n",
    "        pos = []\n",
    "\n",
    "        for i in range(0, mid, 8):\n",
    "            load_temp = test_card[i:i + 8]\n",
    "            load_int = struct.unpack('f', bytes.fromhex(load_temp))[0]\n",
    "            load.append(load_int)\n",
    "\n",
    "            pos_temp = test_card[mid + i:mid + i + 8]\n",
    "            pos_int = struct.unpack('f', bytes.fromhex(pos_temp))[0]\n",
    "            pos.append(pos_int)\n",
    "\n",
    "    return np.column_stack(([pos, load]))"
   ]
  },
  {
   "cell_type": "code",
   "execution_count": 54,
   "metadata": {},
   "outputs": [
    {
     "name": "stdout",
     "output_type": "stream",
     "text": [
      "Connected to oasis-data DataBase\n",
      "Connection Closed\n"
     ]
    }
   ],
   "source": [
    "query = \"\"\"\n",
    "SELECT \n",
    "\"NodeID\",\n",
    "\"Date\",\n",
    "encode(\"tblCardData\".\"DownholeCardB\", 'hex') as downcard,\n",
    "encode(\"tblCardData\".\"SurfaceCardB\", 'hex') as surfcard\n",
    "FROM xspoc_dbo.\"tblCardData\"\n",
    "WHERE \"NodeID\" = 'K2 Holdings'\n",
    "ORDER BY \"NodeID\" , \"Date\"\n",
    "\"\"\"\n",
    "\n",
    "with PostgresRDS() as engine:\n",
    "    result = run_query(query, engine)"
   ]
  },
  {
   "cell_type": "code",
   "execution_count": 57,
   "metadata": {},
   "outputs": [
    {
     "data": {
      "text/html": [
       "<div>\n",
       "<style scoped>\n",
       "    .dataframe tbody tr th:only-of-type {\n",
       "        vertical-align: middle;\n",
       "    }\n",
       "\n",
       "    .dataframe tbody tr th {\n",
       "        vertical-align: top;\n",
       "    }\n",
       "\n",
       "    .dataframe thead th {\n",
       "        text-align: right;\n",
       "    }\n",
       "</style>\n",
       "<table border=\"1\" class=\"dataframe\">\n",
       "  <thead>\n",
       "    <tr style=\"text-align: right;\">\n",
       "      <th></th>\n",
       "      <th>NodeID</th>\n",
       "      <th>Date</th>\n",
       "      <th>downcard</th>\n",
       "      <th>surfcard</th>\n",
       "    </tr>\n",
       "  </thead>\n",
       "  <tbody>\n",
       "    <tr>\n",
       "      <th>0</th>\n",
       "      <td>K2 Holdings</td>\n",
       "      <td>1989-01-31 05:33:03</td>\n",
       "      <td>c820e746f392f7464a890247514c09479f941247c7f32d...</td>\n",
       "      <td>00902146000c264600902a4600202f4600c43346006838...</td>\n",
       "    </tr>\n",
       "    <tr>\n",
       "      <th>1</th>\n",
       "      <td>K2 Holdings</td>\n",
       "      <td>1989-02-03 07:05:04</td>\n",
       "      <td>None</td>\n",
       "      <td>0030224600d4264600902b46006430460054354600f439...</td>\n",
       "    </tr>\n",
       "    <tr>\n",
       "      <th>2</th>\n",
       "      <td>K2 Holdings</td>\n",
       "      <td>1989-04-02 17:52:18</td>\n",
       "      <td>None</td>\n",
       "      <td>005c234600f0274600802c46000431460098354600f039...</td>\n",
       "    </tr>\n",
       "    <tr>\n",
       "      <th>3</th>\n",
       "      <td>K2 Holdings</td>\n",
       "      <td>1989-09-08 05:33:04</td>\n",
       "      <td>None</td>\n",
       "      <td>0070264600002b4600882f46000c3446006c384600a83c...</td>\n",
       "    </tr>\n",
       "    <tr>\n",
       "      <th>4</th>\n",
       "      <td>K2 Holdings</td>\n",
       "      <td>2019-03-19 01:18:34</td>\n",
       "      <td>702c8e43d8f9a44388f2b843800bcb4320efdc43c8aef0...</td>\n",
       "      <td>00d09f4600ba9c4600dc9b4600889b4600a29c4600e29e...</td>\n",
       "    </tr>\n",
       "    <tr>\n",
       "      <th>...</th>\n",
       "      <td>...</td>\n",
       "      <td>...</td>\n",
       "      <td>...</td>\n",
       "      <td>...</td>\n",
       "    </tr>\n",
       "    <tr>\n",
       "      <th>3185</th>\n",
       "      <td>K2 Holdings</td>\n",
       "      <td>2020-05-25 19:37:32</td>\n",
       "      <td>00654bc3808f0842184c9243149308442478404484546b...</td>\n",
       "      <td>0044a6460056a8460066a746009aa74600b4a6460076a4...</td>\n",
       "    </tr>\n",
       "    <tr>\n",
       "      <th>3186</th>\n",
       "      <td>K2 Holdings</td>\n",
       "      <td>2020-05-26 03:37:34</td>\n",
       "      <td>None</td>\n",
       "      <td>0066a34600a0a24600f8a04600d69f4600509e46002e9d...</td>\n",
       "    </tr>\n",
       "    <tr>\n",
       "      <th>3187</th>\n",
       "      <td>K2 Holdings</td>\n",
       "      <td>2027-05-26 20:20:21</td>\n",
       "      <td>None</td>\n",
       "      <td>00fade460076e24600e4e5460066ea4600a0ee4600bcf1...</td>\n",
       "    </tr>\n",
       "    <tr>\n",
       "      <th>3188</th>\n",
       "      <td>K2 Holdings</td>\n",
       "      <td>2029-05-11 21:17:34</td>\n",
       "      <td>None</td>\n",
       "      <td>0094e046009ee146004ee246003ae34600fee4460082e7...</td>\n",
       "    </tr>\n",
       "    <tr>\n",
       "      <th>3189</th>\n",
       "      <td>K2 Holdings</td>\n",
       "      <td>2032-12-13 08:49:56</td>\n",
       "      <td>None</td>\n",
       "      <td>0012f7460076f9460048fb4600d8fd4600a6fe4600aafd...</td>\n",
       "    </tr>\n",
       "  </tbody>\n",
       "</table>\n",
       "<p>3190 rows × 4 columns</p>\n",
       "</div>"
      ],
      "text/plain": [
       "           NodeID                Date  \\\n",
       "0     K2 Holdings 1989-01-31 05:33:03   \n",
       "1     K2 Holdings 1989-02-03 07:05:04   \n",
       "2     K2 Holdings 1989-04-02 17:52:18   \n",
       "3     K2 Holdings 1989-09-08 05:33:04   \n",
       "4     K2 Holdings 2019-03-19 01:18:34   \n",
       "...           ...                 ...   \n",
       "3185  K2 Holdings 2020-05-25 19:37:32   \n",
       "3186  K2 Holdings 2020-05-26 03:37:34   \n",
       "3187  K2 Holdings 2027-05-26 20:20:21   \n",
       "3188  K2 Holdings 2029-05-11 21:17:34   \n",
       "3189  K2 Holdings 2032-12-13 08:49:56   \n",
       "\n",
       "                                               downcard  \\\n",
       "0     c820e746f392f7464a890247514c09479f941247c7f32d...   \n",
       "1                                                  None   \n",
       "2                                                  None   \n",
       "3                                                  None   \n",
       "4     702c8e43d8f9a44388f2b843800bcb4320efdc43c8aef0...   \n",
       "...                                                 ...   \n",
       "3185  00654bc3808f0842184c9243149308442478404484546b...   \n",
       "3186                                               None   \n",
       "3187                                               None   \n",
       "3188                                               None   \n",
       "3189                                               None   \n",
       "\n",
       "                                               surfcard  \n",
       "0     00902146000c264600902a4600202f4600c43346006838...  \n",
       "1     0030224600d4264600902b46006430460054354600f439...  \n",
       "2     005c234600f0274600802c46000431460098354600f039...  \n",
       "3     0070264600002b4600882f46000c3446006c384600a83c...  \n",
       "4     00d09f4600ba9c4600dc9b4600889b4600a29c4600e29e...  \n",
       "...                                                 ...  \n",
       "3185  0044a6460056a8460066a746009aa74600b4a6460076a4...  \n",
       "3186  0066a34600a0a24600f8a04600d69f4600509e46002e9d...  \n",
       "3187  00fade460076e24600e4e5460066ea4600a0ee4600bcf1...  \n",
       "3188  0094e046009ee146004ee246003ae34600fee4460082e7...  \n",
       "3189  0012f7460076f9460048fb4600d8fd4600a6fe4600aafd...  \n",
       "\n",
       "[3190 rows x 4 columns]"
      ]
     },
     "execution_count": 57,
     "metadata": {},
     "output_type": "execute_result"
    }
   ],
   "source": [
    "result"
   ]
  },
  {
   "cell_type": "code",
   "execution_count": 50,
   "metadata": {},
   "outputs": [
    {
     "data": {
      "text/plain": [
       "3200"
      ]
     },
     "metadata": {},
     "output_type": "display_data"
    },
    {
     "data": {
      "text/plain": [
       "3200"
      ]
     },
     "metadata": {},
     "output_type": "display_data"
    }
   ],
   "source": [
    "down_card = result.loc[9, 'downcard']\n",
    "surf_card = result.loc[9, 'surfcard']\n",
    "\n",
    "down_xy = get_dyna(down_card)\n",
    "surf_xy = get_dyna(surf_card)"
   ]
  },
  {
   "cell_type": "code",
   "execution_count": 52,
   "metadata": {},
   "outputs": [
    {
     "data": {
      "text/plain": [
       "[<matplotlib.lines.Line2D at 0x2ad42837128>]"
      ]
     },
     "execution_count": 52,
     "metadata": {},
     "output_type": "execute_result"
    },
    {
     "data": {
      "image/png": "[encoded data removed]",
      "text/plain": [
       "<Figure size 432x288 with 1 Axes>"
      ]
     },
     "metadata": {
      "needs_background": "light"
     },
     "output_type": "display_data"
    }
   ],
   "source": [
    "plt.plot(down_xy[:,0], down_xy[:, 1], c='r')\n",
    "plt.plot(surf_xy[:,0], surf_xy[:, 1], c='b')"
   ]
  }
 ],
 "metadata": {
  "kernelspec": {
   "display_name": "Python 3",
   "language": "python",
   "name": "python3"
  },
  "language_info": {
   "codemirror_mode": {
    "name": "ipython",
    "version": 3
   },
   "file_extension": ".py",
   "mimetype": "text/x-python",
   "name": "python",
   "nbconvert_exporter": "python",
   "pygments_lexer": "ipython3",
   "version": "3.7.3"
  }
 },
 "nbformat": 4,
 "nbformat_minor": 4
}
