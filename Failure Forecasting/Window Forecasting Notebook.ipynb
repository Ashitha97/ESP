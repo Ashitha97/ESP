{
 "cells": [
  {
   "cell_type": "markdown",
   "metadata": {},
   "source": [
    "# Notebook Info\n",
    "\n",
    "This Notebook, is for the development of a window forecasting model. The following tables/schemas are considered\n",
    "\n",
    "```\n",
    "Main Database: oasis-prod\n",
    "\n",
    "For Failures:\n",
    "schema: analysis\n",
    "table: failure_info\n",
    "\n",
    "For Features:\n",
    "schema: xspoc\n",
    "table: xdiag\n",
    "\n",
    "Columns used as Features:\n",
    "- PPRL\n",
    "- MPRL\n",
    "- FluidLoadonPump\n",
    "- PumpIntakePressure\n",
    "\n",
    "```\n",
    "\n",
    "**Notes**\n",
    "\n",
    "Following Are some Conditions and Assumption made:\n",
    "\n",
    "- **NAN Values are not handled**. They are dropped for traininng and predictions\n",
    "- A failure specific variable window is used for predictions? \n",
    "- **Failure Data Points are not used** for training and Predictions\n",
    "    - One of the reasons being, we want to see the trends pointing towards the failures and not the actual failures\n",
    "    - Many a time, when failures occur a well is shutdown and no values are present. Dropping them will help us avoid worrying about imputing the data\n",
    "    - At first glance this may not impact the algo\n",
    "    - Further Discussion is needed\n",
    "- Multi-Class Classification is performed (Not MultiLabel)\n",
    "- Training Data\n",
    "    - Do we train on the entire dataset or only where failures have occured\n"
   ]
  },
  {
   "cell_type": "code",
   "execution_count": 1,
   "metadata": {
    "pycharm": {
     "is_executing": false
    }
   },
   "outputs": [],
   "source": [
    "import os\n",
    "import sys\n",
    "module_path = os.path.abspath(os.path.join('..'))\n",
    "if module_path not in sys.path:\n",
    "    sys.path.append(module_path)"
   ]
  },
  {
   "cell_type": "code",
   "execution_count": 24,
   "metadata": {
    "pycharm": {
     "is_executing": false
    }
   },
   "outputs": [],
   "source": [
    "import pandas as pd\n",
    "import matplotlib.pyplot as plt\n",
    "import numpy as np\n",
    "import joblib\n",
    "from library import lib_aws, lib_cleaning\n",
    "from library.lib_metrics import MultiClassMetrics"
   ]
  },
  {
   "cell_type": "markdown",
   "metadata": {},
   "source": [
    "# Importing Data\n",
    "\n",
    "Following steps are performed\n",
    "- Import failures (analysis.failure_info)\n",
    "- Import features/data (xspoc.xdiag)\n",
    "- Merge the info\n",
    "- Clean and modify the data depending on how we want the input features\n",
    "\n",
    "**Note: Use `Feature Analysis.ipynb` to analyse the data and failures**"
   ]
  },
  {
   "cell_type": "markdown",
   "metadata": {},
   "source": [
    "## Importing Failures"
   ]
  },
  {
   "cell_type": "code",
   "execution_count": 3,
   "metadata": {},
   "outputs": [
    {
     "name": "stdout",
     "output_type": "stream",
     "text": [
      "Connected to oasis-prod DataBase\n",
      "Connection Closed\n",
      "Wall time: 16.3 s\n"
     ]
    },
    {
     "data": {
      "text/html": [
       "<div>\n",
       "<style scoped>\n",
       "    .dataframe tbody tr th:only-of-type {\n",
       "        vertical-align: middle;\n",
       "    }\n",
       "\n",
       "    .dataframe tbody tr th {\n",
       "        vertical-align: top;\n",
       "    }\n",
       "\n",
       "    .dataframe thead th {\n",
       "        text-align: right;\n",
       "    }\n",
       "</style>\n",
       "<table border=\"1\" class=\"dataframe\">\n",
       "  <thead>\n",
       "    <tr style=\"text-align: right;\">\n",
       "      <th></th>\n",
       "      <th>NodeID</th>\n",
       "      <th>Formation</th>\n",
       "      <th>Last Oil</th>\n",
       "      <th>Start Date</th>\n",
       "      <th>Finish Date</th>\n",
       "      <th>Run Time</th>\n",
       "      <th>Job Type</th>\n",
       "      <th>Job Bucket</th>\n",
       "      <th>Components</th>\n",
       "      <th>Primary Symptom</th>\n",
       "      <th>Secondary Symptom</th>\n",
       "    </tr>\n",
       "  </thead>\n",
       "  <tbody>\n",
       "    <tr>\n",
       "      <th>0</th>\n",
       "      <td>Aagvik 1-35H</td>\n",
       "      <td>MIDDLE BAKKEN</td>\n",
       "      <td>2019-11-27</td>\n",
       "      <td>2019-12-02</td>\n",
       "      <td>2019-12-06</td>\n",
       "      <td>203.0</td>\n",
       "      <td>TUBING LEAK</td>\n",
       "      <td>TUBING</td>\n",
       "      <td>Tubing - Body</td>\n",
       "      <td>Mechanically Induced Damage</td>\n",
       "      <td>Solids in Pump</td>\n",
       "    </tr>\n",
       "    <tr>\n",
       "      <th>1</th>\n",
       "      <td>Aagvik 5298 41-35 2TX</td>\n",
       "      <td>THREE FORKS</td>\n",
       "      <td>2019-05-29</td>\n",
       "      <td>2019-06-04</td>\n",
       "      <td>2019-06-25</td>\n",
       "      <td>80.0</td>\n",
       "      <td>GAS LIFT</td>\n",
       "      <td>PUMP</td>\n",
       "      <td>Gas Lift - Valve - Bellows</td>\n",
       "      <td>Low Production</td>\n",
       "      <td>Blank</td>\n",
       "    </tr>\n",
       "    <tr>\n",
       "      <th>2</th>\n",
       "      <td>Acadia 31-25H</td>\n",
       "      <td>THREE FORKS</td>\n",
       "      <td>2018-04-11</td>\n",
       "      <td>2018-05-05</td>\n",
       "      <td>2018-05-11</td>\n",
       "      <td>266.0</td>\n",
       "      <td>TUBING LEAK</td>\n",
       "      <td>TUBING</td>\n",
       "      <td>Tubing - Collar</td>\n",
       "      <td>Corrosion</td>\n",
       "      <td>Sand</td>\n",
       "    </tr>\n",
       "    <tr>\n",
       "      <th>3</th>\n",
       "      <td>Acadia 31-25H</td>\n",
       "      <td>THREE FORKS</td>\n",
       "      <td>2019-03-30</td>\n",
       "      <td>2019-04-10</td>\n",
       "      <td>2019-04-16</td>\n",
       "      <td>323.0</td>\n",
       "      <td>1-1/4\" PUMP</td>\n",
       "      <td>PUMP</td>\n",
       "      <td>Pump - Plunger</td>\n",
       "      <td>Corrosion</td>\n",
       "      <td>Mechanically Induced Damage</td>\n",
       "    </tr>\n",
       "    <tr>\n",
       "      <th>4</th>\n",
       "      <td>Acklins 6092 12-18H</td>\n",
       "      <td>MIDDLE BAKKEN</td>\n",
       "      <td>2019-12-24</td>\n",
       "      <td>2020-01-02</td>\n",
       "      <td>2020-01-03</td>\n",
       "      <td>853.0</td>\n",
       "      <td>POLISH ROD BREAK</td>\n",
       "      <td>ROD</td>\n",
       "      <td>Polish Rod</td>\n",
       "      <td>Mechanically Induced Damage</td>\n",
       "      <td>None</td>\n",
       "    </tr>\n",
       "  </tbody>\n",
       "</table>\n",
       "</div>"
      ],
      "text/plain": [
       "                  NodeID      Formation   Last Oil Start Date Finish Date  \\\n",
       "0           Aagvik 1-35H  MIDDLE BAKKEN 2019-11-27 2019-12-02  2019-12-06   \n",
       "1  Aagvik 5298 41-35 2TX    THREE FORKS 2019-05-29 2019-06-04  2019-06-25   \n",
       "2          Acadia 31-25H    THREE FORKS 2018-04-11 2018-05-05  2018-05-11   \n",
       "3          Acadia 31-25H    THREE FORKS 2019-03-30 2019-04-10  2019-04-16   \n",
       "4    Acklins 6092 12-18H  MIDDLE BAKKEN 2019-12-24 2020-01-02  2020-01-03   \n",
       "\n",
       "   Run Time          Job Type Job Bucket                  Components  \\\n",
       "0     203.0       TUBING LEAK     TUBING               Tubing - Body   \n",
       "1      80.0          GAS LIFT       PUMP  Gas Lift - Valve - Bellows   \n",
       "2     266.0       TUBING LEAK     TUBING             Tubing - Collar   \n",
       "3     323.0       1-1/4\" PUMP       PUMP              Pump - Plunger   \n",
       "4     853.0  POLISH ROD BREAK        ROD                  Polish Rod   \n",
       "\n",
       "               Primary Symptom            Secondary Symptom  \n",
       "0  Mechanically Induced Damage               Solids in Pump  \n",
       "1               Low Production                        Blank  \n",
       "2                    Corrosion                         Sand  \n",
       "3                    Corrosion  Mechanically Induced Damage  \n",
       "4  Mechanically Induced Damage                         None  "
      ]
     },
     "execution_count": 3,
     "metadata": {},
     "output_type": "execute_result"
    }
   ],
   "source": [
    "# If using manually dont need to run\n",
    "%%time\n",
    "# Querying the entire failure info\n",
    "query_failures = \"\"\"\n",
    "SELECT *\n",
    "FROM\n",
    "    analysis.failure_info\n",
    "ORDER BY \"NodeID\";\n",
    "\"\"\"\n",
    "\n",
    "with lib_aws.PostgresRDS(db='oasis-prod', verbose=1) as engine:\n",
    "    failures = pd.read_sql(query_failures, engine, parse_dates=['Last Oil', 'Finish Date'])\n",
    "    \n",
    "failures.head()"
   ]
  },
  {
   "cell_type": "code",
   "execution_count": 5,
   "metadata": {},
   "outputs": [
    {
     "name": "stdout",
     "output_type": "stream",
     "text": [
      "Wall time: 66 ms\n"
     ]
    }
   ],
   "source": [
    "# %%time\n",
    "# failures.to_csv('failure_info.csv', index=False)"
   ]
  },
  {
   "cell_type": "code",
   "execution_count": 44,
   "metadata": {},
   "outputs": [
    {
     "data": {
      "text/html": [
       "<div>\n",
       "<style scoped>\n",
       "    .dataframe tbody tr th:only-of-type {\n",
       "        vertical-align: middle;\n",
       "    }\n",
       "\n",
       "    .dataframe tbody tr th {\n",
       "        vertical-align: top;\n",
       "    }\n",
       "\n",
       "    .dataframe thead th {\n",
       "        text-align: right;\n",
       "    }\n",
       "</style>\n",
       "<table border=\"1\" class=\"dataframe\">\n",
       "  <thead>\n",
       "    <tr style=\"text-align: right;\">\n",
       "      <th></th>\n",
       "      <th>NodeID</th>\n",
       "      <th>Failure Start Date</th>\n",
       "      <th>LOE START DATE</th>\n",
       "      <th>LOE FINISH DATE</th>\n",
       "      <th>Failure End Date</th>\n",
       "      <th>Components</th>\n",
       "      <th>Job Type</th>\n",
       "      <th>Job Bucket</th>\n",
       "      <th>Primary Symptom</th>\n",
       "      <th>Secondary Symptom</th>\n",
       "      <th>Root Cause</th>\n",
       "    </tr>\n",
       "  </thead>\n",
       "  <tbody>\n",
       "    <tr>\n",
       "      <th>0</th>\n",
       "      <td>Ava 5693 43-35T</td>\n",
       "      <td>2019-08-14 12:02:16</td>\n",
       "      <td>2019-08-20</td>\n",
       "      <td>2019-08-26</td>\n",
       "      <td>2019-08-28 11:19:14</td>\n",
       "      <td>BHA - Seat Nipple</td>\n",
       "      <td>TUBING LEAK</td>\n",
       "      <td>TUBING</td>\n",
       "      <td>Erosion - Fluid</td>\n",
       "      <td>Unknown</td>\n",
       "      <td>Erosion Abrasion - Fluids, Solids</td>\n",
       "    </tr>\n",
       "    <tr>\n",
       "      <th>1</th>\n",
       "      <td>Bouvardia Federal 2658 12-12H</td>\n",
       "      <td>2019-08-02 09:57:11</td>\n",
       "      <td>2019-08-13</td>\n",
       "      <td>2019-08-19</td>\n",
       "      <td>2019-08-24 08:31:02</td>\n",
       "      <td>BHA - Seat Nipple</td>\n",
       "      <td>1-1/2\" PUMP</td>\n",
       "      <td>PUMP</td>\n",
       "      <td>Pump Unseating</td>\n",
       "      <td>NaN</td>\n",
       "      <td>Erosion Abrasion - Fluids, Solids</td>\n",
       "    </tr>\n",
       "    <tr>\n",
       "      <th>2</th>\n",
       "      <td>Johnson 29-30H</td>\n",
       "      <td>2019-07-08 12:36:03</td>\n",
       "      <td>2019-07-12</td>\n",
       "      <td>2019-07-16</td>\n",
       "      <td>2019-07-16 21:27:22</td>\n",
       "      <td>BHA - Seat Nipple</td>\n",
       "      <td>TUBING LEAK</td>\n",
       "      <td>BHA</td>\n",
       "      <td>Erosion - Fluid</td>\n",
       "      <td>NaN</td>\n",
       "      <td>Undetermined</td>\n",
       "    </tr>\n",
       "    <tr>\n",
       "      <th>3</th>\n",
       "      <td>Didrick 4X-27H</td>\n",
       "      <td>2020-01-30 11:53:33</td>\n",
       "      <td>2020-02-10</td>\n",
       "      <td>2020-02-14</td>\n",
       "      <td>2020-02-15 10:16:06</td>\n",
       "      <td>BHA - TAC</td>\n",
       "      <td>TUBING LEAK</td>\n",
       "      <td>BHA</td>\n",
       "      <td>Corrosion</td>\n",
       "      <td>NaN</td>\n",
       "      <td>Improper Chemical Usage</td>\n",
       "    </tr>\n",
       "    <tr>\n",
       "      <th>4</th>\n",
       "      <td>Langved 5393 43-10 9T2</td>\n",
       "      <td>2019-10-10 08:44:27</td>\n",
       "      <td>2019-10-15</td>\n",
       "      <td>2019-10-17</td>\n",
       "      <td>2019-11-11 11:58:17</td>\n",
       "      <td>BHA - TAC</td>\n",
       "      <td>TUBING LEAK</td>\n",
       "      <td>TUBING</td>\n",
       "      <td>Compression</td>\n",
       "      <td>Solids in Pump</td>\n",
       "      <td>BHA Needs Improvement</td>\n",
       "    </tr>\n",
       "  </tbody>\n",
       "</table>\n",
       "</div>"
      ],
      "text/plain": [
       "                          NodeID   Failure Start Date LOE START DATE  \\\n",
       "0                Ava 5693 43-35T  2019-08-14 12:02:16     2019-08-20   \n",
       "1  Bouvardia Federal 2658 12-12H  2019-08-02 09:57:11     2019-08-13   \n",
       "2                 Johnson 29-30H  2019-07-08 12:36:03     2019-07-12   \n",
       "3                 Didrick 4X-27H  2020-01-30 11:53:33     2020-02-10   \n",
       "4         Langved 5393 43-10 9T2  2019-10-10 08:44:27     2019-10-15   \n",
       "\n",
       "  LOE FINISH DATE    Failure End Date         Components     Job Type  \\\n",
       "0      2019-08-26 2019-08-28 11:19:14  BHA - Seat Nipple  TUBING LEAK   \n",
       "1      2019-08-19 2019-08-24 08:31:02  BHA - Seat Nipple  1-1/2\" PUMP   \n",
       "2      2019-07-16 2019-07-16 21:27:22  BHA - Seat Nipple  TUBING LEAK   \n",
       "3      2020-02-14 2020-02-15 10:16:06          BHA - TAC  TUBING LEAK   \n",
       "4      2019-10-17 2019-11-11 11:58:17          BHA - TAC  TUBING LEAK   \n",
       "\n",
       "  Job Bucket  Primary Symptom Secondary Symptom  \\\n",
       "0     TUBING  Erosion - Fluid           Unknown   \n",
       "1       PUMP   Pump Unseating               NaN   \n",
       "2        BHA  Erosion - Fluid               NaN   \n",
       "3        BHA        Corrosion               NaN   \n",
       "4     TUBING      Compression    Solids in Pump   \n",
       "\n",
       "                          Root Cause  \n",
       "0  Erosion Abrasion - Fluids, Solids  \n",
       "1  Erosion Abrasion - Fluids, Solids  \n",
       "2                       Undetermined  \n",
       "3            Improper Chemical Usage  \n",
       "4              BHA Needs Improvement  "
      ]
     },
     "execution_count": 44,
     "metadata": {},
     "output_type": "execute_result"
    }
   ],
   "source": [
    "# Manually importing data from s3\n",
    "file_path = \"s3://et-oasis/failure-excel/Oasis Complete Failure List 2018-2020_ver6.xlsx\"\n",
    "\n",
    "failures = pd.read_excel(file_path)\n",
    "# Cleaning WELL NAMES\n",
    "failures['Well'] = (failures['Well'].str.replace(\"#\", \"\")  # remove #\n",
    "                                 .str.replace('\\s+', ' ', regex=True)  # remove multiple spaces if present\n",
    "                                 .str.strip()  # Remove trailing whitespaces\n",
    "                                 .str.lower()  # lower all character\n",
    "                                 .str.title()  # Uppercase first letter of each word\n",
    "                                 .map(lambda x: x[0:-2] + x[-2:].upper()))\n",
    "\n",
    "failures.rename(columns={'Well': 'NodeID',\n",
    "                        'LAST OIL': 'Failure Start Date',\n",
    "                        'FAILURE END DATE': 'Failure End Date'}, inplace=True)\n",
    "well_list = failures.NodeID.unique().tolist()  # List of wells to use for querying the features and model training\n",
    "failures.head()"
   ]
  },
  {
   "cell_type": "markdown",
   "metadata": {},
   "source": [
    "## Importing Data\n",
    "\n",
    "Import the data depending on how the model is to be trained and the use case:\n",
    "\n",
    "- For Training: Only wells which have been labelled\n",
    "- For Hisorical Predictions: The entire dataset\n",
    "- For Real Time Predictions: Will depend on how the data pipeline has been set up\n"
   ]
  },
  {
   "cell_type": "code",
   "execution_count": 45,
   "metadata": {
    "code_folding": []
   },
   "outputs": [
    {
     "name": "stdout",
     "output_type": "stream",
     "text": [
      "Wall time: 1min 52s\n"
     ]
    }
   ],
   "source": [
    "%%time\n",
    "\n",
    "# for well_list use only those wells which have been labeled\n",
    "data_query = \"\"\"\n",
    "SELECT\n",
    "    \"NodeID\",\n",
    "    \"Date\",\n",
    "    \"PPRL\",\n",
    "    \"MPRL\",\n",
    "    \"FluidLoadonPump\",\n",
    "    \"PumpIntakePressure\"\n",
    "FROM xspoc.xdiag\n",
    "WHERE \"NodeID\" in {}\n",
    "ORDER BY \"NodeID\",\"Date\"\n",
    "\"\"\".format(tuple(well_list))\n",
    "\n",
    "# full_query = \"\"\"\n",
    "# SELECT\n",
    "#     \"NodeID\",\n",
    "#     \"Date\",\n",
    "#     \"PPRL\",\n",
    "#     \"MPRL\",\n",
    "#     \"FluidLoadonPump\",\n",
    "#     \"PumpIntakePressure\"\n",
    "# FROM xspoc.xdiag\n",
    "# ORDER BY \"NodeID\",\"Date\"\n",
    "# \"\"\"\n",
    "\n",
    "with lib_aws.PostgresRDS(db='oasis-prod') as engine:\n",
    "    data = pd.read_sql(data_query, engine, parse_dates=['Date'])"
   ]
  },
  {
   "cell_type": "code",
   "execution_count": 46,
   "metadata": {},
   "outputs": [
    {
     "data": {
      "text/plain": [
       "(269,)"
      ]
     },
     "execution_count": 46,
     "metadata": {},
     "output_type": "execute_result"
    }
   ],
   "source": [
    "well_list_features = data.NodeID.unique()\n",
    "well_list_features.shape\n",
    "np.shape(well_list)"
   ]
  },
  {
   "cell_type": "code",
   "execution_count": 47,
   "metadata": {},
   "outputs": [
    {
     "data": {
      "text/html": [
       "<div>\n",
       "<style scoped>\n",
       "    .dataframe tbody tr th:only-of-type {\n",
       "        vertical-align: middle;\n",
       "    }\n",
       "\n",
       "    .dataframe tbody tr th {\n",
       "        vertical-align: top;\n",
       "    }\n",
       "\n",
       "    .dataframe thead th {\n",
       "        text-align: right;\n",
       "    }\n",
       "</style>\n",
       "<table border=\"1\" class=\"dataframe\">\n",
       "  <thead>\n",
       "    <tr style=\"text-align: right;\">\n",
       "      <th></th>\n",
       "      <th>NodeID</th>\n",
       "      <th>Date</th>\n",
       "      <th>PPRL</th>\n",
       "      <th>MPRL</th>\n",
       "      <th>FluidLoadonPump</th>\n",
       "      <th>PumpIntakePressure</th>\n",
       "    </tr>\n",
       "  </thead>\n",
       "  <tbody>\n",
       "    <tr>\n",
       "      <th>0</th>\n",
       "      <td>Aagvik 1-35H</td>\n",
       "      <td>2019-06-21 15:58:34</td>\n",
       "      <td>27639.0</td>\n",
       "      <td>16811.0</td>\n",
       "      <td>3280.0</td>\n",
       "      <td>NaN</td>\n",
       "    </tr>\n",
       "    <tr>\n",
       "      <th>1</th>\n",
       "      <td>Aagvik 1-35H</td>\n",
       "      <td>2019-06-21 16:25:36</td>\n",
       "      <td>27457.0</td>\n",
       "      <td>16752.0</td>\n",
       "      <td>3241.0</td>\n",
       "      <td>NaN</td>\n",
       "    </tr>\n",
       "    <tr>\n",
       "      <th>2</th>\n",
       "      <td>Aagvik 1-35H</td>\n",
       "      <td>2019-06-21 18:25:16</td>\n",
       "      <td>27448.0</td>\n",
       "      <td>16594.0</td>\n",
       "      <td>3330.0</td>\n",
       "      <td>NaN</td>\n",
       "    </tr>\n",
       "    <tr>\n",
       "      <th>3</th>\n",
       "      <td>Aagvik 1-35H</td>\n",
       "      <td>2019-06-21 18:28:10</td>\n",
       "      <td>27424.0</td>\n",
       "      <td>16595.0</td>\n",
       "      <td>3327.0</td>\n",
       "      <td>NaN</td>\n",
       "    </tr>\n",
       "    <tr>\n",
       "      <th>4</th>\n",
       "      <td>Aagvik 1-35H</td>\n",
       "      <td>2019-06-21 20:25:01</td>\n",
       "      <td>27662.0</td>\n",
       "      <td>16711.0</td>\n",
       "      <td>3341.0</td>\n",
       "      <td>NaN</td>\n",
       "    </tr>\n",
       "  </tbody>\n",
       "</table>\n",
       "</div>"
      ],
      "text/plain": [
       "         NodeID                Date     PPRL     MPRL  FluidLoadonPump  \\\n",
       "0  Aagvik 1-35H 2019-06-21 15:58:34  27639.0  16811.0           3280.0   \n",
       "1  Aagvik 1-35H 2019-06-21 16:25:36  27457.0  16752.0           3241.0   \n",
       "2  Aagvik 1-35H 2019-06-21 18:25:16  27448.0  16594.0           3330.0   \n",
       "3  Aagvik 1-35H 2019-06-21 18:28:10  27424.0  16595.0           3327.0   \n",
       "4  Aagvik 1-35H 2019-06-21 20:25:01  27662.0  16711.0           3341.0   \n",
       "\n",
       "   PumpIntakePressure  \n",
       "0                 NaN  \n",
       "1                 NaN  \n",
       "2                 NaN  \n",
       "3                 NaN  \n",
       "4                 NaN  "
      ]
     },
     "metadata": {},
     "output_type": "display_data"
    },
    {
     "name": "stdout",
     "output_type": "stream",
     "text": [
      "Failure info in these in these wells\n"
     ]
    },
    {
     "data": {
      "text/html": [
       "<div>\n",
       "<style scoped>\n",
       "    .dataframe tbody tr th:only-of-type {\n",
       "        vertical-align: middle;\n",
       "    }\n",
       "\n",
       "    .dataframe tbody tr th {\n",
       "        vertical-align: top;\n",
       "    }\n",
       "\n",
       "    .dataframe thead th {\n",
       "        text-align: right;\n",
       "    }\n",
       "</style>\n",
       "<table border=\"1\" class=\"dataframe\">\n",
       "  <thead>\n",
       "    <tr style=\"text-align: right;\">\n",
       "      <th></th>\n",
       "      <th>NodeID</th>\n",
       "      <th>Failure Start Date</th>\n",
       "      <th>LOE START DATE</th>\n",
       "      <th>LOE FINISH DATE</th>\n",
       "      <th>Failure End Date</th>\n",
       "      <th>Components</th>\n",
       "      <th>Job Type</th>\n",
       "      <th>Job Bucket</th>\n",
       "      <th>Primary Symptom</th>\n",
       "      <th>Secondary Symptom</th>\n",
       "      <th>Root Cause</th>\n",
       "    </tr>\n",
       "  </thead>\n",
       "  <tbody>\n",
       "    <tr>\n",
       "      <th>0</th>\n",
       "      <td>Bouvardia Federal 2658 12-12H</td>\n",
       "      <td>2019-08-02 09:57:11</td>\n",
       "      <td>2019-08-13</td>\n",
       "      <td>2019-08-19</td>\n",
       "      <td>2019-08-24 08:31:02</td>\n",
       "      <td>BHA - Seat Nipple</td>\n",
       "      <td>1-1/2\" PUMP</td>\n",
       "      <td>PUMP</td>\n",
       "      <td>Pump Unseating</td>\n",
       "      <td>NaN</td>\n",
       "      <td>Erosion Abrasion - Fluids, Solids</td>\n",
       "    </tr>\n",
       "    <tr>\n",
       "      <th>1</th>\n",
       "      <td>Johnson 29-30H</td>\n",
       "      <td>2019-07-08 12:36:03</td>\n",
       "      <td>2019-07-12</td>\n",
       "      <td>2019-07-16</td>\n",
       "      <td>2019-07-16 21:27:22</td>\n",
       "      <td>BHA - Seat Nipple</td>\n",
       "      <td>TUBING LEAK</td>\n",
       "      <td>BHA</td>\n",
       "      <td>Erosion - Fluid</td>\n",
       "      <td>NaN</td>\n",
       "      <td>Undetermined</td>\n",
       "    </tr>\n",
       "    <tr>\n",
       "      <th>2</th>\n",
       "      <td>Didrick 4X-27H</td>\n",
       "      <td>2020-01-30 11:53:33</td>\n",
       "      <td>2020-02-10</td>\n",
       "      <td>2020-02-14</td>\n",
       "      <td>2020-02-15 10:16:06</td>\n",
       "      <td>BHA - TAC</td>\n",
       "      <td>TUBING LEAK</td>\n",
       "      <td>BHA</td>\n",
       "      <td>Corrosion</td>\n",
       "      <td>NaN</td>\n",
       "      <td>Improper Chemical Usage</td>\n",
       "    </tr>\n",
       "    <tr>\n",
       "      <th>3</th>\n",
       "      <td>Johnsrud 5198 14-18 15TX</td>\n",
       "      <td>2019-08-29 04:00:28</td>\n",
       "      <td>2019-09-05</td>\n",
       "      <td>2019-09-11</td>\n",
       "      <td>2019-09-14 07:01:19</td>\n",
       "      <td>BHA - TAC</td>\n",
       "      <td>BHA - TAC</td>\n",
       "      <td>TUBING</td>\n",
       "      <td>Mechanically Induced Damage</td>\n",
       "      <td>Compression</td>\n",
       "      <td>System Design Needs Improvement</td>\n",
       "    </tr>\n",
       "    <tr>\n",
       "      <th>4</th>\n",
       "      <td>Lundeen 4-26H</td>\n",
       "      <td>2019-07-29 12:32:23</td>\n",
       "      <td>2019-08-04</td>\n",
       "      <td>2019-08-12</td>\n",
       "      <td>2019-08-13 09:11:02</td>\n",
       "      <td>BHA - TAC</td>\n",
       "      <td>TUBING LEAK</td>\n",
       "      <td>BHA</td>\n",
       "      <td>Mechanically Induced Damage</td>\n",
       "      <td>Corrosion</td>\n",
       "      <td>Rod Design Needs Improvement</td>\n",
       "    </tr>\n",
       "    <tr>\n",
       "      <th>...</th>\n",
       "      <td>...</td>\n",
       "      <td>...</td>\n",
       "      <td>...</td>\n",
       "      <td>...</td>\n",
       "      <td>...</td>\n",
       "      <td>...</td>\n",
       "      <td>...</td>\n",
       "      <td>...</td>\n",
       "      <td>...</td>\n",
       "      <td>...</td>\n",
       "      <td>...</td>\n",
       "    </tr>\n",
       "    <tr>\n",
       "      <th>237</th>\n",
       "      <td>Rolfson N 5198 12-17 5T</td>\n",
       "      <td>2019-10-24 13:11:57</td>\n",
       "      <td>2019-10-28</td>\n",
       "      <td>2019-11-04</td>\n",
       "      <td>2019-11-07 07:45:00</td>\n",
       "      <td>Tubing Leak</td>\n",
       "      <td>TUBING LEAK</td>\n",
       "      <td>TUBING</td>\n",
       "      <td>NaN</td>\n",
       "      <td>Mechanically Induced Damage</td>\n",
       "      <td>Tubing Leak - No Hole Found</td>\n",
       "    </tr>\n",
       "    <tr>\n",
       "      <th>238</th>\n",
       "      <td>Rj Titus 6093 42-20H</td>\n",
       "      <td>2019-09-13 13:33:45</td>\n",
       "      <td>2019-09-25</td>\n",
       "      <td>2019-09-27</td>\n",
       "      <td>2019-09-29 08:38:56</td>\n",
       "      <td>Tubing Leak</td>\n",
       "      <td>TUBING LEAK</td>\n",
       "      <td>TUBING</td>\n",
       "      <td>Compression</td>\n",
       "      <td>Corrosion</td>\n",
       "      <td>Tubing Leak - No Hole Found</td>\n",
       "    </tr>\n",
       "    <tr>\n",
       "      <th>239</th>\n",
       "      <td>Hendricks 5602 43-36 2T</td>\n",
       "      <td>2019-08-11 13:49:43</td>\n",
       "      <td>2019-08-19</td>\n",
       "      <td>2019-08-22</td>\n",
       "      <td>2019-08-26 08:59:47</td>\n",
       "      <td>Tubing Leak</td>\n",
       "      <td>TUBING LEAK</td>\n",
       "      <td>TUBING</td>\n",
       "      <td>Corrosion</td>\n",
       "      <td>NaN</td>\n",
       "      <td>Tubing Leak - No Hole Found</td>\n",
       "    </tr>\n",
       "    <tr>\n",
       "      <th>240</th>\n",
       "      <td>Crawford 5493 44-7T</td>\n",
       "      <td>2019-07-28 12:24:42</td>\n",
       "      <td>2019-07-30</td>\n",
       "      <td>2019-08-01</td>\n",
       "      <td>2019-08-01 15:14:46</td>\n",
       "      <td>Tubing Leak</td>\n",
       "      <td>TUBING LEAK</td>\n",
       "      <td>TUBING</td>\n",
       "      <td>Corrosion</td>\n",
       "      <td>Flumping</td>\n",
       "      <td>Tubing Leak - No Hole Found</td>\n",
       "    </tr>\n",
       "    <tr>\n",
       "      <th>241</th>\n",
       "      <td>Mccauley 5501 14-3 2B</td>\n",
       "      <td>2019-07-08 14:01:13</td>\n",
       "      <td>2019-07-12</td>\n",
       "      <td>2019-07-17</td>\n",
       "      <td>2019-07-18 00:00:00</td>\n",
       "      <td>Tubing Leak</td>\n",
       "      <td>TUBING LEAK</td>\n",
       "      <td>TUBING</td>\n",
       "      <td>Corrosion</td>\n",
       "      <td>NaN</td>\n",
       "      <td>Tubing Leak - No Hole Found</td>\n",
       "    </tr>\n",
       "  </tbody>\n",
       "</table>\n",
       "<p>242 rows × 11 columns</p>\n",
       "</div>"
      ],
      "text/plain": [
       "                            NodeID   Failure Start Date LOE START DATE  \\\n",
       "0    Bouvardia Federal 2658 12-12H  2019-08-02 09:57:11     2019-08-13   \n",
       "1                   Johnson 29-30H  2019-07-08 12:36:03     2019-07-12   \n",
       "2                   Didrick 4X-27H  2020-01-30 11:53:33     2020-02-10   \n",
       "3         Johnsrud 5198 14-18 15TX  2019-08-29 04:00:28     2019-09-05   \n",
       "4                    Lundeen 4-26H  2019-07-29 12:32:23     2019-08-04   \n",
       "..                             ...                  ...            ...   \n",
       "237        Rolfson N 5198 12-17 5T  2019-10-24 13:11:57     2019-10-28   \n",
       "238           Rj Titus 6093 42-20H  2019-09-13 13:33:45     2019-09-25   \n",
       "239        Hendricks 5602 43-36 2T  2019-08-11 13:49:43     2019-08-19   \n",
       "240            Crawford 5493 44-7T  2019-07-28 12:24:42     2019-07-30   \n",
       "241          Mccauley 5501 14-3 2B  2019-07-08 14:01:13     2019-07-12   \n",
       "\n",
       "    LOE FINISH DATE    Failure End Date         Components     Job Type  \\\n",
       "0        2019-08-19 2019-08-24 08:31:02  BHA - Seat Nipple  1-1/2\" PUMP   \n",
       "1        2019-07-16 2019-07-16 21:27:22  BHA - Seat Nipple  TUBING LEAK   \n",
       "2        2020-02-14 2020-02-15 10:16:06          BHA - TAC  TUBING LEAK   \n",
       "3        2019-09-11 2019-09-14 07:01:19          BHA - TAC    BHA - TAC   \n",
       "4        2019-08-12 2019-08-13 09:11:02          BHA - TAC  TUBING LEAK   \n",
       "..              ...                 ...                ...          ...   \n",
       "237      2019-11-04 2019-11-07 07:45:00        Tubing Leak  TUBING LEAK   \n",
       "238      2019-09-27 2019-09-29 08:38:56        Tubing Leak  TUBING LEAK   \n",
       "239      2019-08-22 2019-08-26 08:59:47        Tubing Leak  TUBING LEAK   \n",
       "240      2019-08-01 2019-08-01 15:14:46        Tubing Leak  TUBING LEAK   \n",
       "241      2019-07-17 2019-07-18 00:00:00        Tubing Leak  TUBING LEAK   \n",
       "\n",
       "    Job Bucket              Primary Symptom            Secondary Symptom  \\\n",
       "0         PUMP               Pump Unseating                          NaN   \n",
       "1          BHA              Erosion - Fluid                          NaN   \n",
       "2          BHA                    Corrosion                          NaN   \n",
       "3       TUBING  Mechanically Induced Damage                  Compression   \n",
       "4          BHA  Mechanically Induced Damage                    Corrosion   \n",
       "..         ...                          ...                          ...   \n",
       "237     TUBING                          NaN  Mechanically Induced Damage   \n",
       "238     TUBING                  Compression                    Corrosion   \n",
       "239     TUBING                    Corrosion                          NaN   \n",
       "240     TUBING                    Corrosion                     Flumping   \n",
       "241     TUBING                    Corrosion                          NaN   \n",
       "\n",
       "                            Root Cause  \n",
       "0    Erosion Abrasion - Fluids, Solids  \n",
       "1                         Undetermined  \n",
       "2              Improper Chemical Usage  \n",
       "3      System Design Needs Improvement  \n",
       "4         Rod Design Needs Improvement  \n",
       "..                                 ...  \n",
       "237        Tubing Leak - No Hole Found  \n",
       "238        Tubing Leak - No Hole Found  \n",
       "239        Tubing Leak - No Hole Found  \n",
       "240        Tubing Leak - No Hole Found  \n",
       "241        Tubing Leak - No Hole Found  \n",
       "\n",
       "[242 rows x 11 columns]"
      ]
     },
     "metadata": {},
     "output_type": "display_data"
    },
    {
     "name": "stdout",
     "output_type": "stream",
     "text": [
      "Failure Label Distribution\n"
     ]
    },
    {
     "data": {
      "text/plain": [
       "Tubing - Body                48\n",
       "Pump - Plunger               43\n",
       "Rod - Main Body              25\n",
       "Pump - Stuck Pump            22\n",
       "Polish Rod                   19\n",
       "Tubing Leak                  17\n",
       "Rod - Pin                    12\n",
       "Pump - Junked                 9\n",
       "Pump - Barrel                 8\n",
       "Rod - 6\" Critical Section     8\n",
       "Rod - Coupling                7\n",
       "Pump - No-Tap                 6\n",
       "Tubing - Collar               5\n",
       "Pump - On - Off Tool          4\n",
       "BHA - TAC                     3\n",
       "BHA - Seat Nipple             2\n",
       "Pump - Standing Valve         2\n",
       "Pump - Traveling Valve        1\n",
       "Pump - Valve Rod              1\n",
       "Name: Components, dtype: int64"
      ]
     },
     "metadata": {},
     "output_type": "display_data"
    }
   ],
   "source": [
    "# Failur Info only from wells present in the data\n",
    "failure_info = failures[failures.NodeID.isin(well_list_features)]\n",
    "failure_info.reset_index(inplace=True, drop=True)\n",
    "\n",
    "# info\n",
    "display(data.head())\n",
    "print(\"Failure info in these in these wells\")\n",
    "display(failure_info)\n",
    "print(\"Failure Label Distribution\")\n",
    "display(failure_info.Components.value_counts())"
   ]
  },
  {
   "cell_type": "markdown",
   "metadata": {},
   "source": [
    "## Merging Info"
   ]
  },
  {
   "cell_type": "code",
   "execution_count": 7,
   "metadata": {
    "code_folding": [
     6
    ]
   },
   "outputs": [],
   "source": [
    "\"\"\"\n",
    "Before analysing the data we need to merge the information\n",
    "Transfering info from failures to data (copy of features)\n",
    "Using a for loop -- may not be very efficient\n",
    "\"\"\"\n",
    "\n",
    "def fill_null(df, chk_col='PPRL', well_col='NodeID', time_col='Date'):\n",
    "    \"\"\"\n",
    "    This function will fill in Null Values on those dates where no datapoints are present\n",
    "    Helps Show failures where no data was present\n",
    "    Will have to take this into account when running analysis \n",
    "    \"\"\"\n",
    "    data_temp = df.copy()\n",
    "    # Set time col as index if it is not\n",
    "    if time_col in data_temp.columns:\n",
    "        data_temp.set_index(time_col, inplace=True)\n",
    "    \n",
    "    data_gp = data_temp.groupby(well_col).resample('1D').max()  # Groupby wellname and resample to Day freq\n",
    "    data_gp.drop(columns=[well_col], inplace=True)  # Drop these columns as they are present in the index\n",
    "    data_gp.reset_index(inplace=True)  # Get Back WellCol from\n",
    "    data_null = data_gp[data_gp.loc[:, chk_col].isnull()]  # Get all null values, which need to be added to the main data file\n",
    "    data_null.reset_index(inplace=True, drop=True)\n",
    "    data_temp.reset_index(inplace=True)  # get timestamp back in the column for concating\n",
    "    data_full = pd.concat([data_temp, data_null], axis=0, ignore_index=True)  # concat null and og files\n",
    "    data_full.sort_values(by=[well_col, time_col], inplace=True)\n",
    "    data_full.drop_duplicates(subset=[well_col, time_col], inplace=True)\n",
    "    data_full.reset_index(drop=True, inplace=True)\n",
    "    \n",
    "    return data_full\n",
    "\n",
    "# TODO: transfer_cols only works for multiple columns, get it to work with 1 column\n",
    "def failure_merge(df, failure_df, transfer_cols):\n",
    "    \"\"\"\n",
    "    Merges the failures info\n",
    "    :param df: dataframe to which info is being transferred to. (Should have columns \"NodeID\" and \"Date\")\n",
    "    :param failure_df: Failure info data (Should have columns \"NodeID\", \"Start Date\" and \"End Data\")\n",
    "    :param cols: Columns which need to be transferred\n",
    "    \"\"\"\n",
    "    merged = df.copy()  \n",
    "    for col in transfer_cols:\n",
    "        merged[col] = 'Normal'  # for now putting everything as normal (even NAN's)\n",
    "        \n",
    "    for i in failure_df.index:\n",
    "        well = failure_df.loc[i, 'NodeID']\n",
    "        t_start = failure_df.loc[i, 'Failure Start Date']\n",
    "        t_end = failure_df.loc[i, 'Failure End Date'] + pd.Timedelta('1 day')  # As we have day based frequency (the times in a day are considered as 00:00:00)\n",
    "        bool_ = (merged.NodeID == well) & (merged.Date >= t_start) & (merged.Date <= t_end)  # Boolean mask for main data\n",
    "        merged.loc[bool_, transfer_cols] = failure_df.loc[i, transfer_cols].values\n",
    "        \n",
    "    return merged"
   ]
  },
  {
   "cell_type": "code",
   "execution_count": 48,
   "metadata": {},
   "outputs": [
    {
     "name": "stdout",
     "output_type": "stream",
     "text": [
      "Wall time: 23.3 s\n"
     ]
    },
    {
     "data": {
      "text/html": [
       "<div>\n",
       "<style scoped>\n",
       "    .dataframe tbody tr th:only-of-type {\n",
       "        vertical-align: middle;\n",
       "    }\n",
       "\n",
       "    .dataframe tbody tr th {\n",
       "        vertical-align: top;\n",
       "    }\n",
       "\n",
       "    .dataframe thead th {\n",
       "        text-align: right;\n",
       "    }\n",
       "</style>\n",
       "<table border=\"1\" class=\"dataframe\">\n",
       "  <thead>\n",
       "    <tr style=\"text-align: right;\">\n",
       "      <th></th>\n",
       "      <th>Date</th>\n",
       "      <th>NodeID</th>\n",
       "      <th>PPRL</th>\n",
       "      <th>MPRL</th>\n",
       "      <th>FluidLoadonPump</th>\n",
       "      <th>PumpIntakePressure</th>\n",
       "      <th>Components</th>\n",
       "    </tr>\n",
       "  </thead>\n",
       "  <tbody>\n",
       "    <tr>\n",
       "      <th>0</th>\n",
       "      <td>2019-06-21 15:58:34</td>\n",
       "      <td>Aagvik 1-35H</td>\n",
       "      <td>27639.0</td>\n",
       "      <td>16811.0</td>\n",
       "      <td>3280.0</td>\n",
       "      <td>NaN</td>\n",
       "      <td>Normal</td>\n",
       "    </tr>\n",
       "    <tr>\n",
       "      <th>1</th>\n",
       "      <td>2019-06-21 16:25:36</td>\n",
       "      <td>Aagvik 1-35H</td>\n",
       "      <td>27457.0</td>\n",
       "      <td>16752.0</td>\n",
       "      <td>3241.0</td>\n",
       "      <td>NaN</td>\n",
       "      <td>Normal</td>\n",
       "    </tr>\n",
       "    <tr>\n",
       "      <th>2</th>\n",
       "      <td>2019-06-21 18:25:16</td>\n",
       "      <td>Aagvik 1-35H</td>\n",
       "      <td>27448.0</td>\n",
       "      <td>16594.0</td>\n",
       "      <td>3330.0</td>\n",
       "      <td>NaN</td>\n",
       "      <td>Normal</td>\n",
       "    </tr>\n",
       "    <tr>\n",
       "      <th>3</th>\n",
       "      <td>2019-06-21 18:28:10</td>\n",
       "      <td>Aagvik 1-35H</td>\n",
       "      <td>27424.0</td>\n",
       "      <td>16595.0</td>\n",
       "      <td>3327.0</td>\n",
       "      <td>NaN</td>\n",
       "      <td>Normal</td>\n",
       "    </tr>\n",
       "    <tr>\n",
       "      <th>4</th>\n",
       "      <td>2019-06-21 20:25:01</td>\n",
       "      <td>Aagvik 1-35H</td>\n",
       "      <td>27662.0</td>\n",
       "      <td>16711.0</td>\n",
       "      <td>3341.0</td>\n",
       "      <td>NaN</td>\n",
       "      <td>Normal</td>\n",
       "    </tr>\n",
       "  </tbody>\n",
       "</table>\n",
       "</div>"
      ],
      "text/plain": [
       "                 Date        NodeID     PPRL     MPRL  FluidLoadonPump  \\\n",
       "0 2019-06-21 15:58:34  Aagvik 1-35H  27639.0  16811.0           3280.0   \n",
       "1 2019-06-21 16:25:36  Aagvik 1-35H  27457.0  16752.0           3241.0   \n",
       "2 2019-06-21 18:25:16  Aagvik 1-35H  27448.0  16594.0           3330.0   \n",
       "3 2019-06-21 18:28:10  Aagvik 1-35H  27424.0  16595.0           3327.0   \n",
       "4 2019-06-21 20:25:01  Aagvik 1-35H  27662.0  16711.0           3341.0   \n",
       "\n",
       "   PumpIntakePressure Components  \n",
       "0                 NaN     Normal  \n",
       "1                 NaN     Normal  \n",
       "2                 NaN     Normal  \n",
       "3                 NaN     Normal  \n",
       "4                 NaN     Normal  "
      ]
     },
     "execution_count": 48,
     "metadata": {},
     "output_type": "execute_result"
    }
   ],
   "source": [
    "%%time\n",
    "data = fill_null(data)  # FIlling in Nan's where data was missing\n",
    "\n",
    "# Transfer 'Job Bucket' from failure_info to fill_data\n",
    "transfer_col = ['Components', 'Failure Start Date']\n",
    "data = failure_merge(data, failure_info, transfer_col)\n",
    "data.drop(columns='Failure Start Date', inplace=True)\n",
    "\n",
    "data.head()"
   ]
  },
  {
   "cell_type": "markdown",
   "metadata": {},
   "source": [
    "## Feature Engg\n",
    "\n",
    "Depending on What features we and labels we want to use for our model, we can use the functions\n",
    "\n",
    "`get_agg()`:\n",
    "\n",
    "    - For now only gives us moving averages\n",
    "    - Can modify it to give other aggregate functions\n",
    "    \n",
    "`create_prediction_zones()`:\n",
    "    \n",
    "    - Will create new classes depending on what windows we choose for failures\n",
    "  \n",
    "**Note: Both these fucntions will give out separate dataframes/series and will have to be merged accordingly**\n"
   ]
  },
  {
   "cell_type": "code",
   "execution_count": 10,
   "metadata": {
    "code_folding": []
   },
   "outputs": [],
   "source": [
    "\"\"\"\n",
    "Helper Functions\n",
    "\"\"\"\n",
    "\n",
    "def get_agg(df, freq, time_col='Date', well_col = 'NodeID'):\n",
    "    \n",
    "    frames = []\n",
    "    \n",
    "    for well in df[well_col].unique():\n",
    "        temp_df = df[df[well_col] == well].copy()\n",
    "        temp_df.set_index(time_col, inplace=True)\n",
    "        temp_df = temp_df.rolling(freq).mean()\n",
    "        temp_df = temp_df.add_prefix(freq+'_')\n",
    "        temp_df[well_col] = well\n",
    "        temp_df.reset_index(inplace=True)\n",
    "        frames.append(temp_df)\n",
    "        \n",
    "    rolled_df = pd.concat(frames)\n",
    "    rolled_df.reset_index(inplace=True, drop=True)\n",
    "    \n",
    "    return rolled_df\n",
    "\n",
    "\n",
    "def create_prediction_zones(df, fail_col, prediction_zone_dict):\n",
    "    \"\"\"\n",
    "    Depending on the prediction_zone_dict will create predictions zones for failures \n",
    "    in the Failure column.\n",
    "    :param df: The dataframe to extract it from\n",
    "    :param fail_col: Failure column to use from the dataframe\n",
    "    :param prediction_zone_dict: A dict with timedeltas for each type of Failure in fail_col\n",
    "    :return Will return a Series or an Array of these Prediction Zones\n",
    "    \"\"\"\n",
    "    \n",
    "    test_data = df[['NodeID', 'Date', fail_col]].copy()\n",
    "    fail_zones = test_data[fail_col]  # fail_zones will be initialized as a copy of the fail col\n",
    "    \n",
    "    # Getting start of predictions from fail col\n",
    "    fail_dates = test_data[test_data[fail_col] != 'Normal']  # everthing other than normal is considered as a prediction\n",
    "    fail_start = fail_dates[fail_dates.Date.diff().abs().fillna(pd.Timedelta('10D')) > pd.Timedelta('1d 12H')]\n",
    "    fail_start.reset_index(inplace=True, drop=True)\n",
    "    \n",
    "    # Adding zones by iterating over each prediction start date\n",
    "    for i in fail_start.index:\n",
    "        temp_well = fail_start.loc[i, 'NodeID']  # well name\n",
    "        zone_end_date = fail_start.loc[i, 'Date']  # prediction start date\n",
    "        fail = fail_start.loc[i, fail_col]  # actual prediction class\n",
    "        zone_delta = pd.Timedelta(prediction_zone_dict[fail])  # delta to subtract from the dictionary\n",
    "        zone_start_date = zone_end_date - zone_delta\n",
    "\n",
    "        bool_ = (test_data.NodeID == temp_well) & (test_data.Date < zone_end_date) & (test_data.Date >= zone_start_date)\n",
    "        fail_zones[bool_] = 'fz_' + fail\n",
    "        \n",
    "    return fail_zones"
   ]
  },
  {
   "cell_type": "markdown",
   "metadata": {},
   "source": [
    "Say we want to use rolling averages with a frequency of 7 days for our features and a constant 10 day window for our failures. Follow the next few sections to see how it will be done"
   ]
  },
  {
   "cell_type": "code",
   "execution_count": 49,
   "metadata": {},
   "outputs": [
    {
     "name": "stdout",
     "output_type": "stream",
     "text": [
      "Wall time: 9.71 s\n"
     ]
    },
    {
     "data": {
      "text/html": [
       "<div>\n",
       "<style scoped>\n",
       "    .dataframe tbody tr th:only-of-type {\n",
       "        vertical-align: middle;\n",
       "    }\n",
       "\n",
       "    .dataframe tbody tr th {\n",
       "        vertical-align: top;\n",
       "    }\n",
       "\n",
       "    .dataframe thead th {\n",
       "        text-align: right;\n",
       "    }\n",
       "</style>\n",
       "<table border=\"1\" class=\"dataframe\">\n",
       "  <thead>\n",
       "    <tr style=\"text-align: right;\">\n",
       "      <th></th>\n",
       "      <th>NodeID</th>\n",
       "      <th>Date</th>\n",
       "      <th>Components</th>\n",
       "      <th>7D_PPRL</th>\n",
       "      <th>7D_MPRL</th>\n",
       "      <th>7D_FluidLoadonPump</th>\n",
       "      <th>7D_PumpIntakePressure</th>\n",
       "    </tr>\n",
       "  </thead>\n",
       "  <tbody>\n",
       "    <tr>\n",
       "      <th>0</th>\n",
       "      <td>Aagvik 1-35H</td>\n",
       "      <td>2019-06-21 15:58:34</td>\n",
       "      <td>Normal</td>\n",
       "      <td>27639.000000</td>\n",
       "      <td>16811.0</td>\n",
       "      <td>3280.000000</td>\n",
       "      <td>NaN</td>\n",
       "    </tr>\n",
       "    <tr>\n",
       "      <th>1</th>\n",
       "      <td>Aagvik 1-35H</td>\n",
       "      <td>2019-06-21 16:25:36</td>\n",
       "      <td>Normal</td>\n",
       "      <td>27548.000000</td>\n",
       "      <td>16781.5</td>\n",
       "      <td>3260.500000</td>\n",
       "      <td>NaN</td>\n",
       "    </tr>\n",
       "    <tr>\n",
       "      <th>2</th>\n",
       "      <td>Aagvik 1-35H</td>\n",
       "      <td>2019-06-21 18:25:16</td>\n",
       "      <td>Normal</td>\n",
       "      <td>27514.666667</td>\n",
       "      <td>16719.0</td>\n",
       "      <td>3283.666667</td>\n",
       "      <td>NaN</td>\n",
       "    </tr>\n",
       "    <tr>\n",
       "      <th>3</th>\n",
       "      <td>Aagvik 1-35H</td>\n",
       "      <td>2019-06-21 18:28:10</td>\n",
       "      <td>Normal</td>\n",
       "      <td>27492.000000</td>\n",
       "      <td>16688.0</td>\n",
       "      <td>3294.500000</td>\n",
       "      <td>NaN</td>\n",
       "    </tr>\n",
       "    <tr>\n",
       "      <th>4</th>\n",
       "      <td>Aagvik 1-35H</td>\n",
       "      <td>2019-06-21 20:25:01</td>\n",
       "      <td>Normal</td>\n",
       "      <td>27526.000000</td>\n",
       "      <td>16692.6</td>\n",
       "      <td>3303.800000</td>\n",
       "      <td>NaN</td>\n",
       "    </tr>\n",
       "  </tbody>\n",
       "</table>\n",
       "</div>"
      ],
      "text/plain": [
       "         NodeID                Date Components       7D_PPRL  7D_MPRL  \\\n",
       "0  Aagvik 1-35H 2019-06-21 15:58:34     Normal  27639.000000  16811.0   \n",
       "1  Aagvik 1-35H 2019-06-21 16:25:36     Normal  27548.000000  16781.5   \n",
       "2  Aagvik 1-35H 2019-06-21 18:25:16     Normal  27514.666667  16719.0   \n",
       "3  Aagvik 1-35H 2019-06-21 18:28:10     Normal  27492.000000  16688.0   \n",
       "4  Aagvik 1-35H 2019-06-21 20:25:01     Normal  27526.000000  16692.6   \n",
       "\n",
       "   7D_FluidLoadonPump  7D_PumpIntakePressure  \n",
       "0         3280.000000                    NaN  \n",
       "1         3260.500000                    NaN  \n",
       "2         3283.666667                    NaN  \n",
       "3         3294.500000                    NaN  \n",
       "4         3303.800000                    NaN  "
      ]
     },
     "execution_count": 49,
     "metadata": {},
     "output_type": "execute_result"
    }
   ],
   "source": [
    "%%time\n",
    "# 7 day rolling averages\n",
    "avg_data = get_agg(df=data, freq='7D')  \n",
    "\n",
    "# Merge it with the original data \n",
    "# and use only those columns which will be of use\n",
    "# While working with large datasets try optmizing the copies of dataframes you create\n",
    "# May not even have to merge it\n",
    "\n",
    "full_data = data.set_index(['NodeID', 'Date']).merge(avg_data.set_index(['NodeID', 'Date']), \n",
    "                                                     left_index=True,\n",
    "                                                     right_index=True).reset_index()\n",
    "\n",
    "# Drop Columns that we dont need\n",
    "cols_drop = [\n",
    "    'PPRL',\n",
    "    'MPRL',\n",
    "    'PumpIntakePressure',\n",
    "    'FluidLoadonPump',\n",
    "]\n",
    "\n",
    "full_data.drop(columns=cols_drop, inplace=True)\n",
    "\n",
    "full_data.head()"
   ]
  },
  {
   "cell_type": "code",
   "execution_count": 50,
   "metadata": {},
   "outputs": [
    {
     "data": {
      "text/plain": [
       "NodeID                   0.000000\n",
       "Date                     0.000000\n",
       "Components               0.000000\n",
       "7D_PPRL                  3.440361\n",
       "7D_MPRL                  3.440361\n",
       "7D_FluidLoadonPump       3.440361\n",
       "7D_PumpIntakePressure    4.220519\n",
       "dtype: float64"
      ]
     },
     "execution_count": 50,
     "metadata": {},
     "output_type": "execute_result"
    }
   ],
   "source": [
    "full_data.isnull().sum(axis=0)/len(full_data) * 100"
   ]
  },
  {
   "cell_type": "code",
   "execution_count": 51,
   "metadata": {},
   "outputs": [],
   "source": [
    "# pred zone dict\n",
    "# manual\n",
    "# pred_zone_dict = {\n",
    "#     'PUMP': '15 days',\n",
    "#     'ROD': '15 days',\n",
    "#     'TUBING': '15 days',\n",
    "#     'BHA': '15 days'\n",
    "# }\n",
    "\n",
    "# automated all failures will have the same failure window\n",
    "fail_window = '15 days'\n",
    "fail_labels = full_data.Components.unique().tolist()\n",
    "fail_labels.remove('Normal')\n",
    "pred_zone_dict = {x: fail_window for x in fail_labels}"
   ]
  },
  {
   "cell_type": "code",
   "execution_count": 53,
   "metadata": {},
   "outputs": [
    {
     "name": "stderr",
     "output_type": "stream",
     "text": [
      "c:\\users\\rai_v\\onedrive\\python coursera\\oasis\\venv\\lib\\site-packages\\ipykernel_launcher.py:51: SettingWithCopyWarning: \n",
      "A value is trying to be set on a copy of a slice from a DataFrame\n",
      "\n",
      "See the caveats in the documentation: https://pandas.pydata.org/pandas-docs/stable/user_guide/indexing.html#returning-a-view-versus-a-copy\n"
     ]
    }
   ],
   "source": [
    "# Create pred windows\n",
    "# Note:  The output of the fucntion will be a pandas Series\n",
    "full_data['Label'] = create_prediction_zones(df=full_data, \n",
    "                                             fail_col='Components', \n",
    "                                             prediction_zone_dict=pred_zone_dict)"
   ]
  },
  {
   "cell_type": "markdown",
   "metadata": {},
   "source": [
    "Some Assumtions we are going to make:\n",
    "- Drop Nan values\n",
    "- Remove the actual failures as classes and only use windows"
   ]
  },
  {
   "cell_type": "code",
   "execution_count": 54,
   "metadata": {},
   "outputs": [
    {
     "name": "stderr",
     "output_type": "stream",
     "text": [
      "c:\\users\\rai_v\\onedrive\\python coursera\\oasis\\venv\\lib\\site-packages\\pandas\\core\\generic.py:5159: SettingWithCopyWarning: \n",
      "A value is trying to be set on a copy of a slice from a DataFrame.\n",
      "Try using .loc[row_indexer,col_indexer] = value instead\n",
      "\n",
      "See the caveats in the documentation: https://pandas.pydata.org/pandas-docs/stable/user_guide/indexing.html#returning-a-view-versus-a-copy\n",
      "  self[name] = value\n"
     ]
    }
   ],
   "source": [
    "full_data.dropna(inplace=True)\n",
    "\n",
    "class_drop = fail_labels  # just for now dont need to use it\n",
    "full_data = full_data[~full_data.Label.isin(class_drop)]\n",
    "full_data.Label = full_data.Label.str.replace('fz_', '').str.strip()\n",
    "full_data.reset_index(inplace=True, drop=True)"
   ]
  },
  {
   "cell_type": "code",
   "execution_count": 55,
   "metadata": {},
   "outputs": [
    {
     "data": {
      "text/html": [
       "<div>\n",
       "<style scoped>\n",
       "    .dataframe tbody tr th:only-of-type {\n",
       "        vertical-align: middle;\n",
       "    }\n",
       "\n",
       "    .dataframe tbody tr th {\n",
       "        vertical-align: top;\n",
       "    }\n",
       "\n",
       "    .dataframe thead th {\n",
       "        text-align: right;\n",
       "    }\n",
       "</style>\n",
       "<table border=\"1\" class=\"dataframe\">\n",
       "  <thead>\n",
       "    <tr style=\"text-align: right;\">\n",
       "      <th></th>\n",
       "      <th>NodeID</th>\n",
       "      <th>Date</th>\n",
       "      <th>Components</th>\n",
       "      <th>7D_PPRL</th>\n",
       "      <th>7D_MPRL</th>\n",
       "      <th>7D_FluidLoadonPump</th>\n",
       "      <th>7D_PumpIntakePressure</th>\n",
       "      <th>Label</th>\n",
       "    </tr>\n",
       "  </thead>\n",
       "  <tbody>\n",
       "    <tr>\n",
       "      <th>0</th>\n",
       "      <td>Aagvik 1-35H</td>\n",
       "      <td>2019-08-13 11:19:56</td>\n",
       "      <td>Normal</td>\n",
       "      <td>31488.000000</td>\n",
       "      <td>17075.000000</td>\n",
       "      <td>9968.00</td>\n",
       "      <td>608.000000</td>\n",
       "      <td>Normal</td>\n",
       "    </tr>\n",
       "    <tr>\n",
       "      <th>1</th>\n",
       "      <td>Aagvik 1-35H</td>\n",
       "      <td>2019-08-14 00:00:00</td>\n",
       "      <td>Normal</td>\n",
       "      <td>31488.000000</td>\n",
       "      <td>17075.000000</td>\n",
       "      <td>9968.00</td>\n",
       "      <td>608.000000</td>\n",
       "      <td>Normal</td>\n",
       "    </tr>\n",
       "    <tr>\n",
       "      <th>2</th>\n",
       "      <td>Aagvik 1-35H</td>\n",
       "      <td>2019-08-15 06:04:48</td>\n",
       "      <td>Normal</td>\n",
       "      <td>31613.000000</td>\n",
       "      <td>17062.500000</td>\n",
       "      <td>9915.00</td>\n",
       "      <td>611.000000</td>\n",
       "      <td>Normal</td>\n",
       "    </tr>\n",
       "    <tr>\n",
       "      <th>3</th>\n",
       "      <td>Aagvik 1-35H</td>\n",
       "      <td>2019-08-15 07:53:36</td>\n",
       "      <td>Normal</td>\n",
       "      <td>31615.333333</td>\n",
       "      <td>17012.666667</td>\n",
       "      <td>10011.00</td>\n",
       "      <td>564.666667</td>\n",
       "      <td>Normal</td>\n",
       "    </tr>\n",
       "    <tr>\n",
       "      <th>4</th>\n",
       "      <td>Aagvik 1-35H</td>\n",
       "      <td>2019-08-15 10:02:31</td>\n",
       "      <td>Normal</td>\n",
       "      <td>31594.500000</td>\n",
       "      <td>17021.250000</td>\n",
       "      <td>9975.25</td>\n",
       "      <td>576.500000</td>\n",
       "      <td>Normal</td>\n",
       "    </tr>\n",
       "  </tbody>\n",
       "</table>\n",
       "</div>"
      ],
      "text/plain": [
       "         NodeID                Date Components       7D_PPRL       7D_MPRL  \\\n",
       "0  Aagvik 1-35H 2019-08-13 11:19:56     Normal  31488.000000  17075.000000   \n",
       "1  Aagvik 1-35H 2019-08-14 00:00:00     Normal  31488.000000  17075.000000   \n",
       "2  Aagvik 1-35H 2019-08-15 06:04:48     Normal  31613.000000  17062.500000   \n",
       "3  Aagvik 1-35H 2019-08-15 07:53:36     Normal  31615.333333  17012.666667   \n",
       "4  Aagvik 1-35H 2019-08-15 10:02:31     Normal  31594.500000  17021.250000   \n",
       "\n",
       "   7D_FluidLoadonPump  7D_PumpIntakePressure   Label  \n",
       "0             9968.00             608.000000  Normal  \n",
       "1             9968.00             608.000000  Normal  \n",
       "2             9915.00             611.000000  Normal  \n",
       "3            10011.00             564.666667  Normal  \n",
       "4             9975.25             576.500000  Normal  "
      ]
     },
     "execution_count": 55,
     "metadata": {},
     "output_type": "execute_result"
    }
   ],
   "source": [
    "full_data.head()"
   ]
  },
  {
   "cell_type": "code",
   "execution_count": 56,
   "metadata": {},
   "outputs": [
    {
     "name": "stdout",
     "output_type": "stream",
     "text": [
      "Features\n"
     ]
    },
    {
     "data": {
      "text/html": [
       "<div>\n",
       "<style scoped>\n",
       "    .dataframe tbody tr th:only-of-type {\n",
       "        vertical-align: middle;\n",
       "    }\n",
       "\n",
       "    .dataframe tbody tr th {\n",
       "        vertical-align: top;\n",
       "    }\n",
       "\n",
       "    .dataframe thead th {\n",
       "        text-align: right;\n",
       "    }\n",
       "</style>\n",
       "<table border=\"1\" class=\"dataframe\">\n",
       "  <thead>\n",
       "    <tr style=\"text-align: right;\">\n",
       "      <th></th>\n",
       "      <th>7D_PPRL</th>\n",
       "      <th>7D_MPRL</th>\n",
       "      <th>7D_FluidLoadonPump</th>\n",
       "      <th>7D_PumpIntakePressure</th>\n",
       "    </tr>\n",
       "  </thead>\n",
       "  <tbody>\n",
       "    <tr>\n",
       "      <th>0</th>\n",
       "      <td>31488.000000</td>\n",
       "      <td>17075.000000</td>\n",
       "      <td>9968.00</td>\n",
       "      <td>608.000000</td>\n",
       "    </tr>\n",
       "    <tr>\n",
       "      <th>1</th>\n",
       "      <td>31488.000000</td>\n",
       "      <td>17075.000000</td>\n",
       "      <td>9968.00</td>\n",
       "      <td>608.000000</td>\n",
       "    </tr>\n",
       "    <tr>\n",
       "      <th>2</th>\n",
       "      <td>31613.000000</td>\n",
       "      <td>17062.500000</td>\n",
       "      <td>9915.00</td>\n",
       "      <td>611.000000</td>\n",
       "    </tr>\n",
       "    <tr>\n",
       "      <th>3</th>\n",
       "      <td>31615.333333</td>\n",
       "      <td>17012.666667</td>\n",
       "      <td>10011.00</td>\n",
       "      <td>564.666667</td>\n",
       "    </tr>\n",
       "    <tr>\n",
       "      <th>4</th>\n",
       "      <td>31594.500000</td>\n",
       "      <td>17021.250000</td>\n",
       "      <td>9975.25</td>\n",
       "      <td>576.500000</td>\n",
       "    </tr>\n",
       "  </tbody>\n",
       "</table>\n",
       "</div>"
      ],
      "text/plain": [
       "        7D_PPRL       7D_MPRL  7D_FluidLoadonPump  7D_PumpIntakePressure\n",
       "0  31488.000000  17075.000000             9968.00             608.000000\n",
       "1  31488.000000  17075.000000             9968.00             608.000000\n",
       "2  31613.000000  17062.500000             9915.00             611.000000\n",
       "3  31615.333333  17012.666667            10011.00             564.666667\n",
       "4  31594.500000  17021.250000             9975.25             576.500000"
      ]
     },
     "metadata": {},
     "output_type": "display_data"
    },
    {
     "name": "stdout",
     "output_type": "stream",
     "text": [
      "Classes Being Predicted\n"
     ]
    },
    {
     "data": {
      "text/plain": [
       "Normal                       669426\n",
       "Tubing - Body                  6469\n",
       "Pump - Plunger                 5145\n",
       "Rod - Main Body                3293\n",
       "Polish Rod                     2551\n",
       "Pump - Stuck Pump              2394\n",
       "Tubing Leak                    1930\n",
       "Rod - Pin                      1605\n",
       "Rod - 6\" Critical Section      1146\n",
       "Pump - Barrel                  1049\n",
       "Rod - Coupling                 1016\n",
       "Pump - Junked                   942\n",
       "Pump - No-Tap                   776\n",
       "Pump - On - Off Tool            534\n",
       "Tubing - Collar                 423\n",
       "BHA - TAC                       294\n",
       "BHA - Seat Nipple               286\n",
       "Pump - Standing Valve           246\n",
       "Pump - Traveling Valve          171\n",
       "Pump - Valve Rod                 79\n",
       "Name: Label, dtype: int64"
      ]
     },
     "metadata": {},
     "output_type": "display_data"
    }
   ],
   "source": [
    "X = full_data.drop(columns=['NodeID', 'Date', 'Components', 'Label'])\n",
    "Y = full_data.Label\n",
    "\n",
    "print(\"Features\")\n",
    "display(X.head())\n",
    "\n",
    "print(\"Classes Being Predicted\")\n",
    "display(Y.value_counts())"
   ]
  },
  {
   "cell_type": "markdown",
   "metadata": {},
   "source": [
    "# Testing Algos"
   ]
  },
  {
   "cell_type": "code",
   "execution_count": 21,
   "metadata": {},
   "outputs": [],
   "source": [
    "# Imports\n",
    "from sklearn.preprocessing import StandardScaler\n",
    "from sklearn.ensemble import RandomForestClassifier\n",
    "from imblearn.over_sampling import SMOTE\n",
    "from imblearn.pipeline import Pipeline\n",
    "from sklearn.ensemble import GradientBoostingClassifier"
   ]
  },
  {
   "cell_type": "code",
   "execution_count": 22,
   "metadata": {},
   "outputs": [],
   "source": [
    "\"\"\"\n",
    "Model 1\n",
    "Random Forest classifier\n",
    "\"\"\"\n",
    "\n",
    "def build_rfc_model ():\n",
    "    \"\"\"\n",
    "    Define A Random Forrest Classifier Model\n",
    "    :return: RFC Model\n",
    "    \"\"\"\n",
    "    scaler = StandardScaler() # Define Scaler\n",
    " \n",
    "    # RFC Params\n",
    "    rfc_params = {\n",
    "        'n_estimators': 100,\n",
    "        'min_samples_split': 2,\n",
    "        'min_samples_leaf': 1,\n",
    "        'class_weight': 'balanced',\n",
    "        'verbose': 0,\n",
    "        'max_features': 'auto',\n",
    "        'max_depth': None,\n",
    "    }\n",
    "    \n",
    "    # RFC Classifier\n",
    "    rfc = RandomForestClassifier(**rfc_params)\n",
    "    \n",
    "    #\n",
    "    model = Pipeline([\n",
    "        ('scaler', scaler),\n",
    "        ('rfc', rfc)\n",
    "    ])\n",
    "\n",
    "    return model"
   ]
  },
  {
   "cell_type": "code",
   "execution_count": 23,
   "metadata": {},
   "outputs": [
    {
     "data": {
      "text/plain": [
       "Pipeline(steps=[('scaler', StandardScaler()),\n",
       "                ('rfc', RandomForestClassifier(class_weight='balanced'))])"
      ]
     },
     "execution_count": 23,
     "metadata": {},
     "output_type": "execute_result"
    }
   ],
   "source": [
    "rfc_model = build_rfc_model()\n",
    "rfc_model"
   ]
  },
  {
   "cell_type": "code",
   "execution_count": 78,
   "metadata": {},
   "outputs": [
    {
     "name": "stdout",
     "output_type": "stream",
     "text": [
      "Weighted Metrics\n",
      "Precision : 99.35\n",
      "Recall: 99.36\n",
      "F-score: 99.34\n",
      "\n",
      "Macro Metrics\n",
      "Precision : 97.01\n",
      "Recall: 87.55\n",
      "F-score: 91.89\n",
      "\n",
      "Classification Report\n",
      "                           precision    recall  f1-score   support\n",
      "\n",
      "                   Normal       0.99      1.00      1.00    123118\n",
      "               Polish Rod       0.95      0.85      0.90       251\n",
      "         Polish Rod - Box       1.00      0.96      0.98        47\n",
      "            Pump - Barrel       0.93      0.83      0.88       138\n",
      "  Pump - Barrel Extension       1.00      0.73      0.84        33\n",
      "            Pump - Junked       0.97      0.86      0.91       147\n",
      "            Pump - No-Tap       0.92      0.75      0.83       129\n",
      "     Pump - On - Off Tool       1.00      0.78      0.87        40\n",
      "           Pump - Plunger       0.97      0.90      0.93       753\n",
      "      Pump - Plunger Cage       1.00      0.97      0.99        72\n",
      "    Pump - Standing Valve       0.97      0.93      0.95        74\n",
      "        Pump - Stuck Pump       0.95      0.88      0.91       379\n",
      "   Pump - Traveling Valve       0.98      0.88      0.93        51\n",
      "         Pump - Valve Rod       1.00      1.00      1.00        24\n",
      "Rod - 6\" Critical Section       0.97      0.84      0.90       203\n",
      "           Rod - Coupling       0.93      0.88      0.91       180\n",
      "          Rod - Main Body       0.97      0.87      0.92       681\n",
      "                Rod - Pin       0.97      0.87      0.92       191\n",
      "        Rod - Wrench Flat       0.96      0.86      0.91        59\n",
      "            Tubing - Body       0.98      0.88      0.93      1277\n",
      "          Tubing - Collar       0.95      0.94      0.95       127\n",
      "         Tubing - Unknown       0.97      0.78      0.87       319\n",
      "\n",
      "                 accuracy                           0.99    128293\n",
      "                macro avg       0.97      0.88      0.92    128293\n",
      "             weighted avg       0.99      0.99      0.99    128293\n",
      "\n"
     ]
    }
   ],
   "source": [
    "MultiClassMetrics.baseline_metrics(X, Y, rfc_model)\n",
    "\n",
    "# cv_rfc = MultiClassMetrics.cv_validation(X, Y, rfc_model)\n",
    "# print(\"CV Metrics\")\n",
    "# display(cv_rfc)"
   ]
  },
  {
   "cell_type": "code",
   "execution_count": 79,
   "metadata": {},
   "outputs": [
    {
     "name": "stdout",
     "output_type": "stream",
     "text": [
      "Kfold Metrics\n"
     ]
    },
    {
     "data": {
      "text/html": [
       "<div>\n",
       "<style scoped>\n",
       "    .dataframe tbody tr th:only-of-type {\n",
       "        vertical-align: middle;\n",
       "    }\n",
       "\n",
       "    .dataframe tbody tr th {\n",
       "        vertical-align: top;\n",
       "    }\n",
       "\n",
       "    .dataframe thead th {\n",
       "        text-align: right;\n",
       "    }\n",
       "</style>\n",
       "<table border=\"1\" class=\"dataframe\">\n",
       "  <thead>\n",
       "    <tr style=\"text-align: right;\">\n",
       "      <th></th>\n",
       "      <th>Precision_wt</th>\n",
       "      <th>Recall_wt</th>\n",
       "      <th>F-score_wt</th>\n",
       "      <th>Precision_macro</th>\n",
       "      <th>Recall_macro</th>\n",
       "      <th>F-score_macro</th>\n",
       "    </tr>\n",
       "  </thead>\n",
       "  <tbody>\n",
       "    <tr>\n",
       "      <th>0</th>\n",
       "      <td>99.409996</td>\n",
       "      <td>99.419998</td>\n",
       "      <td>99.400002</td>\n",
       "      <td>96.419998</td>\n",
       "      <td>89.440002</td>\n",
       "      <td>92.699997</td>\n",
       "    </tr>\n",
       "    <tr>\n",
       "      <th>1</th>\n",
       "      <td>99.409996</td>\n",
       "      <td>99.409996</td>\n",
       "      <td>99.400002</td>\n",
       "      <td>97.250000</td>\n",
       "      <td>88.630005</td>\n",
       "      <td>92.629997</td>\n",
       "    </tr>\n",
       "    <tr>\n",
       "      <th>2</th>\n",
       "      <td>99.459999</td>\n",
       "      <td>99.459999</td>\n",
       "      <td>99.449997</td>\n",
       "      <td>96.750000</td>\n",
       "      <td>89.900002</td>\n",
       "      <td>93.070000</td>\n",
       "    </tr>\n",
       "    <tr>\n",
       "      <th>3</th>\n",
       "      <td>99.440002</td>\n",
       "      <td>99.449997</td>\n",
       "      <td>99.440002</td>\n",
       "      <td>96.860001</td>\n",
       "      <td>88.410004</td>\n",
       "      <td>92.320000</td>\n",
       "    </tr>\n",
       "    <tr>\n",
       "      <th>4</th>\n",
       "      <td>99.430000</td>\n",
       "      <td>99.440002</td>\n",
       "      <td>99.419998</td>\n",
       "      <td>97.080002</td>\n",
       "      <td>87.040001</td>\n",
       "      <td>91.689995</td>\n",
       "    </tr>\n",
       "    <tr>\n",
       "      <th>Mean</th>\n",
       "      <td>99.429999</td>\n",
       "      <td>99.435999</td>\n",
       "      <td>99.422000</td>\n",
       "      <td>96.872000</td>\n",
       "      <td>88.684003</td>\n",
       "      <td>92.481998</td>\n",
       "    </tr>\n",
       "    <tr>\n",
       "      <th>STD</th>\n",
       "      <td>0.018975</td>\n",
       "      <td>0.018548</td>\n",
       "      <td>0.020395</td>\n",
       "      <td>0.284774</td>\n",
       "      <td>0.982947</td>\n",
       "      <td>0.462317</td>\n",
       "    </tr>\n",
       "  </tbody>\n",
       "</table>\n",
       "</div>"
      ],
      "text/plain": [
       "      Precision_wt  Recall_wt  F-score_wt  Precision_macro  Recall_macro  \\\n",
       "0        99.409996  99.419998   99.400002        96.419998     89.440002   \n",
       "1        99.409996  99.409996   99.400002        97.250000     88.630005   \n",
       "2        99.459999  99.459999   99.449997        96.750000     89.900002   \n",
       "3        99.440002  99.449997   99.440002        96.860001     88.410004   \n",
       "4        99.430000  99.440002   99.419998        97.080002     87.040001   \n",
       "Mean     99.429999  99.435999   99.422000        96.872000     88.684003   \n",
       "STD       0.018975   0.018548    0.020395         0.284774      0.982947   \n",
       "\n",
       "      F-score_macro  \n",
       "0         92.699997  \n",
       "1         92.629997  \n",
       "2         93.070000  \n",
       "3         92.320000  \n",
       "4         91.689995  \n",
       "Mean      92.481998  \n",
       "STD        0.462317  "
      ]
     },
     "metadata": {},
     "output_type": "display_data"
    }
   ],
   "source": [
    "kf_rfc = MultiClassMetrics.kfold_validation(X, Y, rfc_model)\n",
    "print(\"Kfold Metrics\")\n",
    "display(kf_rfc)"
   ]
  },
  {
   "cell_type": "markdown",
   "metadata": {},
   "source": [
    "# Training and Saving the model\n",
    "\n",
    "Using the `lib_aws.S3` class. We can serialize and save a trained model.  "
   ]
  },
  {
   "cell_type": "code",
   "execution_count": 57,
   "metadata": {},
   "outputs": [],
   "source": [
    "model_train = build_rfc_model() # Define a model"
   ]
  },
  {
   "cell_type": "code",
   "execution_count": 58,
   "metadata": {},
   "outputs": [
    {
     "name": "stdout",
     "output_type": "stream",
     "text": [
      "Wall time: 3min 31s\n"
     ]
    },
    {
     "data": {
      "text/plain": [
       "Pipeline(steps=[('scaler', StandardScaler()),\n",
       "                ('rfc', RandomForestClassifier(class_weight='balanced'))])"
      ]
     },
     "execution_count": 58,
     "metadata": {},
     "output_type": "execute_result"
    }
   ],
   "source": [
    "%%time\n",
    "model_train.fit(X, Y)  # fit the model"
   ]
  },
  {
   "cell_type": "code",
   "execution_count": 59,
   "metadata": {},
   "outputs": [
    {
     "name": "stdout",
     "output_type": "stream",
     "text": [
      "Wall time: 221 ms\n"
     ]
    },
    {
     "data": {
      "text/plain": [
       "['model_rfc.pkl']"
      ]
     },
     "execution_count": 59,
     "metadata": {},
     "output_type": "execute_result"
    }
   ],
   "source": [
    "%%time\n",
    "# # saving the trained model in s3\n",
    "# s3 = lib_aws.S3(bucket='et-oasis')\n",
    "# model_name = 'algo/failure-forecasting/rfc_model_v2.pkl'\n",
    "# s3.save_model(obj=model_train, name=model_name)\n",
    "\n",
    "# Saving the model locally\n",
    "# Save the model as a pickle in a file \n",
    "# joblib.dump(model_train, 'model_rfc.pkl') "
   ]
  },
  {
   "cell_type": "markdown",
   "metadata": {},
   "source": [
    "# Making Predictions\n",
    "\n",
    "While making predictions modify the features accordingly."
   ]
  },
  {
   "cell_type": "code",
   "execution_count": 62,
   "metadata": {},
   "outputs": [
    {
     "name": "stdout",
     "output_type": "stream",
     "text": [
      "Wall time: 7min 19s\n"
     ]
    },
    {
     "data": {
      "text/html": [
       "<div>\n",
       "<style scoped>\n",
       "    .dataframe tbody tr th:only-of-type {\n",
       "        vertical-align: middle;\n",
       "    }\n",
       "\n",
       "    .dataframe tbody tr th {\n",
       "        vertical-align: top;\n",
       "    }\n",
       "\n",
       "    .dataframe thead th {\n",
       "        text-align: right;\n",
       "    }\n",
       "</style>\n",
       "<table border=\"1\" class=\"dataframe\">\n",
       "  <thead>\n",
       "    <tr style=\"text-align: right;\">\n",
       "      <th></th>\n",
       "      <th>NodeID</th>\n",
       "      <th>Date</th>\n",
       "      <th>PPRL</th>\n",
       "      <th>MPRL</th>\n",
       "      <th>FluidLoadonPump</th>\n",
       "      <th>PumpIntakePressure</th>\n",
       "    </tr>\n",
       "  </thead>\n",
       "  <tbody>\n",
       "    <tr>\n",
       "      <th>0</th>\n",
       "      <td>Aagvik 1-35H</td>\n",
       "      <td>2019-06-21 15:58:34</td>\n",
       "      <td>27639.0</td>\n",
       "      <td>16811.0</td>\n",
       "      <td>3280.0</td>\n",
       "      <td>NaN</td>\n",
       "    </tr>\n",
       "    <tr>\n",
       "      <th>1</th>\n",
       "      <td>Aagvik 1-35H</td>\n",
       "      <td>2019-06-21 16:25:36</td>\n",
       "      <td>27457.0</td>\n",
       "      <td>16752.0</td>\n",
       "      <td>3241.0</td>\n",
       "      <td>NaN</td>\n",
       "    </tr>\n",
       "    <tr>\n",
       "      <th>2</th>\n",
       "      <td>Aagvik 1-35H</td>\n",
       "      <td>2019-06-21 18:25:16</td>\n",
       "      <td>27448.0</td>\n",
       "      <td>16594.0</td>\n",
       "      <td>3330.0</td>\n",
       "      <td>NaN</td>\n",
       "    </tr>\n",
       "    <tr>\n",
       "      <th>3</th>\n",
       "      <td>Aagvik 1-35H</td>\n",
       "      <td>2019-06-21 18:28:10</td>\n",
       "      <td>27424.0</td>\n",
       "      <td>16595.0</td>\n",
       "      <td>3327.0</td>\n",
       "      <td>NaN</td>\n",
       "    </tr>\n",
       "    <tr>\n",
       "      <th>4</th>\n",
       "      <td>Aagvik 1-35H</td>\n",
       "      <td>2019-06-21 20:25:01</td>\n",
       "      <td>27662.0</td>\n",
       "      <td>16711.0</td>\n",
       "      <td>3341.0</td>\n",
       "      <td>NaN</td>\n",
       "    </tr>\n",
       "  </tbody>\n",
       "</table>\n",
       "</div>"
      ],
      "text/plain": [
       "         NodeID                Date     PPRL     MPRL  FluidLoadonPump  \\\n",
       "0  Aagvik 1-35H 2019-06-21 15:58:34  27639.0  16811.0           3280.0   \n",
       "1  Aagvik 1-35H 2019-06-21 16:25:36  27457.0  16752.0           3241.0   \n",
       "2  Aagvik 1-35H 2019-06-21 18:25:16  27448.0  16594.0           3330.0   \n",
       "3  Aagvik 1-35H 2019-06-21 18:28:10  27424.0  16595.0           3327.0   \n",
       "4  Aagvik 1-35H 2019-06-21 20:25:01  27662.0  16711.0           3341.0   \n",
       "\n",
       "   PumpIntakePressure  \n",
       "0                 NaN  \n",
       "1                 NaN  \n",
       "2                 NaN  \n",
       "3                 NaN  \n",
       "4                 NaN  "
      ]
     },
     "execution_count": 62,
     "metadata": {},
     "output_type": "execute_result"
    }
   ],
   "source": [
    "%%time\n",
    "# To mimic actual working in production query the entire data again\n",
    "# Find moving averages\n",
    "# drop nan values \n",
    "# make predictions\n",
    "full_query = \"\"\"\n",
    "SELECT\n",
    "    \"NodeID\",\n",
    "    \"Date\",\n",
    "    \"PPRL\",\n",
    "    \"MPRL\",\n",
    "    \"FluidLoadonPump\",\n",
    "    \"PumpIntakePressure\"\n",
    "FROM xspoc.xdiag\n",
    "ORDER BY \"NodeID\",\"Date\"\n",
    "\"\"\"\n",
    "\n",
    "with lib_aws.PostgresRDS(db='oasis-prod') as engine:\n",
    "    data = pd.read_sql(full_query, engine, parse_dates=['Date'])\n",
    "    \n",
    "data.head()"
   ]
  },
  {
   "cell_type": "code",
   "execution_count": 63,
   "metadata": {},
   "outputs": [
    {
     "name": "stdout",
     "output_type": "stream",
     "text": [
      "Wall time: 2min 49s\n"
     ]
    },
    {
     "data": {
      "text/html": [
       "<div>\n",
       "<style scoped>\n",
       "    .dataframe tbody tr th:only-of-type {\n",
       "        vertical-align: middle;\n",
       "    }\n",
       "\n",
       "    .dataframe tbody tr th {\n",
       "        vertical-align: top;\n",
       "    }\n",
       "\n",
       "    .dataframe thead th {\n",
       "        text-align: right;\n",
       "    }\n",
       "</style>\n",
       "<table border=\"1\" class=\"dataframe\">\n",
       "  <thead>\n",
       "    <tr style=\"text-align: right;\">\n",
       "      <th></th>\n",
       "      <th>NodeID</th>\n",
       "      <th>Date</th>\n",
       "      <th>7D_PPRL</th>\n",
       "      <th>7D_MPRL</th>\n",
       "      <th>7D_FluidLoadonPump</th>\n",
       "      <th>7D_PumpIntakePressure</th>\n",
       "    </tr>\n",
       "  </thead>\n",
       "  <tbody>\n",
       "    <tr>\n",
       "      <th>0</th>\n",
       "      <td>Aagvik 1-35H</td>\n",
       "      <td>2019-08-13 11:19:56</td>\n",
       "      <td>31488.000000</td>\n",
       "      <td>17075.000000</td>\n",
       "      <td>9968.00</td>\n",
       "      <td>608.000000</td>\n",
       "    </tr>\n",
       "    <tr>\n",
       "      <th>1</th>\n",
       "      <td>Aagvik 1-35H</td>\n",
       "      <td>2019-08-15 06:04:48</td>\n",
       "      <td>31613.000000</td>\n",
       "      <td>17062.500000</td>\n",
       "      <td>9915.00</td>\n",
       "      <td>611.000000</td>\n",
       "    </tr>\n",
       "    <tr>\n",
       "      <th>2</th>\n",
       "      <td>Aagvik 1-35H</td>\n",
       "      <td>2019-08-15 07:53:36</td>\n",
       "      <td>31615.333333</td>\n",
       "      <td>17012.666667</td>\n",
       "      <td>10011.00</td>\n",
       "      <td>564.666667</td>\n",
       "    </tr>\n",
       "    <tr>\n",
       "      <th>3</th>\n",
       "      <td>Aagvik 1-35H</td>\n",
       "      <td>2019-08-15 10:02:31</td>\n",
       "      <td>31594.500000</td>\n",
       "      <td>17021.250000</td>\n",
       "      <td>9975.25</td>\n",
       "      <td>576.500000</td>\n",
       "    </tr>\n",
       "    <tr>\n",
       "      <th>4</th>\n",
       "      <td>Aagvik 1-35H</td>\n",
       "      <td>2019-08-15 12:14:05</td>\n",
       "      <td>31621.400000</td>\n",
       "      <td>16997.800000</td>\n",
       "      <td>9907.00</td>\n",
       "      <td>603.000000</td>\n",
       "    </tr>\n",
       "  </tbody>\n",
       "</table>\n",
       "</div>"
      ],
      "text/plain": [
       "         NodeID                Date       7D_PPRL       7D_MPRL  \\\n",
       "0  Aagvik 1-35H 2019-08-13 11:19:56  31488.000000  17075.000000   \n",
       "1  Aagvik 1-35H 2019-08-15 06:04:48  31613.000000  17062.500000   \n",
       "2  Aagvik 1-35H 2019-08-15 07:53:36  31615.333333  17012.666667   \n",
       "3  Aagvik 1-35H 2019-08-15 10:02:31  31594.500000  17021.250000   \n",
       "4  Aagvik 1-35H 2019-08-15 12:14:05  31621.400000  16997.800000   \n",
       "\n",
       "   7D_FluidLoadonPump  7D_PumpIntakePressure  \n",
       "0             9968.00             608.000000  \n",
       "1             9915.00             611.000000  \n",
       "2            10011.00             564.666667  \n",
       "3             9975.25             576.500000  \n",
       "4             9907.00             603.000000  "
      ]
     },
     "execution_count": 63,
     "metadata": {},
     "output_type": "execute_result"
    }
   ],
   "source": [
    "%%time\n",
    "# Feature Engg\n",
    "# Will find moving averages\n",
    "# Drop NAN's\n",
    "# 7 day rolling averages\n",
    "avg_data = get_agg(df=data, freq='7D')  \n",
    "\n",
    "# Merge it with the original data \n",
    "# and use only those columns which will be of use\n",
    "# While working with large datasets try optmizing the copies of dataframes you create\n",
    "# May not even have to merge it\n",
    "\n",
    "full_data = data.set_index(['NodeID', 'Date']).merge(avg_data.set_index(['NodeID', 'Date']), \n",
    "                                                     left_index=True,\n",
    "                                                     right_index=True).reset_index()\n",
    "\n",
    "# Drop Columns that we dont need\n",
    "cols_drop = [\n",
    "    'PPRL',\n",
    "    'MPRL',\n",
    "    'PumpIntakePressure',\n",
    "    'FluidLoadonPump',\n",
    "]\n",
    "\n",
    "full_data.drop(columns=cols_drop, inplace=True)\n",
    "full_data.dropna(inplace=True)\n",
    "full_data.reset_index(inplace=True, drop=True)\n",
    "full_data.head()"
   ]
  },
  {
   "cell_type": "code",
   "execution_count": 60,
   "metadata": {},
   "outputs": [
    {
     "name": "stdout",
     "output_type": "stream",
     "text": [
      "Wall time: 0 ns\n"
     ]
    }
   ],
   "source": [
    "%%time\n",
    "# #load the model\n",
    "# s3 = lib_aws.S3(bucket='et-oasis')\n",
    "# model_name = '/algo/failure-forecasting/rfc_model_v2.pkl'\n",
    "# imported_model = s3.import_model(model_name)\n",
    "\n",
    "# Load model Locally\n",
    "# imported_model = joblib.load('model_rfc.pkl') \n",
    "\n",
    "# If training done in the same notebook instance use that itself\n",
    "imported_model = model_train"
   ]
  },
  {
   "cell_type": "code",
   "execution_count": 78,
   "metadata": {},
   "outputs": [
    {
     "name": "stdout",
     "output_type": "stream",
     "text": [
      "Wall time: 1min 36s\n"
     ]
    }
   ],
   "source": [
    "%%time\n",
    "x_pred = full_data.drop(columns=['NodeID', 'Date'])\n",
    "predictions = imported_model.predict(x_pred)  # Get Label Predictions\n",
    "probabilities = imported_model.predict_proba(x_pred)  # Get Probabilities"
   ]
  },
  {
   "cell_type": "code",
   "execution_count": 79,
   "metadata": {},
   "outputs": [
    {
     "name": "stdout",
     "output_type": "stream",
     "text": [
      "Wall time: 1.22 s\n"
     ]
    }
   ],
   "source": [
    "%%time\n",
    "# Creating final pred_df\n",
    "classes_predicted = imported_model[1].classes_  # Trained rfc part for making predictions\n",
    "pred_df = pd.concat([\n",
    "    full_data[[\"NodeID\", \"Date\"]], # NodeID and Date for indexing\n",
    "    pd.DataFrame(np.round(probabilities * 100, 2), columns=classes_predicted),  # probabilities for each class\n",
    "    pd.DataFrame(predictions, columns=['Prediction'])  # Actual Predictions\n",
    "], axis=1)"
   ]
  },
  {
   "cell_type": "code",
   "execution_count": 87,
   "metadata": {},
   "outputs": [],
   "source": [
    "rem_arr = np.array([\"NodeID\", \"Date\", \"Normal\", \"Prediction\"])\n",
    "prob_cols = np.setdiff1d(pred_df.columns, rem_arr)\n",
    "pred_df['FailureProb'] = pred_df[prob_cols].max(axis=1)\n",
    "\n",
    "# Dropping class based probabilities\n",
    "pred_df.drop(columns = prob_cols, inplace=True)"
   ]
  },
  {
   "cell_type": "code",
   "execution_count": 88,
   "metadata": {},
   "outputs": [
    {
     "data": {
      "text/html": [
       "<div>\n",
       "<style scoped>\n",
       "    .dataframe tbody tr th:only-of-type {\n",
       "        vertical-align: middle;\n",
       "    }\n",
       "\n",
       "    .dataframe tbody tr th {\n",
       "        vertical-align: top;\n",
       "    }\n",
       "\n",
       "    .dataframe thead th {\n",
       "        text-align: right;\n",
       "    }\n",
       "</style>\n",
       "<table border=\"1\" class=\"dataframe\">\n",
       "  <thead>\n",
       "    <tr style=\"text-align: right;\">\n",
       "      <th></th>\n",
       "      <th>NodeID</th>\n",
       "      <th>Date</th>\n",
       "      <th>Normal</th>\n",
       "      <th>Prediction</th>\n",
       "      <th>FailureProb</th>\n",
       "    </tr>\n",
       "  </thead>\n",
       "  <tbody>\n",
       "    <tr>\n",
       "      <th>0</th>\n",
       "      <td>Aagvik 1-35H</td>\n",
       "      <td>2019-08-13 11:19:56</td>\n",
       "      <td>100.0</td>\n",
       "      <td>Normal</td>\n",
       "      <td>0.0</td>\n",
       "    </tr>\n",
       "    <tr>\n",
       "      <th>1</th>\n",
       "      <td>Aagvik 1-35H</td>\n",
       "      <td>2019-08-15 06:04:48</td>\n",
       "      <td>100.0</td>\n",
       "      <td>Normal</td>\n",
       "      <td>0.0</td>\n",
       "    </tr>\n",
       "    <tr>\n",
       "      <th>2</th>\n",
       "      <td>Aagvik 1-35H</td>\n",
       "      <td>2019-08-15 07:53:36</td>\n",
       "      <td>100.0</td>\n",
       "      <td>Normal</td>\n",
       "      <td>0.0</td>\n",
       "    </tr>\n",
       "    <tr>\n",
       "      <th>3</th>\n",
       "      <td>Aagvik 1-35H</td>\n",
       "      <td>2019-08-15 10:02:31</td>\n",
       "      <td>100.0</td>\n",
       "      <td>Normal</td>\n",
       "      <td>0.0</td>\n",
       "    </tr>\n",
       "    <tr>\n",
       "      <th>4</th>\n",
       "      <td>Aagvik 1-35H</td>\n",
       "      <td>2019-08-15 12:14:05</td>\n",
       "      <td>100.0</td>\n",
       "      <td>Normal</td>\n",
       "      <td>0.0</td>\n",
       "    </tr>\n",
       "  </tbody>\n",
       "</table>\n",
       "</div>"
      ],
      "text/plain": [
       "         NodeID                Date  Normal Prediction  FailureProb\n",
       "0  Aagvik 1-35H 2019-08-13 11:19:56   100.0     Normal          0.0\n",
       "1  Aagvik 1-35H 2019-08-15 06:04:48   100.0     Normal          0.0\n",
       "2  Aagvik 1-35H 2019-08-15 07:53:36   100.0     Normal          0.0\n",
       "3  Aagvik 1-35H 2019-08-15 10:02:31   100.0     Normal          0.0\n",
       "4  Aagvik 1-35H 2019-08-15 12:14:05   100.0     Normal          0.0"
      ]
     },
     "execution_count": 88,
     "metadata": {},
     "output_type": "execute_result"
    }
   ],
   "source": [
    "pred_df.head()"
   ]
  },
  {
   "cell_type": "code",
   "execution_count": 75,
   "metadata": {},
   "outputs": [],
   "source": [
    "# # Custom mapping only for now, modify the classes while training\n",
    "# # This has been taken care of, dont have to run this\n",
    "# class_mapping = {\n",
    "#     'fz_BHA': 'BHA',\n",
    "#     'fz_PUMP': 'PUMP',\n",
    "#     'fz_ROD': 'ROD',\n",
    "#     'fz_TUBING': 'TUBING'\n",
    "# }\n",
    "# pred_df.Prediction = pred_df.Prediction.map(class_mapping).fillna(pred_df.Prediction)  # mapping Predictions to actual class values\n",
    "# pred_df.rename(columns=class_mapping, inplace=True)  # mapping column names to actual class values\n"
   ]
  },
  {
   "cell_type": "code",
   "execution_count": 89,
   "metadata": {},
   "outputs": [
    {
     "name": "stdout",
     "output_type": "stream",
     "text": [
      "Wall time: 1min 23s\n"
     ]
    }
   ],
   "source": [
    "%%time\n",
    "# Filling nulls with str columns as well\n",
    "pred_df.set_index(['NodeID', 'Date'], inplace=True)  # set index\n",
    "\n",
    "#seperate string columns and num columns\n",
    "pred_str = pred_df.select_dtypes(include='object')\n",
    "pred_num = pred_df.select_dtypes(exclude='object')\n",
    "\n",
    "# fill nulls in num columns\n",
    "pred_num.reset_index(inplace=True)\n",
    "pred_num = fill_null(pred_num, chk_col='Normal', well_col='NodeID', time_col='Date')\n",
    "pred_num.set_index(['NodeID', 'Date'], inplace=True)\n",
    "\n",
    "# merge for final df\n",
    "pred_df = pd.concat([pred_num, pred_str], axis=1)\n",
    "pred_df.reset_index(inplace=True)"
   ]
  },
  {
   "cell_type": "code",
   "execution_count": 67,
   "metadata": {},
   "outputs": [],
   "source": [
    "# pred_df.columns = pred_df.columns.str.replace('\"', 'in')"
   ]
  },
  {
   "cell_type": "code",
   "execution_count": 90,
   "metadata": {},
   "outputs": [
    {
     "data": {
      "text/html": [
       "<div>\n",
       "<style scoped>\n",
       "    .dataframe tbody tr th:only-of-type {\n",
       "        vertical-align: middle;\n",
       "    }\n",
       "\n",
       "    .dataframe tbody tr th {\n",
       "        vertical-align: top;\n",
       "    }\n",
       "\n",
       "    .dataframe thead th {\n",
       "        text-align: right;\n",
       "    }\n",
       "</style>\n",
       "<table border=\"1\" class=\"dataframe\">\n",
       "  <thead>\n",
       "    <tr style=\"text-align: right;\">\n",
       "      <th></th>\n",
       "      <th>NodeID</th>\n",
       "      <th>Date</th>\n",
       "      <th>Normal</th>\n",
       "      <th>FailureProb</th>\n",
       "      <th>Prediction</th>\n",
       "    </tr>\n",
       "  </thead>\n",
       "  <tbody>\n",
       "    <tr>\n",
       "      <th>0</th>\n",
       "      <td>Aagvik 1-35H</td>\n",
       "      <td>2019-08-13 11:19:56</td>\n",
       "      <td>100.0</td>\n",
       "      <td>0.0</td>\n",
       "      <td>Normal</td>\n",
       "    </tr>\n",
       "    <tr>\n",
       "      <th>1</th>\n",
       "      <td>Aagvik 1-35H</td>\n",
       "      <td>2019-08-14 00:00:00</td>\n",
       "      <td>NaN</td>\n",
       "      <td>NaN</td>\n",
       "      <td>NaN</td>\n",
       "    </tr>\n",
       "    <tr>\n",
       "      <th>2</th>\n",
       "      <td>Aagvik 1-35H</td>\n",
       "      <td>2019-08-15 06:04:48</td>\n",
       "      <td>100.0</td>\n",
       "      <td>0.0</td>\n",
       "      <td>Normal</td>\n",
       "    </tr>\n",
       "    <tr>\n",
       "      <th>3</th>\n",
       "      <td>Aagvik 1-35H</td>\n",
       "      <td>2019-08-15 07:53:36</td>\n",
       "      <td>100.0</td>\n",
       "      <td>0.0</td>\n",
       "      <td>Normal</td>\n",
       "    </tr>\n",
       "    <tr>\n",
       "      <th>4</th>\n",
       "      <td>Aagvik 1-35H</td>\n",
       "      <td>2019-08-15 10:02:31</td>\n",
       "      <td>100.0</td>\n",
       "      <td>0.0</td>\n",
       "      <td>Normal</td>\n",
       "    </tr>\n",
       "  </tbody>\n",
       "</table>\n",
       "</div>"
      ],
      "text/plain": [
       "         NodeID                Date  Normal  FailureProb Prediction\n",
       "0  Aagvik 1-35H 2019-08-13 11:19:56   100.0          0.0     Normal\n",
       "1  Aagvik 1-35H 2019-08-14 00:00:00     NaN          NaN        NaN\n",
       "2  Aagvik 1-35H 2019-08-15 06:04:48   100.0          0.0     Normal\n",
       "3  Aagvik 1-35H 2019-08-15 07:53:36   100.0          0.0     Normal\n",
       "4  Aagvik 1-35H 2019-08-15 10:02:31   100.0          0.0     Normal"
      ]
     },
     "execution_count": 90,
     "metadata": {},
     "output_type": "execute_result"
    }
   ],
   "source": [
    "pred_df.head()"
   ]
  },
  {
   "cell_type": "code",
   "execution_count": 91,
   "metadata": {},
   "outputs": [
    {
     "name": "stdout",
     "output_type": "stream",
     "text": [
      "Data replaceed on Table sample_predictions in time 92.55s\n"
     ]
    }
   ],
   "source": [
    "# Adding data to DB\n",
    "# Replace the full bounds df\n",
    "# Will only work if INSERT/Update ACCESS provided to databse\n",
    "lib_aws.AddData.add_data(df=pred_df, \n",
    "                         db='oasis-prod', \n",
    "                         schema='xspoc',\n",
    "                         table='sample_predictions', \n",
    "                         merge_type='replace', \n",
    "                         card_col=None, \n",
    "                         index_col='Date')"
   ]
  },
  {
   "cell_type": "code",
   "execution_count": 92,
   "metadata": {},
   "outputs": [],
   "source": [
    "# Setting up indexes\n",
    "# Update index on pred table in database\n",
    "with lib_aws.PostgresRDS(db='oasis-prod') as engine:\n",
    "    with engine.begin() as connection:\n",
    "        connection.execute(\"\"\"CREATE UNIQUE INDEX sample_predictions_idx ON xspoc.sample_predictions (\"NodeID\", \"Date\");\"\"\")\n"
   ]
  },
  {
   "cell_type": "markdown",
   "metadata": {},
   "source": [
    "## Some Additional Functions\n",
    "\n",
    "Help with adding some specific tables to the database:\n",
    "\n",
    "**Add a failure db with failures as 0,1 (Only used for visualization)**\n",
    "\n",
    "**Fill in NAN values in the data**\n",
    "- After querying the whole dataset\n",
    "- Find those datapoints (Date, NodeID as index) where we dont have Data present\n"
   ]
  },
  {
   "cell_type": "code",
   "execution_count": 72,
   "metadata": {},
   "outputs": [],
   "source": [
    "# Check Failure Info\n",
    "data_query = \"\"\"\n",
    "SELECT\n",
    "    \"NodeID\",\n",
    "    \"Date\",\n",
    "    \"PPRL\"\n",
    "FROM xspoc.xdiag\n",
    "WHERE \"NodeID\" in {}\n",
    "ORDER BY \"NodeID\",\"Date\"\n",
    "\"\"\".format(tuple(well_list))\n",
    "\n",
    "with lib_aws.PostgresRDS(db='oasis-prod') as engine:\n",
    "    only_fails = pd.read_sql(data_query, engine, parse_dates=['Date'])"
   ]
  },
  {
   "cell_type": "code",
   "execution_count": 73,
   "metadata": {},
   "outputs": [
    {
     "name": "stdout",
     "output_type": "stream",
     "text": [
      "Wall time: 24 s\n"
     ]
    },
    {
     "data": {
      "text/html": [
       "<div>\n",
       "<style scoped>\n",
       "    .dataframe tbody tr th:only-of-type {\n",
       "        vertical-align: middle;\n",
       "    }\n",
       "\n",
       "    .dataframe tbody tr th {\n",
       "        vertical-align: top;\n",
       "    }\n",
       "\n",
       "    .dataframe thead th {\n",
       "        text-align: right;\n",
       "    }\n",
       "</style>\n",
       "<table border=\"1\" class=\"dataframe\">\n",
       "  <thead>\n",
       "    <tr style=\"text-align: right;\">\n",
       "      <th></th>\n",
       "      <th>Date</th>\n",
       "      <th>NodeID</th>\n",
       "      <th>Components</th>\n",
       "    </tr>\n",
       "  </thead>\n",
       "  <tbody>\n",
       "    <tr>\n",
       "      <th>0</th>\n",
       "      <td>2019-06-21 15:58:34</td>\n",
       "      <td>Aagvik 1-35H</td>\n",
       "      <td>Normal</td>\n",
       "    </tr>\n",
       "    <tr>\n",
       "      <th>1</th>\n",
       "      <td>2019-06-21 16:25:36</td>\n",
       "      <td>Aagvik 1-35H</td>\n",
       "      <td>Normal</td>\n",
       "    </tr>\n",
       "    <tr>\n",
       "      <th>2</th>\n",
       "      <td>2019-06-21 18:25:16</td>\n",
       "      <td>Aagvik 1-35H</td>\n",
       "      <td>Normal</td>\n",
       "    </tr>\n",
       "    <tr>\n",
       "      <th>3</th>\n",
       "      <td>2019-06-21 18:28:10</td>\n",
       "      <td>Aagvik 1-35H</td>\n",
       "      <td>Normal</td>\n",
       "    </tr>\n",
       "    <tr>\n",
       "      <th>4</th>\n",
       "      <td>2019-06-21 20:25:01</td>\n",
       "      <td>Aagvik 1-35H</td>\n",
       "      <td>Normal</td>\n",
       "    </tr>\n",
       "  </tbody>\n",
       "</table>\n",
       "</div>"
      ],
      "text/plain": [
       "                 Date        NodeID Components\n",
       "0 2019-06-21 15:58:34  Aagvik 1-35H     Normal\n",
       "1 2019-06-21 16:25:36  Aagvik 1-35H     Normal\n",
       "2 2019-06-21 18:25:16  Aagvik 1-35H     Normal\n",
       "3 2019-06-21 18:28:10  Aagvik 1-35H     Normal\n",
       "4 2019-06-21 20:25:01  Aagvik 1-35H     Normal"
      ]
     },
     "execution_count": 73,
     "metadata": {},
     "output_type": "execute_result"
    }
   ],
   "source": [
    "%%time\n",
    "only_fails = fill_null(only_fails)  # FIlling in Nan's where data was missing\n",
    "\n",
    "# Transfer 'Job Bucket' from failure_info to fill_data\n",
    "transfer_col = ['Components', 'Failure Start Date']\n",
    "only_fails = failure_merge(only_fails, failure_info, transfer_col)\n",
    "only_fails.drop(columns='Failure Start Date', inplace=True)\n",
    "only_fails.drop(columns = 'PPRL', inplace=True)\n",
    "only_fails.head()"
   ]
  },
  {
   "cell_type": "code",
   "execution_count": 74,
   "metadata": {},
   "outputs": [],
   "source": [
    "bool_ = only_fails.Components != 'Normal'\n",
    "only_fails.loc[bool_, 'BinaryFails'] = 1"
   ]
  },
  {
   "cell_type": "code",
   "execution_count": 75,
   "metadata": {},
   "outputs": [
    {
     "data": {
      "text/html": [
       "<div>\n",
       "<style scoped>\n",
       "    .dataframe tbody tr th:only-of-type {\n",
       "        vertical-align: middle;\n",
       "    }\n",
       "\n",
       "    .dataframe tbody tr th {\n",
       "        vertical-align: top;\n",
       "    }\n",
       "\n",
       "    .dataframe thead th {\n",
       "        text-align: right;\n",
       "    }\n",
       "</style>\n",
       "<table border=\"1\" class=\"dataframe\">\n",
       "  <thead>\n",
       "    <tr style=\"text-align: right;\">\n",
       "      <th></th>\n",
       "      <th>Date</th>\n",
       "      <th>NodeID</th>\n",
       "      <th>Components</th>\n",
       "      <th>BinaryFails</th>\n",
       "    </tr>\n",
       "  </thead>\n",
       "  <tbody>\n",
       "    <tr>\n",
       "      <th>0</th>\n",
       "      <td>2019-06-21 15:58:34</td>\n",
       "      <td>Aagvik 1-35H</td>\n",
       "      <td>Normal</td>\n",
       "      <td>NaN</td>\n",
       "    </tr>\n",
       "    <tr>\n",
       "      <th>1</th>\n",
       "      <td>2019-06-21 16:25:36</td>\n",
       "      <td>Aagvik 1-35H</td>\n",
       "      <td>Normal</td>\n",
       "      <td>NaN</td>\n",
       "    </tr>\n",
       "    <tr>\n",
       "      <th>2</th>\n",
       "      <td>2019-06-21 18:25:16</td>\n",
       "      <td>Aagvik 1-35H</td>\n",
       "      <td>Normal</td>\n",
       "      <td>NaN</td>\n",
       "    </tr>\n",
       "    <tr>\n",
       "      <th>3</th>\n",
       "      <td>2019-06-21 18:28:10</td>\n",
       "      <td>Aagvik 1-35H</td>\n",
       "      <td>Normal</td>\n",
       "      <td>NaN</td>\n",
       "    </tr>\n",
       "    <tr>\n",
       "      <th>4</th>\n",
       "      <td>2019-06-21 20:25:01</td>\n",
       "      <td>Aagvik 1-35H</td>\n",
       "      <td>Normal</td>\n",
       "      <td>NaN</td>\n",
       "    </tr>\n",
       "    <tr>\n",
       "      <th>...</th>\n",
       "      <td>...</td>\n",
       "      <td>...</td>\n",
       "      <td>...</td>\n",
       "      <td>...</td>\n",
       "    </tr>\n",
       "    <tr>\n",
       "      <th>738435</th>\n",
       "      <td>2020-08-15 10:37:07</td>\n",
       "      <td>Zdenek 6093 42-24H</td>\n",
       "      <td>Normal</td>\n",
       "      <td>NaN</td>\n",
       "    </tr>\n",
       "    <tr>\n",
       "      <th>738436</th>\n",
       "      <td>2020-08-15 11:43:01</td>\n",
       "      <td>Zdenek 6093 42-24H</td>\n",
       "      <td>Normal</td>\n",
       "      <td>NaN</td>\n",
       "    </tr>\n",
       "    <tr>\n",
       "      <th>738437</th>\n",
       "      <td>2020-08-15 13:26:35</td>\n",
       "      <td>Zdenek 6093 42-24H</td>\n",
       "      <td>Normal</td>\n",
       "      <td>NaN</td>\n",
       "    </tr>\n",
       "    <tr>\n",
       "      <th>738438</th>\n",
       "      <td>2020-08-15 14:32:27</td>\n",
       "      <td>Zdenek 6093 42-24H</td>\n",
       "      <td>Normal</td>\n",
       "      <td>NaN</td>\n",
       "    </tr>\n",
       "    <tr>\n",
       "      <th>738439</th>\n",
       "      <td>2020-08-15 16:15:43</td>\n",
       "      <td>Zdenek 6093 42-24H</td>\n",
       "      <td>Normal</td>\n",
       "      <td>NaN</td>\n",
       "    </tr>\n",
       "  </tbody>\n",
       "</table>\n",
       "<p>738440 rows × 4 columns</p>\n",
       "</div>"
      ],
      "text/plain": [
       "                      Date              NodeID Components  BinaryFails\n",
       "0      2019-06-21 15:58:34        Aagvik 1-35H     Normal          NaN\n",
       "1      2019-06-21 16:25:36        Aagvik 1-35H     Normal          NaN\n",
       "2      2019-06-21 18:25:16        Aagvik 1-35H     Normal          NaN\n",
       "3      2019-06-21 18:28:10        Aagvik 1-35H     Normal          NaN\n",
       "4      2019-06-21 20:25:01        Aagvik 1-35H     Normal          NaN\n",
       "...                    ...                 ...        ...          ...\n",
       "738435 2020-08-15 10:37:07  Zdenek 6093 42-24H     Normal          NaN\n",
       "738436 2020-08-15 11:43:01  Zdenek 6093 42-24H     Normal          NaN\n",
       "738437 2020-08-15 13:26:35  Zdenek 6093 42-24H     Normal          NaN\n",
       "738438 2020-08-15 14:32:27  Zdenek 6093 42-24H     Normal          NaN\n",
       "738439 2020-08-15 16:15:43  Zdenek 6093 42-24H     Normal          NaN\n",
       "\n",
       "[738440 rows x 4 columns]"
      ]
     },
     "execution_count": 75,
     "metadata": {},
     "output_type": "execute_result"
    }
   ],
   "source": [
    "only_fails"
   ]
  },
  {
   "cell_type": "code",
   "execution_count": 76,
   "metadata": {},
   "outputs": [
    {
     "name": "stdout",
     "output_type": "stream",
     "text": [
      "Data replaceed on Table only_fails in time 62.18s\n"
     ]
    }
   ],
   "source": [
    "# Adding data to DB\n",
    "# Replace the full bounds df\n",
    "lib_aws.AddData.add_data(df=only_fails, \n",
    "                         db='oasis-prod', \n",
    "                         schema='xspoc',\n",
    "                         table='only_fails', \n",
    "                         merge_type='replace', \n",
    "                         card_col=None, \n",
    "                         index_col='Date')"
   ]
  },
  {
   "cell_type": "code",
   "execution_count": 77,
   "metadata": {},
   "outputs": [],
   "source": [
    "# Setting up indexes\n",
    "# Update index on pred table in database\n",
    "with lib_aws.PostgresRDS(db='oasis-prod') as engine:\n",
    "    with engine.begin() as connection:\n",
    "        connection.execute(\"\"\"CREATE UNIQUE INDEX idx_only_fails_node_date ON xspoc.only_fails (\"NodeID\", \"Date\");\"\"\")\n"
   ]
  },
  {
   "cell_type": "markdown",
   "metadata": {},
   "source": [
    "# Older Build\n",
    "\n",
    "Older Codes. Can be used for reference."
   ]
  },
  {
   "cell_type": "markdown",
   "metadata": {
    "heading_collapsed": true
   },
   "source": [
    "## Importing Labeled Data\n",
    "\n",
    "Labeled data is stored in the database `oasis-dev` in the table `clean.xspoc`"
   ]
  },
  {
   "cell_type": "code",
   "execution_count": null,
   "metadata": {
    "hidden": true
   },
   "outputs": [],
   "source": [
    "# Setuo the query\n",
    "failure_wells = ['Cade 12-19HA', 'Cook 12-13 6B', 'Helling Trust 43-22 16T3',\n",
    "                'Helling Trust 44-22 5B', 'Johnsrud 5198 14-18 13T',\n",
    "                'Johnsrud 5198 14-18 15TX', 'Rolfson N 5198 12-17 5T',\n",
    "                'Rolfson N 5198 12-17 7T', 'Rolfson S 5198 11-29 2TX',\n",
    "                'Rolfson S 5198 11-29 4T', 'Rolfson S 5198 12-29 8T',\n",
    "                'Rolfson S 5198 14-29 11T', 'Stenehjem 14X-9HA']\n",
    "\n",
    "query = \"\"\"\n",
    "SELECT \n",
    "    \"NodeID\",\n",
    "    \"Date\",\n",
    "    \"cardPPRL\",\n",
    "    \"cardMPRL\",\n",
    "    \"PPRL\",\n",
    "    \"MPRL\",\n",
    "    \"NetProd\",\n",
    "    \"FluidLoadonPump\",\n",
    "    \"PumpIntakePressure\",\n",
    "    \"FailureBin\",\n",
    "    \"FailureLabel\"\n",
    "FROM\n",
    "    clean.xspoc\n",
    "WHERE\n",
    "    \"NodeID\" in {}\n",
    "ORDER BY\n",
    "    \"NodeID\", \"Date\";\n",
    "\"\"\".format(tuple(failure_wells))"
   ]
  },
  {
   "cell_type": "code",
   "execution_count": null,
   "metadata": {
    "hidden": true
   },
   "outputs": [],
   "source": [
    "%%time\n",
    "with lib_aws.PostgresRDS(db='oasis-dev') as engine:\n",
    "    data = pd.read_sql(query, engine, parse_dates=['Date'])\n",
    "    \n",
    "data.head()"
   ]
  },
  {
   "cell_type": "code",
   "execution_count": null,
   "metadata": {
    "hidden": true
   },
   "outputs": [],
   "source": [
    "data = data[data.Date < t]\n",
    "data.reset_index(inplace=True, drop=True)"
   ]
  },
  {
   "cell_type": "code",
   "execution_count": null,
   "metadata": {
    "hidden": true
   },
   "outputs": [],
   "source": [
    "data.groupby(['NodeID']).agg({\"Date\": [min, max, \"count\"]})"
   ]
  },
  {
   "cell_type": "code",
   "execution_count": null,
   "metadata": {
    "hidden": true
   },
   "outputs": [],
   "source": [
    "# Modifying data for intern project\n",
    "\n",
    "data.rename(columns={\"NodeID\": \"WellName\", \"FailureBin\":\"BinaryLabel\", \"FailureLabel\":\"MultiLabel\"}, inplace=True)\n",
    "wells = data.WellName.unique()"
   ]
  },
  {
   "cell_type": "code",
   "execution_count": null,
   "metadata": {
    "hidden": true
   },
   "outputs": [],
   "source": [
    "new_wells = [\"Well \" + i for i in list('ABCDEFGHIJKLM')]\n",
    "well_map = dict(zip(wells, new_wells))\n",
    "\n",
    "data.WellName = data.WellName.map(well_map)"
   ]
  },
  {
   "cell_type": "code",
   "execution_count": null,
   "metadata": {
    "hidden": true
   },
   "outputs": [],
   "source": [
    "data.head()"
   ]
  },
  {
   "cell_type": "code",
   "execution_count": null,
   "metadata": {
    "hidden": true
   },
   "outputs": [],
   "source": [
    "data.MultiLabel.value_counts()"
   ]
  },
  {
   "cell_type": "code",
   "execution_count": null,
   "metadata": {
    "hidden": true
   },
   "outputs": [],
   "source": [
    "data.set_index(\"Date\").to_csv(\"sample_data.csv\")"
   ]
  },
  {
   "cell_type": "code",
   "execution_count": null,
   "metadata": {
    "hidden": true
   },
   "outputs": [],
   "source": [
    "\"\"\"\n",
    "Generate Windows\n",
    "\"\"\"\n",
    "\n",
    "def window_func(df, window):\n",
    "    \"\"\"\n",
    "    Generate MultiLabel windows\n",
    "    0 = Does not fail\n",
    "    'Label' = Actual Failure or Fails in the next n window\n",
    "    :param df: DataFrame with a single well, the Timestamp col should be the index\n",
    "    :param window: Window Value\n",
    "    \"\"\"\n",
    "    \n",
    "    df['WinLabel'] = 'Normal'  # Initialize it with 0\n",
    "    \n",
    "    mask_ = df.index >= (df.index.max() - pd.Timedelta(window))  \n",
    "    df.loc[mask_, 'WinLabel'] = -1  # Will eliminate the final window fn\n",
    "    \n",
    "    # Iterate over all the labels\n",
    "    for code in df.loc[df.FailureBin == 1, 'FailureLabel'].unique():\n",
    "        \n",
    "         # dates where that code occurs\n",
    "        code_dates = df[df.FailureLabel == code].index\n",
    "        # print(code)\n",
    "\n",
    "        # counter\n",
    "        c = 0\n",
    "\n",
    "        # iterate over these dates\n",
    "        for t in code_dates:\n",
    "            if c == 0:\n",
    "                bool_ = (df.index < code_dates[c]) & (df.index >= (code_dates[c] - pd.Timedelta(window)))\n",
    "                df.loc[bool_, 'WinLabel'] = code\n",
    "            else:\n",
    "                bool_ = (df.index < code_dates[c]) & (df.index >= (code_dates[c] - pd.Timedelta(window))) & (\n",
    "                        df.index > code_dates[c - 1])\n",
    "                df.loc[bool_, 'WinLabel'] = code\n",
    "            c = c + 1\n",
    "\n",
    "        df.loc[df.FailureLabel == code, 'WinLabel'] = code\n",
    "    \n",
    "    return df\n",
    "\n",
    "\n",
    "\"\"\"\n",
    "Function for Moving AVGs\n",
    "\"\"\"\n",
    "\n",
    "def get_ma(df, cols, freq):\n",
    "    \"\"\"\n",
    "    Rolling Values\n",
    "    :param df: DataFrame\n",
    "    :param cols: Columns which are being Rolled\n",
    "    :param freq: Rolling Window( example: 7D)\n",
    "    :return: DataFrame with Rolled Values\n",
    "    \"\"\"\n",
    "    for i in cols:\n",
    "        col_name_1 = i + '_MA'\n",
    "        df[col_name_1] = df[i].rolling(freq).mean()\n",
    "    return df\n"
   ]
  },
  {
   "cell_type": "code",
   "execution_count": null,
   "metadata": {
    "hidden": true
   },
   "outputs": [],
   "source": [
    "rol_cols = [\n",
    "    \"cardPPRL\",\n",
    "    \"cardMPRL\",\n",
    "    \"PPRL\",\n",
    "    \"MPRL\",\n",
    "    \"NetProd\",\n",
    "    \"FluidLoadonPump\",\n",
    "    \"PumpIntakePressure\"\n",
    "]\n",
    "frames = []\n",
    "\n",
    "for well in data.NodeID.unique():\n",
    "    print(\"Well: {}\".format(well))\n",
    "    \n",
    "    tempdf = data[data.NodeID == well]\n",
    "    tempdf.set_index(\"Date\", inplace=True)\n",
    "    \n",
    "    tempdf = window_func(tempdf, '3 days')\n",
    "    tempdf = get_ma(tempdf, rol_cols, '7D')\n",
    "    tempdf.reset_index(inplace=True)\n",
    "    frames.append(tempdf)"
   ]
  },
  {
   "cell_type": "code",
   "execution_count": null,
   "metadata": {
    "hidden": true,
    "scrolled": true
   },
   "outputs": [],
   "source": [
    "train_data = pd.concat(frames)  # creeating a train df\n",
    "train_data = train_data[train_data.WinLabel != -1]\n",
    "train_data.sort_values(by=['NodeID', 'Date'], inplace=True)\n",
    "\n",
    "print(\"Null Value Distribution\")\n",
    "display(train_data.isnull().sum(axis=0))\n",
    "\n",
    "print(\"Wells\")\n",
    "display(train_data.NodeID.value_counts())\n",
    "\n",
    "print(\"Labels\")\n",
    "display(train_data.WinLabel.value_counts())"
   ]
  },
  {
   "cell_type": "code",
   "execution_count": null,
   "metadata": {
    "hidden": true
   },
   "outputs": [],
   "source": [
    "\"\"\"\n",
    "Plotting\n",
    "\"\"\"\n",
    "col = 'NetProd_MA'\n",
    "well = 'Helling Trust 43-22 16T3'\n",
    "\n",
    "well_df = train_data[train_data.NodeID == well]\n",
    "# well_df.loc[well_df.FailureBin == 1, [col, 'WinLabel']] = np.nan  # Nan where Failures are present\n",
    "fig, ax = plt.subplots(figsize=(25,8))\n",
    "\n",
    "ax.plot(well_df.Date, well_df[col], label=col)\n",
    "bool_ = (well_df.WinLabel != 'Normal')\n",
    "\n",
    "ax.scatter(well_df.loc[bool_, \"Date\"], well_df.loc[bool_, col], c='r', label='Failure')\n",
    "\n",
    "ax.set_xlabel(\"Date\")\n",
    "ax.set_ylabel(\"KPI\")\n",
    "ax.legend(loc='best')\n",
    "plt.show()"
   ]
  },
  {
   "cell_type": "code",
   "execution_count": null,
   "metadata": {
    "hidden": true
   },
   "outputs": [],
   "source": [
    "# # Droping Failure Data Point\n",
    "# train_data[train_data.FailureBin == 1]\n",
    "\n",
    "feature_cols = ['PPRL_MA', 'MPRL_MA', 'NetProd','FluidLoadonPump_MA', 'PumpIntakePressure_MA']\n",
    "add_cols=feature_cols + ['NodeID', 'Date', 'WinLabel']\n",
    "final_train = train_data[add_cols].dropna()\n",
    "final_train.reset_index(drop=True, inplace=True)\n",
    "\n",
    "# Features\n",
    "X = final_train[feature_cols]\n",
    "Y = final_train.WinLabel\n",
    "\n",
    "print(\"Feature df\")\n",
    "display(X.head())\n",
    "\n",
    "print(\"Labels Being Predicted\")\n",
    "display(Y.value_counts())"
   ]
  },
  {
   "cell_type": "markdown",
   "metadata": {
    "heading_collapsed": true
   },
   "source": [
    "## Algo Test"
   ]
  },
  {
   "cell_type": "code",
   "execution_count": null,
   "metadata": {
    "hidden": true
   },
   "outputs": [],
   "source": [
    "from sklearn.preprocessing import StandardScaler\n",
    "from sklearn.ensemble import RandomForestClassifier\n",
    "from imblearn.over_sampling import SMOTE\n",
    "from imblearn.pipeline import Pipeline\n",
    "from sklearn.ensemble import GradientBoostingClassifier"
   ]
  },
  {
   "cell_type": "code",
   "execution_count": null,
   "metadata": {
    "hidden": true
   },
   "outputs": [],
   "source": [
    "\"\"\"\n",
    "Model 1\n",
    "Random Forest classifier\n",
    "\"\"\"\n",
    "\n",
    "def build_rfc_model():\n",
    "    \"\"\"\n",
    "    Define A Random Forrest Classifier Model\n",
    "    :return: RFC Model\n",
    "    \"\"\"\n",
    "    scaler = StandardScaler()\n",
    "\n",
    "    rfc_params = {\n",
    "        'n_estimators': 100,\n",
    "        'min_samples_split': 2,\n",
    "        'min_samples_leaf': 1,\n",
    "        'class_weight': 'balanced',\n",
    "        'verbose': 0,\n",
    "        'max_features': 'auto',\n",
    "        'max_depth': None,\n",
    "    }\n",
    "\n",
    "    rfc = RandomForestClassifier(**rfc_params)\n",
    "\n",
    "    model = Pipeline([\n",
    "        ('scaler', scaler),\n",
    "        ('rfc', rfc)\n",
    "    ])\n",
    "\n",
    "    return model"
   ]
  },
  {
   "cell_type": "code",
   "execution_count": null,
   "metadata": {
    "hidden": true
   },
   "outputs": [],
   "source": [
    "rfc_model = build_rfc_model()\n",
    "rfc_model"
   ]
  },
  {
   "cell_type": "code",
   "execution_count": null,
   "metadata": {
    "hidden": true
   },
   "outputs": [],
   "source": [
    "MultiClassMetrics.baseline_metrics(X, Y, rfc_model)\n",
    "\n",
    "cv_rfc = MultiClassMetrics.cv_validation(X, Y, rfc_model)\n",
    "print(\"CV Metrics\")\n",
    "display(cv_rfc)\n",
    "\n",
    "kf_rfc = MultiClassMetrics.kfold_validation(X, Y, rfc_model)\n",
    "print(\"Kfold Metrics\")\n",
    "display(kf_rfc)"
   ]
  },
  {
   "cell_type": "code",
   "execution_count": 40,
   "metadata": {
    "hidden": true
   },
   "outputs": [],
   "source": [
    "\"\"\"\n",
    "Model 2\n",
    "Gradient Boosted Classifier with Oversampling\n",
    "\"\"\"\n",
    "\n",
    "def build_gbc_model(y):\n",
    "    # Building Smote dict\n",
    "    max_count = int(y.value_counts()[0] / 3)\n",
    "    class_list = list(y.value_counts().index)\n",
    "    class_list.remove('Normal')\n",
    "    smote_dict = {key: max_count for key in class_list}\n",
    "    print(smote_dict)\n",
    "\n",
    "    # Define the model pipeline\n",
    "    scaler = StandardScaler()\n",
    "    smote = SMOTE(sampling_strategy=smote_dict, random_state=42)\n",
    "    baseline_param = {\n",
    "        'n_estimators': 4,\n",
    "        'max_depth': 8,\n",
    "        'learning_rate': 0.1,\n",
    "        'loss': 'deviance',\n",
    "        'min_samples_split': 2,\n",
    "        'verbose': 0\n",
    "    }\n",
    "\n",
    "    gbc = GradientBoostingClassifier(**baseline_param)\n",
    "\n",
    "    model = Pipeline([\n",
    "        ('scaler', scaler),\n",
    "        ('smote', smote),\n",
    "        ('gbc', gbc)\n",
    "    ])\n",
    "\n",
    "    return model\n"
   ]
  },
  {
   "cell_type": "code",
   "execution_count": 41,
   "metadata": {
    "hidden": true
   },
   "outputs": [
    {
     "name": "stdout",
     "output_type": "stream",
     "text": [
      "{'fz_PUMP': 1026909, 'fz_ROD': 1026909, 'fz_TUBING': 1026909, 'fz_BHA': 1026909}\n"
     ]
    },
    {
     "data": {
      "text/plain": [
       "Pipeline(steps=[('scaler', StandardScaler()),\n",
       "                ('smote',\n",
       "                 SMOTE(random_state=42,\n",
       "                       sampling_strategy={'fz_BHA': 1026909, 'fz_PUMP': 1026909,\n",
       "                                          'fz_ROD': 1026909,\n",
       "                                          'fz_TUBING': 1026909})),\n",
       "                ('gbc',\n",
       "                 GradientBoostingClassifier(max_depth=8, n_estimators=4))])"
      ]
     },
     "execution_count": 41,
     "metadata": {},
     "output_type": "execute_result"
    }
   ],
   "source": [
    "gbc_model = build_gbc_model(Y)\n",
    "gbc_model"
   ]
  },
  {
   "cell_type": "code",
   "execution_count": null,
   "metadata": {
    "hidden": true
   },
   "outputs": [],
   "source": [
    "MultiClassMetrics.baseline_metrics(X, Y, gbc_model)\n",
    "\n",
    "cv_rfc = MultiClassMetrics.cv_validation(X, Y, gbc_model)\n",
    "print(\"CV Metrics\")\n",
    "display(cv_rfc)\n",
    "\n",
    "kf_rfc = MultiClassMetrics.kfold_validation(X, Y, gbc_model)\n",
    "print(\"Kfold Metrics\")\n",
    "display(kf_rfc)"
   ]
  },
  {
   "cell_type": "markdown",
   "metadata": {},
   "source": [
    "## Making Predictions on the entire dataset\n",
    "\n",
    "- Task Done for showing quick results in the dashboard\n",
    "- All wells used in the training set.\n",
    "- These same values are used in predictions as well\n",
    "- Visually when ploted the results will be, how we expect our results to look\n",
    "- Take the predictions with a big grain of salt\n",
    "\n",
    "\n",
    "### Prediciton Table\n",
    "\n",
    "The Results are added to a prediciton table in the 'oasis-dev' database.\n",
    "\n",
    "Following Columns will be present in the `clean.win_predictons` table:\n",
    "- NodeID\n",
    "- Date\n",
    "- FailureProb\n",
    "- Prob1 \n",
    "- Prob2\n",
    "- Prob3\n",
    "\n",
    "WIll use a basic rfc model and for features we use the following 7-day Moving Averages\n",
    "- PPRL_MA\n",
    "- MPRL_MA\n",
    "- FluidloadonPump_MA\n",
    "- PumpIntakePressure_MA\n",
    "\n",
    "This combination gave the best results in the tests."
   ]
  },
  {
   "cell_type": "code",
   "execution_count": null,
   "metadata": {},
   "outputs": [],
   "source": [
    "# import the entire dataset with the columns we need for making predictions and the failrue info\n",
    "\n",
    "query = \"\"\"\n",
    "SELECT\n",
    "    \"NodeID\",\n",
    "    \"Date\",\n",
    "    \"PPRL\",\n",
    "    \"MPRL\",\n",
    "    \"NetProd\",\n",
    "    \"FluidLoadonPump\",\n",
    "    \"PumpIntakePressure\",\n",
    "    \"FailureBin\",\n",
    "    \"FailureLabel\"\n",
    "FROM\n",
    "    clean.xspoc\n",
    "ORDER BY\n",
    "    \"NodeID\", \"Date\"\n",
    "\"\"\""
   ]
  },
  {
   "cell_type": "code",
   "execution_count": null,
   "metadata": {},
   "outputs": [],
   "source": [
    "%%time\n",
    "with lib_aws.PostgresRDS(db='oasis-dev') as engine:\n",
    "    data = pd.read_sql(query, engine, parse_dates=['Date'])\n",
    "    \n",
    "data.head()"
   ]
  },
  {
   "cell_type": "code",
   "execution_count": null,
   "metadata": {},
   "outputs": [],
   "source": [
    "# Generating Features\n",
    "rol_cols = [\n",
    "    \"PPRL\",\n",
    "    \"MPRL\",\n",
    "    \"NetProd\",\n",
    "    \"FluidLoadonPump\",\n",
    "    \"PumpIntakePressure\"\n",
    "]\n",
    "frames = []\n",
    "\n",
    "for well in data.NodeID.unique():\n",
    "    print(\"Well: {}\".format(well))\n",
    "    \n",
    "    tempdf = data[data.NodeID == well]\n",
    "    tempdf.set_index(\"Date\", inplace=True)\n",
    "    \n",
    "    tempdf = window_func(tempdf, '3 days')\n",
    "    tempdf = get_ma(tempdf, rol_cols, '7D')\n",
    "    tempdf.reset_index(inplace=True)\n",
    "    frames.append(tempdf)"
   ]
  },
  {
   "cell_type": "code",
   "execution_count": null,
   "metadata": {},
   "outputs": [],
   "source": [
    "train_data = pd.concat(frames)  # creeating a train df\n",
    "train_data = train_data[train_data.WinLabel != -1]\n",
    "train_data.sort_values(by=['NodeID', 'Date'], inplace=True)\n",
    "\n",
    "print(\"Null Value Distribution\")\n",
    "display(train_data.isnull().sum(axis=0))\n",
    "\n",
    "print(\"Wells\")\n",
    "display(train_data.NodeID.value_counts())\n",
    "\n",
    "print(\"Labels\")\n",
    "display(train_data.WinLabel.value_counts())"
   ]
  },
  {
   "cell_type": "code",
   "execution_count": null,
   "metadata": {},
   "outputs": [],
   "source": [
    "# # Droping Failure Data Point\n",
    "# train_data[train_data.FailureBin == 1]\n",
    "\n",
    "feature_cols = ['PPRL_MA', 'MPRL_MA', 'NetProd_MA','FluidLoadonPump_MA', 'PumpIntakePressure_MA']\n",
    "add_cols=feature_cols + ['NodeID', 'Date', 'WinLabel']\n",
    "final_train = train_data[add_cols].dropna()\n",
    "final_train.reset_index(drop=True, inplace=True)\n",
    "\n",
    "# Features\n",
    "X = final_train[feature_cols]\n",
    "Y = final_train.WinLabel\n",
    "\n",
    "print(\"Feature df\")\n",
    "display(X.head())\n",
    "\n",
    "print(\"Labels Being Predicted\")\n",
    "display(Y.value_counts())"
   ]
  },
  {
   "cell_type": "code",
   "execution_count": null,
   "metadata": {},
   "outputs": [],
   "source": [
    "# quick test\n",
    "rfc_model = build_rfc_model()\n",
    "display(rfc_model)\n",
    "\n",
    "MultiClassMetrics.baseline_metrics(X, Y, rfc_model)"
   ]
  },
  {
   "cell_type": "code",
   "execution_count": null,
   "metadata": {},
   "outputs": [],
   "source": [
    "# Fit the whole df \n",
    "rfc_model = build_rfc_model()\n",
    "rfc_model.fit(X, Y)"
   ]
  },
  {
   "cell_type": "code",
   "execution_count": null,
   "metadata": {},
   "outputs": [],
   "source": [
    "\"\"\"\n",
    "Predictions\n",
    "\"\"\"\n",
    "print(\"Classes Predicted {}\".format(rfc_model.classes_))\n",
    "y_hat = rfc_model.predict(X.to_numpy())                                          # Get predictions\n",
    "y_prob = rfc_model.predict_proba(X.to_numpy()) "
   ]
  },
  {
   "cell_type": "code",
   "execution_count": null,
   "metadata": {},
   "outputs": [],
   "source": [
    "ind = final_train.index\n",
    "data_pred = final_train[[\"NodeID\", \"Date\"]]\n",
    "data_pred.loc[ind, 'PredClass'] = y_hat \n",
    "\n",
    "pred_classes = rfc_model.classes_\n",
    "\n",
    "for i in range(np.shape(pred_classes)[0]):\n",
    "    print(i)\n",
    "    col = 'Prob ' + str(pred_classes[i])\n",
    "    data_pred.loc[ind, col] = y_prob[:, i] * 100\n",
    "data_pred = data_pred.round(3)\n",
    "data_pred['FailureProb'] = 100 - data_pred['Prob Normal']\n",
    "data_pred.drop(columns='Prob Normal', inplace=True)"
   ]
  },
  {
   "cell_type": "code",
   "execution_count": null,
   "metadata": {},
   "outputs": [],
   "source": [
    "data_pred.head()"
   ]
  },
  {
   "cell_type": "code",
   "execution_count": null,
   "metadata": {},
   "outputs": [],
   "source": [
    "\"\"\"\n",
    "Adding Prob data to DF\n",
    "\"\"\"\n",
    "\n",
    "# Replace the full bounds df\n",
    "lib_aws.AddData.add_data(df=data_pred, db='oasis-dev', table='xpred', schema='clean',\n",
    "                         merge_type='replace', card_col=None, index_col='Date')\n",
    "\n",
    "# Update index on pred table in database\n",
    "with lib_aws.PostgresRDS(db='oasis-dev') as engine:\n",
    "    with engine.begin() as connection:\n",
    "        connection.execute(\"\"\"CREATE UNIQUE INDEX xpred_idx ON clean.xpred (\"NodeID\", \"Date\");\"\"\")\n"
   ]
  },
  {
   "cell_type": "code",
   "execution_count": null,
   "metadata": {},
   "outputs": [],
   "source": []
  }
 ],
 "metadata": {
  "kernelspec": {
   "display_name": "Python 3",
   "language": "python",
   "name": "python3"
  },
  "language_info": {
   "codemirror_mode": {
    "name": "ipython",
    "version": 3
   },
   "file_extension": ".py",
   "mimetype": "text/x-python",
   "name": "python",
   "nbconvert_exporter": "python",
   "pygments_lexer": "ipython3",
   "version": "3.7.3"
  },
  "pycharm": {
   "stem_cell": {
    "cell_type": "raw",
    "metadata": {
     "collapsed": false
    },
    "source": []
   }
  }
 },
 "nbformat": 4,
 "nbformat_minor": 4
}
