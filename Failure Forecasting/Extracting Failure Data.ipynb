{
 "cells": [
  {
   "cell_type": "markdown",
   "metadata": {},
   "source": [
    "# Notebook Info\n",
    "\n",
    "The failure info sent by the clients. This notebook is used for understanding these file and extracting relevant information.\n",
    "\n",
    "The extracted info should have the following information.\n",
    "- NodeID (Well Name)\n",
    "- StartDate (Failure Start Timestamp)\n",
    "- EndDate (Failure End Timestamp)\n",
    "- Failure (The Type of Failure)\n",
    "\n",
    "This is stored as a table in our Postgres DB Server.\n",
    "\n",
    "Database Details are as follows (May Change in Production)\n",
    "```\n",
    "database = 'oasis-prod'\n",
    "schema = 'analysis'\n",
    "table = 'failure_info'\n",
    "```"
   ]
  },
  {
   "cell_type": "markdown",
   "metadata": {},
   "source": [
    "# Imports"
   ]
  },
  {
   "cell_type": "code",
   "execution_count": 1,
   "metadata": {},
   "outputs": [],
   "source": [
    "# To extract local libraries root path should be added\n",
    "import os\n",
    "import sys\n",
    "module_path = os.path.abspath(os.path.join('..'))\n",
    "if module_path not in sys.path:\n",
    "    sys.path.append(module_path)"
   ]
  },
  {
   "cell_type": "code",
   "execution_count": 2,
   "metadata": {},
   "outputs": [],
   "source": [
    "import pandas as pd\n",
    "import s3fs  # To handle s3 urls\n",
    "\n",
    "from library import lib_aws, lib_cleaning\n",
    "\n",
    "# options\n",
    "pd.set_option('display.max_rows', 10000)"
   ]
  },
  {
   "cell_type": "markdown",
   "metadata": {},
   "source": [
    "# Failure Files\n",
    "\n",
    "The failure files are located in an s3 bucket (`s3://et-oasis/failure-excel/*`).\n",
    "\n",
    "The following are the Files we currently have:\n",
    "```\n",
    "1. Enfinite Pilot Wells Failure Summary.xlsx   -- Using Sheet 4  \n",
    "2. Downtime (2015 - Feb 2020) (ID 24960).xlsx\n",
    "3. Downtime (Mar-Apr 2020) (ID 46953).xlsx\n",
    "4. Oasis Complete Failure List 2018-2020.xlsx   -- Using Sheet 2\n",
    "5. Manually Labelled data\n",
    "```\n",
    "\n",
    "\n",
    "For failure we are currently only using `Oasis Complete Failure List 2018-2020.xlsx Sheet 2`\n",
    "Which is Section Failure File 4 / Sheet 2"
   ]
  },
  {
   "cell_type": "markdown",
   "metadata": {},
   "source": [
    "## Failure File 4"
   ]
  },
  {
   "cell_type": "markdown",
   "metadata": {
    "heading_collapsed": true
   },
   "source": [
    "### Sheet 1\n",
    "\n",
    "**Note: Not Using Sheet 1 for now**"
   ]
  },
  {
   "cell_type": "code",
   "execution_count": 26,
   "metadata": {
    "hidden": true
   },
   "outputs": [],
   "source": [
    "# failure4 = pd.read_excel(\"s3://et-oasis/failure-excel/Oasis Complete Failure List 2018-2020.xlsx\")\n",
    "\n",
    "# # FOllowing are the columns which do not seem useful\n",
    "# # Add and/or Subtract additional columns \n",
    "# cols_drop = [\n",
    "#     'ADJUSTED WELL COUNT',  \n",
    "#     'ACTUAL ON PUMP DATE',\n",
    "#     'ENERTIA WELL ID',\n",
    "#     'ARTIFICIAL LIFT TECH',\n",
    "#     'LAST OIL MONTH', \n",
    "#     'LAST OIL YEAR',\n",
    "#     'FAILURE STOP MONTH', \n",
    "#     'FAILURE STOP YEAR'\n",
    "# ]\n",
    "\n",
    "# failure4.drop(columns=cols_drop, inplace=True)\n",
    "# failure4.sort_values(by=['WELL NAME'], inplace=True)\n",
    "# failure4.reset_index(inplace=True, drop=True)\n",
    "# failure4.head()"
   ]
  },
  {
   "cell_type": "markdown",
   "metadata": {
    "hidden": true
   },
   "source": [
    "#### Columns with Strings Cleaning\n",
    "\n",
    "Columns with string values can have duplicates because of: \n",
    "* Random case (Upper and Lower)\n",
    "* Additional Spaces and chartacters\n",
    " \n",
    "Following columns are cleaned\n",
    "```\n",
    "WELL NAME -- Modifying this will have to be reflected in all other tables (TODO)\n",
    "TYPE\n",
    "EVENT OPERATION DESCRIPTION\n",
    "JOB TYPE (EVENT TYPE IN OW)\n",
    "```"
   ]
  },
  {
   "cell_type": "code",
   "execution_count": 27,
   "metadata": {
    "hidden": true,
    "scrolled": true
   },
   "outputs": [],
   "source": [
    "# # Cleaning WELL NAMES\n",
    "# failure4['WELL NAME'] = (failure4['WELL NAME'].str.replace(\"#\", \"\")  # remove #\n",
    "# #                                              .str.replace(\".\", \"\")  # remove .\n",
    "#                                              .str.replace('\\s+', ' ', regex=True)  # remove multiple spaces if present\n",
    "#                                              .str.strip()  # Remove trailing whitespaces\n",
    "#                                              .str.lower()  # lower all character\n",
    "#                                              .str.title()  # Uppercase first letter of each word\n",
    "#                                              .map(lambda x: x[0:-2] + x[-2:].upper()))\n",
    "\n",
    "# # TYPE Columns\n",
    "# failure4['TYPE'] = (failure4['TYPE'].map(lambda x: str(x).replace(\"-\", \"\").lower().title())\n",
    "#                                  .str.replace('\\s+', ' ', regex=True)\n",
    "#                                  .str.strip())"
   ]
  },
  {
   "cell_type": "code",
   "execution_count": 28,
   "metadata": {
    "code_folding": [
     1
    ],
    "hidden": true
   },
   "outputs": [],
   "source": [
    "# # Event operations column\n",
    "# failure4['EVENT OPERATIONS DESCRIPTION']= (failure4['EVENT OPERATIONS DESCRIPTION'].str.replace('-', '')\n",
    "#                                                                     .str.upper()\n",
    "#                                                                     .str.replace(\"ESP\", \"ESP \")  # Add Space After ESP\n",
    "#                                                                     .str.replace(\"UPLIFT\", \"UPLIFT \")\n",
    "#                                                                     .str.replace('\\s+', ' ', regex=True)\n",
    "#                                                                     .str.strip())\n",
    "\n",
    "# # Values changed manually\n",
    "# manual_change = {\n",
    "#     'BROKEN POLISH ROD': 'POLISH ROD BREAK',\n",
    "#     'DEEP ROD PART': 'ROD PART DEEP',\n",
    "#     'ESP GROUD': 'ESP GROUND',\n",
    "#     'ESP GROUNDED': 'ESP GROUND',\n",
    "#     'PARTED POLISH ROD': 'POLISH ROD PART',\n",
    "#     'POLISH ROD BROKE': 'POLISH ROD BREAK',\n",
    "#     'POLISHED ROD BREAK': 'POLISH ROD BREAK',\n",
    "#     'PUIMP CHANGE': 'PUMP CHANGE',\n",
    "#     'PUJMP FAILURE': 'PUMP FAILURE',\n",
    "#     'PUMP FALIURE': 'PUMP FAILURE',\n",
    "#     'PUMP FILURE': 'PUMP FAILURE',\n",
    "#     'ROD PART SHALLLOW': 'ROD PART SHALLOW',\n",
    "#     'ROD PARTDEEP': 'ROD PART DEEP',\n",
    "#     'ROD PARTSHALLOW': 'ROD PART SHALLOW',\n",
    "#     'SHALLOW ROD PART': 'ROD PART SHALLOW',\n",
    "# }\n",
    "\n",
    "# failure4['EVENT OPERATIONS DESCRIPTION'].replace(manual_change, inplace=True)"
   ]
  },
  {
   "cell_type": "code",
   "execution_count": 11,
   "metadata": {
    "code_folding": [
     6
    ],
    "hidden": true
   },
   "outputs": [],
   "source": [
    "# # Job Type event\n",
    "# failure4['JOB TYPE (EVENT TYPE IN OW)'] = (failure4['JOB TYPE (EVENT TYPE IN OW)'].str.replace('-', '')\n",
    "#                                                                                    .str.upper()\n",
    "#                                                                                    .str.replace('\\s+', ' ', regex=True)\n",
    "#                                                                                    .str.strip())\n",
    "\n",
    "# manual_change = {\n",
    "#     'POLISHED ROD BREAK': 'POLISH ROD BREAK',\n",
    "#     'RESPACE PUMP': 'PUMP RESPACE'\n",
    "# }\n",
    "\n",
    "# failure4['JOB TYPE (EVENT TYPE IN OW)'].replace(manual_change, inplace=True)"
   ]
  },
  {
   "cell_type": "markdown",
   "metadata": {
    "scrolled": true
   },
   "source": [
    "### Sheet 2"
   ]
  },
  {
   "cell_type": "code",
   "execution_count": 29,
   "metadata": {
    "code_folding": [
     2
    ]
   },
   "outputs": [
    {
     "data": {
      "text/html": [
       "<div>\n",
       "<style scoped>\n",
       "    .dataframe tbody tr th:only-of-type {\n",
       "        vertical-align: middle;\n",
       "    }\n",
       "\n",
       "    .dataframe tbody tr th {\n",
       "        vertical-align: top;\n",
       "    }\n",
       "\n",
       "    .dataframe thead th {\n",
       "        text-align: right;\n",
       "    }\n",
       "</style>\n",
       "<table border=\"1\" class=\"dataframe\">\n",
       "  <thead>\n",
       "    <tr style=\"text-align: right;\">\n",
       "      <th></th>\n",
       "      <th>NodeID</th>\n",
       "      <th>Formation</th>\n",
       "      <th>Last Oil</th>\n",
       "      <th>Start Date</th>\n",
       "      <th>Finish Date</th>\n",
       "      <th>Run Time</th>\n",
       "      <th>Job Type</th>\n",
       "      <th>Job Bucket</th>\n",
       "      <th>Components</th>\n",
       "      <th>Primary Symptom</th>\n",
       "      <th>Secondary Symptom</th>\n",
       "      <th>Root Cause</th>\n",
       "      <th>Polish Rod Run Time</th>\n",
       "      <th>Pony Sub Run Time</th>\n",
       "      <th>Pump Run Time</th>\n",
       "      <th>Tubing Run Time</th>\n",
       "    </tr>\n",
       "  </thead>\n",
       "  <tbody>\n",
       "    <tr>\n",
       "      <th>0</th>\n",
       "      <td>A. Johnson 12-1H</td>\n",
       "      <td>MIDDLE BAKKEN</td>\n",
       "      <td>2018-09-16</td>\n",
       "      <td>2018-10-09</td>\n",
       "      <td>2018-10-16</td>\n",
       "      <td>432.0</td>\n",
       "      <td>TUBING LEAK</td>\n",
       "      <td>TUBING</td>\n",
       "      <td>Tubing - Unknown</td>\n",
       "      <td>Scale</td>\n",
       "      <td>Corrosion</td>\n",
       "      <td>NaN</td>\n",
       "      <td>NaN</td>\n",
       "      <td>NaN</td>\n",
       "      <td>NaN</td>\n",
       "      <td>NaN</td>\n",
       "    </tr>\n",
       "    <tr>\n",
       "      <th>1</th>\n",
       "      <td>Aagvik 1-35H</td>\n",
       "      <td>MIDDLE BAKKEN</td>\n",
       "      <td>2019-11-27</td>\n",
       "      <td>2019-12-02</td>\n",
       "      <td>2019-12-06</td>\n",
       "      <td>203.0</td>\n",
       "      <td>TUBING LEAK</td>\n",
       "      <td>TUBING</td>\n",
       "      <td>Tubing - Body</td>\n",
       "      <td>Mechanically Induced Damage</td>\n",
       "      <td>Solids in Pump</td>\n",
       "      <td>NaN</td>\n",
       "      <td>NaN</td>\n",
       "      <td>NaN</td>\n",
       "      <td>NaN</td>\n",
       "      <td>202</td>\n",
       "    </tr>\n",
       "    <tr>\n",
       "      <th>2</th>\n",
       "      <td>Aagvik 5298 41-35 2TX</td>\n",
       "      <td>THREE FORKS</td>\n",
       "      <td>2019-05-29</td>\n",
       "      <td>2019-06-04</td>\n",
       "      <td>2019-06-25</td>\n",
       "      <td>80.0</td>\n",
       "      <td>GAS LIFT</td>\n",
       "      <td>PUMP</td>\n",
       "      <td>Gas Lift - Valve - Bellows</td>\n",
       "      <td>Low Production</td>\n",
       "      <td>Blank</td>\n",
       "      <td>NaN</td>\n",
       "      <td>NaN</td>\n",
       "      <td>NaN</td>\n",
       "      <td>NaN</td>\n",
       "      <td>79</td>\n",
       "    </tr>\n",
       "    <tr>\n",
       "      <th>3</th>\n",
       "      <td>Acadia 31-25H</td>\n",
       "      <td>THREE FORKS</td>\n",
       "      <td>2019-03-30</td>\n",
       "      <td>2019-04-10</td>\n",
       "      <td>2019-04-16</td>\n",
       "      <td>323.0</td>\n",
       "      <td>1-1/4\" PUMP</td>\n",
       "      <td>PUMP</td>\n",
       "      <td>Pump - Plunger</td>\n",
       "      <td>Corrosion</td>\n",
       "      <td>Mechanically Induced Damage</td>\n",
       "      <td>NaN</td>\n",
       "      <td>NaN</td>\n",
       "      <td>NaN</td>\n",
       "      <td>NaN</td>\n",
       "      <td>266</td>\n",
       "    </tr>\n",
       "    <tr>\n",
       "      <th>4</th>\n",
       "      <td>Acadia 31-25H</td>\n",
       "      <td>THREE FORKS</td>\n",
       "      <td>2018-04-11</td>\n",
       "      <td>2018-05-05</td>\n",
       "      <td>2018-05-11</td>\n",
       "      <td>266.0</td>\n",
       "      <td>TUBING LEAK</td>\n",
       "      <td>TUBING</td>\n",
       "      <td>Tubing - Collar</td>\n",
       "      <td>Corrosion</td>\n",
       "      <td>Sand</td>\n",
       "      <td>NaN</td>\n",
       "      <td>NaN</td>\n",
       "      <td>NaN</td>\n",
       "      <td>NaN</td>\n",
       "      <td>NaN</td>\n",
       "    </tr>\n",
       "  </tbody>\n",
       "</table>\n",
       "</div>"
      ],
      "text/plain": [
       "                  NodeID      Formation   Last Oil Start Date Finish Date  \\\n",
       "0       A. Johnson 12-1H  MIDDLE BAKKEN 2018-09-16 2018-10-09  2018-10-16   \n",
       "1           Aagvik 1-35H  MIDDLE BAKKEN 2019-11-27 2019-12-02  2019-12-06   \n",
       "2  Aagvik 5298 41-35 2TX    THREE FORKS 2019-05-29 2019-06-04  2019-06-25   \n",
       "3          Acadia 31-25H    THREE FORKS 2019-03-30 2019-04-10  2019-04-16   \n",
       "4          Acadia 31-25H    THREE FORKS 2018-04-11 2018-05-05  2018-05-11   \n",
       "\n",
       "   Run Time     Job Type Job Bucket                  Components  \\\n",
       "0     432.0  TUBING LEAK     TUBING            Tubing - Unknown   \n",
       "1     203.0  TUBING LEAK     TUBING               Tubing - Body   \n",
       "2      80.0     GAS LIFT       PUMP  Gas Lift - Valve - Bellows   \n",
       "3     323.0  1-1/4\" PUMP       PUMP              Pump - Plunger   \n",
       "4     266.0  TUBING LEAK     TUBING             Tubing - Collar   \n",
       "\n",
       "               Primary Symptom            Secondary Symptom  Root Cause  \\\n",
       "0                        Scale                    Corrosion         NaN   \n",
       "1  Mechanically Induced Damage               Solids in Pump         NaN   \n",
       "2               Low Production                        Blank         NaN   \n",
       "3                    Corrosion  Mechanically Induced Damage         NaN   \n",
       "4                    Corrosion                         Sand         NaN   \n",
       "\n",
       "   Polish Rod Run Time  Pony Sub Run Time  Pump Run Time Tubing Run Time  \n",
       "0                  NaN                NaN            NaN             NaN  \n",
       "1                  NaN                NaN            NaN             202  \n",
       "2                  NaN                NaN            NaN              79  \n",
       "3                  NaN                NaN            NaN             266  \n",
       "4                  NaN                NaN            NaN             NaN  "
      ]
     },
     "execution_count": 29,
     "metadata": {},
     "output_type": "execute_result"
    }
   ],
   "source": [
    "failure_file4 = pd.read_excel(\"s3://et-oasis/failure-excel/Oasis Complete Failure List 2018-2020.xlsx\", sheet_name=1)\n",
    "\n",
    "# Keep Specific columns only\n",
    "cols_to_keep = [\n",
    "    \"Well\",\n",
    "    \"Formation\",\n",
    "    \"LAST OIL\",\n",
    "    \"LOE START DATE\",\n",
    "    \"LOE FINISH DATE\",\n",
    "    \"Run time (days)\",\n",
    "    \"Job Type\",\n",
    "    \"Job Bucket\",\n",
    "    \"Components\",\n",
    "    \"Primary Symptom\",\n",
    "    \"Secondary Symptom\",\n",
    "    \"Root Cause\",\n",
    "    \"Polish Rod Run Time\",\n",
    "    \"Pony Sub Run Time\",\n",
    "    \"Pump Run Time\",\n",
    "    \"Tubing Run Time (Days)\"\n",
    "]\n",
    "failure_file4 = failure_file4[cols_to_keep]\n",
    "\n",
    "# Cleaning WELL NAMES\n",
    "failure_file4['Well'] = (failure_file4['Well'].str.replace(\"#\", \"\")  # remove #\n",
    "                                 .str.replace('\\s+', ' ', regex=True)  # remove multiple spaces if present\n",
    "                                 .str.strip()  # Remove trailing whitespaces\n",
    "                                 .str.lower()  # lower all character\n",
    "                                 .str.title()  # Uppercase first letter of each word\n",
    "                                 .map(lambda x: x[0:-2] + x[-2:].upper()))\n",
    "\n",
    "# Cleaning 'Root Cause'\n",
    "manual_change = {\"Fatigue/Acceptable Run Time\": \"Fatigue, Acceptable Run Time\"}\n",
    "\n",
    "failure_file4['Root Cause'] = (failure_file4['Root Cause'].replace(manual_change)\n",
    "                                             .str.replace('\\s+', ' ', regex=True)\n",
    "                                             .str.strip()).value_counts().sort_index()\n",
    "\n",
    "# Renaming Specific Columns\n",
    "cols_rename = {\n",
    "    \"Well\": \"NodeID\",\n",
    "    \"LAST OIL\": \"Last Oil\",\n",
    "    \"LOE START DATE\": \"Start Date\",\n",
    "    \"LOE FINISH DATE\": \"Finish Date\",\n",
    "    \"Run time (days)\": 'Run Time',\n",
    "    \"Tubing Run Time (Days)\": 'Tubing Run Time'\n",
    "}\n",
    "\n",
    "failure_file4.rename(columns = cols_rename, inplace=True)\n",
    "\n",
    "# Finale Sorting\n",
    "failure_file4.sort_values(by='NodeID', inplace=True)\n",
    "failure_file4.reset_index(inplace=True, drop=True)\n",
    "failure_file4.head()"
   ]
  },
  {
   "cell_type": "markdown",
   "metadata": {
    "heading_collapsed": true
   },
   "source": [
    "## Failure File 1\n",
    "\n",
    "This file includes failures for the first group of wells. Cleaning Structure is similar to `Failure File 4`\n",
    "\n",
    "Using Sheet 4 (Sheet Name: Analysis)"
   ]
  },
  {
   "cell_type": "code",
   "execution_count": 32,
   "metadata": {
    "hidden": true
   },
   "outputs": [
    {
     "data": {
      "text/html": [
       "<div>\n",
       "<style scoped>\n",
       "    .dataframe tbody tr th:only-of-type {\n",
       "        vertical-align: middle;\n",
       "    }\n",
       "\n",
       "    .dataframe tbody tr th {\n",
       "        vertical-align: top;\n",
       "    }\n",
       "\n",
       "    .dataframe thead th {\n",
       "        text-align: right;\n",
       "    }\n",
       "</style>\n",
       "<table border=\"1\" class=\"dataframe\">\n",
       "  <thead>\n",
       "    <tr style=\"text-align: right;\">\n",
       "      <th></th>\n",
       "      <th>NodeID</th>\n",
       "      <th>Formation</th>\n",
       "      <th>Last Oil</th>\n",
       "      <th>Start Date</th>\n",
       "      <th>Finish Date</th>\n",
       "      <th>Run Time</th>\n",
       "      <th>Job Type</th>\n",
       "      <th>Job Bucket</th>\n",
       "      <th>Components</th>\n",
       "      <th>Primary Symptom</th>\n",
       "      <th>Secondary Symptom</th>\n",
       "      <th>Root Cause</th>\n",
       "      <th>Polish Rod Run Time</th>\n",
       "      <th>Pony Sub Run Time</th>\n",
       "      <th>Pump Run Time</th>\n",
       "      <th>Tubing Run Time</th>\n",
       "    </tr>\n",
       "  </thead>\n",
       "  <tbody>\n",
       "    <tr>\n",
       "      <th>0</th>\n",
       "      <td>Bonner 9X-12HA</td>\n",
       "      <td>THREE FORKS</td>\n",
       "      <td>2016-12-29</td>\n",
       "      <td>2017-02-07</td>\n",
       "      <td>2017-02-08</td>\n",
       "      <td>77</td>\n",
       "      <td>1\" ROD SECTION</td>\n",
       "      <td>ROD</td>\n",
       "      <td>Rod - Main Body</td>\n",
       "      <td>Compression</td>\n",
       "      <td>Solids in Pump</td>\n",
       "      <td>NaN</td>\n",
       "      <td>NaN</td>\n",
       "      <td>NaN</td>\n",
       "      <td>NaN</td>\n",
       "      <td>NaN</td>\n",
       "    </tr>\n",
       "    <tr>\n",
       "      <th>1</th>\n",
       "      <td>Bonner 9X-12HA</td>\n",
       "      <td>THREE FORKS</td>\n",
       "      <td>2017-05-10</td>\n",
       "      <td>2017-05-18</td>\n",
       "      <td>2017-05-21</td>\n",
       "      <td>91</td>\n",
       "      <td>2\" PUMP</td>\n",
       "      <td>PUMP</td>\n",
       "      <td>Pump - Stuck Pump</td>\n",
       "      <td>Solids in Pump</td>\n",
       "      <td>Corrosion</td>\n",
       "      <td>NaN</td>\n",
       "      <td>NaN</td>\n",
       "      <td>NaN</td>\n",
       "      <td>NaN</td>\n",
       "      <td>201.0</td>\n",
       "    </tr>\n",
       "    <tr>\n",
       "      <th>2</th>\n",
       "      <td>Bonner 9X-12HB</td>\n",
       "      <td>THREE FORKS</td>\n",
       "      <td>2017-06-30</td>\n",
       "      <td>2017-07-09</td>\n",
       "      <td>2017-07-12</td>\n",
       "      <td>324</td>\n",
       "      <td>TUBING LEAK</td>\n",
       "      <td>TUBING</td>\n",
       "      <td>Tubing - Unknown</td>\n",
       "      <td>Corrosion</td>\n",
       "      <td>Rod Wear</td>\n",
       "      <td>NaN</td>\n",
       "      <td>NaN</td>\n",
       "      <td>NaN</td>\n",
       "      <td>NaN</td>\n",
       "      <td>NaN</td>\n",
       "    </tr>\n",
       "    <tr>\n",
       "      <th>3</th>\n",
       "      <td>Cade 12-19HA</td>\n",
       "      <td>MIDDLE BAKKEN</td>\n",
       "      <td>2017-05-09</td>\n",
       "      <td>2017-05-21</td>\n",
       "      <td>2017-05-26</td>\n",
       "      <td>371</td>\n",
       "      <td>TUBING LEAK</td>\n",
       "      <td>TUBING</td>\n",
       "      <td>Tubing - Unknown</td>\n",
       "      <td>Unknown</td>\n",
       "      <td>Loose Anchor</td>\n",
       "      <td>NaN</td>\n",
       "      <td>NaN</td>\n",
       "      <td>NaN</td>\n",
       "      <td>NaN</td>\n",
       "      <td>NaN</td>\n",
       "    </tr>\n",
       "    <tr>\n",
       "      <th>4</th>\n",
       "      <td>Cade 12-19HA</td>\n",
       "      <td>MIDDLE BAKKEN</td>\n",
       "      <td>2019-07-19</td>\n",
       "      <td>2019-07-24</td>\n",
       "      <td>2019-07-26</td>\n",
       "      <td>784</td>\n",
       "      <td>POLISH ROD BREAK</td>\n",
       "      <td>ROD</td>\n",
       "      <td>Polish Rod</td>\n",
       "      <td>Mechanically Induced Damage</td>\n",
       "      <td>NaN</td>\n",
       "      <td>NaN</td>\n",
       "      <td>NaN</td>\n",
       "      <td>NaN</td>\n",
       "      <td>NaN</td>\n",
       "      <td>784.0</td>\n",
       "    </tr>\n",
       "  </tbody>\n",
       "</table>\n",
       "</div>"
      ],
      "text/plain": [
       "           NodeID      Formation   Last Oil Start Date Finish Date  Run Time  \\\n",
       "0  Bonner 9X-12HA    THREE FORKS 2016-12-29 2017-02-07  2017-02-08        77   \n",
       "1  Bonner 9X-12HA    THREE FORKS 2017-05-10 2017-05-18  2017-05-21        91   \n",
       "2  Bonner 9X-12HB    THREE FORKS 2017-06-30 2017-07-09  2017-07-12       324   \n",
       "3    Cade 12-19HA  MIDDLE BAKKEN 2017-05-09 2017-05-21  2017-05-26       371   \n",
       "4    Cade 12-19HA  MIDDLE BAKKEN 2019-07-19 2019-07-24  2019-07-26       784   \n",
       "\n",
       "           Job Type Job Bucket         Components  \\\n",
       "0    1\" ROD SECTION        ROD    Rod - Main Body   \n",
       "1           2\" PUMP       PUMP  Pump - Stuck Pump   \n",
       "2       TUBING LEAK     TUBING   Tubing - Unknown   \n",
       "3       TUBING LEAK     TUBING   Tubing - Unknown   \n",
       "4  POLISH ROD BREAK        ROD         Polish Rod   \n",
       "\n",
       "               Primary Symptom Secondary Symptom  Root Cause  \\\n",
       "0                  Compression    Solids in Pump         NaN   \n",
       "1               Solids in Pump         Corrosion         NaN   \n",
       "2                    Corrosion          Rod Wear         NaN   \n",
       "3                      Unknown      Loose Anchor         NaN   \n",
       "4  Mechanically Induced Damage               NaN         NaN   \n",
       "\n",
       "   Polish Rod Run Time  Pony Sub Run Time  Pump Run Time  Tubing Run Time  \n",
       "0                  NaN                NaN            NaN              NaN  \n",
       "1                  NaN                NaN            NaN            201.0  \n",
       "2                  NaN                NaN            NaN              NaN  \n",
       "3                  NaN                NaN            NaN              NaN  \n",
       "4                  NaN                NaN            NaN            784.0  "
      ]
     },
     "execution_count": 32,
     "metadata": {},
     "output_type": "execute_result"
    }
   ],
   "source": [
    "failure_file1 = pd.read_excel(\"s3://et-oasis/failure-excel/Enfinite Pilot Wells Failure Summary.xlsx\", sheet_name=3)  # Query it locally\n",
    "\n",
    "# Keep Specific columns only\n",
    "cols_to_keep = [\n",
    "    \"Well\",\n",
    "    \"Formation\",\n",
    "    \"LAST OIL\",\n",
    "    \"LOE START DATE\",\n",
    "    \"LOE FINISH DATE\",\n",
    "    \"Run time (days)\",\n",
    "    \"Job Type\",\n",
    "    \"Job Bucket\",\n",
    "    \"Components\",\n",
    "    \"Primary Symptom\",\n",
    "    \"Secondary Symptom\",\n",
    "    \"Root Cause\",\n",
    "    \"Polish Rod Run Time\",\n",
    "    \"Pony Sub Run Time\",\n",
    "    \"Pump Run Time\",\n",
    "    \"Tubing Run Time (Days)\"\n",
    "]\n",
    "failure_file1 = failure_file1[cols_to_keep]\n",
    "\n",
    "# Cleaning WELL NAMES\n",
    "failure_file1['Well'] = (failure_file1['Well'].str.replace(\"#\", \"\")  # remove #\n",
    "                                 .str.replace('\\s+', ' ', regex=True)  # remove multiple spaces if present\n",
    "                                 .str.strip()  # Remove trailing whitespaces\n",
    "                                 .str.lower()  # lower all character\n",
    "                                 .str.title()  # Uppercase first letter of each word\n",
    "                                 .map(lambda x: x[0:-2] + x[-2:].upper()))\n",
    "\n",
    "# Cleaning 'Root Cause'\n",
    "manual_change = {\"Fatigue/Acceptable Run Time\": \"Fatigue, Acceptable Run Time\"}\n",
    "\n",
    "failure_file1['Root Cause'] = (failure_file1['Root Cause'].replace(manual_change)\n",
    "                                             .str.replace('\\s+', ' ', regex=True)\n",
    "                                             .str.strip()).value_counts().sort_index()\n",
    "\n",
    "# Renaming Specific Columns\n",
    "cols_rename = {\n",
    "    \"Well\": \"NodeID\",\n",
    "    \"LAST OIL\": \"Last Oil\",\n",
    "    \"LOE START DATE\": \"Start Date\",\n",
    "    \"LOE FINISH DATE\": \"Finish Date\",\n",
    "    \"Run time (days)\": 'Run Time',\n",
    "    \"Tubing Run Time (Days)\": 'Tubing Run Time'\n",
    "}\n",
    "\n",
    "failure_file1.rename(columns = cols_rename, inplace=True)\n",
    "\n",
    "# Finale Sorting\n",
    "failure_file1.sort_values(by='NodeID', inplace=True)\n",
    "failure_file1.reset_index(inplace=True, drop=True)\n",
    "failure_file1.head()"
   ]
  },
  {
   "cell_type": "markdown",
   "metadata": {
    "heading_collapsed": true
   },
   "source": [
    "## Failure Files 2 & 3\n",
    "\n",
    "Info from these files have to extracted and understood before we can save it to the Database. Maybe using some NLP Techniques.\n",
    "\n",
    "**Note: Not Using these files currently**"
   ]
  },
  {
   "cell_type": "code",
   "execution_count": 5,
   "metadata": {
    "hidden": true
   },
   "outputs": [],
   "source": [
    "# file1 = 's3://et-oasis/failure-excel/Downtime (2015 - Feb 2020) (ID 24960).xlsx'\n",
    "# file2 = 's3://et-oasis/failure-excel/Downtime (Mar-Apr 2020) (ID 46953).xlsx'\n",
    "\n",
    "# failure1 = pd.read_excel(file1)\n",
    "# failure2 = pd.read_excel(file2)\n",
    "\n",
    "# failure_df = pd.concat([failure1, failure2])\n",
    "# failure_df.sort_values(by=['PropertyName', 'effectivedate'], inplace=True)\n",
    "# failure_df.reset_index(inplace=True, drop=True)\n",
    "# failure_df.head()"
   ]
  },
  {
   "cell_type": "code",
   "execution_count": 25,
   "metadata": {
    "hidden": true
   },
   "outputs": [],
   "source": [
    "# # Split by start date\n",
    "# start_dt = pd.Timestamp('2019-01-01')\n",
    "# failure_latest = failure_df[failure_df.effectivedate >= start_dt].copy()\n",
    "# failure_latest.reset_index(inplace=True, drop=True)\n",
    "# failure_latest.sort_values(by=['PropertyName', 'effectivedate'], inplace=True)\n",
    "# failure_latest.head()"
   ]
  },
  {
   "cell_type": "code",
   "execution_count": 15,
   "metadata": {
    "hidden": true,
    "scrolled": true
   },
   "outputs": [],
   "source": [
    "# failure_latest.DtReason.value_counts()"
   ]
  },
  {
   "cell_type": "code",
   "execution_count": 16,
   "metadata": {
    "hidden": true,
    "scrolled": true
   },
   "outputs": [],
   "source": [
    "# failure_latest.DtRemarks.value_counts()"
   ]
  },
  {
   "cell_type": "code",
   "execution_count": 17,
   "metadata": {
    "hidden": true
   },
   "outputs": [],
   "source": [
    "# len(failure_df.PropertyBK.unique())"
   ]
  },
  {
   "cell_type": "code",
   "execution_count": 18,
   "metadata": {
    "hidden": true,
    "scrolled": true
   },
   "outputs": [],
   "source": [
    "# # Reason Specific Value counts\n",
    "# failure_df[failure_df.DtReason == 'DOWNH'].DtRemarks.value_counts()"
   ]
  },
  {
   "cell_type": "code",
   "execution_count": 19,
   "metadata": {
    "hidden": true,
    "scrolled": true
   },
   "outputs": [],
   "source": [
    "# # Remarks Sorted by number of counts\n",
    "# remarks_cts = failure_new.DtRemarks.value_counts()\n",
    "# remarks_cts[remarks_cts >= 100]"
   ]
  },
  {
   "cell_type": "code",
   "execution_count": 21,
   "metadata": {
    "hidden": true
   },
   "outputs": [],
   "source": [
    "# well='ZUTZ 5693 44-12T'\n",
    "\n",
    "# well_df = failure_new[failure_new.PropertyName == well]\n",
    "# well_df.head()"
   ]
  },
  {
   "cell_type": "code",
   "execution_count": 20,
   "metadata": {
    "hidden": true
   },
   "outputs": [],
   "source": [
    "# well_df.DtReason.value_counts()\n",
    "# well_df.DtRemarks.value_counts()"
   ]
  },
  {
   "cell_type": "markdown",
   "metadata": {
    "hidden": true
   },
   "source": [
    "###  Compare with a string"
   ]
  },
  {
   "cell_type": "code",
   "execution_count": 23,
   "metadata": {
    "hidden": true
   },
   "outputs": [],
   "source": [
    "# str_test = 'hole'\n",
    "# str_test2 = 'Down'\n",
    "# bool_ = failure_new.DtRemarks.fillna(\"None\").str.contains(str_test and str_test2, na=False)\n",
    "# masked_df = failure_new[bool_]\n"
   ]
  },
  {
   "cell_type": "code",
   "execution_count": 24,
   "metadata": {
    "hidden": true
   },
   "outputs": [],
   "source": [
    "# masked_df.tail()"
   ]
  },
  {
   "cell_type": "markdown",
   "metadata": {
    "heading_collapsed": true
   },
   "source": [
    "# Merging\n",
    "\n",
    "Merge all the nececcary failures in this section.\n",
    "\n",
    "Using the following files:\n",
    "- `Failure File 4 (failure_file4)`\n",
    "- `Failure File 1 (failure_file1)`"
   ]
  },
  {
   "cell_type": "code",
   "execution_count": 45,
   "metadata": {
    "hidden": true
   },
   "outputs": [
    {
     "data": {
      "text/html": [
       "<div>\n",
       "<style scoped>\n",
       "    .dataframe tbody tr th:only-of-type {\n",
       "        vertical-align: middle;\n",
       "    }\n",
       "\n",
       "    .dataframe tbody tr th {\n",
       "        vertical-align: top;\n",
       "    }\n",
       "\n",
       "    .dataframe thead th {\n",
       "        text-align: right;\n",
       "    }\n",
       "</style>\n",
       "<table border=\"1\" class=\"dataframe\">\n",
       "  <thead>\n",
       "    <tr style=\"text-align: right;\">\n",
       "      <th></th>\n",
       "      <th>NodeID</th>\n",
       "      <th>Formation</th>\n",
       "      <th>Last Oil</th>\n",
       "      <th>Start Date</th>\n",
       "      <th>Finish Date</th>\n",
       "      <th>Run Time</th>\n",
       "      <th>Job Type</th>\n",
       "      <th>Job Bucket</th>\n",
       "      <th>Components</th>\n",
       "      <th>Primary Symptom</th>\n",
       "      <th>Secondary Symptom</th>\n",
       "    </tr>\n",
       "  </thead>\n",
       "  <tbody>\n",
       "    <tr>\n",
       "      <th>0</th>\n",
       "      <td>A. Johnson 12-1H</td>\n",
       "      <td>MIDDLE BAKKEN</td>\n",
       "      <td>2018-09-16</td>\n",
       "      <td>2018-10-09</td>\n",
       "      <td>2018-10-16</td>\n",
       "      <td>432.0</td>\n",
       "      <td>TUBING LEAK</td>\n",
       "      <td>TUBING</td>\n",
       "      <td>Tubing - Unknown</td>\n",
       "      <td>Scale</td>\n",
       "      <td>Corrosion</td>\n",
       "    </tr>\n",
       "    <tr>\n",
       "      <th>1</th>\n",
       "      <td>Aagvik 1-35H</td>\n",
       "      <td>MIDDLE BAKKEN</td>\n",
       "      <td>2019-11-27</td>\n",
       "      <td>2019-12-02</td>\n",
       "      <td>2019-12-06</td>\n",
       "      <td>203.0</td>\n",
       "      <td>TUBING LEAK</td>\n",
       "      <td>TUBING</td>\n",
       "      <td>Tubing - Body</td>\n",
       "      <td>Mechanically Induced Damage</td>\n",
       "      <td>Solids in Pump</td>\n",
       "    </tr>\n",
       "    <tr>\n",
       "      <th>2</th>\n",
       "      <td>Aagvik 5298 41-35 2TX</td>\n",
       "      <td>THREE FORKS</td>\n",
       "      <td>2019-05-29</td>\n",
       "      <td>2019-06-04</td>\n",
       "      <td>2019-06-25</td>\n",
       "      <td>80.0</td>\n",
       "      <td>GAS LIFT</td>\n",
       "      <td>PUMP</td>\n",
       "      <td>Gas Lift - Valve - Bellows</td>\n",
       "      <td>Low Production</td>\n",
       "      <td>Blank</td>\n",
       "    </tr>\n",
       "    <tr>\n",
       "      <th>3</th>\n",
       "      <td>Acadia 31-25H</td>\n",
       "      <td>THREE FORKS</td>\n",
       "      <td>2019-03-30</td>\n",
       "      <td>2019-04-10</td>\n",
       "      <td>2019-04-16</td>\n",
       "      <td>323.0</td>\n",
       "      <td>1-1/4\" PUMP</td>\n",
       "      <td>PUMP</td>\n",
       "      <td>Pump - Plunger</td>\n",
       "      <td>Corrosion</td>\n",
       "      <td>Mechanically Induced Damage</td>\n",
       "    </tr>\n",
       "    <tr>\n",
       "      <th>4</th>\n",
       "      <td>Acadia 31-25H</td>\n",
       "      <td>THREE FORKS</td>\n",
       "      <td>2018-04-11</td>\n",
       "      <td>2018-05-05</td>\n",
       "      <td>2018-05-11</td>\n",
       "      <td>266.0</td>\n",
       "      <td>TUBING LEAK</td>\n",
       "      <td>TUBING</td>\n",
       "      <td>Tubing - Collar</td>\n",
       "      <td>Corrosion</td>\n",
       "      <td>Sand</td>\n",
       "    </tr>\n",
       "  </tbody>\n",
       "</table>\n",
       "</div>"
      ],
      "text/plain": [
       "                  NodeID      Formation   Last Oil Start Date Finish Date  \\\n",
       "0       A. Johnson 12-1H  MIDDLE BAKKEN 2018-09-16 2018-10-09  2018-10-16   \n",
       "1           Aagvik 1-35H  MIDDLE BAKKEN 2019-11-27 2019-12-02  2019-12-06   \n",
       "2  Aagvik 5298 41-35 2TX    THREE FORKS 2019-05-29 2019-06-04  2019-06-25   \n",
       "3          Acadia 31-25H    THREE FORKS 2019-03-30 2019-04-10  2019-04-16   \n",
       "4          Acadia 31-25H    THREE FORKS 2018-04-11 2018-05-05  2018-05-11   \n",
       "\n",
       "   Run Time     Job Type Job Bucket                  Components  \\\n",
       "0     432.0  TUBING LEAK     TUBING            Tubing - Unknown   \n",
       "1     203.0  TUBING LEAK     TUBING               Tubing - Body   \n",
       "2      80.0     GAS LIFT       PUMP  Gas Lift - Valve - Bellows   \n",
       "3     323.0  1-1/4\" PUMP       PUMP              Pump - Plunger   \n",
       "4     266.0  TUBING LEAK     TUBING             Tubing - Collar   \n",
       "\n",
       "               Primary Symptom            Secondary Symptom  \n",
       "0                        Scale                    Corrosion  \n",
       "1  Mechanically Induced Damage               Solids in Pump  \n",
       "2               Low Production                        Blank  \n",
       "3                    Corrosion  Mechanically Induced Damage  \n",
       "4                    Corrosion                         Sand  "
      ]
     },
     "execution_count": 45,
     "metadata": {},
     "output_type": "execute_result"
    }
   ],
   "source": [
    "full_failures = pd.concat([failure_file4, failure_file1])\n",
    "\n",
    "# Dropping some columns\n",
    "cols_drop = [\n",
    "    'Root Cause',\n",
    "    'Polish Rod Run Time',\n",
    "    'Pony Sub Run Time',\n",
    "    'Pump Run Time',\n",
    "    'Tubing Run Time'\n",
    "]\n",
    "full_failures.drop(columns=cols_drop, inplace=True)\n",
    "\n",
    "# Dropping Duplicates\n",
    "full_failures.drop_duplicates(subset=['NodeID', 'Last Oil', 'Finish Date','Job Type', 'Job Bucket'], inplace=True)\n",
    "full_failures.reset_index(inplace=True, drop=True)\n",
    "\n",
    "full_failures.head()"
   ]
  },
  {
   "cell_type": "markdown",
   "metadata": {},
   "source": [
    "# Saving \n",
    "\n",
    "The clean failure data is saved in our Database. \n",
    "```\n",
    "database = 'oasis-prod'\n",
    "schema = 'analysis'\n",
    "table = 'failure_info'\n",
    "```\n",
    "\n",
    "We will be using the class `lib_aws.AddData` from our local library. Check the docstring to know how it works."
   ]
  },
  {
   "cell_type": "code",
   "execution_count": 47,
   "metadata": {},
   "outputs": [
    {
     "name": "stdout",
     "output_type": "stream",
     "text": [
      "Data replaceed on Table failure_info in time 21.37s\n"
     ]
    }
   ],
   "source": [
    "# Adding the data. Need to have write permissions\n",
    "lib_aws.AddData.add_data(df=full_failures, \n",
    "                         db='oasis-prod',\n",
    "                         schema='analysis',\n",
    "                         table='failure_info',\n",
    "                         merge_type='replace', \n",
    "                         index_col='NodeID')"
   ]
  }
 ],
 "metadata": {
  "kernelspec": {
   "display_name": "Python 3",
   "language": "python",
   "name": "python3"
  },
  "language_info": {
   "codemirror_mode": {
    "name": "ipython",
    "version": 3
   },
   "file_extension": ".py",
   "mimetype": "text/x-python",
   "name": "python",
   "nbconvert_exporter": "python",
   "pygments_lexer": "ipython3",
   "version": "3.7.3"
  }
 },
 "nbformat": 4,
 "nbformat_minor": 4
}
