{
 "cells": [
  {
   "cell_type": "markdown",
   "metadata": {},
   "source": [
    "# Notebook Info\n",
    "\n",
    "From the data tables that we have, we try identifying the features that matter the most for forecasting\n",
    "failures.\n",
    "\n",
    "For now the data is pulled from the `xdiagresults` table and failure is imported from the `failure_info` table.\n",
    "\n",
    "Database Details:\n",
    "```\n",
    "database = 'oasis-dev'\n",
    "schema = 'clean'\n",
    "table1 = 'xdiagresults'  # For features\n",
    "table2 = 'failure_info'  # For Failures\n",
    "```"
   ]
  },
  {
   "cell_type": "markdown",
   "metadata": {},
   "source": [
    "# Imports"
   ]
  },
  {
   "cell_type": "code",
   "execution_count": 1,
   "metadata": {},
   "outputs": [],
   "source": [
    "import os\n",
    "import sys\n",
    "module_path = os.path.abspath(os.path.join('..'))\n",
    "if module_path not in sys.path:\n",
    "    sys.path.append(module_path)"
   ]
  },
  {
   "cell_type": "code",
   "execution_count": 2,
   "metadata": {},
   "outputs": [],
   "source": [
    "import pandas as pd\n",
    "from library import lib_aws\n",
    "\n",
    "pd.set_option('display.max_rows', 500)\n",
    "import warnings\n",
    "warnings.filterwarnings('ignore')"
   ]
  },
  {
   "cell_type": "markdown",
   "metadata": {},
   "source": [
    "# Data Import\n",
    "\n",
    "- Features imported from `xspoc.xdiagresults`\n",
    "- Failures imported from `clean.failure_info`\n"
   ]
  },
  {
   "cell_type": "code",
   "execution_count": 8,
   "metadata": {
    "code_folding": [
     4,
     17
    ]
   },
   "outputs": [
    {
     "name": "stdout",
     "output_type": "stream",
     "text": [
      "Connected to oasis-dev DataBase\n",
      "Connection Closed\n",
      "Wall time: 18.8 s\n"
     ]
    }
   ],
   "source": [
    "%%time\n",
    "# Querying the features\n",
    "\n",
    "query_features = \"\"\"\n",
    "SELECT \n",
    "    \"NodeID\",\n",
    "    \"Date\",\n",
    "    \"PPRL\",\n",
    "    \"MPRL\",\n",
    "    \"FluidLoadonPump\",\n",
    "    \"PumpIntakePressure\"\n",
    "FROM\n",
    "    xspoc.xdiagresults\n",
    "ORDER BY \"NodeID\", \"Date\";\n",
    "\"\"\"\n",
    "\n",
    "query_failures = \"\"\"\n",
    "SELECT \n",
    "    \"NodeID\",\n",
    "    \"Last Oil\",\n",
    "    \"Start Date\",\n",
    "    \"Finish Date\",\n",
    "    \"Job Type\",\n",
    "    \"Job Bucket\",\n",
    "    \"Primary Symptom\",\n",
    "    \"Secondary Symptom\"\n",
    "FROM\n",
    "    clean.failure_info\n",
    "ORDER BY \"NodeID\";\n",
    "\"\"\"\n",
    "\n",
    "with lib_aws.PostgresRDS(db='oasis-dev') as engine:\n",
    "    features = pd.read_sql(query_features, engine, parse_dates=['Date'])\n",
    "    failures = pd.read_sql(query_failures, engine, parse_dates=['Last Oil', 'Start Date', 'Finish Date'])"
   ]
  },
  {
   "cell_type": "code",
   "execution_count": 14,
   "metadata": {},
   "outputs": [],
   "source": [
    "# Cleanin NodeID in features\n",
    "features['NodeID'] = (features['NodeID'].str.replace(\"#\", \"\")  # remove #\n",
    "                                     .str.replace('\\s+', ' ', regex=True)  # remove multiple spaces if present\n",
    "                                     .str.strip()  # Remove trailing whitespaces\n",
    "                                     .str.lower()  # lower all character\n",
    "                                     .str.title()  # Uppercase first letter of each word\n",
    "                                     .map(lambda x: x[0:-2] + x[-2:].upper()))"
   ]
  },
  {
   "cell_type": "code",
   "execution_count": 15,
   "metadata": {},
   "outputs": [
    {
     "data": {
      "text/plain": [
       "0             Bonner 9-12H\n",
       "1             Bonner 9-12H\n",
       "2             Bonner 9-12H\n",
       "3             Bonner 9-12H\n",
       "4             Bonner 9-12H\n",
       "                ...       \n",
       "105248    Stenehjem 15X-9H\n",
       "105249    Stenehjem 15X-9H\n",
       "105250    Stenehjem 15X-9H\n",
       "105251    Stenehjem 15X-9H\n",
       "105252    Stenehjem 15X-9H\n",
       "Name: NodeID, Length: 105253, dtype: object"
      ]
     },
     "execution_count": 15,
     "metadata": {},
     "output_type": "execute_result"
    }
   ],
   "source": [
    "features.NodeID"
   ]
  }
 ],
 "metadata": {
  "kernelspec": {
   "display_name": "Python 3",
   "language": "python",
   "name": "python3"
  },
  "language_info": {
   "codemirror_mode": {
    "name": "ipython",
    "version": 3
   },
   "file_extension": ".py",
   "mimetype": "text/x-python",
   "name": "python",
   "nbconvert_exporter": "python",
   "pygments_lexer": "ipython3",
   "version": "3.7.3"
  }
 },
 "nbformat": 4,
 "nbformat_minor": 4
}
