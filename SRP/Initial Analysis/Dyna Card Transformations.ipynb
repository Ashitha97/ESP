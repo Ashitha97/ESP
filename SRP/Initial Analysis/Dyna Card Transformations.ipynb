{
 "cells": [
  {
   "cell_type": "markdown",
   "metadata": {},
   "source": [
    "This NoteBook tests out various card transformations that can be implemented. In addition it also tests various ways of stroing this spatial data\n",
    "in a PostGIS DB\n",
    "\n",
    "Python Frameworks used:\n",
    "- geoalchemy2\n",
    "- shapely\n",
    "- geopandas"
   ]
  },
  {
   "cell_type": "code",
   "execution_count": 1,
   "metadata": {},
   "outputs": [],
   "source": [
    "\"\"\"\n",
    "For setting up local imports in an Ipython Shell\n",
    "This is a workaround for ipython, dont need it for basic python scripts\n",
    "\"\"\"\n",
    "import os\n",
    "import sys\n",
    "module_path = os.path.abspath(os.path.join('..'))\n",
    "if module_path not in sys.path:\n",
    "    sys.path.append(module_path)"
   ]
  },
  {
   "cell_type": "code",
   "execution_count": 7,
   "metadata": {},
   "outputs": [],
   "source": [
    "import pandas as pd\n",
    "import numpy as np\n",
    "from library.dbconnection import PostgresRDS\n",
    "from library.sqlFunctions import run_query\n",
    "from library.cardFunctions import Cleaning"
   ]
  },
  {
   "cell_type": "code",
   "execution_count": 5,
   "metadata": {},
   "outputs": [
    {
     "name": "stdout",
     "output_type": "stream",
     "text": [
      "Connected to oasis-data DataBase\n",
      "Connection Closed\n"
     ]
    },
    {
     "data": {
      "text/html": [
       "<div>\n",
       "<style scoped>\n",
       "    .dataframe tbody tr th:only-of-type {\n",
       "        vertical-align: middle;\n",
       "    }\n",
       "\n",
       "    .dataframe tbody tr th {\n",
       "        vertical-align: top;\n",
       "    }\n",
       "\n",
       "    .dataframe thead th {\n",
       "        text-align: right;\n",
       "    }\n",
       "</style>\n",
       "<table border=\"1\" class=\"dataframe\">\n",
       "  <thead>\n",
       "    <tr style=\"text-align: right;\">\n",
       "      <th></th>\n",
       "      <th>NodeID</th>\n",
       "      <th>Date</th>\n",
       "      <th>downcard</th>\n",
       "    </tr>\n",
       "  </thead>\n",
       "  <tbody>\n",
       "    <tr>\n",
       "      <th>0</th>\n",
       "      <td>A. JOHNSON 12-1H</td>\n",
       "      <td>2019-03-19 01:38:50</td>\n",
       "      <td>00fe654280eef1410030e1400000a23d80aba54140c19b...</td>\n",
       "    </tr>\n",
       "    <tr>\n",
       "      <th>1</th>\n",
       "      <td>A. JOHNSON 12-1H</td>\n",
       "      <td>2019-03-20 01:41:44</td>\n",
       "      <td>e0519443686e8d4348548243e0e07043b0626b4310867f...</td>\n",
       "    </tr>\n",
       "    <tr>\n",
       "      <th>2</th>\n",
       "      <td>A. JOHNSON 12-1H</td>\n",
       "      <td>2019-03-20 05:23:25</td>\n",
       "      <td>d027564310b04e43100e3643806416432052f8424020e9...</td>\n",
       "    </tr>\n",
       "    <tr>\n",
       "      <th>3</th>\n",
       "      <td>A. JOHNSON 12-1H</td>\n",
       "      <td>2019-03-20 07:27:21</td>\n",
       "      <td>0027e04200d1bc4280867f424051004200e24041803a85...</td>\n",
       "    </tr>\n",
       "    <tr>\n",
       "      <th>4</th>\n",
       "      <td>A. JOHNSON 12-1H</td>\n",
       "      <td>2019-03-20 09:25:37</td>\n",
       "      <td>c05b7a4240c50a42002c6640007a8ec1005184c1001096...</td>\n",
       "    </tr>\n",
       "  </tbody>\n",
       "</table>\n",
       "</div>"
      ],
      "text/plain": [
       "             NodeID                Date  \\\n",
       "0  A. JOHNSON 12-1H 2019-03-19 01:38:50   \n",
       "1  A. JOHNSON 12-1H 2019-03-20 01:41:44   \n",
       "2  A. JOHNSON 12-1H 2019-03-20 05:23:25   \n",
       "3  A. JOHNSON 12-1H 2019-03-20 07:27:21   \n",
       "4  A. JOHNSON 12-1H 2019-03-20 09:25:37   \n",
       "\n",
       "                                            downcard  \n",
       "0  00fe654280eef1410030e1400000a23d80aba54140c19b...  \n",
       "1  e0519443686e8d4348548243e0e07043b0626b4310867f...  \n",
       "2  d027564310b04e43100e3643806416432052f8424020e9...  \n",
       "3  0027e04200d1bc4280867f424051004200e24041803a85...  \n",
       "4  c05b7a4240c50a42002c6640007a8ec1005184c1001096...  "
      ]
     },
     "metadata": {},
     "output_type": "display_data"
    }
   ],
   "source": [
    "\"\"\"\n",
    "Import a test data from the db\n",
    "\"\"\"\n",
    "well_name = 'A. JOHNSON 12-1H'\n",
    "\n",
    "query = \"\"\"\n",
    "SELECT \n",
    "\"NodeID\",\"Date\",encode(\"tblCardData\".\"DownholeCardB\", 'hex') as downcard\n",
    "FROM xspoc_dbo.\"tblCardData\"\n",
    "WHERE \"NodeID\" = '{}'\n",
    "ORDER BY \"NodeID\" , \"Date\";\n",
    "\"\"\".format(well_name)\n",
    "\n",
    "with PostgresRDS(db='oasis-data') as engine:\n",
    "    well_data = run_query(query, engine)\n",
    "    \n",
    "display(well_data.head())"
   ]
  },
  {
   "cell_type": "markdown",
   "metadata": {},
   "source": [
    "### Method 1:\n",
    "\n",
    "This the method used currently\n",
    "- Convert hex values into a wkb format\n",
    "    - Hex converted into xy array (`cardFunctions.Cleaning.get_dyna()`)\n",
    "    - xy converted into a shapely polygon (`shapely.geometry.Polygon()`) \n",
    "    - srid is specified (4326) (`geoalchemy2.shape.from_shape()`)\n",
    "- This wkb format cards can be added to a PostGIS database.\n",
    "    - Specify the `dtype` in `pd.to_sql()` as `{'card_col': 'Geometry(\"POLYGON\")'}`\n",
    "    - Note: This is from `geoalchmey2.Geometry` and dont specify an 'srid'"
   ]
  },
  {
   "cell_type": "markdown",
   "metadata": {},
   "source": [
    "### Method 2\n",
    "*Works*\n",
    "Steps:\n",
    "- Convert hex to a shapely Polygon.\n",
    "- Convert the pandas df into a GeoDataFrame.\n",
    "- Set the crs value using `df.crs = \"EPSG:4326\"`.\n",
    "- Convert POLYGON geometry into a WKTElement.\n",
    "- Can be added to the postgis db as in method 1.\n",
    "- Specifying srid in the addtion method raises an error. (Find out why)\n"
   ]
  },
  {
   "cell_type": "code",
   "execution_count": 8,
   "metadata": {},
   "outputs": [],
   "source": [
    "from geoalchemy2.elements import WKBElement, WKTElement\n",
    "from geopandas import GeoDataFrame\n",
    "from shapely.geometry import Polygon\n",
    "\n",
    "# FUnction to convert hex --> poly\n",
    "def hex_to_poly(card):\n",
    "    xy = Cleaning.get_dyna(card)\n",
    "    try:\n",
    "        poly= Polygon(xy)\n",
    "    except Exception as e:\n",
    "        print(e)\n",
    "        poly=np.nan\n",
    "    \n",
    "    return poly\n",
    "\n",
    "# Use GeoAlchemy's WKTElement to create a geom with SRID\n",
    "def create_wkt(geom):\n",
    "    return WKTElement(geom.wkt, srid = 4326)"
   ]
  },
  {
   "cell_type": "code",
   "execution_count": 11,
   "metadata": {},
   "outputs": [],
   "source": [
    "df2 = well_data.copy()\n",
    "df2.downcard = df2.downcard.apply(hex_to_poly)  # Comvert from hex --> poly\n",
    "df2_geo = GeoDataFrame(df2)  # Convert to geodataframe\n",
    "df2_geo.crs = \"EPSG:4326\"\n",
    "df2_geo.downcard = df2_geo.downcard.apply(create_wkt)\n",
    "df2_geo.head()"
   ]
  },
  {
   "cell_type": "markdown",
   "metadata": {},
   "source": [
    "### Pulling Data\n",
    "\n",
    "While pulling data from the PostGIS db, or when the wkb format is in a string form (will not have a `<WKBElement>` superscript), Techniques shown below can be used."
   ]
  },
  {
   "cell_type": "code",
   "execution_count": 14,
   "metadata": {},
   "outputs": [
    {
     "name": "stdout",
     "output_type": "stream",
     "text": [
      "Connected to oasis-dev DataBase\n",
      "Connection Closed\n"
     ]
    },
    {
     "data": {
      "text/html": [
       "<div>\n",
       "<style scoped>\n",
       "    .dataframe tbody tr th:only-of-type {\n",
       "        vertical-align: middle;\n",
       "    }\n",
       "\n",
       "    .dataframe tbody tr th {\n",
       "        vertical-align: top;\n",
       "    }\n",
       "\n",
       "    .dataframe thead th {\n",
       "        text-align: right;\n",
       "    }\n",
       "</style>\n",
       "<table border=\"1\" class=\"dataframe\">\n",
       "  <thead>\n",
       "    <tr style=\"text-align: right;\">\n",
       "      <th></th>\n",
       "      <th>NodeID</th>\n",
       "      <th>Date</th>\n",
       "      <th>downcard</th>\n",
       "    </tr>\n",
       "  </thead>\n",
       "  <tbody>\n",
       "    <tr>\n",
       "      <th>0</th>\n",
       "      <td>Bonner 9X-12HA</td>\n",
       "      <td>2019-03-19 01:30:10</td>\n",
       "      <td>01030000000100000064000000000000A070BD25400000...</td>\n",
       "    </tr>\n",
       "    <tr>\n",
       "      <th>1</th>\n",
       "      <td>Bonner 9X-12HA</td>\n",
       "      <td>2019-03-19 01:50:25</td>\n",
       "      <td>01030000000100000064000000000000803D8A25400000...</td>\n",
       "    </tr>\n",
       "    <tr>\n",
       "      <th>2</th>\n",
       "      <td>Bonner 9X-12HA</td>\n",
       "      <td>2019-03-19 02:17:17</td>\n",
       "      <td>010300000001000000640000000000000029DC31400000...</td>\n",
       "    </tr>\n",
       "    <tr>\n",
       "      <th>3</th>\n",
       "      <td>Bonner 9X-12HA</td>\n",
       "      <td>2019-03-19 05:12:56</td>\n",
       "      <td>010300000001000000640000000000002085EB2F400000...</td>\n",
       "    </tr>\n",
       "    <tr>\n",
       "      <th>4</th>\n",
       "      <td>Bonner 9X-12HA</td>\n",
       "      <td>2019-03-19 05:58:01</td>\n",
       "      <td>0103000000010000006400000000000000000015400000...</td>\n",
       "    </tr>\n",
       "  </tbody>\n",
       "</table>\n",
       "</div>"
      ],
      "text/plain": [
       "           NodeID                Date  \\\n",
       "0  Bonner 9X-12HA 2019-03-19 01:30:10   \n",
       "1  Bonner 9X-12HA 2019-03-19 01:50:25   \n",
       "2  Bonner 9X-12HA 2019-03-19 02:17:17   \n",
       "3  Bonner 9X-12HA 2019-03-19 05:12:56   \n",
       "4  Bonner 9X-12HA 2019-03-19 05:58:01   \n",
       "\n",
       "                                            downcard  \n",
       "0  01030000000100000064000000000000A070BD25400000...  \n",
       "1  01030000000100000064000000000000803D8A25400000...  \n",
       "2  010300000001000000640000000000000029DC31400000...  \n",
       "3  010300000001000000640000000000002085EB2F400000...  \n",
       "4  0103000000010000006400000000000000000015400000...  "
      ]
     },
     "metadata": {},
     "output_type": "display_data"
    }
   ],
   "source": [
    "# Pull data from a PostGIS DB (oasis-dev)\n",
    "# Table name is 'card'\n",
    "well_name = 'Bonner 9X-12HA'\n",
    "\n",
    "query = \"\"\"\n",
    "SELECT \n",
    "\"NodeID\",\"Date\", downcard  -- Dont have to encode or decode\n",
    "FROM card\n",
    "WHERE \"NodeID\" = '{}'\n",
    "ORDER BY \"NodeID\" , \"Date\";\n",
    "\"\"\".format(well_name)\n",
    "\n",
    "with PostgresRDS(db='oasis-dev') as engine:\n",
    "    well_data = run_query(query, engine)\n",
    "    \n",
    "display(well_data.head())\n",
    "display(well_data.dtypes)"
   ]
  },
  {
   "cell_type": "code",
   "execution_count": 30,
   "metadata": {},
   "outputs": [
    {
     "data": {
      "text/plain": [
       "0    POLYGON ((10.86999988555908 -8382, 10.64000034...\n",
       "1    POLYGON ((10.77000045776367 -7438, 29.34000015...\n",
       "2    POLYGON ((17.86000061035156 -8063, 22.13999938...\n",
       "3    POLYGON ((15.96000003814697 -8104, 18.61000061...\n",
       "4    POLYGON ((5.25 -6926, 17.53000068664551 -8199,...\n",
       "Name: downcard, dtype: object"
      ]
     },
     "metadata": {},
     "output_type": "display_data"
    }
   ],
   "source": [
    "\"\"\"\n",
    "Can use the loads method from shapely.wkb to get the polygon obj from a str based wkb object\n",
    "\"\"\"\n",
    "from shapely.wkb import loads, dumps\n",
    "\n",
    "poly_series = well_data.loc[:, 'downcard'].apply(lambda card: loads(card, hex=True)) \n",
    "display(poly_series.head())"
   ]
  },
  {
   "cell_type": "code",
   "execution_count": 28,
   "metadata": {},
   "outputs": [
    {
     "data": {
      "text/plain": [
       "0    POLYGON ((10.86999988555908 -8382, 10.64000034...\n",
       "1    POLYGON ((10.77000045776367 -7438, 29.34000015...\n",
       "2    POLYGON ((17.86000061035156 -8063, 22.13999938...\n",
       "3    POLYGON ((15.96000003814697 -8104, 18.61000061...\n",
       "4    POLYGON ((5.25 -6926, 17.53000068664551 -8199,...\n",
       "Name: downcard, dtype: object"
      ]
     },
     "metadata": {},
     "output_type": "display_data"
    }
   ],
   "source": [
    "\"\"\"\n",
    "Can Convert it into a WKTElement from the polygon with an SRID\n",
    "using the method WKTElement from geoalchemy2.elements\n",
    "\"\"\"\n",
    "poly_wkt = poly_series.apply(create_wkt)\n",
    "\n",
    "display(poly_wkt.head())\n",
    "\n",
    "# NOTE: Can perform all this with a GeoDataFrame as well\n",
    "# Find out what might be the resons for doing it like that"
   ]
  },
  {
   "cell_type": "markdown",
   "metadata": {},
   "source": [
    "### Converting to WKBElement\n",
    "From either a polygon obj or a str type obj\n",
    "\n",
    "&nbsp;\n",
    "\n",
    "**Method1: dumps from shapely.wkb**\n",
    "- Dumps will convert it into str obj type wkb\n",
    "- May not be helpful\n",
    "- Has previously shown to cause errors will adding it back to postgis\n",
    "\n",
    "&nbsp;\n",
    "\n",
    "**Method2: using the .wkb_hex extension**\n",
    "- Does the same thing as dumps\n",
    "- Similarly needs to be further processed\n",
    "\n",
    "\n",
    "\n",
    "**Method3: Converting these str type wkb objects to WKBElements**\n",
    "- Can use 'WKBElement' from geoalchemy2.elements\n",
    "- Can specify an srid\n",
    "- Will give the 'WKBElement' prefix\n",
    "- To convert directly from poly to WKBElement can use it in conjuction with Method2.\n",
    "\n",
    "```\n",
    "poly_series.apply(lambda poly: WKBElement(poly.wkb, srid='4326'))[0]\n",
    "# or\n",
    "poly_series.apply(lambda poly: WKBElement(poly.wkb_hex, srid='4326'))[0]\n",
    "```\n",
    "\n",
    "&nbsp;\n",
    "\n",
    "**NOTE:**\n",
    "- Converting WKBElemnt to polygon shape cannot be done using `shapely.wkb.loads()`.\n",
    "- We have to use `geoalchemy2.shape.to_shape()`"
   ]
  },
  {
   "cell_type": "code",
   "execution_count": 51,
   "metadata": {},
   "outputs": [
    {
     "name": "stdout",
     "output_type": "stream",
     "text": [
      "Only showing first 50 elements\n",
      "\n",
      "Method1: polygon to wkb From dumps\n",
      "01030000000100000064000000000000A070BD254000000000\n",
      "\n",
      "Method2: polygon to wkb from .wkb_hex\n",
      "01030000000100000064000000000000A070BD254000000000\n",
      "\n",
      "Original wkb, pulled from PostGIS DB\n",
      "01030000000100000064000000000000A070BD254000000000\n",
      "\n",
      "-------------\n",
      "Any of this can be converted into a WKBElement using method3\n",
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n"
     ]
    }
   ],
   "source": [
    "\"\"\"\n",
    "Method1\n",
    "\"\"\"\n",
    "print(\"Only showing first 50 elements\")\n",
    "wkb_from_dump = poly_series.apply(lambda poly: dumps(poly, hex=True))\n",
    "print(\"\\nMethod1: polygon to wkb From dumps\")\n",
    "print(wkb_from_dump[0][0:50])\n",
    "\n",
    "wkb_method2 = poly_series.apply(lambda poly: poly.wkb_hex)\n",
    "print(\"\\nMethod2: polygon to wkb from .wkb_hex\")\n",
    "print(wkb_method2[0][0:50])\n",
    "\n",
    "print('\\nOriginal wkb, pulled from PostGIS DB')\n",
    "print(well_data.downcard[0][0:50])\n",
    "\n",
    "print(\"\\n-------------\")\n",
    "print(\"Any of this can be converted into a WKBElement using method3\")\n",
    "wkb_element = well_data.downcard.apply(lambda x: WKBElement(x, srid='4326'))\n",
    "print(wkb_element[0])\n"
   ]
  },
  {
   "cell_type": "code",
   "execution_count": 69,
   "metadata": {},
   "outputs": [
    {
     "name": "stdout",
     "output_type": "stream",
     "text": [
      "Polygon Obj from WKBElement\n",
      "\n",
      "0    POLYGON ((10.86999988555908 -8382, 10.64000034...\n",
      "1    POLYGON ((10.77000045776367 -7438, 29.34000015...\n",
      "2    POLYGON ((17.86000061035156 -8063, 22.13999938...\n",
      "3    POLYGON ((15.96000003814697 -8104, 18.61000061...\n",
      "4    POLYGON ((5.25 -6926, 17.53000068664551 -8199,...\n",
      "Name: downcard, dtype: object\n"
     ]
    }
   ],
   "source": [
    "\"\"\"\n",
    "Connverting WKBElement to Polygon\n",
    "\"\"\"\n",
    "from geoalchemy2.shape import to_shape\n",
    "print(\"Polygon Obj from WKBElement\\n\")\n",
    "print(wkb_element.apply(lambda x: to_shape(x)).head())"
   ]
  }
 ],
 "metadata": {
  "kernelspec": {
   "display_name": "Python 3",
   "language": "python",
   "name": "python3"
  },
  "language_info": {
   "codemirror_mode": {
    "name": "ipython",
    "version": 3
   },
   "file_extension": ".py",
   "mimetype": "text/x-python",
   "name": "python",
   "nbconvert_exporter": "python",
   "pygments_lexer": "ipython3",
   "version": "3.7.3"
  }
 },
 "nbformat": 4,
 "nbformat_minor": 4
}
