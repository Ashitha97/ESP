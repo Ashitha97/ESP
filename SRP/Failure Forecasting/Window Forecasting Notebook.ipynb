{
 "cells": [
  {
   "cell_type": "markdown",
   "metadata": {},
   "source": [
    "# Notebook Info\n",
    "\n",
    "This Notebook, is for the development of a window forecasting model. The following tables/schemas are considered\n",
    "\n",
    "```\n",
    "Main Database: oasis-prod\n",
    "\n",
    "For Failures:\n",
    "schema: analysis\n",
    "table: failure_info\n",
    "\n",
    "For Features:\n",
    "schema: xspoc\n",
    "table: xdiag\n",
    "\n",
    "Columns used as Features:\n",
    "- PPRL\n",
    "- MPRL\n",
    "- FluidLoadonPump\n",
    "- PumpIntakePressure\n",
    "\n",
    "```\n",
    "\n",
    "**Notes**\n",
    "\n",
    "Following Are some Conditions and Assumption made:\n",
    "\n",
    "- **NAN Values are not handled**. They are dropped for traininng and predictions\n",
    "\n",
    "- An equivalent window is used for predictions.\n",
    "    - The window used is 15 days\n",
    "    - This however can be optimized\n",
    "    - *Last step can be to try have specific windows for specific failures*\n",
    "\n",
    "- **Failure Data Points are not used** for training and Predictions\n",
    "    - One of the reasons being, we want to see the trends pointing towards the failures and not the actual failures\n",
    "    - Many a time, when failures occur a well is shutdown and no values are present. Dropping them will help us avoid worrying about imputing the data\n",
    "    - At first glance this may not impact the algo.\n",
    "    - Can try including failures data to see if recults get better.\n",
    "\n",
    "- Multi-Class Classification is performed (Not MultiLabel)\n",
    "\n",
    "- Training Data\n",
    "    - We use a rolling mean as a feature\n",
    "    - Train test split is performed using a cut off threshold based on time.\n"
   ]
  },
  {
   "cell_type": "code",
   "execution_count": 3,
   "metadata": {
    "pycharm": {
     "is_executing": false
    }
   },
   "outputs": [],
   "source": [
    "import os\n",
    "import sys\n",
    "module_path = os.path.abspath(os.path.join('..'))\n",
    "if module_path not in sys.path:\n",
    "    sys.path.append(module_path)"
   ]
  },
  {
   "cell_type": "code",
   "execution_count": 4,
   "metadata": {
    "pycharm": {
     "is_executing": false
    }
   },
   "outputs": [],
   "source": [
    "import pandas as pd\n",
    "import matplotlib.pyplot as plt\n",
    "import numpy as np\n",
    "import joblib\n",
    "from library import lib_aws, lib_cleaning\n",
    "from library.lib_metrics import MultiClassMetrics"
   ]
  },
  {
   "cell_type": "markdown",
   "metadata": {},
   "source": [
    "# Importing Data\n",
    "\n",
    "Following steps are performed\n",
    "- Import failures (analysis.failure_info)\n",
    "- Import features/data (xspoc.xdiag)\n",
    "- Merge the info\n",
    "- Clean and modify the data depending on how we want the input features\n",
    "\n",
    "**Note: Use `Feature Analysis.ipynb` to analyse the data and failures**"
   ]
  },
  {
   "cell_type": "markdown",
   "metadata": {},
   "source": [
    "## Importing Failures"
   ]
  },
  {
   "cell_type": "code",
   "execution_count": 5,
   "metadata": {},
   "outputs": [
    {
     "name": "stdout",
     "output_type": "stream",
     "text": [
      "Connected to oasis-prod DataBase\n",
      "Connection Closed\n",
      "Wall time: 6.05 s\n"
     ]
    },
    {
     "data": {
      "text/html": [
       "<div>\n",
       "<style scoped>\n",
       "    .dataframe tbody tr th:only-of-type {\n",
       "        vertical-align: middle;\n",
       "    }\n",
       "\n",
       "    .dataframe tbody tr th {\n",
       "        vertical-align: top;\n",
       "    }\n",
       "\n",
       "    .dataframe thead th {\n",
       "        text-align: right;\n",
       "    }\n",
       "</style>\n",
       "<table border=\"1\" class=\"dataframe\">\n",
       "  <thead>\n",
       "    <tr style=\"text-align: right;\">\n",
       "      <th></th>\n",
       "      <th>NodeID</th>\n",
       "      <th>Failure Start Date</th>\n",
       "      <th>Failure End Date</th>\n",
       "      <th>Failures</th>\n",
       "    </tr>\n",
       "  </thead>\n",
       "  <tbody>\n",
       "    <tr>\n",
       "      <th>0</th>\n",
       "      <td>Aagvik 1-35H</td>\n",
       "      <td>2019-10-29 10:43:24</td>\n",
       "      <td>2020-01-05 11:27:10</td>\n",
       "      <td>Tubing - Body</td>\n",
       "    </tr>\n",
       "    <tr>\n",
       "      <th>1</th>\n",
       "      <td>Acklins 6092 12-18H</td>\n",
       "      <td>2019-12-22 13:03:58</td>\n",
       "      <td>2020-01-05 04:47:00</td>\n",
       "      <td>Polish Rod</td>\n",
       "    </tr>\n",
       "    <tr>\n",
       "      <th>2</th>\n",
       "      <td>Alder 6092 43-8H</td>\n",
       "      <td>2020-03-05 13:28:53</td>\n",
       "      <td>2020-03-14 09:01:01</td>\n",
       "      <td>Pump - Stuck Pump</td>\n",
       "    </tr>\n",
       "    <tr>\n",
       "      <th>3</th>\n",
       "      <td>Alder 6092 43-8H</td>\n",
       "      <td>2019-12-20 06:53:56</td>\n",
       "      <td>2020-01-08 08:56:36</td>\n",
       "      <td>Pump - Traveling Valve</td>\n",
       "    </tr>\n",
       "    <tr>\n",
       "      <th>4</th>\n",
       "      <td>Andersmadson 5201 42-24 3B</td>\n",
       "      <td>2019-08-12 14:20:29</td>\n",
       "      <td>2019-08-16 18:00:57</td>\n",
       "      <td>Pump - Plunger</td>\n",
       "    </tr>\n",
       "  </tbody>\n",
       "</table>\n",
       "</div>"
      ],
      "text/plain": [
       "                       NodeID  Failure Start Date    Failure End Date  \\\n",
       "0                Aagvik 1-35H 2019-10-29 10:43:24 2020-01-05 11:27:10   \n",
       "1         Acklins 6092 12-18H 2019-12-22 13:03:58 2020-01-05 04:47:00   \n",
       "2            Alder 6092 43-8H 2020-03-05 13:28:53 2020-03-14 09:01:01   \n",
       "3            Alder 6092 43-8H 2019-12-20 06:53:56 2020-01-08 08:56:36   \n",
       "4  Andersmadson 5201 42-24 3B 2019-08-12 14:20:29 2019-08-16 18:00:57   \n",
       "\n",
       "                 Failures  \n",
       "0           Tubing - Body  \n",
       "1              Polish Rod  \n",
       "2       Pump - Stuck Pump  \n",
       "3  Pump - Traveling Valve  \n",
       "4          Pump - Plunger  "
      ]
     },
     "execution_count": 5,
     "metadata": {},
     "output_type": "execute_result"
    }
   ],
   "source": [
    "%%time\n",
    "# Querying the entire failure info\n",
    "query_failures = \"\"\"\n",
    "SELECT *\n",
    "FROM\n",
    "    analysis.failure_info\n",
    "ORDER BY \"NodeID\";\n",
    "\"\"\"\n",
    "\n",
    "with lib_aws.PostgresRDS(db='oasis-prod', verbose=1) as engine:\n",
    "    failures = pd.read_sql(query_failures, engine, parse_dates=['Failure Start Date', 'Failure End Date'])\n",
    "\n",
    "well_list = failures.NodeID.unique().tolist()  # List of wells to use for querying the features and model training\n",
    "failures.head()"
   ]
  },
  {
   "cell_type": "code",
   "execution_count": 14,
   "metadata": {},
   "outputs": [
    {
     "data": {
      "text/html": [
       "<div>\n",
       "<style scoped>\n",
       "    .dataframe tbody tr th:only-of-type {\n",
       "        vertical-align: middle;\n",
       "    }\n",
       "\n",
       "    .dataframe tbody tr th {\n",
       "        vertical-align: top;\n",
       "    }\n",
       "\n",
       "    .dataframe thead th {\n",
       "        text-align: right;\n",
       "    }\n",
       "</style>\n",
       "<table border=\"1\" class=\"dataframe\">\n",
       "  <thead>\n",
       "    <tr style=\"text-align: right;\">\n",
       "      <th></th>\n",
       "      <th>NodeID</th>\n",
       "      <th>Failure Start Date</th>\n",
       "      <th>Failure End Date</th>\n",
       "      <th>Failures</th>\n",
       "    </tr>\n",
       "  </thead>\n",
       "  <tbody>\n",
       "    <tr>\n",
       "      <th>0</th>\n",
       "      <td>Ava 5693 43-35T</td>\n",
       "      <td>2019-08-14 12:02:16</td>\n",
       "      <td>2019-08-28 11:19:14</td>\n",
       "      <td>BHA - Seat Nipple</td>\n",
       "    </tr>\n",
       "    <tr>\n",
       "      <th>1</th>\n",
       "      <td>Bouvardia Federal 2658 12-12H</td>\n",
       "      <td>2019-08-02 09:57:11</td>\n",
       "      <td>2019-08-24 08:31:02</td>\n",
       "      <td>BHA - Seat Nipple</td>\n",
       "    </tr>\n",
       "    <tr>\n",
       "      <th>2</th>\n",
       "      <td>Johnson 29-30H</td>\n",
       "      <td>2019-07-08 12:36:03</td>\n",
       "      <td>2019-07-16 21:27:22</td>\n",
       "      <td>BHA - Seat Nipple</td>\n",
       "    </tr>\n",
       "    <tr>\n",
       "      <th>3</th>\n",
       "      <td>Didrick 4X-27H</td>\n",
       "      <td>2020-01-30 11:53:33</td>\n",
       "      <td>2020-02-15 10:16:06</td>\n",
       "      <td>BHA - TAC</td>\n",
       "    </tr>\n",
       "    <tr>\n",
       "      <th>4</th>\n",
       "      <td>Langved 5393 43-10 9T2</td>\n",
       "      <td>2019-10-10 08:44:27</td>\n",
       "      <td>2019-11-11 11:58:17</td>\n",
       "      <td>BHA - TAC</td>\n",
       "    </tr>\n",
       "  </tbody>\n",
       "</table>\n",
       "</div>"
      ],
      "text/plain": [
       "                          NodeID   Failure Start Date    Failure End Date  \\\n",
       "0                Ava 5693 43-35T  2019-08-14 12:02:16 2019-08-28 11:19:14   \n",
       "1  Bouvardia Federal 2658 12-12H  2019-08-02 09:57:11 2019-08-24 08:31:02   \n",
       "2                 Johnson 29-30H  2019-07-08 12:36:03 2019-07-16 21:27:22   \n",
       "3                 Didrick 4X-27H  2020-01-30 11:53:33 2020-02-15 10:16:06   \n",
       "4         Langved 5393 43-10 9T2  2019-10-10 08:44:27 2019-11-11 11:58:17   \n",
       "\n",
       "            Failures  \n",
       "0  BHA - Seat Nipple  \n",
       "1  BHA - Seat Nipple  \n",
       "2  BHA - Seat Nipple  \n",
       "3          BHA - TAC  \n",
       "4          BHA - TAC  "
      ]
     },
     "execution_count": 14,
     "metadata": {},
     "output_type": "execute_result"
    }
   ],
   "source": [
    "# # Manually importing data from s3\n",
    "# file_path = \"s3://et-oasis/failure-excel/Oasis Complete Failure List 2018-2020_ver6.xlsx\"\n",
    "\n",
    "# failures = pd.read_excel(file_path)\n",
    "# # Cleaning WELL NAMES\n",
    "# failures['Well'] = (failures['Well'].str.replace(\"#\", \"\")  # remove #\n",
    "#                                  .str.replace('\\s+', ' ', regex=True)  # remove multiple spaces if present\n",
    "#                                  .str.strip()  # Remove trailing whitespaces\n",
    "#                                  .str.lower()  # lower all character\n",
    "#                                  .str.title()  # Uppercase first letter of each word\n",
    "#                                  .map(lambda x: x[0:-2] + x[-2:].upper()))\n",
    "\n",
    "# failures.rename(columns={'Well': 'NodeID',\n",
    "#                         'LAST OIL': 'Failure Start Date',\n",
    "#                         'FAILURE END DATE': 'Failure End Date',\n",
    "#                         'Components': 'Failures'}, inplace=True)\n",
    "# failures = failures[['NodeID','Failure Start Date', 'Failure End Date', 'Failures']]\n",
    "# well_list = failures.NodeID.unique().tolist()  # List of wells to use for querying the features and model training\n",
    "# failures.head()"
   ]
  },
  {
   "cell_type": "code",
   "execution_count": 15,
   "metadata": {},
   "outputs": [
    {
     "name": "stdout",
     "output_type": "stream",
     "text": [
      "Data replaceed on Table failure_info in time 25.82s\n"
     ]
    }
   ],
   "source": [
    "# # Adding the data. Need to have write permissions\n",
    "# lib_aws.AddData.add_data(df=failures, \n",
    "#                          db='oasis-prod',\n",
    "#                          schema='analysis',\n",
    "#                          table='failure_info',\n",
    "#                          merge_type='replace', \n",
    "#                          index_col='NodeID')"
   ]
  },
  {
   "cell_type": "code",
   "execution_count": 6,
   "metadata": {},
   "outputs": [
    {
     "data": {
      "text/html": [
       "<div>\n",
       "<style scoped>\n",
       "    .dataframe tbody tr th:only-of-type {\n",
       "        vertical-align: middle;\n",
       "    }\n",
       "\n",
       "    .dataframe tbody tr th {\n",
       "        vertical-align: top;\n",
       "    }\n",
       "\n",
       "    .dataframe thead th {\n",
       "        text-align: right;\n",
       "    }\n",
       "</style>\n",
       "<table border=\"1\" class=\"dataframe\">\n",
       "  <thead>\n",
       "    <tr style=\"text-align: right;\">\n",
       "      <th></th>\n",
       "      <th>NodeID</th>\n",
       "      <th>Failure Start Date</th>\n",
       "      <th>Failure End Date</th>\n",
       "      <th>Failures</th>\n",
       "    </tr>\n",
       "  </thead>\n",
       "  <tbody>\n",
       "    <tr>\n",
       "      <th>313</th>\n",
       "      <td>Yeiser 5603 42-33H</td>\n",
       "      <td>2020-06-13 14:05:13</td>\n",
       "      <td>2020-06-26 10:43:41</td>\n",
       "      <td>Tubing</td>\n",
       "    </tr>\n",
       "    <tr>\n",
       "      <th>36</th>\n",
       "      <td>Cade 12-19HA</td>\n",
       "      <td>2019-07-17 16:32:23</td>\n",
       "      <td>2019-07-28 08:06:59</td>\n",
       "      <td>Rod</td>\n",
       "    </tr>\n",
       "    <tr>\n",
       "      <th>148</th>\n",
       "      <td>Jase 5892 21-30T</td>\n",
       "      <td>2019-09-14 14:52:05</td>\n",
       "      <td>2019-09-28 17:04:47</td>\n",
       "      <td>Pump</td>\n",
       "    </tr>\n",
       "    <tr>\n",
       "      <th>196</th>\n",
       "      <td>Logan 5601 42-35H</td>\n",
       "      <td>2019-09-07 07:17:33</td>\n",
       "      <td>2019-09-19 11:42:51</td>\n",
       "      <td>Pump</td>\n",
       "    </tr>\n",
       "    <tr>\n",
       "      <th>118</th>\n",
       "      <td>Harbour 5501 13-4H</td>\n",
       "      <td>2020-03-19 00:00:00</td>\n",
       "      <td>2020-03-28 09:41:04</td>\n",
       "      <td>Rod</td>\n",
       "    </tr>\n",
       "  </tbody>\n",
       "</table>\n",
       "</div>"
      ],
      "text/plain": [
       "                 NodeID  Failure Start Date    Failure End Date Failures\n",
       "313  Yeiser 5603 42-33H 2020-06-13 14:05:13 2020-06-26 10:43:41   Tubing\n",
       "36         Cade 12-19HA 2019-07-17 16:32:23 2019-07-28 08:06:59      Rod\n",
       "148    Jase 5892 21-30T 2019-09-14 14:52:05 2019-09-28 17:04:47     Pump\n",
       "196   Logan 5601 42-35H 2019-09-07 07:17:33 2019-09-19 11:42:51     Pump\n",
       "118  Harbour 5501 13-4H 2020-03-19 00:00:00 2020-03-28 09:41:04      Rod"
      ]
     },
     "execution_count": 6,
     "metadata": {},
     "output_type": "execute_result"
    }
   ],
   "source": [
    "# Reducing Failure classes\n",
    "failures.loc[failures.Failures.str.contains('Tubing'), 'Failures'] = 'Tubing'\n",
    "failures.loc[failures.Failures.str.contains('Pump'), 'Failures'] = 'Pump'\n",
    "failures.loc[failures.Failures.str.contains('Rod'), 'Failures'] = 'Rod'\n",
    "failures.loc[failures.Failures.str.contains('BHA'), 'Failures'] = 'BHA'\n",
    "\n",
    "failures.sample(5)"
   ]
  },
  {
   "cell_type": "markdown",
   "metadata": {},
   "source": [
    "## Importing Data\n",
    "\n",
    "Import the data depending on how the model is to be trained and the use case:\n",
    "\n",
    "- For Training: Only wells which have been labelled\n",
    "- For Hisorical Predictions: The entire dataset\n",
    "- For Real Time Predictions: Will depend on how the data pipeline has been set up\n"
   ]
  },
  {
   "cell_type": "code",
   "execution_count": 7,
   "metadata": {
    "code_folding": []
   },
   "outputs": [
    {
     "name": "stdout",
     "output_type": "stream",
     "text": [
      "Wall time: 1min 10s\n"
     ]
    },
    {
     "data": {
      "text/html": [
       "<div>\n",
       "<style scoped>\n",
       "    .dataframe tbody tr th:only-of-type {\n",
       "        vertical-align: middle;\n",
       "    }\n",
       "\n",
       "    .dataframe tbody tr th {\n",
       "        vertical-align: top;\n",
       "    }\n",
       "\n",
       "    .dataframe thead th {\n",
       "        text-align: right;\n",
       "    }\n",
       "</style>\n",
       "<table border=\"1\" class=\"dataframe\">\n",
       "  <thead>\n",
       "    <tr style=\"text-align: right;\">\n",
       "      <th></th>\n",
       "      <th>NodeID</th>\n",
       "      <th>Date</th>\n",
       "      <th>PPRL</th>\n",
       "      <th>MPRL</th>\n",
       "      <th>FluidLoadonPump</th>\n",
       "      <th>PumpIntakePressure</th>\n",
       "    </tr>\n",
       "  </thead>\n",
       "  <tbody>\n",
       "    <tr>\n",
       "      <th>0</th>\n",
       "      <td>Aagvik 1-35H</td>\n",
       "      <td>2019-06-21 15:58:34</td>\n",
       "      <td>27639.0</td>\n",
       "      <td>16811.0</td>\n",
       "      <td>3280.0</td>\n",
       "      <td>NaN</td>\n",
       "    </tr>\n",
       "    <tr>\n",
       "      <th>1</th>\n",
       "      <td>Aagvik 1-35H</td>\n",
       "      <td>2019-06-21 16:25:36</td>\n",
       "      <td>27457.0</td>\n",
       "      <td>16752.0</td>\n",
       "      <td>3241.0</td>\n",
       "      <td>NaN</td>\n",
       "    </tr>\n",
       "    <tr>\n",
       "      <th>2</th>\n",
       "      <td>Aagvik 1-35H</td>\n",
       "      <td>2019-06-21 18:25:16</td>\n",
       "      <td>27448.0</td>\n",
       "      <td>16594.0</td>\n",
       "      <td>3330.0</td>\n",
       "      <td>NaN</td>\n",
       "    </tr>\n",
       "    <tr>\n",
       "      <th>3</th>\n",
       "      <td>Aagvik 1-35H</td>\n",
       "      <td>2019-06-21 18:28:10</td>\n",
       "      <td>27424.0</td>\n",
       "      <td>16595.0</td>\n",
       "      <td>3327.0</td>\n",
       "      <td>NaN</td>\n",
       "    </tr>\n",
       "    <tr>\n",
       "      <th>4</th>\n",
       "      <td>Aagvik 1-35H</td>\n",
       "      <td>2019-06-21 20:25:01</td>\n",
       "      <td>27662.0</td>\n",
       "      <td>16711.0</td>\n",
       "      <td>3341.0</td>\n",
       "      <td>NaN</td>\n",
       "    </tr>\n",
       "  </tbody>\n",
       "</table>\n",
       "</div>"
      ],
      "text/plain": [
       "         NodeID                Date     PPRL     MPRL  FluidLoadonPump  \\\n",
       "0  Aagvik 1-35H 2019-06-21 15:58:34  27639.0  16811.0           3280.0   \n",
       "1  Aagvik 1-35H 2019-06-21 16:25:36  27457.0  16752.0           3241.0   \n",
       "2  Aagvik 1-35H 2019-06-21 18:25:16  27448.0  16594.0           3330.0   \n",
       "3  Aagvik 1-35H 2019-06-21 18:28:10  27424.0  16595.0           3327.0   \n",
       "4  Aagvik 1-35H 2019-06-21 20:25:01  27662.0  16711.0           3341.0   \n",
       "\n",
       "   PumpIntakePressure  \n",
       "0                 NaN  \n",
       "1                 NaN  \n",
       "2                 NaN  \n",
       "3                 NaN  \n",
       "4                 NaN  "
      ]
     },
     "execution_count": 7,
     "metadata": {},
     "output_type": "execute_result"
    }
   ],
   "source": [
    "%%time\n",
    "# for well_list use only those wells which have been labeled\n",
    "data_query = \"\"\"\n",
    "SELECT\n",
    "    \"NodeID\",\n",
    "    \"Date\",\n",
    "    \"PPRL\",\n",
    "    \"MPRL\",\n",
    "    \"FluidLoadonPump\",\n",
    "    \"PumpIntakePressure\"\n",
    "FROM xspoc.xdiag\n",
    "WHERE \"NodeID\" in {}\n",
    "ORDER BY \"NodeID\",\"Date\"\n",
    "\"\"\".format(tuple(well_list))\n",
    "\n",
    "with lib_aws.PostgresRDS(db='oasis-prod') as engine:\n",
    "    data = pd.read_sql(data_query, engine, parse_dates=['Date'])\n",
    "    \n",
    "well_list_features = data.NodeID.unique()\n",
    "data.head()"
   ]
  },
  {
   "cell_type": "code",
   "execution_count": 8,
   "metadata": {},
   "outputs": [
    {
     "data": {
      "text/html": [
       "<div>\n",
       "<style scoped>\n",
       "    .dataframe tbody tr th:only-of-type {\n",
       "        vertical-align: middle;\n",
       "    }\n",
       "\n",
       "    .dataframe tbody tr th {\n",
       "        vertical-align: top;\n",
       "    }\n",
       "\n",
       "    .dataframe thead th {\n",
       "        text-align: right;\n",
       "    }\n",
       "</style>\n",
       "<table border=\"1\" class=\"dataframe\">\n",
       "  <thead>\n",
       "    <tr style=\"text-align: right;\">\n",
       "      <th></th>\n",
       "      <th>NodeID</th>\n",
       "      <th>Date</th>\n",
       "      <th>PPRL</th>\n",
       "      <th>MPRL</th>\n",
       "      <th>FluidLoadonPump</th>\n",
       "      <th>PumpIntakePressure</th>\n",
       "    </tr>\n",
       "  </thead>\n",
       "  <tbody>\n",
       "    <tr>\n",
       "      <th>0</th>\n",
       "      <td>Aagvik 1-35H</td>\n",
       "      <td>2019-06-21 15:58:34</td>\n",
       "      <td>27639.0</td>\n",
       "      <td>16811.0</td>\n",
       "      <td>3280.0</td>\n",
       "      <td>NaN</td>\n",
       "    </tr>\n",
       "    <tr>\n",
       "      <th>1</th>\n",
       "      <td>Aagvik 1-35H</td>\n",
       "      <td>2019-06-21 16:25:36</td>\n",
       "      <td>27457.0</td>\n",
       "      <td>16752.0</td>\n",
       "      <td>3241.0</td>\n",
       "      <td>NaN</td>\n",
       "    </tr>\n",
       "    <tr>\n",
       "      <th>2</th>\n",
       "      <td>Aagvik 1-35H</td>\n",
       "      <td>2019-06-21 18:25:16</td>\n",
       "      <td>27448.0</td>\n",
       "      <td>16594.0</td>\n",
       "      <td>3330.0</td>\n",
       "      <td>NaN</td>\n",
       "    </tr>\n",
       "    <tr>\n",
       "      <th>3</th>\n",
       "      <td>Aagvik 1-35H</td>\n",
       "      <td>2019-06-21 18:28:10</td>\n",
       "      <td>27424.0</td>\n",
       "      <td>16595.0</td>\n",
       "      <td>3327.0</td>\n",
       "      <td>NaN</td>\n",
       "    </tr>\n",
       "    <tr>\n",
       "      <th>4</th>\n",
       "      <td>Aagvik 1-35H</td>\n",
       "      <td>2019-06-21 20:25:01</td>\n",
       "      <td>27662.0</td>\n",
       "      <td>16711.0</td>\n",
       "      <td>3341.0</td>\n",
       "      <td>NaN</td>\n",
       "    </tr>\n",
       "  </tbody>\n",
       "</table>\n",
       "</div>"
      ],
      "text/plain": [
       "         NodeID                Date     PPRL     MPRL  FluidLoadonPump  \\\n",
       "0  Aagvik 1-35H 2019-06-21 15:58:34  27639.0  16811.0           3280.0   \n",
       "1  Aagvik 1-35H 2019-06-21 16:25:36  27457.0  16752.0           3241.0   \n",
       "2  Aagvik 1-35H 2019-06-21 18:25:16  27448.0  16594.0           3330.0   \n",
       "3  Aagvik 1-35H 2019-06-21 18:28:10  27424.0  16595.0           3327.0   \n",
       "4  Aagvik 1-35H 2019-06-21 20:25:01  27662.0  16711.0           3341.0   \n",
       "\n",
       "   PumpIntakePressure  \n",
       "0                 NaN  \n",
       "1                 NaN  \n",
       "2                 NaN  \n",
       "3                 NaN  \n",
       "4                 NaN  "
      ]
     },
     "metadata": {},
     "output_type": "display_data"
    },
    {
     "name": "stdout",
     "output_type": "stream",
     "text": [
      "Failure info in these in these wells\n"
     ]
    },
    {
     "data": {
      "text/html": [
       "<div>\n",
       "<style scoped>\n",
       "    .dataframe tbody tr th:only-of-type {\n",
       "        vertical-align: middle;\n",
       "    }\n",
       "\n",
       "    .dataframe tbody tr th {\n",
       "        vertical-align: top;\n",
       "    }\n",
       "\n",
       "    .dataframe thead th {\n",
       "        text-align: right;\n",
       "    }\n",
       "</style>\n",
       "<table border=\"1\" class=\"dataframe\">\n",
       "  <thead>\n",
       "    <tr style=\"text-align: right;\">\n",
       "      <th></th>\n",
       "      <th>NodeID</th>\n",
       "      <th>Failure Start Date</th>\n",
       "      <th>Failure End Date</th>\n",
       "      <th>Failures</th>\n",
       "    </tr>\n",
       "  </thead>\n",
       "  <tbody>\n",
       "    <tr>\n",
       "      <th>0</th>\n",
       "      <td>Aagvik 1-35H</td>\n",
       "      <td>2019-10-29 10:43:24</td>\n",
       "      <td>2020-01-05 11:27:10</td>\n",
       "      <td>Tubing</td>\n",
       "    </tr>\n",
       "    <tr>\n",
       "      <th>1</th>\n",
       "      <td>Anderson 7-18H</td>\n",
       "      <td>2019-10-03 08:54:20</td>\n",
       "      <td>2019-10-26 09:00:34</td>\n",
       "      <td>Rod</td>\n",
       "    </tr>\n",
       "    <tr>\n",
       "      <th>2</th>\n",
       "      <td>Andre 5501 14-5 3B</td>\n",
       "      <td>2020-03-06 07:19:20</td>\n",
       "      <td>2020-03-17 09:47:20</td>\n",
       "      <td>Pump</td>\n",
       "    </tr>\n",
       "    <tr>\n",
       "      <th>3</th>\n",
       "      <td>Andrea 5502 44-7T</td>\n",
       "      <td>2019-09-23 15:22:28</td>\n",
       "      <td>2019-11-10 09:54:56</td>\n",
       "      <td>Pump</td>\n",
       "    </tr>\n",
       "    <tr>\n",
       "      <th>4</th>\n",
       "      <td>Anvers Federal 5602 13-18H</td>\n",
       "      <td>2020-04-01 14:11:53</td>\n",
       "      <td>2020-05-07 06:20:47</td>\n",
       "      <td>Tubing</td>\n",
       "    </tr>\n",
       "    <tr>\n",
       "      <th>...</th>\n",
       "      <td>...</td>\n",
       "      <td>...</td>\n",
       "      <td>...</td>\n",
       "      <td>...</td>\n",
       "    </tr>\n",
       "    <tr>\n",
       "      <th>237</th>\n",
       "      <td>White 6-7H</td>\n",
       "      <td>2020-01-14 08:20:02</td>\n",
       "      <td>2020-02-10 16:50:47</td>\n",
       "      <td>Tubing</td>\n",
       "    </tr>\n",
       "    <tr>\n",
       "      <th>238</th>\n",
       "      <td>Wilson Federal 1X-20H</td>\n",
       "      <td>2019-12-19 14:55:38</td>\n",
       "      <td>2020-12-31 13:57:49</td>\n",
       "      <td>Tubing</td>\n",
       "    </tr>\n",
       "    <tr>\n",
       "      <th>239</th>\n",
       "      <td>Woll 6093 12-1T</td>\n",
       "      <td>2020-02-10 10:49:37</td>\n",
       "      <td>2020-02-23 13:14:07</td>\n",
       "      <td>Tubing</td>\n",
       "    </tr>\n",
       "    <tr>\n",
       "      <th>240</th>\n",
       "      <td>Yeiser 5603 42-33H</td>\n",
       "      <td>2020-06-13 14:05:13</td>\n",
       "      <td>2020-06-26 10:43:41</td>\n",
       "      <td>Tubing</td>\n",
       "    </tr>\n",
       "    <tr>\n",
       "      <th>241</th>\n",
       "      <td>Zdenek 6093 42-24H</td>\n",
       "      <td>2020-04-04 08:06:28</td>\n",
       "      <td>2020-05-11 06:10:41</td>\n",
       "      <td>Pump</td>\n",
       "    </tr>\n",
       "  </tbody>\n",
       "</table>\n",
       "<p>242 rows × 4 columns</p>\n",
       "</div>"
      ],
      "text/plain": [
       "                         NodeID  Failure Start Date    Failure End Date  \\\n",
       "0                  Aagvik 1-35H 2019-10-29 10:43:24 2020-01-05 11:27:10   \n",
       "1                Anderson 7-18H 2019-10-03 08:54:20 2019-10-26 09:00:34   \n",
       "2            Andre 5501 14-5 3B 2020-03-06 07:19:20 2020-03-17 09:47:20   \n",
       "3             Andrea 5502 44-7T 2019-09-23 15:22:28 2019-11-10 09:54:56   \n",
       "4    Anvers Federal 5602 13-18H 2020-04-01 14:11:53 2020-05-07 06:20:47   \n",
       "..                          ...                 ...                 ...   \n",
       "237                  White 6-7H 2020-01-14 08:20:02 2020-02-10 16:50:47   \n",
       "238       Wilson Federal 1X-20H 2019-12-19 14:55:38 2020-12-31 13:57:49   \n",
       "239             Woll 6093 12-1T 2020-02-10 10:49:37 2020-02-23 13:14:07   \n",
       "240          Yeiser 5603 42-33H 2020-06-13 14:05:13 2020-06-26 10:43:41   \n",
       "241          Zdenek 6093 42-24H 2020-04-04 08:06:28 2020-05-11 06:10:41   \n",
       "\n",
       "    Failures  \n",
       "0     Tubing  \n",
       "1        Rod  \n",
       "2       Pump  \n",
       "3       Pump  \n",
       "4     Tubing  \n",
       "..       ...  \n",
       "237   Tubing  \n",
       "238   Tubing  \n",
       "239   Tubing  \n",
       "240   Tubing  \n",
       "241     Pump  \n",
       "\n",
       "[242 rows x 4 columns]"
      ]
     },
     "metadata": {},
     "output_type": "display_data"
    },
    {
     "name": "stdout",
     "output_type": "stream",
     "text": [
      "Failure Label Distribution\n"
     ]
    },
    {
     "data": {
      "text/plain": [
       "Pump      96\n",
       "Rod       71\n",
       "Tubing    70\n",
       "BHA        5\n",
       "Name: Failures, dtype: int64"
      ]
     },
     "metadata": {},
     "output_type": "display_data"
    }
   ],
   "source": [
    "# Use only those wells in failure_info, present in data\n",
    "failure_info = failures[failures.NodeID.isin(well_list_features)]\n",
    "failure_info.reset_index(inplace=True, drop=True)\n",
    "\n",
    "# info\n",
    "display(data.head())\n",
    "print(\"Failure info in these in these wells\")\n",
    "display(failure_info)\n",
    "print(\"Failure Label Distribution\")\n",
    "display(failure_info.Failures.value_counts())"
   ]
  },
  {
   "cell_type": "markdown",
   "metadata": {},
   "source": [
    "## Merging Info"
   ]
  },
  {
   "cell_type": "code",
   "execution_count": 9,
   "metadata": {
    "code_folding": [
     6,
     31
    ]
   },
   "outputs": [],
   "source": [
    "\"\"\"\n",
    "Before analysing the data we need to merge the information\n",
    "Transfering info from failures to data (copy of features)\n",
    "Using a for loop -- may not be very efficient\n",
    "\"\"\"\n",
    "\n",
    "def fill_null(df, chk_col='PPRL', well_col='NodeID', time_col='Date'):\n",
    "    \"\"\"\n",
    "    This function will fill in Null Values on those dates where no datapoints are present\n",
    "    Helps Show failures where no data was present\n",
    "    Will have to take this into account when running analysis \n",
    "    \"\"\"\n",
    "    data_temp = df.copy()\n",
    "    # Set time col as index if it is not\n",
    "    if time_col in data_temp.columns:\n",
    "        data_temp.set_index(time_col, inplace=True)\n",
    "    \n",
    "    data_gp = data_temp.groupby(well_col).resample('1D').max()  # Groupby wellname and resample to Day freq\n",
    "    data_gp.drop(columns=[well_col], inplace=True)  # Drop these columns as they are present in the index\n",
    "    data_gp.reset_index(inplace=True)  # Get Back WellCol from\n",
    "    data_null = data_gp[data_gp.loc[:, chk_col].isnull()]  # Get all null values, which need to be added to the main data file\n",
    "    data_null.reset_index(inplace=True, drop=True)\n",
    "    data_temp.reset_index(inplace=True)  # get timestamp back in the column for concating\n",
    "    data_full = pd.concat([data_temp, data_null], axis=0, ignore_index=True)  # concat null and og files\n",
    "    data_full.sort_values(by=[well_col, time_col], inplace=True)\n",
    "    data_full.drop_duplicates(subset=[well_col, time_col], inplace=True)\n",
    "    data_full.reset_index(drop=True, inplace=True)\n",
    "    \n",
    "    return data_full\n",
    "\n",
    "# TODO: transfer_cols only works for multiple columns, get it to work with 1 column\n",
    "def failure_merge(df, failure_df, transfer_cols):\n",
    "    \"\"\"\n",
    "    Merges the failures info\n",
    "    :param df: dataframe to which info is being transferred to. (Should have columns \"NodeID\" and \"Date\")\n",
    "    :param failure_df: Failure info data (Should have columns \"NodeID\", \"Start Date\" and \"End Data\")\n",
    "    :param cols: Columns which need to be transferred\n",
    "    \"\"\"\n",
    "    merged = df.copy()  \n",
    "    for col in transfer_cols:\n",
    "        merged[col] = 'Normal'  # for now putting everything as normal (even NAN's)\n",
    "        \n",
    "    for i in failure_df.index:\n",
    "        well = failure_df.loc[i, 'NodeID']\n",
    "        t_start = failure_df.loc[i, 'Failure Start Date']\n",
    "        t_end = failure_df.loc[i, 'Failure End Date'] + pd.Timedelta('1 day')  # As we have day based frequency (the times in a day are considered as 00:00:00)\n",
    "        bool_ = (merged.NodeID == well) & (merged.Date >= t_start) & (merged.Date <= t_end)  # Boolean mask for main data\n",
    "        merged.loc[bool_, transfer_cols] = failure_df.loc[i, transfer_cols].values\n",
    "        \n",
    "    return merged"
   ]
  },
  {
   "cell_type": "code",
   "execution_count": 10,
   "metadata": {},
   "outputs": [
    {
     "name": "stdout",
     "output_type": "stream",
     "text": [
      "Wall time: 25.7 s\n"
     ]
    },
    {
     "data": {
      "text/html": [
       "<div>\n",
       "<style scoped>\n",
       "    .dataframe tbody tr th:only-of-type {\n",
       "        vertical-align: middle;\n",
       "    }\n",
       "\n",
       "    .dataframe tbody tr th {\n",
       "        vertical-align: top;\n",
       "    }\n",
       "\n",
       "    .dataframe thead th {\n",
       "        text-align: right;\n",
       "    }\n",
       "</style>\n",
       "<table border=\"1\" class=\"dataframe\">\n",
       "  <thead>\n",
       "    <tr style=\"text-align: right;\">\n",
       "      <th></th>\n",
       "      <th>Date</th>\n",
       "      <th>NodeID</th>\n",
       "      <th>PPRL</th>\n",
       "      <th>MPRL</th>\n",
       "      <th>FluidLoadonPump</th>\n",
       "      <th>PumpIntakePressure</th>\n",
       "      <th>Failures</th>\n",
       "    </tr>\n",
       "  </thead>\n",
       "  <tbody>\n",
       "    <tr>\n",
       "      <th>0</th>\n",
       "      <td>2019-06-21 15:58:34</td>\n",
       "      <td>Aagvik 1-35H</td>\n",
       "      <td>27639.0</td>\n",
       "      <td>16811.0</td>\n",
       "      <td>3280.0</td>\n",
       "      <td>NaN</td>\n",
       "      <td>Normal</td>\n",
       "    </tr>\n",
       "    <tr>\n",
       "      <th>1</th>\n",
       "      <td>2019-06-21 16:25:36</td>\n",
       "      <td>Aagvik 1-35H</td>\n",
       "      <td>27457.0</td>\n",
       "      <td>16752.0</td>\n",
       "      <td>3241.0</td>\n",
       "      <td>NaN</td>\n",
       "      <td>Normal</td>\n",
       "    </tr>\n",
       "    <tr>\n",
       "      <th>2</th>\n",
       "      <td>2019-06-21 18:25:16</td>\n",
       "      <td>Aagvik 1-35H</td>\n",
       "      <td>27448.0</td>\n",
       "      <td>16594.0</td>\n",
       "      <td>3330.0</td>\n",
       "      <td>NaN</td>\n",
       "      <td>Normal</td>\n",
       "    </tr>\n",
       "    <tr>\n",
       "      <th>3</th>\n",
       "      <td>2019-06-21 18:28:10</td>\n",
       "      <td>Aagvik 1-35H</td>\n",
       "      <td>27424.0</td>\n",
       "      <td>16595.0</td>\n",
       "      <td>3327.0</td>\n",
       "      <td>NaN</td>\n",
       "      <td>Normal</td>\n",
       "    </tr>\n",
       "    <tr>\n",
       "      <th>4</th>\n",
       "      <td>2019-06-21 20:25:01</td>\n",
       "      <td>Aagvik 1-35H</td>\n",
       "      <td>27662.0</td>\n",
       "      <td>16711.0</td>\n",
       "      <td>3341.0</td>\n",
       "      <td>NaN</td>\n",
       "      <td>Normal</td>\n",
       "    </tr>\n",
       "  </tbody>\n",
       "</table>\n",
       "</div>"
      ],
      "text/plain": [
       "                 Date        NodeID     PPRL     MPRL  FluidLoadonPump  \\\n",
       "0 2019-06-21 15:58:34  Aagvik 1-35H  27639.0  16811.0           3280.0   \n",
       "1 2019-06-21 16:25:36  Aagvik 1-35H  27457.0  16752.0           3241.0   \n",
       "2 2019-06-21 18:25:16  Aagvik 1-35H  27448.0  16594.0           3330.0   \n",
       "3 2019-06-21 18:28:10  Aagvik 1-35H  27424.0  16595.0           3327.0   \n",
       "4 2019-06-21 20:25:01  Aagvik 1-35H  27662.0  16711.0           3341.0   \n",
       "\n",
       "   PumpIntakePressure Failures  \n",
       "0                 NaN   Normal  \n",
       "1                 NaN   Normal  \n",
       "2                 NaN   Normal  \n",
       "3                 NaN   Normal  \n",
       "4                 NaN   Normal  "
      ]
     },
     "execution_count": 10,
     "metadata": {},
     "output_type": "execute_result"
    }
   ],
   "source": [
    "%%time\n",
    "# Filling NAN's where data was missing\n",
    "# Wont be useful while training, but useful for visualization\n",
    "data = fill_null(data)  \n",
    "\n",
    "# Transfer 'Job Bucket' from failure_info to fill_data\n",
    "transfer_col = ['Failures', 'Failure Start Date']\n",
    "data = failure_merge(data, failure_info, transfer_col)\n",
    "data.drop(columns='Failure Start Date', inplace=True)\n",
    "\n",
    "data.head()"
   ]
  },
  {
   "cell_type": "markdown",
   "metadata": {},
   "source": [
    "## Feature Engg\n",
    "\n",
    "Depending on What features we and labels we want to use for our model, we can use the functions\n",
    "\n",
    "`get_agg()`:\n",
    "\n",
    "    - For now only gives us moving averages\n",
    "    - Can modify it to give other aggregate functions like standard deviation\n",
    "    \n",
    "`create_prediction_zones()`:\n",
    "    \n",
    "    - Will create new classes depending on what windows we choose for failures\n",
    "  \n",
    "**Note: Both these fucntions will give out separate dataframes/series and will have to be merged accordingly**\n"
   ]
  },
  {
   "cell_type": "code",
   "execution_count": 11,
   "metadata": {
    "code_folding": []
   },
   "outputs": [],
   "source": [
    "\"\"\"\n",
    "Helper Functions\n",
    "\"\"\"\n",
    "\n",
    "def get_agg(df, freq, time_col='Date', well_col = 'NodeID'):\n",
    "    \n",
    "    frames = []\n",
    "    \n",
    "    for well in df[well_col].unique():\n",
    "        temp_df = df[df[well_col] == well].copy()\n",
    "        temp_df.set_index(time_col, inplace=True)\n",
    "        temp_df = temp_df.rolling(freq).mean()\n",
    "        temp_df = temp_df.add_prefix(freq+'_')\n",
    "        temp_df[well_col] = well\n",
    "        temp_df.reset_index(inplace=True)\n",
    "        frames.append(temp_df)\n",
    "        \n",
    "    rolled_df = pd.concat(frames)\n",
    "    rolled_df.reset_index(inplace=True, drop=True)\n",
    "    \n",
    "    return rolled_df\n",
    "\n",
    "\n",
    "def create_prediction_zones(df, fail_col, prediction_zone_dict):\n",
    "    \"\"\"\n",
    "    Depending on the prediction_zone_dict will create predictions zones for failures \n",
    "    in the Failure column.\n",
    "    :param df: The dataframe to extract it from\n",
    "    :param fail_col: Failure column to use from the dataframe\n",
    "    :param prediction_zone_dict: A dict with timedeltas for each type of Failure in fail_col\n",
    "    :return Will return a Series or an Array of these Prediction Zones\n",
    "    \"\"\"\n",
    "    \n",
    "    test_data = df[['NodeID', 'Date', fail_col]].copy()\n",
    "    fail_zones = test_data[fail_col]  # fail_zones will be initialized as a copy of the fail col\n",
    "    \n",
    "    # Getting start of predictions from fail col\n",
    "    fail_dates = test_data[test_data[fail_col] != 'Normal']  # everthing other than normal is considered as a prediction\n",
    "    fail_start = fail_dates[fail_dates.Date.diff().abs().fillna(pd.Timedelta('10D')) > pd.Timedelta('1d 12H')]\n",
    "    fail_start.reset_index(inplace=True, drop=True)\n",
    "    \n",
    "    # Adding zones by iterating over each prediction start date\n",
    "    for i in fail_start.index:\n",
    "        temp_well = fail_start.loc[i, 'NodeID']  # well name\n",
    "        zone_end_date = fail_start.loc[i, 'Date']  # prediction start date\n",
    "        fail = fail_start.loc[i, fail_col]  # actual prediction class\n",
    "        zone_delta = pd.Timedelta(prediction_zone_dict[fail])  # delta to subtract from the dictionary\n",
    "        zone_start_date = zone_end_date - zone_delta\n",
    "\n",
    "        bool_ = (test_data.NodeID == temp_well) & (test_data.Date < zone_end_date) & (test_data.Date >= zone_start_date)\n",
    "        fail_zones[bool_] = 'fz_' + fail\n",
    "        \n",
    "    return fail_zones"
   ]
  },
  {
   "cell_type": "markdown",
   "metadata": {},
   "source": [
    "Say we want to use rolling averages with a frequency of 7 days for our features and a constant 10 day window for our failures. Follow the next few sections to see how it will be done"
   ]
  },
  {
   "cell_type": "code",
   "execution_count": 12,
   "metadata": {},
   "outputs": [
    {
     "name": "stdout",
     "output_type": "stream",
     "text": [
      "Wall time: 10.1 s\n"
     ]
    },
    {
     "data": {
      "text/html": [
       "<div>\n",
       "<style scoped>\n",
       "    .dataframe tbody tr th:only-of-type {\n",
       "        vertical-align: middle;\n",
       "    }\n",
       "\n",
       "    .dataframe tbody tr th {\n",
       "        vertical-align: top;\n",
       "    }\n",
       "\n",
       "    .dataframe thead th {\n",
       "        text-align: right;\n",
       "    }\n",
       "</style>\n",
       "<table border=\"1\" class=\"dataframe\">\n",
       "  <thead>\n",
       "    <tr style=\"text-align: right;\">\n",
       "      <th></th>\n",
       "      <th>NodeID</th>\n",
       "      <th>Date</th>\n",
       "      <th>PPRL</th>\n",
       "      <th>MPRL</th>\n",
       "      <th>FluidLoadonPump</th>\n",
       "      <th>PumpIntakePressure</th>\n",
       "      <th>Failures</th>\n",
       "      <th>15D_PPRL</th>\n",
       "      <th>15D_MPRL</th>\n",
       "      <th>15D_FluidLoadonPump</th>\n",
       "      <th>15D_PumpIntakePressure</th>\n",
       "    </tr>\n",
       "  </thead>\n",
       "  <tbody>\n",
       "    <tr>\n",
       "      <th>0</th>\n",
       "      <td>Aagvik 1-35H</td>\n",
       "      <td>2019-06-21 15:58:34</td>\n",
       "      <td>27639.0</td>\n",
       "      <td>16811.0</td>\n",
       "      <td>3280.0</td>\n",
       "      <td>NaN</td>\n",
       "      <td>Normal</td>\n",
       "      <td>27639.000000</td>\n",
       "      <td>16811.0</td>\n",
       "      <td>3280.000000</td>\n",
       "      <td>NaN</td>\n",
       "    </tr>\n",
       "    <tr>\n",
       "      <th>1</th>\n",
       "      <td>Aagvik 1-35H</td>\n",
       "      <td>2019-06-21 16:25:36</td>\n",
       "      <td>27457.0</td>\n",
       "      <td>16752.0</td>\n",
       "      <td>3241.0</td>\n",
       "      <td>NaN</td>\n",
       "      <td>Normal</td>\n",
       "      <td>27548.000000</td>\n",
       "      <td>16781.5</td>\n",
       "      <td>3260.500000</td>\n",
       "      <td>NaN</td>\n",
       "    </tr>\n",
       "    <tr>\n",
       "      <th>2</th>\n",
       "      <td>Aagvik 1-35H</td>\n",
       "      <td>2019-06-21 18:25:16</td>\n",
       "      <td>27448.0</td>\n",
       "      <td>16594.0</td>\n",
       "      <td>3330.0</td>\n",
       "      <td>NaN</td>\n",
       "      <td>Normal</td>\n",
       "      <td>27514.666667</td>\n",
       "      <td>16719.0</td>\n",
       "      <td>3283.666667</td>\n",
       "      <td>NaN</td>\n",
       "    </tr>\n",
       "    <tr>\n",
       "      <th>3</th>\n",
       "      <td>Aagvik 1-35H</td>\n",
       "      <td>2019-06-21 18:28:10</td>\n",
       "      <td>27424.0</td>\n",
       "      <td>16595.0</td>\n",
       "      <td>3327.0</td>\n",
       "      <td>NaN</td>\n",
       "      <td>Normal</td>\n",
       "      <td>27492.000000</td>\n",
       "      <td>16688.0</td>\n",
       "      <td>3294.500000</td>\n",
       "      <td>NaN</td>\n",
       "    </tr>\n",
       "    <tr>\n",
       "      <th>4</th>\n",
       "      <td>Aagvik 1-35H</td>\n",
       "      <td>2019-06-21 20:25:01</td>\n",
       "      <td>27662.0</td>\n",
       "      <td>16711.0</td>\n",
       "      <td>3341.0</td>\n",
       "      <td>NaN</td>\n",
       "      <td>Normal</td>\n",
       "      <td>27526.000000</td>\n",
       "      <td>16692.6</td>\n",
       "      <td>3303.800000</td>\n",
       "      <td>NaN</td>\n",
       "    </tr>\n",
       "  </tbody>\n",
       "</table>\n",
       "</div>"
      ],
      "text/plain": [
       "         NodeID                Date     PPRL     MPRL  FluidLoadonPump  \\\n",
       "0  Aagvik 1-35H 2019-06-21 15:58:34  27639.0  16811.0           3280.0   \n",
       "1  Aagvik 1-35H 2019-06-21 16:25:36  27457.0  16752.0           3241.0   \n",
       "2  Aagvik 1-35H 2019-06-21 18:25:16  27448.0  16594.0           3330.0   \n",
       "3  Aagvik 1-35H 2019-06-21 18:28:10  27424.0  16595.0           3327.0   \n",
       "4  Aagvik 1-35H 2019-06-21 20:25:01  27662.0  16711.0           3341.0   \n",
       "\n",
       "   PumpIntakePressure Failures      15D_PPRL  15D_MPRL  15D_FluidLoadonPump  \\\n",
       "0                 NaN   Normal  27639.000000   16811.0          3280.000000   \n",
       "1                 NaN   Normal  27548.000000   16781.5          3260.500000   \n",
       "2                 NaN   Normal  27514.666667   16719.0          3283.666667   \n",
       "3                 NaN   Normal  27492.000000   16688.0          3294.500000   \n",
       "4                 NaN   Normal  27526.000000   16692.6          3303.800000   \n",
       "\n",
       "   15D_PumpIntakePressure  \n",
       "0                     NaN  \n",
       "1                     NaN  \n",
       "2                     NaN  \n",
       "3                     NaN  \n",
       "4                     NaN  "
      ]
     },
     "execution_count": 12,
     "metadata": {},
     "output_type": "execute_result"
    }
   ],
   "source": [
    "%%time\n",
    "# 7 day rolling averages\n",
    "avg_data = get_agg(df=data, freq='15D')  \n",
    "\n",
    "# Merge it with the original data \n",
    "full_data = data.set_index(['NodeID', 'Date']).merge(avg_data.set_index(['NodeID', 'Date']), \n",
    "                                                     left_index=True,\n",
    "                                                     right_index=True).reset_index()\n",
    "\n",
    "\n",
    "full_data.head()"
   ]
  },
  {
   "cell_type": "code",
   "execution_count": 13,
   "metadata": {},
   "outputs": [
    {
     "data": {
      "text/html": [
       "<div>\n",
       "<style scoped>\n",
       "    .dataframe tbody tr th:only-of-type {\n",
       "        vertical-align: middle;\n",
       "    }\n",
       "\n",
       "    .dataframe tbody tr th {\n",
       "        vertical-align: top;\n",
       "    }\n",
       "\n",
       "    .dataframe thead th {\n",
       "        text-align: right;\n",
       "    }\n",
       "</style>\n",
       "<table border=\"1\" class=\"dataframe\">\n",
       "  <thead>\n",
       "    <tr style=\"text-align: right;\">\n",
       "      <th></th>\n",
       "      <th>NodeID</th>\n",
       "      <th>Date</th>\n",
       "      <th>Failures</th>\n",
       "      <th>15D_PPRL</th>\n",
       "      <th>15D_MPRL</th>\n",
       "      <th>15D_FluidLoadonPump</th>\n",
       "      <th>15D_PumpIntakePressure</th>\n",
       "    </tr>\n",
       "  </thead>\n",
       "  <tbody>\n",
       "    <tr>\n",
       "      <th>0</th>\n",
       "      <td>Aagvik 1-35H</td>\n",
       "      <td>2019-06-21 15:58:34</td>\n",
       "      <td>Normal</td>\n",
       "      <td>27639.000000</td>\n",
       "      <td>16811.0</td>\n",
       "      <td>3280.000000</td>\n",
       "      <td>NaN</td>\n",
       "    </tr>\n",
       "    <tr>\n",
       "      <th>1</th>\n",
       "      <td>Aagvik 1-35H</td>\n",
       "      <td>2019-06-21 16:25:36</td>\n",
       "      <td>Normal</td>\n",
       "      <td>27548.000000</td>\n",
       "      <td>16781.5</td>\n",
       "      <td>3260.500000</td>\n",
       "      <td>NaN</td>\n",
       "    </tr>\n",
       "    <tr>\n",
       "      <th>2</th>\n",
       "      <td>Aagvik 1-35H</td>\n",
       "      <td>2019-06-21 18:25:16</td>\n",
       "      <td>Normal</td>\n",
       "      <td>27514.666667</td>\n",
       "      <td>16719.0</td>\n",
       "      <td>3283.666667</td>\n",
       "      <td>NaN</td>\n",
       "    </tr>\n",
       "    <tr>\n",
       "      <th>3</th>\n",
       "      <td>Aagvik 1-35H</td>\n",
       "      <td>2019-06-21 18:28:10</td>\n",
       "      <td>Normal</td>\n",
       "      <td>27492.000000</td>\n",
       "      <td>16688.0</td>\n",
       "      <td>3294.500000</td>\n",
       "      <td>NaN</td>\n",
       "    </tr>\n",
       "    <tr>\n",
       "      <th>4</th>\n",
       "      <td>Aagvik 1-35H</td>\n",
       "      <td>2019-06-21 20:25:01</td>\n",
       "      <td>Normal</td>\n",
       "      <td>27526.000000</td>\n",
       "      <td>16692.6</td>\n",
       "      <td>3303.800000</td>\n",
       "      <td>NaN</td>\n",
       "    </tr>\n",
       "  </tbody>\n",
       "</table>\n",
       "</div>"
      ],
      "text/plain": [
       "         NodeID                Date Failures      15D_PPRL  15D_MPRL  \\\n",
       "0  Aagvik 1-35H 2019-06-21 15:58:34   Normal  27639.000000   16811.0   \n",
       "1  Aagvik 1-35H 2019-06-21 16:25:36   Normal  27548.000000   16781.5   \n",
       "2  Aagvik 1-35H 2019-06-21 18:25:16   Normal  27514.666667   16719.0   \n",
       "3  Aagvik 1-35H 2019-06-21 18:28:10   Normal  27492.000000   16688.0   \n",
       "4  Aagvik 1-35H 2019-06-21 20:25:01   Normal  27526.000000   16692.6   \n",
       "\n",
       "   15D_FluidLoadonPump  15D_PumpIntakePressure  \n",
       "0          3280.000000                     NaN  \n",
       "1          3260.500000                     NaN  \n",
       "2          3283.666667                     NaN  \n",
       "3          3294.500000                     NaN  \n",
       "4          3303.800000                     NaN  "
      ]
     },
     "execution_count": 13,
     "metadata": {},
     "output_type": "execute_result"
    }
   ],
   "source": [
    "# Drop Columns that we dont need\n",
    "# Can play around with features here\n",
    "# test for different configs and moving windows\n",
    "cols_drop = [\n",
    "    'PPRL',\n",
    "    'MPRL',\n",
    "    'PumpIntakePressure',\n",
    "    'FluidLoadonPump',\n",
    "]\n",
    "\n",
    "full_data.drop(columns=cols_drop, inplace=True)\n",
    "\n",
    "full_data.head()"
   ]
  },
  {
   "cell_type": "code",
   "execution_count": 14,
   "metadata": {},
   "outputs": [
    {
     "data": {
      "text/plain": [
       "NodeID                    0.000000\n",
       "Date                      0.000000\n",
       "Failures                  0.000000\n",
       "15D_PPRL                  2.652931\n",
       "15D_MPRL                  2.652931\n",
       "15D_FluidLoadonPump       2.652931\n",
       "15D_PumpIntakePressure    3.206547\n",
       "dtype: float64"
      ]
     },
     "execution_count": 14,
     "metadata": {},
     "output_type": "execute_result"
    }
   ],
   "source": [
    "full_data.isnull().sum(axis=0)/len(full_data) * 100"
   ]
  },
  {
   "cell_type": "code",
   "execution_count": 15,
   "metadata": {},
   "outputs": [],
   "source": [
    "# pred zone dict\n",
    "# manual\n",
    "# pred_zone_dict = {\n",
    "#     'PUMP': '15 days',\n",
    "#     'ROD': '15 days',\n",
    "#     'TUBING': '15 days',\n",
    "#     'BHA': '15 days'\n",
    "# }\n",
    "\n",
    "# automated all failures will have the same failure window\n",
    "fail_window = '15 days'\n",
    "fail_labels = full_data.Failures.unique().tolist()\n",
    "fail_labels.remove('Normal')\n",
    "pred_zone_dict = {x: fail_window for x in fail_labels}"
   ]
  },
  {
   "cell_type": "code",
   "execution_count": 16,
   "metadata": {},
   "outputs": [
    {
     "name": "stderr",
     "output_type": "stream",
     "text": [
      "c:\\users\\rai_v\\onedrive\\python coursera\\oasis\\venv\\lib\\site-packages\\ipykernel_launcher.py:51: SettingWithCopyWarning: \n",
      "A value is trying to be set on a copy of a slice from a DataFrame\n",
      "\n",
      "See the caveats in the documentation: https://pandas.pydata.org/pandas-docs/stable/user_guide/indexing.html#returning-a-view-versus-a-copy\n"
     ]
    }
   ],
   "source": [
    "# Create pred windows\n",
    "# Note:  The output of the fucntion will be a pandas Series\n",
    "full_data['Label'] = create_prediction_zones(df=full_data, \n",
    "                                             fail_col='Failures', \n",
    "                                             prediction_zone_dict=pred_zone_dict)"
   ]
  },
  {
   "cell_type": "markdown",
   "metadata": {},
   "source": [
    "Some Assumtions we are going to make:\n",
    "- Drop Nan values\n",
    "- Remove the actual failures as classes and only use windows"
   ]
  },
  {
   "cell_type": "code",
   "execution_count": 17,
   "metadata": {},
   "outputs": [],
   "source": [
    "full_data.dropna(inplace=True)\n",
    "\n",
    "class_drop = fail_labels  # just for now dont need to use it\n",
    "full_data = full_data[~full_data.Label.isin(class_drop)]\n",
    "full_data.Label = full_data.Label.str.replace('fz_', '').str.strip()  # keeping the name of the zone classes the same as the original one\n",
    "full_data.reset_index(inplace=True, drop=True)"
   ]
  },
  {
   "cell_type": "code",
   "execution_count": 19,
   "metadata": {},
   "outputs": [
    {
     "data": {
      "text/html": [
       "<div>\n",
       "<style scoped>\n",
       "    .dataframe tbody tr th:only-of-type {\n",
       "        vertical-align: middle;\n",
       "    }\n",
       "\n",
       "    .dataframe tbody tr th {\n",
       "        vertical-align: top;\n",
       "    }\n",
       "\n",
       "    .dataframe thead th {\n",
       "        text-align: right;\n",
       "    }\n",
       "</style>\n",
       "<table border=\"1\" class=\"dataframe\">\n",
       "  <thead>\n",
       "    <tr style=\"text-align: right;\">\n",
       "      <th></th>\n",
       "      <th>NodeID</th>\n",
       "      <th>Date</th>\n",
       "      <th>Failures</th>\n",
       "      <th>15D_PPRL</th>\n",
       "      <th>15D_MPRL</th>\n",
       "      <th>15D_FluidLoadonPump</th>\n",
       "      <th>15D_PumpIntakePressure</th>\n",
       "      <th>Label</th>\n",
       "    </tr>\n",
       "  </thead>\n",
       "  <tbody>\n",
       "    <tr>\n",
       "      <th>0</th>\n",
       "      <td>Aagvik 1-35H</td>\n",
       "      <td>2019-08-13 11:19:56</td>\n",
       "      <td>Normal</td>\n",
       "      <td>28599.000000</td>\n",
       "      <td>16903.666667</td>\n",
       "      <td>6386.666667</td>\n",
       "      <td>608.000000</td>\n",
       "      <td>Normal</td>\n",
       "    </tr>\n",
       "    <tr>\n",
       "      <th>1</th>\n",
       "      <td>Aagvik 1-35H</td>\n",
       "      <td>2019-08-14 00:00:00</td>\n",
       "      <td>Normal</td>\n",
       "      <td>28599.000000</td>\n",
       "      <td>16903.666667</td>\n",
       "      <td>6386.666667</td>\n",
       "      <td>608.000000</td>\n",
       "      <td>Normal</td>\n",
       "    </tr>\n",
       "    <tr>\n",
       "      <th>2</th>\n",
       "      <td>Aagvik 1-35H</td>\n",
       "      <td>2019-08-15 06:04:48</td>\n",
       "      <td>Normal</td>\n",
       "      <td>31613.000000</td>\n",
       "      <td>17062.500000</td>\n",
       "      <td>9915.000000</td>\n",
       "      <td>611.000000</td>\n",
       "      <td>Normal</td>\n",
       "    </tr>\n",
       "    <tr>\n",
       "      <th>3</th>\n",
       "      <td>Aagvik 1-35H</td>\n",
       "      <td>2019-08-15 07:53:36</td>\n",
       "      <td>Normal</td>\n",
       "      <td>31615.333333</td>\n",
       "      <td>17012.666667</td>\n",
       "      <td>10011.000000</td>\n",
       "      <td>564.666667</td>\n",
       "      <td>Normal</td>\n",
       "    </tr>\n",
       "    <tr>\n",
       "      <th>4</th>\n",
       "      <td>Aagvik 1-35H</td>\n",
       "      <td>2019-08-15 10:02:31</td>\n",
       "      <td>Normal</td>\n",
       "      <td>31594.500000</td>\n",
       "      <td>17021.250000</td>\n",
       "      <td>9975.250000</td>\n",
       "      <td>576.500000</td>\n",
       "      <td>Normal</td>\n",
       "    </tr>\n",
       "  </tbody>\n",
       "</table>\n",
       "</div>"
      ],
      "text/plain": [
       "         NodeID                Date Failures      15D_PPRL      15D_MPRL  \\\n",
       "0  Aagvik 1-35H 2019-08-13 11:19:56   Normal  28599.000000  16903.666667   \n",
       "1  Aagvik 1-35H 2019-08-14 00:00:00   Normal  28599.000000  16903.666667   \n",
       "2  Aagvik 1-35H 2019-08-15 06:04:48   Normal  31613.000000  17062.500000   \n",
       "3  Aagvik 1-35H 2019-08-15 07:53:36   Normal  31615.333333  17012.666667   \n",
       "4  Aagvik 1-35H 2019-08-15 10:02:31   Normal  31594.500000  17021.250000   \n",
       "\n",
       "   15D_FluidLoadonPump  15D_PumpIntakePressure   Label  \n",
       "0          6386.666667              608.000000  Normal  \n",
       "1          6386.666667              608.000000  Normal  \n",
       "2          9915.000000              611.000000  Normal  \n",
       "3         10011.000000              564.666667  Normal  \n",
       "4          9975.250000              576.500000  Normal  "
      ]
     },
     "execution_count": 19,
     "metadata": {},
     "output_type": "execute_result"
    }
   ],
   "source": [
    "full_data.head()"
   ]
  },
  {
   "cell_type": "code",
   "execution_count": null,
   "metadata": {},
   "outputs": [],
   "source": [
    "\"\"\"\n",
    "Setting up data for algos\n",
    "\"\"\"\n",
    "\n",
    "\n",
    "    "
   ]
  },
  {
   "cell_type": "code",
   "execution_count": 20,
   "metadata": {},
   "outputs": [
    {
     "name": "stdout",
     "output_type": "stream",
     "text": [
      "Features\n"
     ]
    },
    {
     "data": {
      "text/html": [
       "<div>\n",
       "<style scoped>\n",
       "    .dataframe tbody tr th:only-of-type {\n",
       "        vertical-align: middle;\n",
       "    }\n",
       "\n",
       "    .dataframe tbody tr th {\n",
       "        vertical-align: top;\n",
       "    }\n",
       "\n",
       "    .dataframe thead th {\n",
       "        text-align: right;\n",
       "    }\n",
       "</style>\n",
       "<table border=\"1\" class=\"dataframe\">\n",
       "  <thead>\n",
       "    <tr style=\"text-align: right;\">\n",
       "      <th></th>\n",
       "      <th>15D_PPRL</th>\n",
       "      <th>15D_MPRL</th>\n",
       "      <th>15D_FluidLoadonPump</th>\n",
       "      <th>15D_PumpIntakePressure</th>\n",
       "    </tr>\n",
       "  </thead>\n",
       "  <tbody>\n",
       "    <tr>\n",
       "      <th>0</th>\n",
       "      <td>28599.000000</td>\n",
       "      <td>16903.666667</td>\n",
       "      <td>6386.666667</td>\n",
       "      <td>608.000000</td>\n",
       "    </tr>\n",
       "    <tr>\n",
       "      <th>1</th>\n",
       "      <td>28599.000000</td>\n",
       "      <td>16903.666667</td>\n",
       "      <td>6386.666667</td>\n",
       "      <td>608.000000</td>\n",
       "    </tr>\n",
       "    <tr>\n",
       "      <th>2</th>\n",
       "      <td>31613.000000</td>\n",
       "      <td>17062.500000</td>\n",
       "      <td>9915.000000</td>\n",
       "      <td>611.000000</td>\n",
       "    </tr>\n",
       "    <tr>\n",
       "      <th>3</th>\n",
       "      <td>31615.333333</td>\n",
       "      <td>17012.666667</td>\n",
       "      <td>10011.000000</td>\n",
       "      <td>564.666667</td>\n",
       "    </tr>\n",
       "    <tr>\n",
       "      <th>4</th>\n",
       "      <td>31594.500000</td>\n",
       "      <td>17021.250000</td>\n",
       "      <td>9975.250000</td>\n",
       "      <td>576.500000</td>\n",
       "    </tr>\n",
       "  </tbody>\n",
       "</table>\n",
       "</div>"
      ],
      "text/plain": [
       "       15D_PPRL      15D_MPRL  15D_FluidLoadonPump  15D_PumpIntakePressure\n",
       "0  28599.000000  16903.666667          6386.666667              608.000000\n",
       "1  28599.000000  16903.666667          6386.666667              608.000000\n",
       "2  31613.000000  17062.500000          9915.000000              611.000000\n",
       "3  31615.333333  17012.666667         10011.000000              564.666667\n",
       "4  31594.500000  17021.250000          9975.250000              576.500000"
      ]
     },
     "metadata": {},
     "output_type": "display_data"
    },
    {
     "name": "stdout",
     "output_type": "stream",
     "text": [
      "Classes Being Predicted\n"
     ]
    },
    {
     "data": {
      "text/plain": [
       "Normal    790865\n",
       "Pump       11856\n",
       "Rod         9738\n",
       "Tubing      9019\n",
       "BHA          585\n",
       "Name: Label, dtype: int64"
      ]
     },
     "metadata": {},
     "output_type": "display_data"
    }
   ],
   "source": [
    "X = full_data.drop(columns=['NodeID', 'Date', 'Failures', 'Label'])\n",
    "Y = full_data.Label\n",
    "\n",
    "print(\"Features\")\n",
    "display(X.head())\n",
    "\n",
    "print(\"Classes Being Predicted\")\n",
    "display(Y.value_counts())"
   ]
  },
  {
   "cell_type": "markdown",
   "metadata": {},
   "source": [
    "# Testing Algos"
   ]
  },
  {
   "cell_type": "code",
   "execution_count": 21,
   "metadata": {},
   "outputs": [],
   "source": [
    "# Imports\n",
    "from sklearn.preprocessing import StandardScaler\n",
    "from sklearn.ensemble import RandomForestClassifier\n",
    "from imblearn.over_sampling import SMOTE\n",
    "from imblearn.pipeline import Pipeline\n",
    "from sklearn.ensemble import GradientBoostingClassifier\n",
    "from sklearn.ensemble import ExtraTreesClassifier"
   ]
  },
  {
   "cell_type": "code",
   "execution_count": 22,
   "metadata": {
    "code_folding": []
   },
   "outputs": [],
   "source": [
    "\"\"\"\n",
    "Model 1\n",
    "Random Forest classifier\n",
    "\"\"\"\n",
    "\n",
    "def build_rfc_model ():\n",
    "    \"\"\"\n",
    "    Define A Random Forrest Classifier Model\n",
    "    :return: RFC Model\n",
    "    \"\"\"\n",
    "    scaler = StandardScaler() # Define Scaler\n",
    " \n",
    "    # RFC Params\n",
    "    rfc_params = {\n",
    "        'n_estimators': 100,\n",
    "        'min_samples_split': 2,\n",
    "        'min_samples_leaf': 1,\n",
    "        'class_weight': 'balanced',\n",
    "        'verbose': 0,\n",
    "        'max_features': 'auto',\n",
    "        'max_depth': None,\n",
    "    }\n",
    "    \n",
    "    # RFC Classifier\n",
    "    rfc = RandomForestClassifier(**rfc_params)\n",
    "    \n",
    "    #\n",
    "    model = Pipeline([\n",
    "        ('scaler', scaler),\n",
    "        ('rfc', rfc)\n",
    "    ])\n",
    "\n",
    "    return model"
   ]
  },
  {
   "cell_type": "code",
   "execution_count": 23,
   "metadata": {},
   "outputs": [
    {
     "name": "stdout",
     "output_type": "stream",
     "text": [
      "Weighted Metrics\n",
      "Precision : 99.67\n",
      "Recall: 99.67\n",
      "F-score: 99.67\n",
      "\n",
      "Macro Metrics\n",
      "Precision : 98.21\n",
      "Recall: 94.12\n",
      "F-score: 96.10\n",
      "\n",
      "Classification Report\n",
      "              precision    recall  f1-score   support\n",
      "\n",
      "         BHA       0.95      0.93      0.94       175\n",
      "      Normal       1.00      1.00      1.00    237260\n",
      "        Pump       0.99      0.92      0.95      3557\n",
      "         Rod       0.99      0.94      0.96      2921\n",
      "      Tubing       0.99      0.93      0.96      2706\n",
      "\n",
      "    accuracy                           1.00    246619\n",
      "   macro avg       0.98      0.94      0.96    246619\n",
      "weighted avg       1.00      1.00      1.00    246619\n",
      "\n",
      "Kfold Metrics\n"
     ]
    },
    {
     "data": {
      "text/html": [
       "<div>\n",
       "<style scoped>\n",
       "    .dataframe tbody tr th:only-of-type {\n",
       "        vertical-align: middle;\n",
       "    }\n",
       "\n",
       "    .dataframe tbody tr th {\n",
       "        vertical-align: top;\n",
       "    }\n",
       "\n",
       "    .dataframe thead th {\n",
       "        text-align: right;\n",
       "    }\n",
       "</style>\n",
       "<table border=\"1\" class=\"dataframe\">\n",
       "  <thead>\n",
       "    <tr style=\"text-align: right;\">\n",
       "      <th></th>\n",
       "      <th>Precision_wt</th>\n",
       "      <th>Recall_wt</th>\n",
       "      <th>F-score_wt</th>\n",
       "      <th>Precision_macro</th>\n",
       "      <th>Recall_macro</th>\n",
       "      <th>F-score_macro</th>\n",
       "    </tr>\n",
       "  </thead>\n",
       "  <tbody>\n",
       "    <tr>\n",
       "      <th>0</th>\n",
       "      <td>99.690002</td>\n",
       "      <td>99.690002</td>\n",
       "      <td>99.680000</td>\n",
       "      <td>98.830002</td>\n",
       "      <td>94.070000</td>\n",
       "      <td>96.380005</td>\n",
       "    </tr>\n",
       "    <tr>\n",
       "      <th>1</th>\n",
       "      <td>99.709999</td>\n",
       "      <td>99.709999</td>\n",
       "      <td>99.709999</td>\n",
       "      <td>99.029999</td>\n",
       "      <td>94.129997</td>\n",
       "      <td>96.480003</td>\n",
       "    </tr>\n",
       "    <tr>\n",
       "      <th>2</th>\n",
       "      <td>99.690002</td>\n",
       "      <td>99.699997</td>\n",
       "      <td>99.690002</td>\n",
       "      <td>99.180000</td>\n",
       "      <td>94.709999</td>\n",
       "      <td>96.879997</td>\n",
       "    </tr>\n",
       "    <tr>\n",
       "      <th>3</th>\n",
       "      <td>99.690002</td>\n",
       "      <td>99.690002</td>\n",
       "      <td>99.690002</td>\n",
       "      <td>99.010002</td>\n",
       "      <td>94.070000</td>\n",
       "      <td>96.459999</td>\n",
       "    </tr>\n",
       "    <tr>\n",
       "      <th>4</th>\n",
       "      <td>99.720001</td>\n",
       "      <td>99.730003</td>\n",
       "      <td>99.720001</td>\n",
       "      <td>99.169998</td>\n",
       "      <td>95.850006</td>\n",
       "      <td>97.459999</td>\n",
       "    </tr>\n",
       "    <tr>\n",
       "      <th>Mean</th>\n",
       "      <td>99.700002</td>\n",
       "      <td>99.704001</td>\n",
       "      <td>99.698001</td>\n",
       "      <td>99.044000</td>\n",
       "      <td>94.566000</td>\n",
       "      <td>96.732001</td>\n",
       "    </tr>\n",
       "    <tr>\n",
       "      <th>STD</th>\n",
       "      <td>0.012648</td>\n",
       "      <td>0.014967</td>\n",
       "      <td>0.014697</td>\n",
       "      <td>0.127686</td>\n",
       "      <td>0.685790</td>\n",
       "      <td>0.403305</td>\n",
       "    </tr>\n",
       "  </tbody>\n",
       "</table>\n",
       "</div>"
      ],
      "text/plain": [
       "      Precision_wt  Recall_wt  F-score_wt  Precision_macro  Recall_macro  \\\n",
       "0        99.690002  99.690002   99.680000        98.830002     94.070000   \n",
       "1        99.709999  99.709999   99.709999        99.029999     94.129997   \n",
       "2        99.690002  99.699997   99.690002        99.180000     94.709999   \n",
       "3        99.690002  99.690002   99.690002        99.010002     94.070000   \n",
       "4        99.720001  99.730003   99.720001        99.169998     95.850006   \n",
       "Mean     99.700002  99.704001   99.698001        99.044000     94.566000   \n",
       "STD       0.012648   0.014967    0.014697         0.127686      0.685790   \n",
       "\n",
       "      F-score_macro  \n",
       "0         96.380005  \n",
       "1         96.480003  \n",
       "2         96.879997  \n",
       "3         96.459999  \n",
       "4         97.459999  \n",
       "Mean      96.732001  \n",
       "STD        0.403305  "
      ]
     },
     "metadata": {},
     "output_type": "display_data"
    }
   ],
   "source": [
    "# define the model\n",
    "rfc_model = build_rfc_model()\n",
    "\n",
    "# Get some metrics\n",
    "MultiClassMetrics.baseline_metrics(X, Y, rfc_model)\n",
    "\n",
    "# cv_rfc = MultiClassMetrics.cv_validation(X, Y, rfc_model)\n",
    "# print(\"CV Metrics\")\n",
    "# display(cv_rfc)\n",
    "\n",
    "kf_rfc = MultiClassMetrics.kfold_validation(X, Y, rfc_model)\n",
    "print(\"Kfold Metrics\")\n",
    "display(kf_rfc)"
   ]
  },
  {
   "cell_type": "code",
   "execution_count": 24,
   "metadata": {
    "code_folding": [
     4
    ]
   },
   "outputs": [],
   "source": [
    "\"\"\"\n",
    "Model 2\n",
    "Extra Tree Classifier\n",
    "\"\"\"\n",
    "def build_et_model():\n",
    "\n",
    "    scaler = StandardScaler()\n",
    "\n",
    "    et_params ={ \n",
    "        'n_estimators': 100,  # Default\n",
    "        'class_weight': 'balanced',\n",
    "        'criterion': 'gini',  # Default\n",
    "        'max_features': 'auto',  # Default\n",
    "        'verbose': 0\n",
    "    }\n",
    "\n",
    "    et = ExtraTreesClassifier(**et_params)\n",
    "\n",
    "    model = Pipeline([\n",
    "        ('scaler', scaler),\n",
    "        ('et', et)\n",
    "    ])\n",
    "\n",
    "    return model"
   ]
  },
  {
   "cell_type": "code",
   "execution_count": 25,
   "metadata": {},
   "outputs": [
    {
     "name": "stdout",
     "output_type": "stream",
     "text": [
      "Weighted Metrics\n",
      "Precision : 99.80\n",
      "Recall: 99.80\n",
      "F-score: 99.80\n",
      "\n",
      "Macro Metrics\n",
      "Precision : 99.09\n",
      "Recall: 96.81\n",
      "F-score: 97.93\n",
      "\n",
      "Classification Report\n",
      "              precision    recall  f1-score   support\n",
      "\n",
      "         BHA       0.99      0.97      0.98       175\n",
      "      Normal       1.00      1.00      1.00    237260\n",
      "        Pump       0.99      0.95      0.97      3557\n",
      "         Rod       0.99      0.96      0.98      2921\n",
      "      Tubing       0.99      0.96      0.97      2706\n",
      "\n",
      "    accuracy                           1.00    246619\n",
      "   macro avg       0.99      0.97      0.98    246619\n",
      "weighted avg       1.00      1.00      1.00    246619\n",
      "\n",
      "Kfold Metrics\n"
     ]
    },
    {
     "data": {
      "text/html": [
       "<div>\n",
       "<style scoped>\n",
       "    .dataframe tbody tr th:only-of-type {\n",
       "        vertical-align: middle;\n",
       "    }\n",
       "\n",
       "    .dataframe tbody tr th {\n",
       "        vertical-align: top;\n",
       "    }\n",
       "\n",
       "    .dataframe thead th {\n",
       "        text-align: right;\n",
       "    }\n",
       "</style>\n",
       "<table border=\"1\" class=\"dataframe\">\n",
       "  <thead>\n",
       "    <tr style=\"text-align: right;\">\n",
       "      <th></th>\n",
       "      <th>Precision_wt</th>\n",
       "      <th>Recall_wt</th>\n",
       "      <th>F-score_wt</th>\n",
       "      <th>Precision_macro</th>\n",
       "      <th>Recall_macro</th>\n",
       "      <th>F-score_macro</th>\n",
       "    </tr>\n",
       "  </thead>\n",
       "  <tbody>\n",
       "    <tr>\n",
       "      <th>0</th>\n",
       "      <td>99.820000</td>\n",
       "      <td>99.820000</td>\n",
       "      <td>99.820000</td>\n",
       "      <td>99.360001</td>\n",
       "      <td>96.350006</td>\n",
       "      <td>97.820000</td>\n",
       "    </tr>\n",
       "    <tr>\n",
       "      <th>1</th>\n",
       "      <td>99.820000</td>\n",
       "      <td>99.830002</td>\n",
       "      <td>99.820000</td>\n",
       "      <td>99.419998</td>\n",
       "      <td>97.430000</td>\n",
       "      <td>98.409996</td>\n",
       "    </tr>\n",
       "    <tr>\n",
       "      <th>2</th>\n",
       "      <td>99.830002</td>\n",
       "      <td>99.830002</td>\n",
       "      <td>99.830002</td>\n",
       "      <td>99.479996</td>\n",
       "      <td>97.659996</td>\n",
       "      <td>98.559998</td>\n",
       "    </tr>\n",
       "    <tr>\n",
       "      <th>3</th>\n",
       "      <td>99.830002</td>\n",
       "      <td>99.830002</td>\n",
       "      <td>99.830002</td>\n",
       "      <td>99.559998</td>\n",
       "      <td>96.270004</td>\n",
       "      <td>97.869995</td>\n",
       "    </tr>\n",
       "    <tr>\n",
       "      <th>4</th>\n",
       "      <td>99.830002</td>\n",
       "      <td>99.830002</td>\n",
       "      <td>99.830002</td>\n",
       "      <td>99.180000</td>\n",
       "      <td>96.979996</td>\n",
       "      <td>98.059998</td>\n",
       "    </tr>\n",
       "    <tr>\n",
       "      <th>Mean</th>\n",
       "      <td>99.826001</td>\n",
       "      <td>99.828001</td>\n",
       "      <td>99.826001</td>\n",
       "      <td>99.399998</td>\n",
       "      <td>96.938000</td>\n",
       "      <td>98.143997</td>\n",
       "    </tr>\n",
       "    <tr>\n",
       "      <th>STD</th>\n",
       "      <td>0.004900</td>\n",
       "      <td>0.004001</td>\n",
       "      <td>0.004900</td>\n",
       "      <td>0.128373</td>\n",
       "      <td>0.558043</td>\n",
       "      <td>0.293571</td>\n",
       "    </tr>\n",
       "  </tbody>\n",
       "</table>\n",
       "</div>"
      ],
      "text/plain": [
       "      Precision_wt  Recall_wt  F-score_wt  Precision_macro  Recall_macro  \\\n",
       "0        99.820000  99.820000   99.820000        99.360001     96.350006   \n",
       "1        99.820000  99.830002   99.820000        99.419998     97.430000   \n",
       "2        99.830002  99.830002   99.830002        99.479996     97.659996   \n",
       "3        99.830002  99.830002   99.830002        99.559998     96.270004   \n",
       "4        99.830002  99.830002   99.830002        99.180000     96.979996   \n",
       "Mean     99.826001  99.828001   99.826001        99.399998     96.938000   \n",
       "STD       0.004900   0.004001    0.004900         0.128373      0.558043   \n",
       "\n",
       "      F-score_macro  \n",
       "0         97.820000  \n",
       "1         98.409996  \n",
       "2         98.559998  \n",
       "3         97.869995  \n",
       "4         98.059998  \n",
       "Mean      98.143997  \n",
       "STD        0.293571  "
      ]
     },
     "metadata": {},
     "output_type": "display_data"
    }
   ],
   "source": [
    "# define the model\n",
    "et_model = build_et_model()\n",
    "\n",
    "# Get some metrics\n",
    "MultiClassMetrics.baseline_metrics(X, Y, et_model)\n",
    "\n",
    "kf_et = MultiClassMetrics.kfold_validation(X, Y, et_model)\n",
    "print(\"Kfold Metrics\")\n",
    "display(kf_et)"
   ]
  },
  {
   "cell_type": "code",
   "execution_count": 23,
   "metadata": {},
   "outputs": [
    {
     "name": "stdout",
     "output_type": "stream",
     "text": [
      "CV Metrics\n"
     ]
    },
    {
     "data": {
      "text/html": [
       "<div>\n",
       "<style scoped>\n",
       "    .dataframe tbody tr th:only-of-type {\n",
       "        vertical-align: middle;\n",
       "    }\n",
       "\n",
       "    .dataframe tbody tr th {\n",
       "        vertical-align: top;\n",
       "    }\n",
       "\n",
       "    .dataframe thead th {\n",
       "        text-align: right;\n",
       "    }\n",
       "</style>\n",
       "<table border=\"1\" class=\"dataframe\">\n",
       "  <thead>\n",
       "    <tr style=\"text-align: right;\">\n",
       "      <th></th>\n",
       "      <th>F-Score_wt</th>\n",
       "      <th>Precision_wt</th>\n",
       "      <th>Recall_wt</th>\n",
       "      <th>F-Score_macro</th>\n",
       "      <th>Precision_macro</th>\n",
       "      <th>Recall_macro</th>\n",
       "    </tr>\n",
       "  </thead>\n",
       "  <tbody>\n",
       "    <tr>\n",
       "      <th>0</th>\n",
       "      <td>92.990000</td>\n",
       "      <td>92.470000</td>\n",
       "      <td>94.310000</td>\n",
       "      <td>14.410000</td>\n",
       "      <td>43.850000</td>\n",
       "      <td>16.950000</td>\n",
       "    </tr>\n",
       "    <tr>\n",
       "      <th>1</th>\n",
       "      <td>92.070000</td>\n",
       "      <td>92.440000</td>\n",
       "      <td>92.190000</td>\n",
       "      <td>23.210000</td>\n",
       "      <td>38.200000</td>\n",
       "      <td>26.220000</td>\n",
       "    </tr>\n",
       "    <tr>\n",
       "      <th>2</th>\n",
       "      <td>92.850000</td>\n",
       "      <td>92.920000</td>\n",
       "      <td>93.990000</td>\n",
       "      <td>20.070000</td>\n",
       "      <td>49.720000</td>\n",
       "      <td>22.030000</td>\n",
       "    </tr>\n",
       "    <tr>\n",
       "      <th>Mean</th>\n",
       "      <td>92.636667</td>\n",
       "      <td>92.610000</td>\n",
       "      <td>93.496667</td>\n",
       "      <td>19.230000</td>\n",
       "      <td>43.923333</td>\n",
       "      <td>21.733333</td>\n",
       "    </tr>\n",
       "    <tr>\n",
       "      <th>STD</th>\n",
       "      <td>0.404750</td>\n",
       "      <td>0.219545</td>\n",
       "      <td>0.933143</td>\n",
       "      <td>3.641355</td>\n",
       "      <td>4.703306</td>\n",
       "      <td>3.790271</td>\n",
       "    </tr>\n",
       "  </tbody>\n",
       "</table>\n",
       "</div>"
      ],
      "text/plain": [
       "      F-Score_wt  Precision_wt  Recall_wt  F-Score_macro  Precision_macro  \\\n",
       "0      92.990000     92.470000  94.310000      14.410000        43.850000   \n",
       "1      92.070000     92.440000  92.190000      23.210000        38.200000   \n",
       "2      92.850000     92.920000  93.990000      20.070000        49.720000   \n",
       "Mean   92.636667     92.610000  93.496667      19.230000        43.923333   \n",
       "STD     0.404750      0.219545   0.933143       3.641355         4.703306   \n",
       "\n",
       "      Recall_macro  \n",
       "0        16.950000  \n",
       "1        26.220000  \n",
       "2        22.030000  \n",
       "Mean     21.733333  \n",
       "STD       3.790271  "
      ]
     },
     "metadata": {},
     "output_type": "display_data"
    }
   ],
   "source": [
    "# cv_rfc = MultiClassMetrics.cv_validation(X, Y, et_model)\n",
    "# print(\"CV Metrics\")\n",
    "# display(cv_rfc)"
   ]
  },
  {
   "cell_type": "code",
   "execution_count": 29,
   "metadata": {},
   "outputs": [],
   "source": [
    "\"\"\"\n",
    "Model 3\n",
    "Gradient Boosted Classifier\n",
    "\"\"\"\n",
    "\n",
    "def build_gbc_model():\n",
    "    # Define the model pipeline\n",
    "    scaler = StandardScaler()\n",
    "\n",
    "    baseline_param = {\n",
    "        'n_estimators': 10,  # default\n",
    "        'loss': 'deviance',\n",
    "        'learning_rate': 0.1,  # Can tune this\n",
    "        'criterion': 'friedman_mse',\n",
    "        'verbose': 1\n",
    "    }\n",
    "\n",
    "    gbc = GradientBoostingClassifier(**baseline_param)\n",
    "\n",
    "    model = Pipeline([\n",
    "        ('scaler', scaler),\n",
    "        ('gbc', gbc)\n",
    "    ])\n",
    "\n",
    "    return model"
   ]
  },
  {
   "cell_type": "code",
   "execution_count": 31,
   "metadata": {},
   "outputs": [],
   "source": [
    "# # define the model\n",
    "# gbc_model = build_gbc_model()\n",
    "\n",
    "# # Get some metrics\n",
    "# MultiClassMetrics.baseline_metrics(X, Y, gbc_model)\n",
    "\n",
    "# kf_gbc = MultiClassMetrics.kfold_validation(X, Y, gbc_model)\n",
    "# print(\"Kfold Metrics\")\n",
    "# display(kf_gbc)"
   ]
  },
  {
   "cell_type": "markdown",
   "metadata": {},
   "source": [
    "### Custom Time series split"
   ]
  },
  {
   "cell_type": "code",
   "execution_count": 38,
   "metadata": {},
   "outputs": [],
   "source": [
    "from sklearn.metrics import jaccard_score, precision_recall_fscore_support, f1_score, recall_score, precision_score, \\\n",
    "    hamming_loss, classification_report"
   ]
  },
  {
   "cell_type": "code",
   "execution_count": 28,
   "metadata": {},
   "outputs": [],
   "source": [
    "def time_split(dataset, pct, date_col='Date', group_col='NodeID'):\n",
    "    \"\"\"\n",
    "    Splits the dataset into train and test taking time into consideration\n",
    "    \"\"\"\n",
    "    train = []\n",
    "    test = []\n",
    "    \n",
    "    # iterate over each group\n",
    "    for gp in dataset[group_col].unique():\n",
    "        temp = dataset[dataset[group_col] == gp].copy() # get gp data\n",
    "        temp.reset_index(inplace=True, drop=True)\n",
    "        temp.sort_values(by=[date_col], inplace=True)  # sort by date\n",
    "        tr, te = np.split(temp, [int(pct * len(temp))])  # split\n",
    "        train.append(tr)\n",
    "        test.append(te)\n",
    "    \n",
    "    # combine all groups\n",
    "    train = pd.concat(train) \n",
    "    test = pd.concat(test)\n",
    "    return train, test\n"
   ]
  },
  {
   "cell_type": "code",
   "execution_count": 34,
   "metadata": {},
   "outputs": [
    {
     "name": "stdout",
     "output_type": "stream",
     "text": [
      "Length of Train samples:\t493156\n",
      "Length of Validation samples:\t328907\n",
      "\n",
      "Labels Split in train and valid\n"
     ]
    },
    {
     "data": {
      "text/html": [
       "<div>\n",
       "<style scoped>\n",
       "    .dataframe tbody tr th:only-of-type {\n",
       "        vertical-align: middle;\n",
       "    }\n",
       "\n",
       "    .dataframe tbody tr th {\n",
       "        vertical-align: top;\n",
       "    }\n",
       "\n",
       "    .dataframe thead th {\n",
       "        text-align: right;\n",
       "    }\n",
       "</style>\n",
       "<table border=\"1\" class=\"dataframe\">\n",
       "  <thead>\n",
       "    <tr style=\"text-align: right;\">\n",
       "      <th></th>\n",
       "      <th>Train</th>\n",
       "      <th>Valid</th>\n",
       "    </tr>\n",
       "  </thead>\n",
       "  <tbody>\n",
       "    <tr>\n",
       "      <th>Normal</th>\n",
       "      <td>491656</td>\n",
       "      <td>328679.0</td>\n",
       "    </tr>\n",
       "    <tr>\n",
       "      <th>Pump</th>\n",
       "      <td>534</td>\n",
       "      <td>61.0</td>\n",
       "    </tr>\n",
       "    <tr>\n",
       "      <th>Tubing</th>\n",
       "      <td>487</td>\n",
       "      <td>126.0</td>\n",
       "    </tr>\n",
       "    <tr>\n",
       "      <th>Rod</th>\n",
       "      <td>465</td>\n",
       "      <td>41.0</td>\n",
       "    </tr>\n",
       "    <tr>\n",
       "      <th>BHA</th>\n",
       "      <td>14</td>\n",
       "      <td>0.0</td>\n",
       "    </tr>\n",
       "  </tbody>\n",
       "</table>\n",
       "</div>"
      ],
      "text/plain": [
       "         Train     Valid\n",
       "Normal  491656  328679.0\n",
       "Pump       534      61.0\n",
       "Tubing     487     126.0\n",
       "Rod        465      41.0\n",
       "BHA         14       0.0"
      ]
     },
     "metadata": {},
     "output_type": "display_data"
    }
   ],
   "source": [
    "train_data, test_data = time_split(full_data, 0.6)\n",
    "\n",
    "print(f'Length of Train samples:\\t{len(train_data)}\\nLength of Test samples:\\t{len(test_data)}')\n",
    "print(f'\\nLabels Split in train and test')\n",
    "_ = pd.concat([train_data.Failures.value_counts(), test_data.Failures.value_counts()], axis=1, keys=['Train', 'Test']).fillna(0)\n",
    "display(_)"
   ]
  },
  {
   "cell_type": "code",
   "execution_count": 35,
   "metadata": {},
   "outputs": [],
   "source": [
    "\"\"\"\n",
    "getting features and labels\n",
    "\"\"\"\n",
    "x_train = train_data.drop(columns=['NodeID', 'Date', 'Failures', 'Label'])\n",
    "y_train = train_data.Label\n",
    "\n",
    "x_test = test_data.drop(columns=['NodeID', 'Date', 'Failures', 'Label'])\n",
    "y_test = test_data.Label"
   ]
  },
  {
   "cell_type": "code",
   "execution_count": 37,
   "metadata": {},
   "outputs": [
    {
     "name": "stdout",
     "output_type": "stream",
     "text": [
      "Features\n"
     ]
    },
    {
     "data": {
      "text/html": [
       "<div>\n",
       "<style scoped>\n",
       "    .dataframe tbody tr th:only-of-type {\n",
       "        vertical-align: middle;\n",
       "    }\n",
       "\n",
       "    .dataframe tbody tr th {\n",
       "        vertical-align: top;\n",
       "    }\n",
       "\n",
       "    .dataframe thead th {\n",
       "        text-align: right;\n",
       "    }\n",
       "</style>\n",
       "<table border=\"1\" class=\"dataframe\">\n",
       "  <thead>\n",
       "    <tr style=\"text-align: right;\">\n",
       "      <th></th>\n",
       "      <th>15D_PPRL</th>\n",
       "      <th>15D_MPRL</th>\n",
       "      <th>15D_FluidLoadonPump</th>\n",
       "      <th>15D_PumpIntakePressure</th>\n",
       "    </tr>\n",
       "  </thead>\n",
       "  <tbody>\n",
       "    <tr>\n",
       "      <th>0</th>\n",
       "      <td>28599.000000</td>\n",
       "      <td>16903.666667</td>\n",
       "      <td>6386.666667</td>\n",
       "      <td>608.000000</td>\n",
       "    </tr>\n",
       "    <tr>\n",
       "      <th>1</th>\n",
       "      <td>28599.000000</td>\n",
       "      <td>16903.666667</td>\n",
       "      <td>6386.666667</td>\n",
       "      <td>608.000000</td>\n",
       "    </tr>\n",
       "    <tr>\n",
       "      <th>2</th>\n",
       "      <td>31613.000000</td>\n",
       "      <td>17062.500000</td>\n",
       "      <td>9915.000000</td>\n",
       "      <td>611.000000</td>\n",
       "    </tr>\n",
       "    <tr>\n",
       "      <th>3</th>\n",
       "      <td>31615.333333</td>\n",
       "      <td>17012.666667</td>\n",
       "      <td>10011.000000</td>\n",
       "      <td>564.666667</td>\n",
       "    </tr>\n",
       "    <tr>\n",
       "      <th>4</th>\n",
       "      <td>31594.500000</td>\n",
       "      <td>17021.250000</td>\n",
       "      <td>9975.250000</td>\n",
       "      <td>576.500000</td>\n",
       "    </tr>\n",
       "  </tbody>\n",
       "</table>\n",
       "</div>"
      ],
      "text/plain": [
       "       15D_PPRL      15D_MPRL  15D_FluidLoadonPump  15D_PumpIntakePressure\n",
       "0  28599.000000  16903.666667          6386.666667              608.000000\n",
       "1  28599.000000  16903.666667          6386.666667              608.000000\n",
       "2  31613.000000  17062.500000          9915.000000              611.000000\n",
       "3  31615.333333  17012.666667         10011.000000              564.666667\n",
       "4  31594.500000  17021.250000          9975.250000              576.500000"
      ]
     },
     "metadata": {},
     "output_type": "display_data"
    },
    {
     "name": "stdout",
     "output_type": "stream",
     "text": [
      "Classes Being Predicted\n"
     ]
    },
    {
     "data": {
      "text/plain": [
       "Normal    466639\n",
       "Pump       10650\n",
       "Rod         8516\n",
       "Tubing      6766\n",
       "BHA          585\n",
       "Name: Label, dtype: int64"
      ]
     },
     "metadata": {},
     "output_type": "display_data"
    },
    {
     "name": "stdout",
     "output_type": "stream",
     "text": [
      "Features\n"
     ]
    },
    {
     "data": {
      "text/html": [
       "<div>\n",
       "<style scoped>\n",
       "    .dataframe tbody tr th:only-of-type {\n",
       "        vertical-align: middle;\n",
       "    }\n",
       "\n",
       "    .dataframe tbody tr th {\n",
       "        vertical-align: top;\n",
       "    }\n",
       "\n",
       "    .dataframe thead th {\n",
       "        text-align: right;\n",
       "    }\n",
       "</style>\n",
       "<table border=\"1\" class=\"dataframe\">\n",
       "  <thead>\n",
       "    <tr style=\"text-align: right;\">\n",
       "      <th></th>\n",
       "      <th>15D_PPRL</th>\n",
       "      <th>15D_MPRL</th>\n",
       "      <th>15D_FluidLoadonPump</th>\n",
       "      <th>15D_PumpIntakePressure</th>\n",
       "    </tr>\n",
       "  </thead>\n",
       "  <tbody>\n",
       "    <tr>\n",
       "      <th>1628</th>\n",
       "      <td>31774.180328</td>\n",
       "      <td>15546.524590</td>\n",
       "      <td>7556.295082</td>\n",
       "      <td>585.372881</td>\n",
       "    </tr>\n",
       "    <tr>\n",
       "      <th>1629</th>\n",
       "      <td>31787.758065</td>\n",
       "      <td>15537.983871</td>\n",
       "      <td>7550.709677</td>\n",
       "      <td>587.700000</td>\n",
       "    </tr>\n",
       "    <tr>\n",
       "      <th>1630</th>\n",
       "      <td>31792.253968</td>\n",
       "      <td>15525.809524</td>\n",
       "      <td>7564.333333</td>\n",
       "      <td>581.786885</td>\n",
       "    </tr>\n",
       "    <tr>\n",
       "      <th>1631</th>\n",
       "      <td>31791.546875</td>\n",
       "      <td>15528.718750</td>\n",
       "      <td>7560.812500</td>\n",
       "      <td>583.225806</td>\n",
       "    </tr>\n",
       "    <tr>\n",
       "      <th>1632</th>\n",
       "      <td>31802.892308</td>\n",
       "      <td>15521.046154</td>\n",
       "      <td>7557.492308</td>\n",
       "      <td>584.587302</td>\n",
       "    </tr>\n",
       "  </tbody>\n",
       "</table>\n",
       "</div>"
      ],
      "text/plain": [
       "          15D_PPRL      15D_MPRL  15D_FluidLoadonPump  15D_PumpIntakePressure\n",
       "1628  31774.180328  15546.524590          7556.295082              585.372881\n",
       "1629  31787.758065  15537.983871          7550.709677              587.700000\n",
       "1630  31792.253968  15525.809524          7564.333333              581.786885\n",
       "1631  31791.546875  15528.718750          7560.812500              583.225806\n",
       "1632  31802.892308  15521.046154          7557.492308              584.587302"
      ]
     },
     "metadata": {},
     "output_type": "display_data"
    },
    {
     "name": "stdout",
     "output_type": "stream",
     "text": [
      "Classes Being Predicted\n"
     ]
    },
    {
     "data": {
      "text/plain": [
       "Normal    324226\n",
       "Tubing      2253\n",
       "Rod         1222\n",
       "Pump        1206\n",
       "Name: Label, dtype: int64"
      ]
     },
     "metadata": {},
     "output_type": "display_data"
    }
   ],
   "source": [
    "print(\"Train Features\")\n",
    "display(x_train.head())\n",
    "print(\"Train Classes\")\n",
    "display(y_train.value_counts())\n",
    "\n",
    "print(\"Test Features\")\n",
    "display(x_test.head())\n",
    "print(\"Test Classes\")\n",
    "display(y_test.value_counts())"
   ]
  },
  {
   "cell_type": "code",
   "execution_count": 41,
   "metadata": {},
   "outputs": [
    {
     "name": "stderr",
     "output_type": "stream",
     "text": [
      "c:\\users\\rai_v\\onedrive\\python coursera\\oasis\\venv\\lib\\site-packages\\sklearn\\metrics\\_classification.py:1221: UndefinedMetricWarning: Recall and F-score are ill-defined and being set to 0.0 in labels with no true samples. Use `zero_division` parameter to control this behavior.\n",
      "  _warn_prf(average, modifier, msg_start, len(result))\n"
     ]
    },
    {
     "name": "stdout",
     "output_type": "stream",
     "text": [
      "Weighted Metrics\n",
      "Precision : 97.27\n",
      "Recall: 97.49\n",
      "F-score: 97.38\n",
      "\n",
      "Macro Metrics\n",
      "Precision : 22.45\n",
      "Recall: 21.81\n",
      "F-score: 22.06\n",
      "\n",
      "Classification Report\n",
      "              precision    recall  f1-score   support\n",
      "\n",
      "         BHA       0.00      0.00      0.00         0\n",
      "      Normal       0.99      0.99      0.99    324226\n",
      "        Pump       0.00      0.00      0.00      1206\n",
      "         Rod       0.10      0.06      0.08      1222\n",
      "      Tubing       0.04      0.04      0.04      2253\n",
      "\n",
      "    accuracy                           0.97    328907\n",
      "   macro avg       0.22      0.22      0.22    328907\n",
      "weighted avg       0.97      0.97      0.97    328907\n",
      "\n"
     ]
    }
   ],
   "source": [
    "# define the model\n",
    "et_model = build_rfc_model()\n",
    "\n",
    "et_model.fit(x_train, y_train)\n",
    "\n",
    "y_pred = et_model.predict(x_test)\n",
    "\n",
    "sc = np.array(precision_recall_fscore_support(y_test, y_pred, average='weighted'), dtype=np.float32).round(\n",
    "    4) * 100\n",
    "print('Weighted Metrics')\n",
    "print('Precision : {:.2f}\\nRecall: {:.2f}\\nF-score: {:.2f}'.format(sc[0], sc[1], sc[2]))\n",
    "\n",
    "print('\\nMacro Metrics')\n",
    "sc_macro = np.array(precision_recall_fscore_support(y_test, y_pred, average='macro'), dtype=np.float32).round(\n",
    "    4) * 100\n",
    "print('Precision : {:.2f}\\nRecall: {:.2f}\\nF-score: {:.2f}'.format(sc_macro[0], sc_macro[1], sc_macro[2]))\n",
    "\n",
    "print(\"\\nClassification Report\")\n",
    "print(classification_report(y_test, y_pred))"
   ]
  },
  {
   "cell_type": "markdown",
   "metadata": {},
   "source": [
    "# Training and Saving the model\n",
    "\n",
    "Using the `lib_aws.S3` class. We can serialize and save a trained model.  "
   ]
  },
  {
   "cell_type": "code",
   "execution_count": 32,
   "metadata": {},
   "outputs": [],
   "source": [
    "model_train = build_et_model() # Define a model"
   ]
  },
  {
   "cell_type": "code",
   "execution_count": 33,
   "metadata": {},
   "outputs": [
    {
     "name": "stdout",
     "output_type": "stream",
     "text": [
      "Wall time: 25.4 s\n"
     ]
    },
    {
     "data": {
      "text/plain": [
       "Pipeline(steps=[('scaler', StandardScaler()),\n",
       "                ('et', ExtraTreesClassifier(class_weight='balanced'))])"
      ]
     },
     "execution_count": 33,
     "metadata": {},
     "output_type": "execute_result"
    }
   ],
   "source": [
    "%%time\n",
    "model_train.fit(X, Y)  # fit the model"
   ]
  },
  {
   "cell_type": "code",
   "execution_count": 34,
   "metadata": {},
   "outputs": [
    {
     "name": "stdout",
     "output_type": "stream",
     "text": [
      "Model Updated successfully\n",
      "Wall time: 41min\n"
     ]
    }
   ],
   "source": [
    "%%time\n",
    "# saving the trained model in s3\n",
    "s3 = lib_aws.S3(bucket='et-oasis')\n",
    "model_name = 'production-models/rod-pumps/test_et_model.pkl'\n",
    "s3.save_model(obj=model_train, name=model_name)\n",
    "\n",
    "# Saving the model locally\n",
    "# Save the model as a pickle in a file \n",
    "# joblib.dump(model_train, 'model_rfc.pkl') "
   ]
  },
  {
   "cell_type": "markdown",
   "metadata": {},
   "source": [
    "# Making Predictions\n",
    "\n",
    "While making predictions modify the features accordingly."
   ]
  },
  {
   "cell_type": "code",
   "execution_count": 62,
   "metadata": {},
   "outputs": [
    {
     "name": "stdout",
     "output_type": "stream",
     "text": [
      "Wall time: 7min 19s\n"
     ]
    },
    {
     "data": {
      "text/html": [
       "<div>\n",
       "<style scoped>\n",
       "    .dataframe tbody tr th:only-of-type {\n",
       "        vertical-align: middle;\n",
       "    }\n",
       "\n",
       "    .dataframe tbody tr th {\n",
       "        vertical-align: top;\n",
       "    }\n",
       "\n",
       "    .dataframe thead th {\n",
       "        text-align: right;\n",
       "    }\n",
       "</style>\n",
       "<table border=\"1\" class=\"dataframe\">\n",
       "  <thead>\n",
       "    <tr style=\"text-align: right;\">\n",
       "      <th></th>\n",
       "      <th>NodeID</th>\n",
       "      <th>Date</th>\n",
       "      <th>PPRL</th>\n",
       "      <th>MPRL</th>\n",
       "      <th>FluidLoadonPump</th>\n",
       "      <th>PumpIntakePressure</th>\n",
       "    </tr>\n",
       "  </thead>\n",
       "  <tbody>\n",
       "    <tr>\n",
       "      <th>0</th>\n",
       "      <td>Aagvik 1-35H</td>\n",
       "      <td>2019-06-21 15:58:34</td>\n",
       "      <td>27639.0</td>\n",
       "      <td>16811.0</td>\n",
       "      <td>3280.0</td>\n",
       "      <td>NaN</td>\n",
       "    </tr>\n",
       "    <tr>\n",
       "      <th>1</th>\n",
       "      <td>Aagvik 1-35H</td>\n",
       "      <td>2019-06-21 16:25:36</td>\n",
       "      <td>27457.0</td>\n",
       "      <td>16752.0</td>\n",
       "      <td>3241.0</td>\n",
       "      <td>NaN</td>\n",
       "    </tr>\n",
       "    <tr>\n",
       "      <th>2</th>\n",
       "      <td>Aagvik 1-35H</td>\n",
       "      <td>2019-06-21 18:25:16</td>\n",
       "      <td>27448.0</td>\n",
       "      <td>16594.0</td>\n",
       "      <td>3330.0</td>\n",
       "      <td>NaN</td>\n",
       "    </tr>\n",
       "    <tr>\n",
       "      <th>3</th>\n",
       "      <td>Aagvik 1-35H</td>\n",
       "      <td>2019-06-21 18:28:10</td>\n",
       "      <td>27424.0</td>\n",
       "      <td>16595.0</td>\n",
       "      <td>3327.0</td>\n",
       "      <td>NaN</td>\n",
       "    </tr>\n",
       "    <tr>\n",
       "      <th>4</th>\n",
       "      <td>Aagvik 1-35H</td>\n",
       "      <td>2019-06-21 20:25:01</td>\n",
       "      <td>27662.0</td>\n",
       "      <td>16711.0</td>\n",
       "      <td>3341.0</td>\n",
       "      <td>NaN</td>\n",
       "    </tr>\n",
       "  </tbody>\n",
       "</table>\n",
       "</div>"
      ],
      "text/plain": [
       "         NodeID                Date     PPRL     MPRL  FluidLoadonPump  \\\n",
       "0  Aagvik 1-35H 2019-06-21 15:58:34  27639.0  16811.0           3280.0   \n",
       "1  Aagvik 1-35H 2019-06-21 16:25:36  27457.0  16752.0           3241.0   \n",
       "2  Aagvik 1-35H 2019-06-21 18:25:16  27448.0  16594.0           3330.0   \n",
       "3  Aagvik 1-35H 2019-06-21 18:28:10  27424.0  16595.0           3327.0   \n",
       "4  Aagvik 1-35H 2019-06-21 20:25:01  27662.0  16711.0           3341.0   \n",
       "\n",
       "   PumpIntakePressure  \n",
       "0                 NaN  \n",
       "1                 NaN  \n",
       "2                 NaN  \n",
       "3                 NaN  \n",
       "4                 NaN  "
      ]
     },
     "execution_count": 62,
     "metadata": {},
     "output_type": "execute_result"
    }
   ],
   "source": [
    "%%time\n",
    "# To mimic actual working in production query the entire data again\n",
    "# Find moving averages\n",
    "# drop nan values \n",
    "# make predictions\n",
    "full_query = \"\"\"\n",
    "SELECT\n",
    "    \"NodeID\",\n",
    "    \"Date\",\n",
    "    \"PPRL\",\n",
    "    \"MPRL\",\n",
    "    \"FluidLoadonPump\",\n",
    "    \"PumpIntakePressure\"\n",
    "FROM xspoc.xdiag\n",
    "ORDER BY \"NodeID\",\"Date\"\n",
    "\"\"\"\n",
    "\n",
    "with lib_aws.PostgresRDS(db='oasis-prod') as engine:\n",
    "    data = pd.read_sql(full_query, engine, parse_dates=['Date'])\n",
    "    \n",
    "data.head()"
   ]
  },
  {
   "cell_type": "code",
   "execution_count": 63,
   "metadata": {},
   "outputs": [
    {
     "name": "stdout",
     "output_type": "stream",
     "text": [
      "Wall time: 2min 49s\n"
     ]
    },
    {
     "data": {
      "text/html": [
       "<div>\n",
       "<style scoped>\n",
       "    .dataframe tbody tr th:only-of-type {\n",
       "        vertical-align: middle;\n",
       "    }\n",
       "\n",
       "    .dataframe tbody tr th {\n",
       "        vertical-align: top;\n",
       "    }\n",
       "\n",
       "    .dataframe thead th {\n",
       "        text-align: right;\n",
       "    }\n",
       "</style>\n",
       "<table border=\"1\" class=\"dataframe\">\n",
       "  <thead>\n",
       "    <tr style=\"text-align: right;\">\n",
       "      <th></th>\n",
       "      <th>NodeID</th>\n",
       "      <th>Date</th>\n",
       "      <th>7D_PPRL</th>\n",
       "      <th>7D_MPRL</th>\n",
       "      <th>7D_FluidLoadonPump</th>\n",
       "      <th>7D_PumpIntakePressure</th>\n",
       "    </tr>\n",
       "  </thead>\n",
       "  <tbody>\n",
       "    <tr>\n",
       "      <th>0</th>\n",
       "      <td>Aagvik 1-35H</td>\n",
       "      <td>2019-08-13 11:19:56</td>\n",
       "      <td>31488.000000</td>\n",
       "      <td>17075.000000</td>\n",
       "      <td>9968.00</td>\n",
       "      <td>608.000000</td>\n",
       "    </tr>\n",
       "    <tr>\n",
       "      <th>1</th>\n",
       "      <td>Aagvik 1-35H</td>\n",
       "      <td>2019-08-15 06:04:48</td>\n",
       "      <td>31613.000000</td>\n",
       "      <td>17062.500000</td>\n",
       "      <td>9915.00</td>\n",
       "      <td>611.000000</td>\n",
       "    </tr>\n",
       "    <tr>\n",
       "      <th>2</th>\n",
       "      <td>Aagvik 1-35H</td>\n",
       "      <td>2019-08-15 07:53:36</td>\n",
       "      <td>31615.333333</td>\n",
       "      <td>17012.666667</td>\n",
       "      <td>10011.00</td>\n",
       "      <td>564.666667</td>\n",
       "    </tr>\n",
       "    <tr>\n",
       "      <th>3</th>\n",
       "      <td>Aagvik 1-35H</td>\n",
       "      <td>2019-08-15 10:02:31</td>\n",
       "      <td>31594.500000</td>\n",
       "      <td>17021.250000</td>\n",
       "      <td>9975.25</td>\n",
       "      <td>576.500000</td>\n",
       "    </tr>\n",
       "    <tr>\n",
       "      <th>4</th>\n",
       "      <td>Aagvik 1-35H</td>\n",
       "      <td>2019-08-15 12:14:05</td>\n",
       "      <td>31621.400000</td>\n",
       "      <td>16997.800000</td>\n",
       "      <td>9907.00</td>\n",
       "      <td>603.000000</td>\n",
       "    </tr>\n",
       "  </tbody>\n",
       "</table>\n",
       "</div>"
      ],
      "text/plain": [
       "         NodeID                Date       7D_PPRL       7D_MPRL  \\\n",
       "0  Aagvik 1-35H 2019-08-13 11:19:56  31488.000000  17075.000000   \n",
       "1  Aagvik 1-35H 2019-08-15 06:04:48  31613.000000  17062.500000   \n",
       "2  Aagvik 1-35H 2019-08-15 07:53:36  31615.333333  17012.666667   \n",
       "3  Aagvik 1-35H 2019-08-15 10:02:31  31594.500000  17021.250000   \n",
       "4  Aagvik 1-35H 2019-08-15 12:14:05  31621.400000  16997.800000   \n",
       "\n",
       "   7D_FluidLoadonPump  7D_PumpIntakePressure  \n",
       "0             9968.00             608.000000  \n",
       "1             9915.00             611.000000  \n",
       "2            10011.00             564.666667  \n",
       "3             9975.25             576.500000  \n",
       "4             9907.00             603.000000  "
      ]
     },
     "execution_count": 63,
     "metadata": {},
     "output_type": "execute_result"
    }
   ],
   "source": [
    "%%time\n",
    "# Feature Engg\n",
    "# Will find moving averages\n",
    "# Drop NAN's\n",
    "# 7 day rolling averages\n",
    "avg_data = get_agg(df=data, freq='7D')  \n",
    "\n",
    "# Merge it with the original data \n",
    "# and use only those columns which will be of use\n",
    "# While working with large datasets try optmizing the copies of dataframes you create\n",
    "# May not even have to merge it\n",
    "\n",
    "full_data = data.set_index(['NodeID', 'Date']).merge(avg_data.set_index(['NodeID', 'Date']), \n",
    "                                                     left_index=True,\n",
    "                                                     right_index=True).reset_index()\n",
    "\n",
    "# Drop Columns that we dont need\n",
    "cols_drop = [\n",
    "    'PPRL',\n",
    "    'MPRL',\n",
    "    'PumpIntakePressure',\n",
    "    'FluidLoadonPump',\n",
    "]\n",
    "\n",
    "full_data.drop(columns=cols_drop, inplace=True)\n",
    "full_data.dropna(inplace=True)\n",
    "full_data.reset_index(inplace=True, drop=True)\n",
    "full_data.head()"
   ]
  },
  {
   "cell_type": "code",
   "execution_count": 60,
   "metadata": {},
   "outputs": [
    {
     "name": "stdout",
     "output_type": "stream",
     "text": [
      "Wall time: 0 ns\n"
     ]
    }
   ],
   "source": [
    "%%time\n",
    "# #load the model\n",
    "# s3 = lib_aws.S3(bucket='et-oasis')\n",
    "# model_name = '/algo/failure-forecasting/rfc_model_v2.pkl'\n",
    "# imported_model = s3.import_model(model_name)\n",
    "\n",
    "# Load model Locally\n",
    "# imported_model = joblib.load('model_rfc.pkl') \n",
    "\n",
    "# If training done in the same notebook instance use that itself\n",
    "imported_model = model_train"
   ]
  },
  {
   "cell_type": "code",
   "execution_count": 78,
   "metadata": {},
   "outputs": [
    {
     "name": "stdout",
     "output_type": "stream",
     "text": [
      "Wall time: 1min 36s\n"
     ]
    }
   ],
   "source": [
    "%%time\n",
    "x_pred = full_data.drop(columns=['NodeID', 'Date'])\n",
    "predictions = imported_model.predict(x_pred)  # Get Label Predictions\n",
    "probabilities = imported_model.predict_proba(x_pred)  # Get Probabilities"
   ]
  },
  {
   "cell_type": "code",
   "execution_count": 79,
   "metadata": {},
   "outputs": [
    {
     "name": "stdout",
     "output_type": "stream",
     "text": [
      "Wall time: 1.22 s\n"
     ]
    }
   ],
   "source": [
    "%%time\n",
    "# Creating final pred_df\n",
    "classes_predicted = imported_model[1].classes_  # Trained rfc part for making predictions\n",
    "pred_df = pd.concat([\n",
    "    full_data[[\"NodeID\", \"Date\"]], # NodeID and Date for indexing\n",
    "    pd.DataFrame(np.round(probabilities * 100, 2), columns=classes_predicted),  # probabilities for each class\n",
    "    pd.DataFrame(predictions, columns=['Prediction'])  # Actual Predictions\n",
    "], axis=1)"
   ]
  },
  {
   "cell_type": "code",
   "execution_count": 87,
   "metadata": {},
   "outputs": [],
   "source": [
    "rem_arr = np.array([\"NodeID\", \"Date\", \"Normal\", \"Prediction\"])\n",
    "prob_cols = np.setdiff1d(pred_df.columns, rem_arr)\n",
    "pred_df['FailureProb'] = pred_df[prob_cols].max(axis=1)\n",
    "\n",
    "# Dropping class based probabilities\n",
    "pred_df.drop(columns = prob_cols, inplace=True)"
   ]
  },
  {
   "cell_type": "code",
   "execution_count": 88,
   "metadata": {},
   "outputs": [
    {
     "data": {
      "text/html": [
       "<div>\n",
       "<style scoped>\n",
       "    .dataframe tbody tr th:only-of-type {\n",
       "        vertical-align: middle;\n",
       "    }\n",
       "\n",
       "    .dataframe tbody tr th {\n",
       "        vertical-align: top;\n",
       "    }\n",
       "\n",
       "    .dataframe thead th {\n",
       "        text-align: right;\n",
       "    }\n",
       "</style>\n",
       "<table border=\"1\" class=\"dataframe\">\n",
       "  <thead>\n",
       "    <tr style=\"text-align: right;\">\n",
       "      <th></th>\n",
       "      <th>NodeID</th>\n",
       "      <th>Date</th>\n",
       "      <th>Normal</th>\n",
       "      <th>Prediction</th>\n",
       "      <th>FailureProb</th>\n",
       "    </tr>\n",
       "  </thead>\n",
       "  <tbody>\n",
       "    <tr>\n",
       "      <th>0</th>\n",
       "      <td>Aagvik 1-35H</td>\n",
       "      <td>2019-08-13 11:19:56</td>\n",
       "      <td>100.0</td>\n",
       "      <td>Normal</td>\n",
       "      <td>0.0</td>\n",
       "    </tr>\n",
       "    <tr>\n",
       "      <th>1</th>\n",
       "      <td>Aagvik 1-35H</td>\n",
       "      <td>2019-08-15 06:04:48</td>\n",
       "      <td>100.0</td>\n",
       "      <td>Normal</td>\n",
       "      <td>0.0</td>\n",
       "    </tr>\n",
       "    <tr>\n",
       "      <th>2</th>\n",
       "      <td>Aagvik 1-35H</td>\n",
       "      <td>2019-08-15 07:53:36</td>\n",
       "      <td>100.0</td>\n",
       "      <td>Normal</td>\n",
       "      <td>0.0</td>\n",
       "    </tr>\n",
       "    <tr>\n",
       "      <th>3</th>\n",
       "      <td>Aagvik 1-35H</td>\n",
       "      <td>2019-08-15 10:02:31</td>\n",
       "      <td>100.0</td>\n",
       "      <td>Normal</td>\n",
       "      <td>0.0</td>\n",
       "    </tr>\n",
       "    <tr>\n",
       "      <th>4</th>\n",
       "      <td>Aagvik 1-35H</td>\n",
       "      <td>2019-08-15 12:14:05</td>\n",
       "      <td>100.0</td>\n",
       "      <td>Normal</td>\n",
       "      <td>0.0</td>\n",
       "    </tr>\n",
       "  </tbody>\n",
       "</table>\n",
       "</div>"
      ],
      "text/plain": [
       "         NodeID                Date  Normal Prediction  FailureProb\n",
       "0  Aagvik 1-35H 2019-08-13 11:19:56   100.0     Normal          0.0\n",
       "1  Aagvik 1-35H 2019-08-15 06:04:48   100.0     Normal          0.0\n",
       "2  Aagvik 1-35H 2019-08-15 07:53:36   100.0     Normal          0.0\n",
       "3  Aagvik 1-35H 2019-08-15 10:02:31   100.0     Normal          0.0\n",
       "4  Aagvik 1-35H 2019-08-15 12:14:05   100.0     Normal          0.0"
      ]
     },
     "execution_count": 88,
     "metadata": {},
     "output_type": "execute_result"
    }
   ],
   "source": [
    "pred_df.head()"
   ]
  },
  {
   "cell_type": "code",
   "execution_count": 75,
   "metadata": {},
   "outputs": [],
   "source": [
    "# # Custom mapping only for now, modify the classes while training\n",
    "# # This has been taken care of, dont have to run this\n",
    "# class_mapping = {\n",
    "#     'fz_BHA': 'BHA',\n",
    "#     'fz_PUMP': 'PUMP',\n",
    "#     'fz_ROD': 'ROD',\n",
    "#     'fz_TUBING': 'TUBING'\n",
    "# }\n",
    "# pred_df.Prediction = pred_df.Prediction.map(class_mapping).fillna(pred_df.Prediction)  # mapping Predictions to actual class values\n",
    "# pred_df.rename(columns=class_mapping, inplace=True)  # mapping column names to actual class values\n"
   ]
  },
  {
   "cell_type": "code",
   "execution_count": 89,
   "metadata": {},
   "outputs": [
    {
     "name": "stdout",
     "output_type": "stream",
     "text": [
      "Wall time: 1min 23s\n"
     ]
    }
   ],
   "source": [
    "%%time\n",
    "# Filling nulls with str columns as well\n",
    "pred_df.set_index(['NodeID', 'Date'], inplace=True)  # set index\n",
    "\n",
    "#seperate string columns and num columns\n",
    "pred_str = pred_df.select_dtypes(include='object')\n",
    "pred_num = pred_df.select_dtypes(exclude='object')\n",
    "\n",
    "# fill nulls in num columns\n",
    "pred_num.reset_index(inplace=True)\n",
    "pred_num = fill_null(pred_num, chk_col='Normal', well_col='NodeID', time_col='Date')\n",
    "pred_num.set_index(['NodeID', 'Date'], inplace=True)\n",
    "\n",
    "# merge for final df\n",
    "pred_df = pd.concat([pred_num, pred_str], axis=1)\n",
    "pred_df.reset_index(inplace=True)"
   ]
  },
  {
   "cell_type": "code",
   "execution_count": 67,
   "metadata": {},
   "outputs": [],
   "source": [
    "# pred_df.columns = pred_df.columns.str.replace('\"', 'in')"
   ]
  },
  {
   "cell_type": "code",
   "execution_count": 90,
   "metadata": {},
   "outputs": [
    {
     "data": {
      "text/html": [
       "<div>\n",
       "<style scoped>\n",
       "    .dataframe tbody tr th:only-of-type {\n",
       "        vertical-align: middle;\n",
       "    }\n",
       "\n",
       "    .dataframe tbody tr th {\n",
       "        vertical-align: top;\n",
       "    }\n",
       "\n",
       "    .dataframe thead th {\n",
       "        text-align: right;\n",
       "    }\n",
       "</style>\n",
       "<table border=\"1\" class=\"dataframe\">\n",
       "  <thead>\n",
       "    <tr style=\"text-align: right;\">\n",
       "      <th></th>\n",
       "      <th>NodeID</th>\n",
       "      <th>Date</th>\n",
       "      <th>Normal</th>\n",
       "      <th>FailureProb</th>\n",
       "      <th>Prediction</th>\n",
       "    </tr>\n",
       "  </thead>\n",
       "  <tbody>\n",
       "    <tr>\n",
       "      <th>0</th>\n",
       "      <td>Aagvik 1-35H</td>\n",
       "      <td>2019-08-13 11:19:56</td>\n",
       "      <td>100.0</td>\n",
       "      <td>0.0</td>\n",
       "      <td>Normal</td>\n",
       "    </tr>\n",
       "    <tr>\n",
       "      <th>1</th>\n",
       "      <td>Aagvik 1-35H</td>\n",
       "      <td>2019-08-14 00:00:00</td>\n",
       "      <td>NaN</td>\n",
       "      <td>NaN</td>\n",
       "      <td>NaN</td>\n",
       "    </tr>\n",
       "    <tr>\n",
       "      <th>2</th>\n",
       "      <td>Aagvik 1-35H</td>\n",
       "      <td>2019-08-15 06:04:48</td>\n",
       "      <td>100.0</td>\n",
       "      <td>0.0</td>\n",
       "      <td>Normal</td>\n",
       "    </tr>\n",
       "    <tr>\n",
       "      <th>3</th>\n",
       "      <td>Aagvik 1-35H</td>\n",
       "      <td>2019-08-15 07:53:36</td>\n",
       "      <td>100.0</td>\n",
       "      <td>0.0</td>\n",
       "      <td>Normal</td>\n",
       "    </tr>\n",
       "    <tr>\n",
       "      <th>4</th>\n",
       "      <td>Aagvik 1-35H</td>\n",
       "      <td>2019-08-15 10:02:31</td>\n",
       "      <td>100.0</td>\n",
       "      <td>0.0</td>\n",
       "      <td>Normal</td>\n",
       "    </tr>\n",
       "  </tbody>\n",
       "</table>\n",
       "</div>"
      ],
      "text/plain": [
       "         NodeID                Date  Normal  FailureProb Prediction\n",
       "0  Aagvik 1-35H 2019-08-13 11:19:56   100.0          0.0     Normal\n",
       "1  Aagvik 1-35H 2019-08-14 00:00:00     NaN          NaN        NaN\n",
       "2  Aagvik 1-35H 2019-08-15 06:04:48   100.0          0.0     Normal\n",
       "3  Aagvik 1-35H 2019-08-15 07:53:36   100.0          0.0     Normal\n",
       "4  Aagvik 1-35H 2019-08-15 10:02:31   100.0          0.0     Normal"
      ]
     },
     "execution_count": 90,
     "metadata": {},
     "output_type": "execute_result"
    }
   ],
   "source": [
    "pred_df.head()"
   ]
  },
  {
   "cell_type": "code",
   "execution_count": 91,
   "metadata": {},
   "outputs": [
    {
     "name": "stdout",
     "output_type": "stream",
     "text": [
      "Data replaceed on Table sample_predictions in time 92.55s\n"
     ]
    }
   ],
   "source": [
    "# Adding data to DB\n",
    "# Replace the full bounds df\n",
    "# Will only work if INSERT/Update ACCESS provided to databse\n",
    "lib_aws.AddData.add_data(df=pred_df, \n",
    "                         db='oasis-prod', \n",
    "                         schema='xspoc',\n",
    "                         table='sample_predictions', \n",
    "                         merge_type='replace', \n",
    "                         card_col=None, \n",
    "                         index_col='Date')"
   ]
  },
  {
   "cell_type": "code",
   "execution_count": 92,
   "metadata": {},
   "outputs": [],
   "source": [
    "# Setting up indexes\n",
    "# Update index on pred table in database\n",
    "with lib_aws.PostgresRDS(db='oasis-prod') as engine:\n",
    "    with engine.begin() as connection:\n",
    "        connection.execute(\"\"\"CREATE UNIQUE INDEX sample_predictions_idx ON xspoc.sample_predictions (\"NodeID\", \"Date\");\"\"\")\n"
   ]
  },
  {
   "cell_type": "markdown",
   "metadata": {
    "heading_collapsed": true
   },
   "source": [
    "## Some Additional Functions\n",
    "\n",
    "Help with adding some specific tables to the database:\n",
    "\n",
    "**Add a failure db with failures as 0,1 (Only used for visualization)**\n",
    "\n",
    "**Fill in NAN values in the data**\n",
    "- After querying the whole dataset\n",
    "- Find those datapoints (Date, NodeID as index) where we dont have Data present\n"
   ]
  },
  {
   "cell_type": "code",
   "execution_count": null,
   "metadata": {
    "hidden": true
   },
   "outputs": [],
   "source": []
  },
  {
   "cell_type": "code",
   "execution_count": 72,
   "metadata": {
    "hidden": true
   },
   "outputs": [],
   "source": [
    "# Check Failure Info\n",
    "data_query = \"\"\"\n",
    "SELECT\n",
    "    \"NodeID\",\n",
    "    \"Date\",\n",
    "    \"PPRL\"\n",
    "FROM xspoc.xdiag\n",
    "WHERE \"NodeID\" in {}\n",
    "ORDER BY \"NodeID\",\"Date\"\n",
    "\"\"\".format(tuple(well_list))\n",
    "\n",
    "with lib_aws.PostgresRDS(db='oasis-prod') as engine:\n",
    "    only_fails = pd.read_sql(data_query, engine, parse_dates=['Date'])"
   ]
  },
  {
   "cell_type": "code",
   "execution_count": 73,
   "metadata": {
    "hidden": true
   },
   "outputs": [
    {
     "name": "stdout",
     "output_type": "stream",
     "text": [
      "Wall time: 24 s\n"
     ]
    },
    {
     "data": {
      "text/html": [
       "<div>\n",
       "<style scoped>\n",
       "    .dataframe tbody tr th:only-of-type {\n",
       "        vertical-align: middle;\n",
       "    }\n",
       "\n",
       "    .dataframe tbody tr th {\n",
       "        vertical-align: top;\n",
       "    }\n",
       "\n",
       "    .dataframe thead th {\n",
       "        text-align: right;\n",
       "    }\n",
       "</style>\n",
       "<table border=\"1\" class=\"dataframe\">\n",
       "  <thead>\n",
       "    <tr style=\"text-align: right;\">\n",
       "      <th></th>\n",
       "      <th>Date</th>\n",
       "      <th>NodeID</th>\n",
       "      <th>Components</th>\n",
       "    </tr>\n",
       "  </thead>\n",
       "  <tbody>\n",
       "    <tr>\n",
       "      <th>0</th>\n",
       "      <td>2019-06-21 15:58:34</td>\n",
       "      <td>Aagvik 1-35H</td>\n",
       "      <td>Normal</td>\n",
       "    </tr>\n",
       "    <tr>\n",
       "      <th>1</th>\n",
       "      <td>2019-06-21 16:25:36</td>\n",
       "      <td>Aagvik 1-35H</td>\n",
       "      <td>Normal</td>\n",
       "    </tr>\n",
       "    <tr>\n",
       "      <th>2</th>\n",
       "      <td>2019-06-21 18:25:16</td>\n",
       "      <td>Aagvik 1-35H</td>\n",
       "      <td>Normal</td>\n",
       "    </tr>\n",
       "    <tr>\n",
       "      <th>3</th>\n",
       "      <td>2019-06-21 18:28:10</td>\n",
       "      <td>Aagvik 1-35H</td>\n",
       "      <td>Normal</td>\n",
       "    </tr>\n",
       "    <tr>\n",
       "      <th>4</th>\n",
       "      <td>2019-06-21 20:25:01</td>\n",
       "      <td>Aagvik 1-35H</td>\n",
       "      <td>Normal</td>\n",
       "    </tr>\n",
       "  </tbody>\n",
       "</table>\n",
       "</div>"
      ],
      "text/plain": [
       "                 Date        NodeID Components\n",
       "0 2019-06-21 15:58:34  Aagvik 1-35H     Normal\n",
       "1 2019-06-21 16:25:36  Aagvik 1-35H     Normal\n",
       "2 2019-06-21 18:25:16  Aagvik 1-35H     Normal\n",
       "3 2019-06-21 18:28:10  Aagvik 1-35H     Normal\n",
       "4 2019-06-21 20:25:01  Aagvik 1-35H     Normal"
      ]
     },
     "execution_count": 73,
     "metadata": {},
     "output_type": "execute_result"
    }
   ],
   "source": [
    "%%time\n",
    "only_fails = fill_null(only_fails)  # FIlling in Nan's where data was missing\n",
    "\n",
    "# Transfer 'Job Bucket' from failure_info to fill_data\n",
    "transfer_col = ['Components', 'Failure Start Date']\n",
    "only_fails = failure_merge(only_fails, failure_info, transfer_col)\n",
    "only_fails.drop(columns='Failure Start Date', inplace=True)\n",
    "only_fails.drop(columns = 'PPRL', inplace=True)\n",
    "only_fails.head()"
   ]
  },
  {
   "cell_type": "code",
   "execution_count": 74,
   "metadata": {
    "hidden": true
   },
   "outputs": [],
   "source": [
    "bool_ = only_fails.Components != 'Normal'\n",
    "only_fails.loc[bool_, 'BinaryFails'] = 1"
   ]
  },
  {
   "cell_type": "code",
   "execution_count": 75,
   "metadata": {
    "hidden": true
   },
   "outputs": [
    {
     "data": {
      "text/html": [
       "<div>\n",
       "<style scoped>\n",
       "    .dataframe tbody tr th:only-of-type {\n",
       "        vertical-align: middle;\n",
       "    }\n",
       "\n",
       "    .dataframe tbody tr th {\n",
       "        vertical-align: top;\n",
       "    }\n",
       "\n",
       "    .dataframe thead th {\n",
       "        text-align: right;\n",
       "    }\n",
       "</style>\n",
       "<table border=\"1\" class=\"dataframe\">\n",
       "  <thead>\n",
       "    <tr style=\"text-align: right;\">\n",
       "      <th></th>\n",
       "      <th>Date</th>\n",
       "      <th>NodeID</th>\n",
       "      <th>Components</th>\n",
       "      <th>BinaryFails</th>\n",
       "    </tr>\n",
       "  </thead>\n",
       "  <tbody>\n",
       "    <tr>\n",
       "      <th>0</th>\n",
       "      <td>2019-06-21 15:58:34</td>\n",
       "      <td>Aagvik 1-35H</td>\n",
       "      <td>Normal</td>\n",
       "      <td>NaN</td>\n",
       "    </tr>\n",
       "    <tr>\n",
       "      <th>1</th>\n",
       "      <td>2019-06-21 16:25:36</td>\n",
       "      <td>Aagvik 1-35H</td>\n",
       "      <td>Normal</td>\n",
       "      <td>NaN</td>\n",
       "    </tr>\n",
       "    <tr>\n",
       "      <th>2</th>\n",
       "      <td>2019-06-21 18:25:16</td>\n",
       "      <td>Aagvik 1-35H</td>\n",
       "      <td>Normal</td>\n",
       "      <td>NaN</td>\n",
       "    </tr>\n",
       "    <tr>\n",
       "      <th>3</th>\n",
       "      <td>2019-06-21 18:28:10</td>\n",
       "      <td>Aagvik 1-35H</td>\n",
       "      <td>Normal</td>\n",
       "      <td>NaN</td>\n",
       "    </tr>\n",
       "    <tr>\n",
       "      <th>4</th>\n",
       "      <td>2019-06-21 20:25:01</td>\n",
       "      <td>Aagvik 1-35H</td>\n",
       "      <td>Normal</td>\n",
       "      <td>NaN</td>\n",
       "    </tr>\n",
       "    <tr>\n",
       "      <th>...</th>\n",
       "      <td>...</td>\n",
       "      <td>...</td>\n",
       "      <td>...</td>\n",
       "      <td>...</td>\n",
       "    </tr>\n",
       "    <tr>\n",
       "      <th>738435</th>\n",
       "      <td>2020-08-15 10:37:07</td>\n",
       "      <td>Zdenek 6093 42-24H</td>\n",
       "      <td>Normal</td>\n",
       "      <td>NaN</td>\n",
       "    </tr>\n",
       "    <tr>\n",
       "      <th>738436</th>\n",
       "      <td>2020-08-15 11:43:01</td>\n",
       "      <td>Zdenek 6093 42-24H</td>\n",
       "      <td>Normal</td>\n",
       "      <td>NaN</td>\n",
       "    </tr>\n",
       "    <tr>\n",
       "      <th>738437</th>\n",
       "      <td>2020-08-15 13:26:35</td>\n",
       "      <td>Zdenek 6093 42-24H</td>\n",
       "      <td>Normal</td>\n",
       "      <td>NaN</td>\n",
       "    </tr>\n",
       "    <tr>\n",
       "      <th>738438</th>\n",
       "      <td>2020-08-15 14:32:27</td>\n",
       "      <td>Zdenek 6093 42-24H</td>\n",
       "      <td>Normal</td>\n",
       "      <td>NaN</td>\n",
       "    </tr>\n",
       "    <tr>\n",
       "      <th>738439</th>\n",
       "      <td>2020-08-15 16:15:43</td>\n",
       "      <td>Zdenek 6093 42-24H</td>\n",
       "      <td>Normal</td>\n",
       "      <td>NaN</td>\n",
       "    </tr>\n",
       "  </tbody>\n",
       "</table>\n",
       "<p>738440 rows × 4 columns</p>\n",
       "</div>"
      ],
      "text/plain": [
       "                      Date              NodeID Components  BinaryFails\n",
       "0      2019-06-21 15:58:34        Aagvik 1-35H     Normal          NaN\n",
       "1      2019-06-21 16:25:36        Aagvik 1-35H     Normal          NaN\n",
       "2      2019-06-21 18:25:16        Aagvik 1-35H     Normal          NaN\n",
       "3      2019-06-21 18:28:10        Aagvik 1-35H     Normal          NaN\n",
       "4      2019-06-21 20:25:01        Aagvik 1-35H     Normal          NaN\n",
       "...                    ...                 ...        ...          ...\n",
       "738435 2020-08-15 10:37:07  Zdenek 6093 42-24H     Normal          NaN\n",
       "738436 2020-08-15 11:43:01  Zdenek 6093 42-24H     Normal          NaN\n",
       "738437 2020-08-15 13:26:35  Zdenek 6093 42-24H     Normal          NaN\n",
       "738438 2020-08-15 14:32:27  Zdenek 6093 42-24H     Normal          NaN\n",
       "738439 2020-08-15 16:15:43  Zdenek 6093 42-24H     Normal          NaN\n",
       "\n",
       "[738440 rows x 4 columns]"
      ]
     },
     "execution_count": 75,
     "metadata": {},
     "output_type": "execute_result"
    }
   ],
   "source": [
    "only_fails"
   ]
  },
  {
   "cell_type": "code",
   "execution_count": 76,
   "metadata": {
    "hidden": true
   },
   "outputs": [
    {
     "name": "stdout",
     "output_type": "stream",
     "text": [
      "Data replaceed on Table only_fails in time 62.18s\n"
     ]
    }
   ],
   "source": [
    "# Adding data to DB\n",
    "# Replace the full bounds df\n",
    "lib_aws.AddData.add_data(df=only_fails, \n",
    "                         db='oasis-prod', \n",
    "                         schema='xspoc',\n",
    "                         table='only_fails', \n",
    "                         merge_type='replace', \n",
    "                         card_col=None, \n",
    "                         index_col='Date')"
   ]
  },
  {
   "cell_type": "code",
   "execution_count": 77,
   "metadata": {
    "hidden": true
   },
   "outputs": [],
   "source": [
    "# Setting up indexes\n",
    "# Update index on pred table in database\n",
    "with lib_aws.PostgresRDS(db='oasis-prod') as engine:\n",
    "    with engine.begin() as connection:\n",
    "        connection.execute(\"\"\"CREATE UNIQUE INDEX idx_only_fails_node_date ON xspoc.only_fails (\"NodeID\", \"Date\");\"\"\")\n"
   ]
  },
  {
   "cell_type": "markdown",
   "metadata": {
    "heading_collapsed": true
   },
   "source": [
    "# Older Build\n",
    "\n",
    "Older Codes. Can be used for reference."
   ]
  },
  {
   "cell_type": "markdown",
   "metadata": {
    "heading_collapsed": true,
    "hidden": true
   },
   "source": [
    "## Importing Labeled Data\n",
    "\n",
    "Labeled data is stored in the database `oasis-dev` in the table `clean.xspoc`"
   ]
  },
  {
   "cell_type": "code",
   "execution_count": null,
   "metadata": {
    "hidden": true
   },
   "outputs": [],
   "source": [
    "# Setuo the query\n",
    "failure_wells = ['Cade 12-19HA', 'Cook 12-13 6B', 'Helling Trust 43-22 16T3',\n",
    "                'Helling Trust 44-22 5B', 'Johnsrud 5198 14-18 13T',\n",
    "                'Johnsrud 5198 14-18 15TX', 'Rolfson N 5198 12-17 5T',\n",
    "                'Rolfson N 5198 12-17 7T', 'Rolfson S 5198 11-29 2TX',\n",
    "                'Rolfson S 5198 11-29 4T', 'Rolfson S 5198 12-29 8T',\n",
    "                'Rolfson S 5198 14-29 11T', 'Stenehjem 14X-9HA']\n",
    "\n",
    "query = \"\"\"\n",
    "SELECT \n",
    "    \"NodeID\",\n",
    "    \"Date\",\n",
    "    \"cardPPRL\",\n",
    "    \"cardMPRL\",\n",
    "    \"PPRL\",\n",
    "    \"MPRL\",\n",
    "    \"NetProd\",\n",
    "    \"FluidLoadonPump\",\n",
    "    \"PumpIntakePressure\",\n",
    "    \"FailureBin\",\n",
    "    \"FailureLabel\"\n",
    "FROM\n",
    "    clean.xspoc\n",
    "WHERE\n",
    "    \"NodeID\" in {}\n",
    "ORDER BY\n",
    "    \"NodeID\", \"Date\";\n",
    "\"\"\".format(tuple(failure_wells))"
   ]
  },
  {
   "cell_type": "code",
   "execution_count": null,
   "metadata": {
    "hidden": true
   },
   "outputs": [],
   "source": [
    "%%time\n",
    "with lib_aws.PostgresRDS(db='oasis-dev') as engine:\n",
    "    data = pd.read_sql(query, engine, parse_dates=['Date'])\n",
    "    \n",
    "data.head()"
   ]
  },
  {
   "cell_type": "code",
   "execution_count": null,
   "metadata": {
    "hidden": true
   },
   "outputs": [],
   "source": [
    "data = data[data.Date < t]\n",
    "data.reset_index(inplace=True, drop=True)"
   ]
  },
  {
   "cell_type": "code",
   "execution_count": null,
   "metadata": {
    "hidden": true
   },
   "outputs": [],
   "source": [
    "data.groupby(['NodeID']).agg({\"Date\": [min, max, \"count\"]})"
   ]
  },
  {
   "cell_type": "code",
   "execution_count": null,
   "metadata": {
    "hidden": true
   },
   "outputs": [],
   "source": [
    "# Modifying data for intern project\n",
    "\n",
    "data.rename(columns={\"NodeID\": \"WellName\", \"FailureBin\":\"BinaryLabel\", \"FailureLabel\":\"MultiLabel\"}, inplace=True)\n",
    "wells = data.WellName.unique()"
   ]
  },
  {
   "cell_type": "code",
   "execution_count": null,
   "metadata": {
    "hidden": true
   },
   "outputs": [],
   "source": [
    "new_wells = [\"Well \" + i for i in list('ABCDEFGHIJKLM')]\n",
    "well_map = dict(zip(wells, new_wells))\n",
    "\n",
    "data.WellName = data.WellName.map(well_map)"
   ]
  },
  {
   "cell_type": "code",
   "execution_count": null,
   "metadata": {
    "hidden": true
   },
   "outputs": [],
   "source": [
    "data.head()"
   ]
  },
  {
   "cell_type": "code",
   "execution_count": null,
   "metadata": {
    "hidden": true
   },
   "outputs": [],
   "source": [
    "data.MultiLabel.value_counts()"
   ]
  },
  {
   "cell_type": "code",
   "execution_count": null,
   "metadata": {
    "hidden": true
   },
   "outputs": [],
   "source": [
    "data.set_index(\"Date\").to_csv(\"sample_data.csv\")"
   ]
  },
  {
   "cell_type": "code",
   "execution_count": null,
   "metadata": {
    "hidden": true
   },
   "outputs": [],
   "source": [
    "\"\"\"\n",
    "Generate Windows\n",
    "\"\"\"\n",
    "\n",
    "def window_func(df, window):\n",
    "    \"\"\"\n",
    "    Generate MultiLabel windows\n",
    "    0 = Does not fail\n",
    "    'Label' = Actual Failure or Fails in the next n window\n",
    "    :param df: DataFrame with a single well, the Timestamp col should be the index\n",
    "    :param window: Window Value\n",
    "    \"\"\"\n",
    "    \n",
    "    df['WinLabel'] = 'Normal'  # Initialize it with 0\n",
    "    \n",
    "    mask_ = df.index >= (df.index.max() - pd.Timedelta(window))  \n",
    "    df.loc[mask_, 'WinLabel'] = -1  # Will eliminate the final window fn\n",
    "    \n",
    "    # Iterate over all the labels\n",
    "    for code in df.loc[df.FailureBin == 1, 'FailureLabel'].unique():\n",
    "        \n",
    "         # dates where that code occurs\n",
    "        code_dates = df[df.FailureLabel == code].index\n",
    "        # print(code)\n",
    "\n",
    "        # counter\n",
    "        c = 0\n",
    "\n",
    "        # iterate over these dates\n",
    "        for t in code_dates:\n",
    "            if c == 0:\n",
    "                bool_ = (df.index < code_dates[c]) & (df.index >= (code_dates[c] - pd.Timedelta(window)))\n",
    "                df.loc[bool_, 'WinLabel'] = code\n",
    "            else:\n",
    "                bool_ = (df.index < code_dates[c]) & (df.index >= (code_dates[c] - pd.Timedelta(window))) & (\n",
    "                        df.index > code_dates[c - 1])\n",
    "                df.loc[bool_, 'WinLabel'] = code\n",
    "            c = c + 1\n",
    "\n",
    "        df.loc[df.FailureLabel == code, 'WinLabel'] = code\n",
    "    \n",
    "    return df\n",
    "\n",
    "\n",
    "\"\"\"\n",
    "Function for Moving AVGs\n",
    "\"\"\"\n",
    "\n",
    "def get_ma(df, cols, freq):\n",
    "    \"\"\"\n",
    "    Rolling Values\n",
    "    :param df: DataFrame\n",
    "    :param cols: Columns which are being Rolled\n",
    "    :param freq: Rolling Window( example: 7D)\n",
    "    :return: DataFrame with Rolled Values\n",
    "    \"\"\"\n",
    "    for i in cols:\n",
    "        col_name_1 = i + '_MA'\n",
    "        df[col_name_1] = df[i].rolling(freq).mean()\n",
    "    return df\n"
   ]
  },
  {
   "cell_type": "code",
   "execution_count": null,
   "metadata": {
    "hidden": true
   },
   "outputs": [],
   "source": [
    "rol_cols = [\n",
    "    \"cardPPRL\",\n",
    "    \"cardMPRL\",\n",
    "    \"PPRL\",\n",
    "    \"MPRL\",\n",
    "    \"NetProd\",\n",
    "    \"FluidLoadonPump\",\n",
    "    \"PumpIntakePressure\"\n",
    "]\n",
    "frames = []\n",
    "\n",
    "for well in data.NodeID.unique():\n",
    "    print(\"Well: {}\".format(well))\n",
    "    \n",
    "    tempdf = data[data.NodeID == well]\n",
    "    tempdf.set_index(\"Date\", inplace=True)\n",
    "    \n",
    "    tempdf = window_func(tempdf, '3 days')\n",
    "    tempdf = get_ma(tempdf, rol_cols, '7D')\n",
    "    tempdf.reset_index(inplace=True)\n",
    "    frames.append(tempdf)"
   ]
  },
  {
   "cell_type": "code",
   "execution_count": null,
   "metadata": {
    "hidden": true,
    "scrolled": true
   },
   "outputs": [],
   "source": [
    "train_data = pd.concat(frames)  # creeating a train df\n",
    "train_data = train_data[train_data.WinLabel != -1]\n",
    "train_data.sort_values(by=['NodeID', 'Date'], inplace=True)\n",
    "\n",
    "print(\"Null Value Distribution\")\n",
    "display(train_data.isnull().sum(axis=0))\n",
    "\n",
    "print(\"Wells\")\n",
    "display(train_data.NodeID.value_counts())\n",
    "\n",
    "print(\"Labels\")\n",
    "display(train_data.WinLabel.value_counts())"
   ]
  },
  {
   "cell_type": "code",
   "execution_count": null,
   "metadata": {
    "hidden": true
   },
   "outputs": [],
   "source": [
    "\"\"\"\n",
    "Plotting\n",
    "\"\"\"\n",
    "col = 'NetProd_MA'\n",
    "well = 'Helling Trust 43-22 16T3'\n",
    "\n",
    "well_df = train_data[train_data.NodeID == well]\n",
    "# well_df.loc[well_df.FailureBin == 1, [col, 'WinLabel']] = np.nan  # Nan where Failures are present\n",
    "fig, ax = plt.subplots(figsize=(25,8))\n",
    "\n",
    "ax.plot(well_df.Date, well_df[col], label=col)\n",
    "bool_ = (well_df.WinLabel != 'Normal')\n",
    "\n",
    "ax.scatter(well_df.loc[bool_, \"Date\"], well_df.loc[bool_, col], c='r', label='Failure')\n",
    "\n",
    "ax.set_xlabel(\"Date\")\n",
    "ax.set_ylabel(\"KPI\")\n",
    "ax.legend(loc='best')\n",
    "plt.show()"
   ]
  },
  {
   "cell_type": "code",
   "execution_count": null,
   "metadata": {
    "hidden": true
   },
   "outputs": [],
   "source": [
    "# # Droping Failure Data Point\n",
    "# train_data[train_data.FailureBin == 1]\n",
    "\n",
    "feature_cols = ['PPRL_MA', 'MPRL_MA', 'NetProd','FluidLoadonPump_MA', 'PumpIntakePressure_MA']\n",
    "add_cols=feature_cols + ['NodeID', 'Date', 'WinLabel']\n",
    "final_train = train_data[add_cols].dropna()\n",
    "final_train.reset_index(drop=True, inplace=True)\n",
    "\n",
    "# Features\n",
    "X = final_train[feature_cols]\n",
    "Y = final_train.WinLabel\n",
    "\n",
    "print(\"Feature df\")\n",
    "display(X.head())\n",
    "\n",
    "print(\"Labels Being Predicted\")\n",
    "display(Y.value_counts())"
   ]
  },
  {
   "cell_type": "markdown",
   "metadata": {
    "heading_collapsed": true,
    "hidden": true
   },
   "source": [
    "## Algo Test"
   ]
  },
  {
   "cell_type": "code",
   "execution_count": null,
   "metadata": {
    "hidden": true
   },
   "outputs": [],
   "source": [
    "from sklearn.preprocessing import StandardScaler\n",
    "from sklearn.ensemble import RandomForestClassifier\n",
    "from imblearn.over_sampling import SMOTE\n",
    "from imblearn.pipeline import Pipeline\n",
    "from sklearn.ensemble import GradientBoostingClassifier"
   ]
  },
  {
   "cell_type": "code",
   "execution_count": null,
   "metadata": {
    "hidden": true
   },
   "outputs": [],
   "source": [
    "\"\"\"\n",
    "Model 1\n",
    "Random Forest classifier\n",
    "\"\"\"\n",
    "\n",
    "def build_rfc_model():\n",
    "    \"\"\"\n",
    "    Define A Random Forrest Classifier Model\n",
    "    :return: RFC Model\n",
    "    \"\"\"\n",
    "    scaler = StandardScaler()\n",
    "\n",
    "    rfc_params = {\n",
    "        'n_estimators': 100,\n",
    "        'min_samples_split': 2,\n",
    "        'min_samples_leaf': 1,\n",
    "        'class_weight': 'balanced',\n",
    "        'verbose': 0,\n",
    "        'max_features': 'auto',\n",
    "        'max_depth': None,\n",
    "    }\n",
    "\n",
    "    rfc = RandomForestClassifier(**rfc_params)\n",
    "\n",
    "    model = Pipeline([\n",
    "        ('scaler', scaler),\n",
    "        ('rfc', rfc)\n",
    "    ])\n",
    "\n",
    "    return model"
   ]
  },
  {
   "cell_type": "code",
   "execution_count": null,
   "metadata": {
    "hidden": true
   },
   "outputs": [],
   "source": [
    "rfc_model = build_rfc_model()\n",
    "rfc_model"
   ]
  },
  {
   "cell_type": "code",
   "execution_count": null,
   "metadata": {
    "hidden": true
   },
   "outputs": [],
   "source": [
    "MultiClassMetrics.baseline_metrics(X, Y, rfc_model)\n",
    "\n",
    "cv_rfc = MultiClassMetrics.cv_validation(X, Y, rfc_model)\n",
    "print(\"CV Metrics\")\n",
    "display(cv_rfc)\n",
    "\n",
    "kf_rfc = MultiClassMetrics.kfold_validation(X, Y, rfc_model)\n",
    "print(\"Kfold Metrics\")\n",
    "display(kf_rfc)"
   ]
  },
  {
   "cell_type": "code",
   "execution_count": 40,
   "metadata": {
    "hidden": true
   },
   "outputs": [],
   "source": [
    "\"\"\"\n",
    "Model 2\n",
    "Gradient Boosted Classifier with Oversampling\n",
    "\"\"\"\n",
    "\n",
    "def build_gbc_model(y):\n",
    "    # Building Smote dict\n",
    "    max_count = int(y.value_counts()[0] / 3)\n",
    "    class_list = list(y.value_counts().index)\n",
    "    class_list.remove('Normal')\n",
    "    smote_dict = {key: max_count for key in class_list}\n",
    "    print(smote_dict)\n",
    "\n",
    "    # Define the model pipeline\n",
    "    scaler = StandardScaler()\n",
    "    smote = SMOTE(sampling_strategy=smote_dict, random_state=42)\n",
    "    baseline_param = {\n",
    "        'n_estimators': 4,\n",
    "        'max_depth': 8,\n",
    "        'learning_rate': 0.1,\n",
    "        'loss': 'deviance',\n",
    "        'min_samples_split': 2,\n",
    "        'verbose': 0\n",
    "    }\n",
    "\n",
    "    gbc = GradientBoostingClassifier(**baseline_param)\n",
    "\n",
    "    model = Pipeline([\n",
    "        ('scaler', scaler),\n",
    "        ('smote', smote),\n",
    "        ('gbc', gbc)\n",
    "    ])\n",
    "\n",
    "    return model\n"
   ]
  },
  {
   "cell_type": "code",
   "execution_count": 41,
   "metadata": {
    "hidden": true
   },
   "outputs": [
    {
     "name": "stdout",
     "output_type": "stream",
     "text": [
      "{'fz_PUMP': 1026909, 'fz_ROD': 1026909, 'fz_TUBING': 1026909, 'fz_BHA': 1026909}\n"
     ]
    },
    {
     "data": {
      "text/plain": [
       "Pipeline(steps=[('scaler', StandardScaler()),\n",
       "                ('smote',\n",
       "                 SMOTE(random_state=42,\n",
       "                       sampling_strategy={'fz_BHA': 1026909, 'fz_PUMP': 1026909,\n",
       "                                          'fz_ROD': 1026909,\n",
       "                                          'fz_TUBING': 1026909})),\n",
       "                ('gbc',\n",
       "                 GradientBoostingClassifier(max_depth=8, n_estimators=4))])"
      ]
     },
     "execution_count": 41,
     "metadata": {},
     "output_type": "execute_result"
    }
   ],
   "source": [
    "gbc_model = build_gbc_model(Y)\n",
    "gbc_model"
   ]
  },
  {
   "cell_type": "code",
   "execution_count": null,
   "metadata": {
    "hidden": true
   },
   "outputs": [],
   "source": [
    "MultiClassMetrics.baseline_metrics(X, Y, gbc_model)\n",
    "\n",
    "cv_rfc = MultiClassMetrics.cv_validation(X, Y, gbc_model)\n",
    "print(\"CV Metrics\")\n",
    "display(cv_rfc)\n",
    "\n",
    "kf_rfc = MultiClassMetrics.kfold_validation(X, Y, gbc_model)\n",
    "print(\"Kfold Metrics\")\n",
    "display(kf_rfc)"
   ]
  },
  {
   "cell_type": "markdown",
   "metadata": {
    "heading_collapsed": true,
    "hidden": true
   },
   "source": [
    "## Making Predictions on the entire dataset\n",
    "\n",
    "- Task Done for showing quick results in the dashboard\n",
    "- All wells used in the training set.\n",
    "- These same values are used in predictions as well\n",
    "- Visually when ploted the results will be, how we expect our results to look\n",
    "- Take the predictions with a big grain of salt\n",
    "\n",
    "\n",
    "### Prediciton Table\n",
    "\n",
    "The Results are added to a prediciton table in the 'oasis-dev' database.\n",
    "\n",
    "Following Columns will be present in the `clean.win_predictons` table:\n",
    "- NodeID\n",
    "- Date\n",
    "- FailureProb\n",
    "- Prob1 \n",
    "- Prob2\n",
    "- Prob3\n",
    "\n",
    "WIll use a basic rfc model and for features we use the following 7-day Moving Averages\n",
    "- PPRL_MA\n",
    "- MPRL_MA\n",
    "- FluidloadonPump_MA\n",
    "- PumpIntakePressure_MA\n",
    "\n",
    "This combination gave the best results in the tests."
   ]
  },
  {
   "cell_type": "code",
   "execution_count": null,
   "metadata": {
    "hidden": true
   },
   "outputs": [],
   "source": [
    "# import the entire dataset with the columns we need for making predictions and the failrue info\n",
    "\n",
    "query = \"\"\"\n",
    "SELECT\n",
    "    \"NodeID\",\n",
    "    \"Date\",\n",
    "    \"PPRL\",\n",
    "    \"MPRL\",\n",
    "    \"NetProd\",\n",
    "    \"FluidLoadonPump\",\n",
    "    \"PumpIntakePressure\",\n",
    "    \"FailureBin\",\n",
    "    \"FailureLabel\"\n",
    "FROM\n",
    "    clean.xspoc\n",
    "ORDER BY\n",
    "    \"NodeID\", \"Date\"\n",
    "\"\"\""
   ]
  },
  {
   "cell_type": "code",
   "execution_count": null,
   "metadata": {
    "hidden": true
   },
   "outputs": [],
   "source": [
    "%%time\n",
    "with lib_aws.PostgresRDS(db='oasis-dev') as engine:\n",
    "    data = pd.read_sql(query, engine, parse_dates=['Date'])\n",
    "    \n",
    "data.head()"
   ]
  },
  {
   "cell_type": "code",
   "execution_count": null,
   "metadata": {
    "hidden": true
   },
   "outputs": [],
   "source": [
    "# Generating Features\n",
    "rol_cols = [\n",
    "    \"PPRL\",\n",
    "    \"MPRL\",\n",
    "    \"NetProd\",\n",
    "    \"FluidLoadonPump\",\n",
    "    \"PumpIntakePressure\"\n",
    "]\n",
    "frames = []\n",
    "\n",
    "for well in data.NodeID.unique():\n",
    "    print(\"Well: {}\".format(well))\n",
    "    \n",
    "    tempdf = data[data.NodeID == well]\n",
    "    tempdf.set_index(\"Date\", inplace=True)\n",
    "    \n",
    "    tempdf = window_func(tempdf, '3 days')\n",
    "    tempdf = get_ma(tempdf, rol_cols, '7D')\n",
    "    tempdf.reset_index(inplace=True)\n",
    "    frames.append(tempdf)"
   ]
  },
  {
   "cell_type": "code",
   "execution_count": null,
   "metadata": {
    "hidden": true
   },
   "outputs": [],
   "source": [
    "train_data = pd.concat(frames)  # creeating a train df\n",
    "train_data = train_data[train_data.WinLabel != -1]\n",
    "train_data.sort_values(by=['NodeID', 'Date'], inplace=True)\n",
    "\n",
    "print(\"Null Value Distribution\")\n",
    "display(train_data.isnull().sum(axis=0))\n",
    "\n",
    "print(\"Wells\")\n",
    "display(train_data.NodeID.value_counts())\n",
    "\n",
    "print(\"Labels\")\n",
    "display(train_data.WinLabel.value_counts())"
   ]
  },
  {
   "cell_type": "code",
   "execution_count": null,
   "metadata": {
    "hidden": true
   },
   "outputs": [],
   "source": [
    "# # Droping Failure Data Point\n",
    "# train_data[train_data.FailureBin == 1]\n",
    "\n",
    "feature_cols = ['PPRL_MA', 'MPRL_MA', 'NetProd_MA','FluidLoadonPump_MA', 'PumpIntakePressure_MA']\n",
    "add_cols=feature_cols + ['NodeID', 'Date', 'WinLabel']\n",
    "final_train = train_data[add_cols].dropna()\n",
    "final_train.reset_index(drop=True, inplace=True)\n",
    "\n",
    "# Features\n",
    "X = final_train[feature_cols]\n",
    "Y = final_train.WinLabel\n",
    "\n",
    "print(\"Feature df\")\n",
    "display(X.head())\n",
    "\n",
    "print(\"Labels Being Predicted\")\n",
    "display(Y.value_counts())"
   ]
  },
  {
   "cell_type": "code",
   "execution_count": null,
   "metadata": {
    "hidden": true
   },
   "outputs": [],
   "source": [
    "# quick test\n",
    "rfc_model = build_rfc_model()\n",
    "display(rfc_model)\n",
    "\n",
    "MultiClassMetrics.baseline_metrics(X, Y, rfc_model)"
   ]
  },
  {
   "cell_type": "code",
   "execution_count": null,
   "metadata": {
    "hidden": true
   },
   "outputs": [],
   "source": [
    "# Fit the whole df \n",
    "rfc_model = build_rfc_model()\n",
    "rfc_model.fit(X, Y)"
   ]
  },
  {
   "cell_type": "code",
   "execution_count": null,
   "metadata": {
    "hidden": true
   },
   "outputs": [],
   "source": [
    "\"\"\"\n",
    "Predictions\n",
    "\"\"\"\n",
    "print(\"Classes Predicted {}\".format(rfc_model.classes_))\n",
    "y_hat = rfc_model.predict(X.to_numpy())                                          # Get predictions\n",
    "y_prob = rfc_model.predict_proba(X.to_numpy()) "
   ]
  },
  {
   "cell_type": "code",
   "execution_count": null,
   "metadata": {
    "hidden": true
   },
   "outputs": [],
   "source": [
    "ind = final_train.index\n",
    "data_pred = final_train[[\"NodeID\", \"Date\"]]\n",
    "data_pred.loc[ind, 'PredClass'] = y_hat \n",
    "\n",
    "pred_classes = rfc_model.classes_\n",
    "\n",
    "for i in range(np.shape(pred_classes)[0]):\n",
    "    print(i)\n",
    "    col = 'Prob ' + str(pred_classes[i])\n",
    "    data_pred.loc[ind, col] = y_prob[:, i] * 100\n",
    "data_pred = data_pred.round(3)\n",
    "data_pred['FailureProb'] = 100 - data_pred['Prob Normal']\n",
    "data_pred.drop(columns='Prob Normal', inplace=True)"
   ]
  },
  {
   "cell_type": "code",
   "execution_count": null,
   "metadata": {
    "hidden": true
   },
   "outputs": [],
   "source": [
    "data_pred.head()"
   ]
  },
  {
   "cell_type": "code",
   "execution_count": null,
   "metadata": {
    "hidden": true
   },
   "outputs": [],
   "source": [
    "\"\"\"\n",
    "Adding Prob data to DF\n",
    "\"\"\"\n",
    "\n",
    "# Replace the full bounds df\n",
    "lib_aws.AddData.add_data(df=data_pred, db='oasis-dev', table='xpred', schema='clean',\n",
    "                         merge_type='replace', card_col=None, index_col='Date')\n",
    "\n",
    "# Update index on pred table in database\n",
    "with lib_aws.PostgresRDS(db='oasis-dev') as engine:\n",
    "    with engine.begin() as connection:\n",
    "        connection.execute(\"\"\"CREATE UNIQUE INDEX xpred_idx ON clean.xpred (\"NodeID\", \"Date\");\"\"\")\n"
   ]
  },
  {
   "cell_type": "code",
   "execution_count": null,
   "metadata": {
    "hidden": true
   },
   "outputs": [],
   "source": []
  }
 ],
 "metadata": {
  "kernelspec": {
   "display_name": "Python 3",
   "language": "python",
   "name": "python3"
  },
  "language_info": {
   "codemirror_mode": {
    "name": "ipython",
    "version": 3
   },
   "file_extension": ".py",
   "mimetype": "text/x-python",
   "name": "python",
   "nbconvert_exporter": "python",
   "pygments_lexer": "ipython3",
   "version": "3.7.3"
  },
  "pycharm": {
   "stem_cell": {
    "cell_type": "raw",
    "metadata": {
     "collapsed": false
    },
    "source": []
   }
  }
 },
 "nbformat": 4,
 "nbformat_minor": 4
}
