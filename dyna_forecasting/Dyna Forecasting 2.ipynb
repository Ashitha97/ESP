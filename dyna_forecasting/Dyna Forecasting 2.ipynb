{
 "cells": [
  {
   "cell_type": "code",
   "execution_count": 1,
   "metadata": {},
   "outputs": [],
   "source": [
    "\"\"\"\n",
    "For setting up local imports in an Ipython Shell\n",
    "This is a workaround for ipython, dont need it for basic python scripts\n",
    "\"\"\"\n",
    "import os\n",
    "import sys\n",
    "module_path = os.path.abspath(os.path.join('..'))\n",
    "if module_path not in sys.path:\n",
    "    sys.path.append(module_path)"
   ]
  },
  {
   "cell_type": "code",
   "execution_count": 2,
   "metadata": {},
   "outputs": [],
   "source": [
    "import IPython\n",
    "import IPython.display\n",
    "\n",
    "# Basic\n",
    "import os\n",
    "import datetime\n",
    "import pandas as pd\n",
    "import numpy as np\n",
    "\n",
    "# Geometry\n",
    "from pyefd import reconstruct_contour\n",
    "from shapely.geometry import Polygon\n",
    "from shapely.wkb import loads\n",
    "\n",
    "# Local\n",
    "from library import lib_aws, lib_dyna\n",
    "\n",
    "# PLotting\n",
    "import seaborn as sns\n",
    "import matplotlib.pyplot as plt\n",
    "import matplotlib as mpl\n",
    "\n",
    "# Tensorflow\n",
    "import tensorflow as tf\n",
    "\n",
    "mpl.rcParams['figure.figsize'] = (15,5)\n",
    "mpl.rcParams['axes.grid'] = False\n",
    "plt.style.use('dark_background')"
   ]
  },
  {
   "cell_type": "markdown",
   "metadata": {},
   "source": [
    "# Data Querying and Pre-processing\n",
    "\n",
    "This section inolves the following steps\n",
    "- Querying the data from the db\n",
    "- Setting up the dataframe with the necessary features\n",
    "- Splitting the data into train, validation and test\n",
    "- Normalizing the data if need be\n",
    "\n",
    "**Note:** After querying `pocdowncard` is in a WKB format. This will be converted to a Shapely Polygon Object using the `shapely.wkb.loads` method."
   ]
  },
  {
   "cell_type": "code",
   "execution_count": null,
   "metadata": {},
   "outputs": [
    {
     "name": "stdout",
     "output_type": "stream",
     "text": [
      "Connected to oasis-dev DataBase\n"
     ]
    }
   ],
   "source": [
    "well_name = 'Cook 12-13 6B'\n",
    "\n",
    "query = \"\"\"\n",
    "SELECT \n",
    "    \"NodeID\",\n",
    "    \"Date\",\n",
    "    \"pocdowncard\",\n",
    "    \"Fillage\",\n",
    "    \"SPM\"\n",
    "FROM\n",
    "    xspoc.card\n",
    "WHERE\n",
    "    \"NodeID\" = '{}' AND\n",
    "    \"Date\" BETWEEN '2018-03-19' AND '2020-05-26'\n",
    "\"\"\".format(well_name)\n",
    "\n",
    "with lib_aws.PostgresRDS(db='oasis-dev') as engine:\n",
    "    data = pd.read_sql(query, engine, parse_dates=['Date'])\n",
    "    \n",
    "\n",
    "data.dropna(inplace=True)  # Nans arent present, but if they are will have to be dropped\n",
    "# Converting the card data\n",
    "data.pocdowncard = data.pocdowncard.apply(lambda x: loads(x, hex=True))\n",
    "print(\"Queried Data\")\n",
    "display(data.head())"
   ]
  },
  {
   "cell_type": "code",
   "execution_count": 4,
   "metadata": {},
   "outputs": [
    {
     "name": "stdout",
     "output_type": "stream",
     "text": [
      "Total errors found in 0 datapoints\n"
     ]
    },
    {
     "data": {
      "text/html": [
       "<div>\n",
       "<style scoped>\n",
       "    .dataframe tbody tr th:only-of-type {\n",
       "        vertical-align: middle;\n",
       "    }\n",
       "\n",
       "    .dataframe tbody tr th {\n",
       "        vertical-align: top;\n",
       "    }\n",
       "\n",
       "    .dataframe thead th {\n",
       "        text-align: right;\n",
       "    }\n",
       "</style>\n",
       "<table border=\"1\" class=\"dataframe\">\n",
       "  <thead>\n",
       "    <tr style=\"text-align: right;\">\n",
       "      <th></th>\n",
       "      <th>0</th>\n",
       "      <th>1</th>\n",
       "      <th>2</th>\n",
       "      <th>3</th>\n",
       "    </tr>\n",
       "    <tr>\n",
       "      <th>Date</th>\n",
       "      <th></th>\n",
       "      <th></th>\n",
       "      <th></th>\n",
       "      <th></th>\n",
       "    </tr>\n",
       "  </thead>\n",
       "  <tbody>\n",
       "    <tr>\n",
       "      <th>2019-03-19 00:12:48</th>\n",
       "      <td>-0.288901</td>\n",
       "      <td>0.259571</td>\n",
       "      <td>-0.268508</td>\n",
       "      <td>-0.261953</td>\n",
       "    </tr>\n",
       "    <tr>\n",
       "      <th>2019-03-19 00:55:33</th>\n",
       "      <td>-0.264557</td>\n",
       "      <td>0.150317</td>\n",
       "      <td>-0.296912</td>\n",
       "      <td>-0.157263</td>\n",
       "    </tr>\n",
       "    <tr>\n",
       "      <th>2019-03-19 02:52:18</th>\n",
       "      <td>-0.251294</td>\n",
       "      <td>0.158126</td>\n",
       "      <td>-0.312700</td>\n",
       "      <td>-0.159757</td>\n",
       "    </tr>\n",
       "    <tr>\n",
       "      <th>2019-03-19 03:09:29</th>\n",
       "      <td>-0.282435</td>\n",
       "      <td>0.268266</td>\n",
       "      <td>-0.288111</td>\n",
       "      <td>-0.272145</td>\n",
       "    </tr>\n",
       "    <tr>\n",
       "      <th>2019-03-19 04:20:22</th>\n",
       "      <td>-0.248752</td>\n",
       "      <td>0.162862</td>\n",
       "      <td>-0.317136</td>\n",
       "      <td>-0.177195</td>\n",
       "    </tr>\n",
       "  </tbody>\n",
       "</table>\n",
       "</div>"
      ],
      "text/plain": [
       "                            0         1         2         3\n",
       "Date                                                       \n",
       "2019-03-19 00:12:48 -0.288901  0.259571 -0.268508 -0.261953\n",
       "2019-03-19 00:55:33 -0.264557  0.150317 -0.296912 -0.157263\n",
       "2019-03-19 02:52:18 -0.251294  0.158126 -0.312700 -0.159757\n",
       "2019-03-19 03:09:29 -0.282435  0.268266 -0.288111 -0.272145\n",
       "2019-03-19 04:20:22 -0.248752  0.162862 -0.317136 -0.177195"
      ]
     },
     "metadata": {},
     "output_type": "display_data"
    },
    {
     "data": {
      "text/html": [
       "<div>\n",
       "<style scoped>\n",
       "    .dataframe tbody tr th:only-of-type {\n",
       "        vertical-align: middle;\n",
       "    }\n",
       "\n",
       "    .dataframe tbody tr th {\n",
       "        vertical-align: top;\n",
       "    }\n",
       "\n",
       "    .dataframe thead th {\n",
       "        text-align: right;\n",
       "    }\n",
       "</style>\n",
       "<table border=\"1\" class=\"dataframe\">\n",
       "  <thead>\n",
       "    <tr style=\"text-align: right;\">\n",
       "      <th></th>\n",
       "      <th>count</th>\n",
       "      <th>mean</th>\n",
       "      <th>std</th>\n",
       "      <th>min</th>\n",
       "      <th>25%</th>\n",
       "      <th>50%</th>\n",
       "      <th>75%</th>\n",
       "      <th>max</th>\n",
       "    </tr>\n",
       "  </thead>\n",
       "  <tbody>\n",
       "    <tr>\n",
       "      <th>0</th>\n",
       "      <td>3617.0</td>\n",
       "      <td>-0.268103</td>\n",
       "      <td>0.028777</td>\n",
       "      <td>-0.414164</td>\n",
       "      <td>-0.285117</td>\n",
       "      <td>-0.264484</td>\n",
       "      <td>-0.247911</td>\n",
       "      <td>-0.213294</td>\n",
       "    </tr>\n",
       "    <tr>\n",
       "      <th>1</th>\n",
       "      <td>3617.0</td>\n",
       "      <td>0.220840</td>\n",
       "      <td>0.049762</td>\n",
       "      <td>-0.172635</td>\n",
       "      <td>0.180765</td>\n",
       "      <td>0.210586</td>\n",
       "      <td>0.267832</td>\n",
       "      <td>0.307201</td>\n",
       "    </tr>\n",
       "    <tr>\n",
       "      <th>2</th>\n",
       "      <td>3617.0</td>\n",
       "      <td>-0.297040</td>\n",
       "      <td>0.055870</td>\n",
       "      <td>-0.391722</td>\n",
       "      <td>-0.336560</td>\n",
       "      <td>-0.312548</td>\n",
       "      <td>-0.259876</td>\n",
       "      <td>0.078231</td>\n",
       "    </tr>\n",
       "    <tr>\n",
       "      <th>3</th>\n",
       "      <td>3617.0</td>\n",
       "      <td>-0.229276</td>\n",
       "      <td>0.056369</td>\n",
       "      <td>-0.391111</td>\n",
       "      <td>-0.279070</td>\n",
       "      <td>-0.228330</td>\n",
       "      <td>-0.182744</td>\n",
       "      <td>0.031976</td>\n",
       "    </tr>\n",
       "  </tbody>\n",
       "</table>\n",
       "</div>"
      ],
      "text/plain": [
       "    count      mean       std       min       25%       50%       75%  \\\n",
       "0  3617.0 -0.268103  0.028777 -0.414164 -0.285117 -0.264484 -0.247911   \n",
       "1  3617.0  0.220840  0.049762 -0.172635  0.180765  0.210586  0.267832   \n",
       "2  3617.0 -0.297040  0.055870 -0.391722 -0.336560 -0.312548 -0.259876   \n",
       "3  3617.0 -0.229276  0.056369 -0.391111 -0.279070 -0.228330 -0.182744   \n",
       "\n",
       "        max  \n",
       "0 -0.213294  \n",
       "1  0.307201  \n",
       "2  0.078231  \n",
       "3  0.031976  "
      ]
     },
     "metadata": {},
     "output_type": "display_data"
    }
   ],
   "source": [
    "\"\"\"\n",
    "Extracting Fourier Descriptors\n",
    "Use the lib_dyna.Features class\n",
    "\"\"\"\n",
    "\n",
    "fd_order = 5\n",
    "\n",
    "fea = lib_dyna.Features(df=data, well_col='NodeID', card_col='pocdowncard')  # setup the class\n",
    "fea.remove_errors()  # removes cards where fd cannot be found\n",
    "bounds = fea.all_bounds()  # gets the bounds, which can help with the initial normalization of the cards\n",
    "\n",
    "fd = fea.get_X(fd_order=fd_order, area=False, centroid=False, normalize_fn='df', norm_arg=bounds)  # get fd dataframe\n",
    "\n",
    "# if data points were removed those are reflected in the main datafrae as well\n",
    "if fd.shape[0] != data.shape[0]:\n",
    "    data = fea.df.copy()  \n",
    "\n",
    "    \n",
    "fd_df = pd.DataFrame(index = data.Date, data=fd)\n",
    "display(fd_df.head())\n",
    "\n",
    "display(fd_df.describe().T)"
   ]
  },
  {
   "cell_type": "code",
   "execution_count": 5,
   "metadata": {},
   "outputs": [],
   "source": [
    "\"\"\"\n",
    "Splitting the dataset\n",
    "\"\"\"\n",
    "n = len(fd_df)\n",
    "train_df = fd_df[0: int(n*0.7)]\n",
    "val_df = fd_df[int(n*0.7): int(n*0.9)]\n",
    "test_df = fd_df[int(n*0.9):]\n",
    "\n",
    "\"\"\"\n",
    "Normalizing\n",
    "\"\"\"\n",
    "# Normalizing \n",
    "train_mean = train_df.mean()\n",
    "train_std = train_df.std()\n",
    "\n",
    "train_df = (train_df - train_mean) / train_std\n",
    "val_df = (val_df - train_mean) / train_std\n",
    "test_df = (test_df - train_mean) / train_std"
   ]
  },
  {
   "cell_type": "code",
   "execution_count": 6,
   "metadata": {},
   "outputs": [
    {
     "data": {
      "image/png": "[encoded data removed]",
      "text/plain": [
       "<Figure size 864x432 with 1 Axes>"
      ]
     },
     "metadata": {},
     "output_type": "display_data"
    }
   ],
   "source": [
    "df_std = (fd_df - train_mean) / train_std\n",
    "df_std = df_std.melt(var_name='Column', value_name='Normalized')\n",
    "plt.figure(figsize=(12, 6))\n",
    "ax = sns.violinplot(x='Column', y='Normalized', data=df_std)\n",
    "_ = ax.set_xticklabels(fd_df.keys(), rotation=90)"
   ]
  },
  {
   "cell_type": "markdown",
   "metadata": {},
   "source": [
    "## Windowing our Data\n",
    "\n",
    "Parameters Used:\n",
    "- time_window : Points within this time delta are considered for windowing\n",
    "- input_width : Number of datapoints for the input\n",
    "- label_width : Number of labels forecasted\n",
    "- shift       : The offset from the input_width to the label width\n",
    "\n",
    "Now, the Total window size will be `input_width + shift`. This `total_window_size` needs to lie within the `time_window`."
   ]
  },
  {
   "cell_type": "code",
   "execution_count": 11,
   "metadata": {},
   "outputs": [],
   "source": [
    "class WindowGenerator():\n",
    "    \n",
    "    def __init__(self, time_window, input_width, label_width, shift,\n",
    "                train_df, val_df, test_df,\n",
    "                non_label_columns=None):\n",
    "    \n",
    "        # Storing the DataFrames\n",
    "        self.train_df = train_df\n",
    "        self.val_df = val_df\n",
    "        self.test_df = test_df\n",
    "\n",
    "        # Label columns (Will Help Generalize the class)\n",
    "        all_cols = train_df.columns.astype('str').values\n",
    "        self.label_columns = np.setdiff1d(all_cols, non_label_columns)\n",
    "        self.label_column_indices = {name: i for i, name in enumerate(self.label_columns)}\n",
    "        self.column_indices = {name: i for i, name in enumerate(all_cols)}\n",
    "\n",
    "        # Setup parameters\n",
    "        self.time_window = pd.Timedelta(time_window)\n",
    "        self.input_width = input_width\n",
    "        self.label_width = label_width\n",
    "        self.shift = shift\n",
    "\n",
    "        self.total_window_size = input_width + shift\n",
    "\n",
    "        self.input_slice = slice(0, input_width)\n",
    "        self.input_indices = np.arange(self.total_window_size)[self.input_slice]\n",
    "\n",
    "        self.label_start = self.total_window_size - self.label_width\n",
    "        self.label_slice = slice(self.label_start, None)\n",
    "        self.label_indices = np.arange(self.total_window_size)[self.label_slice]\n",
    "    \n",
    "    \n",
    "    def __repr__(self):\n",
    "        return '\\n'.join([\n",
    "            f'Total window size: {self.total_window_size}',\n",
    "            f'Input indices: {self.input_indices}',\n",
    "            f'Label indices: {self.label_indices}',\n",
    "            f'Label column name(s): {self.label_columns}'])\n",
    "    \n",
    "    \n",
    "    def make_dataset(self, data, batch_size=32):\n",
    "        dataset = []  # Intialize the windowed array\n",
    "        time_index = []  # to get the timestamps (will help while plotting)\n",
    "\n",
    "        c = 0  # count the number of discarded data points\n",
    "        \n",
    "        for t in data.index:\n",
    "            time_chunk = data[t: t+self.time_window]  # Get the data chunk in the time_window\n",
    "\n",
    "            # datapoints in the time window should be atleast the size of the window\n",
    "            if len(time_chunk) >= self.total_window_size: \n",
    "                dataset.append(time_chunk.iloc[0: self.total_window_size].values)  # To have constant windows \n",
    "\n",
    "            else:\n",
    "                c+=1\n",
    "\n",
    "        print(f'No of data points discarded {c}')\n",
    "        dataset = tf.convert_to_tensor(dataset)\n",
    "        \n",
    "        # Split into inputs and outputs\n",
    "        inputs = dataset[:, self.input_slice, :]\n",
    "        labels = dataset[:, self.label_slice, :]\n",
    "        \n",
    "        if self.label_columns is not None:\n",
    "            labels = tf.stack([labels[:, :, self.column_indices[name]] for name in self.label_columns], axis=-1)\n",
    "            \n",
    "        inputs.set_shape([None, self.input_width, None])\n",
    "        labels.set_shape([None, self.label_width, None])\n",
    "        \n",
    "        dataset = tf.data.Dataset.from_tensor_slices((inputs, labels))\n",
    "        dataset = dataset.batch(batch_size)\n",
    "        \n",
    "        del inputs\n",
    "        del labels\n",
    "        \n",
    "        return dataset\n",
    "    \n",
    "    @property\n",
    "    def train(self):\n",
    "        return self.make_dataset(self.train_df)\n",
    "\n",
    "    @property\n",
    "    def val(self):\n",
    "        return self.make_dataset(self.val_df)\n",
    "\n",
    "    @property\n",
    "    def test(self):\n",
    "        return self.make_dataset(self.test_df)\n",
    "\n",
    "    @property\n",
    "    def example(self):\n",
    "        \"\"\"\n",
    "        Get and cache an example batch of `inputs, labels` for plotting.\n",
    "        \"\"\"\n",
    "        result = getattr(self, '_example', None)\n",
    "        if result is None:\n",
    "            # No example batch was found, so get one from the `.train` dataset\n",
    "            result = next(iter(self.train))\n",
    "            # And cache it for next time\n",
    "            self._example = result\n",
    "        \n",
    "        return result\n",
    "    \n",
    "    \n",
    "    def plot(self, model=None, plot_col='0', max_subplots=3):\n",
    "        inputs, labels = self.example\n",
    "        plt.figure(figsize=(12, 8))\n",
    "        plot_col_index = self.column_indices[plot_col]\n",
    "        max_n = min(max_subplots, len(inputs))\n",
    "        for n in range(max_n):\n",
    "            plt.subplot(3, 1, n+1)\n",
    "            plt.ylabel(f'{plot_col} [normed]')\n",
    "            plt.plot(self.input_indices, inputs[n, :, plot_col_index],\n",
    "                     label='Inputs', marker='.', zorder=-10)\n",
    "        \n",
    "            label_col_index = self.label_column_indices.get(plot_col, None)\n",
    "\n",
    "            plt.scatter(self.label_indices, labels[n, :, label_col_index], \n",
    "                        edgecolors='k', label='Labels', c='#2ca02c', s=64)\n",
    "\n",
    "            if model is not None:\n",
    "                predictions = model(inputs)\n",
    "                plt.scatter(self.label_indices, predictions[n, :, label_col_index],\n",
    "                            marker='X', edgecolors='k', label='Predictions',\n",
    "                            c='#ff7f0e', s=64)\n",
    "\n",
    "            if n == 0:\n",
    "                plt.legend()\n",
    "\n",
    "        plt.xlabel('Time [h]')"
   ]
  },
  {
   "cell_type": "code",
   "execution_count": 12,
   "metadata": {},
   "outputs": [
    {
     "data": {
      "text/plain": [
       "Total window size: 11\n",
       "Input indices: [0 1 2 3 4 5 6 7 8 9]\n",
       "Label indices: [10]\n",
       "Label column name(s): ['0' '1' '2' '3']"
      ]
     },
     "execution_count": 12,
     "metadata": {},
     "output_type": "execute_result"
    }
   ],
   "source": [
    "w1 = WindowGenerator(time_window='30H', input_width=10, label_width=1, shift=1,\n",
    "                    train_df = train_df,\n",
    "                    val_df = val_df,\n",
    "                    test_df = test_df)\n",
    "\n",
    "w1"
   ]
  },
  {
   "cell_type": "code",
   "execution_count": 13,
   "metadata": {},
   "outputs": [
    {
     "name": "stdout",
     "output_type": "stream",
     "text": [
      "No of data points discarded 547\n",
      "Inputs shape (batch, time, features): (32, 10, 4)\n",
      "Labels shape (batch, time, features): (32, 1, 4)\n"
     ]
    }
   ],
   "source": [
    "for example_inputs, example_labels in w1.train.take(1):\n",
    "    print(f'Inputs shape (batch, time, features): {example_inputs.shape}')\n",
    "    print(f'Labels shape (batch, time, features): {example_labels.shape}')"
   ]
  },
  {
   "cell_type": "code",
   "execution_count": 16,
   "metadata": {},
   "outputs": [
    {
     "name": "stdout",
     "output_type": "stream",
     "text": [
      "No of data points discarded 211\n"
     ]
    },
    {
     "data": {
      "text/plain": [
       "<BatchDataset shapes: ((None, 10, 4), (None, 1, 4)), types: (tf.float64, tf.float64)>"
      ]
     },
     "execution_count": 16,
     "metadata": {},
     "output_type": "execute_result"
    }
   ],
   "source": [
    "w1.test"
   ]
  },
  {
   "cell_type": "markdown",
   "metadata": {},
   "source": [
    "# Single Step Models"
   ]
  },
  {
   "cell_type": "code",
   "execution_count": 17,
   "metadata": {},
   "outputs": [
    {
     "data": {
      "text/plain": [
       "Total window size: 11\n",
       "Input indices: [0 1 2 3 4 5 6 7 8 9]\n",
       "Label indices: [10]\n",
       "Label column name(s): ['0']"
      ]
     },
     "execution_count": 17,
     "metadata": {},
     "output_type": "execute_result"
    }
   ],
   "source": [
    "## Single Step Model\n",
    "single_step_window = WindowGenerator(time_window='30H', input_width=10, label_width=1, shift=1,\n",
    "                                    train_df = train_df,\n",
    "                                    val_df = val_df,\n",
    "                                    test_df = test_df,\n",
    "                                    non_label_columns=['1', '2', '3'])\n",
    "\n",
    "single_step_window"
   ]
  },
  {
   "cell_type": "code",
   "execution_count": 18,
   "metadata": {},
   "outputs": [
    {
     "name": "stdout",
     "output_type": "stream",
     "text": [
      "No of data points discarded 547\n",
      "Inputs shape (batch, time, features): (32, 10, 4)\n",
      "Labels shape (batch, time, features): (32, 1, 1)\n"
     ]
    }
   ],
   "source": [
    "for example_inputs, example_labels in single_step_window.train.take(1):\n",
    "    print(f'Inputs shape (batch, time, features): {example_inputs.shape}')\n",
    "    print(f'Labels shape (batch, time, features): {example_labels.shape}')"
   ]
  },
  {
   "cell_type": "markdown",
   "metadata": {},
   "source": [
    "## Baseline\n",
    "\n",
    "This Baseline returns the current 0th Fd as the prediction"
   ]
  },
  {
   "cell_type": "code",
   "execution_count": 19,
   "metadata": {},
   "outputs": [],
   "source": [
    "class Baseline(tf.keras.Model):\n",
    "    def __init__(self, label_index=None):\n",
    "        super().__init__()\n",
    "        self.label_index = label_index\n",
    "    \n",
    "    def call(self, inputs):\n",
    "        if self.label_index is None:\n",
    "            return inputs\n",
    "        \n",
    "        result = inputs[:, :, self.label_index]\n",
    "        return result[:, :, tf.newaxis]  ## Understant it"
   ]
  },
  {
   "cell_type": "code",
   "execution_count": 22,
   "metadata": {},
   "outputs": [
    {
     "name": "stdout",
     "output_type": "stream",
     "text": [
      "No of data points discarded 407\n",
      "WARNING:tensorflow:Layer baseline_2 is casting an input tensor from dtype float64 to the layer's dtype of float32, which is new behavior in TensorFlow 2.  The layer has dtype float32 because it's dtype defaults to floatx.\n",
      "\n",
      "If you intended to run this layer in float32, you can safely ignore this warning. If in doubt, this warning is likely only an issue if you are porting a TensorFlow 1.X model to TensorFlow 2.\n",
      "\n",
      "To change all layers to have dtype float64 by default, call `tf.keras.backend.set_floatx('float64')`. To change just this layer, pass dtype='float64' to the layer constructor. If you are the author of this layer, you can disable autocasting by passing autocast=False to the base Layer constructor.\n",
      "\n",
      "10/10 [==============================] - 0s 798us/step - loss: 1.5173 - mean_absolute_error: 0.8465\n",
      "No of data points discarded 211\n",
      "5/5 [==============================] - 0s 798us/step - loss: 1.4111 - mean_absolute_error: 0.9269\n"
     ]
    }
   ],
   "source": [
    "baseline = Baseline(label_index=0)  # index of the column\n",
    "\n",
    "baseline.compile(loss = tf.losses.MeanSquaredError(),\n",
    "                metrics=[tf.metrics.MeanAbsoluteError()])\n",
    "\n",
    "val_performance = {}\n",
    "performance = {}\n",
    "\n",
    "val_performance['Baseline'] = baseline.evaluate(single_step_window.val)\n",
    "performance['Baseline'] = baseline.evaluate(single_step_window.test)"
   ]
  },
  {
   "cell_type": "code",
   "execution_count": 26,
   "metadata": {},
   "outputs": [
    {
     "data": {
      "text/plain": [
       "Total window size: 11\n",
       "Input indices: [0 1 2 3 4 5 6 7 8 9]\n",
       "Label indices: [ 1  2  3  4  5  6  7  8  9 10]\n",
       "Label column name(s): ['0']"
      ]
     },
     "execution_count": 26,
     "metadata": {},
     "output_type": "execute_result"
    }
   ],
   "source": [
    "## Single Step Model\n",
    "wide_window = WindowGenerator(time_window='30H', input_width=10, label_width=10, shift=1,\n",
    "                                    train_df = train_df,\n",
    "                                    val_df = val_df,\n",
    "                                    test_df = test_df,\n",
    "                                    non_label_columns=['1', '2', '3'])\n",
    "\n",
    "wide_window"
   ]
  },
  {
   "cell_type": "code",
   "execution_count": 24,
   "metadata": {},
   "outputs": [
    {
     "name": "stdout",
     "output_type": "stream",
     "text": [
      "No of data points discarded 547\n",
      "Input shape: (32, 10, 4)\n",
      "Output shape: (32, 10, 1)\n"
     ]
    }
   ],
   "source": [
    "print('Input shape:', single_step_window.example[0].shape)\n",
    "print('Output shape:', baseline(single_step_window.example[0]).shape)"
   ]
  },
  {
   "cell_type": "code",
   "execution_count": 27,
   "metadata": {},
   "outputs": [
    {
     "name": "stdout",
     "output_type": "stream",
     "text": [
      "No of data points discarded 547\n"
     ]
    },
    {
     "data": {
      "image/png": "[encoded data removed]",
      "text/plain": [
       "<Figure size 864x576 with 3 Axes>"
      ]
     },
     "metadata": {},
     "output_type": "display_data"
    }
   ],
   "source": [
    "wide_window.plot(baseline)"
   ]
  },
  {
   "cell_type": "markdown",
   "metadata": {},
   "source": [
    "# Multi-Output"
   ]
  },
  {
   "cell_type": "code",
   "execution_count": 55,
   "metadata": {},
   "outputs": [],
   "source": [
    "MAX_EPOCHS = 50\n",
    "\n",
    "def compile_and_fit(model, window, patience=5):\n",
    "    early_stopping = tf.keras.callbacks.EarlyStopping(monitor='val_loss',\n",
    "                                                    patience=patience,\n",
    "                                                    mode='min')\n",
    "    model.compile(loss=tf.losses.MeanSquaredError(),\n",
    "                  optimizer=tf.optimizers.Adam(),\n",
    "                  metrics=[tf.metrics.MeanAbsoluteError()])\n",
    "\n",
    "    history = model.fit(window.train, epochs=MAX_EPOCHS,\n",
    "                        validation_data=window.val,\n",
    "                        callbacks=[early_stopping])\n",
    "    \n",
    "    return history"
   ]
  },
  {
   "cell_type": "code",
   "execution_count": 32,
   "metadata": {},
   "outputs": [
    {
     "name": "stdout",
     "output_type": "stream",
     "text": [
      "No of data points discarded 547\n",
      "Inputs shape (batch, time, features): (32, 10, 4)\n",
      "Labels shape (batch, time, features): (32, 10, 1)\n"
     ]
    },
    {
     "data": {
      "text/plain": [
       "Total window size: 11\n",
       "Input indices: [0 1 2 3 4 5 6 7 8 9]\n",
       "Label indices: [10]\n",
       "Label column name(s): ['0' '1' '2' '3']"
      ]
     },
     "execution_count": 32,
     "metadata": {},
     "output_type": "execute_result"
    }
   ],
   "source": [
    "multi_output = WindowGenerator(time_window='30H', input_width=10, label_width=1, shift=1,\n",
    "                                    train_df = train_df,\n",
    "                                    val_df = val_df,\n",
    "                                    test_df = test_df)\n",
    "\n",
    "for example_inputs, example_labels in wide_window.train.take(1):\n",
    "    print(f'Inputs shape (batch, time, features): {example_inputs.shape}')\n",
    "    print(f'Labels shape (batch, time, features): {example_labels.shape}')\n",
    "\n",
    "multi_output"
   ]
  },
  {
   "cell_type": "code",
   "execution_count": 33,
   "metadata": {},
   "outputs": [
    {
     "name": "stdout",
     "output_type": "stream",
     "text": [
      "No of data points discarded 407\n",
      "WARNING:tensorflow:Layer baseline_3 is casting an input tensor from dtype float64 to the layer's dtype of float32, which is new behavior in TensorFlow 2.  The layer has dtype float32 because it's dtype defaults to floatx.\n",
      "\n",
      "If you intended to run this layer in float32, you can safely ignore this warning. If in doubt, this warning is likely only an issue if you are porting a TensorFlow 1.X model to TensorFlow 2.\n",
      "\n",
      "To change all layers to have dtype float64 by default, call `tf.keras.backend.set_floatx('float64')`. To change just this layer, pass dtype='float64' to the layer constructor. If you are the author of this layer, you can disable autocasting by passing autocast=False to the base Layer constructor.\n",
      "\n",
      "10/10 [==============================] - 0s 898us/step - loss: 8.3274 - mean_absolute_error: 2.1034\n",
      "No of data points discarded 211\n"
     ]
    }
   ],
   "source": [
    "baseline = Baseline()\n",
    "baseline.compile(loss=tf.losses.MeanSquaredError(),\n",
    "                 metrics=[tf.metrics.MeanAbsoluteError()])\n",
    "\n",
    "val_performance = {}\n",
    "performance = {}\n",
    "val_performance['Baseline'] = baseline.evaluate(wide_window.val)\n",
    "performance['Baseline'] = baseline.evaluate(wide_window.test, verbose=0)"
   ]
  },
  {
   "cell_type": "code",
   "execution_count": 39,
   "metadata": {},
   "outputs": [
    {
     "name": "stdout",
     "output_type": "stream",
     "text": [
      "No of data points discarded 407\n",
      "10/10 [==============================] - 0s 2ms/step - loss: 2.6998 - mean_absolute_error: 1.1934\n",
      "No of data points discarded 211\n"
     ]
    }
   ],
   "source": [
    "dense = tf.keras.Sequential([\n",
    "    tf.keras.layers.Dense(units=64, activation='relu'),\n",
    "    tf.keras.layers.Dense(units=64, activation='relu'),\n",
    "    tf.keras.layers.Dense(units=4)\n",
    "])\n",
    "\n",
    "history = compile_and_fit(dense, multi_output)\n",
    "\n",
    "IPython.display.clear_output()\n",
    "val_performance['Dense'] = dense.evaluate(multi_output.val)\n",
    "performance['Dense'] = dense.evaluate(multi_output.test, verbose=0)"
   ]
  },
  {
   "cell_type": "code",
   "execution_count": 56,
   "metadata": {},
   "outputs": [
    {
     "name": "stdout",
     "output_type": "stream",
     "text": [
      "No of data points discarded 407\n",
      "10/10 [==============================] - 0s 16ms/step - loss: 3.1019 - mean_absolute_error: 1.2324\n",
      "No of data points discarded 211\n",
      "\n",
      "Wall time: 2min 52s\n"
     ]
    }
   ],
   "source": [
    "%%time\n",
    "tf.keras.backend.clear_session()\n",
    "lstm_model = tf.keras.models.Sequential([\n",
    "    # Shape [batch, time, features] => [batch, time, lstm_units]\n",
    "    tf.keras.layers.LSTM(200, return_sequences=True),\n",
    "    tf.keras.layers.LSTM(100, return_sequences=True),\n",
    "    tf.keras.layers.LSTM(80),\n",
    "    # Shape => [batch, time, features]\n",
    "    tf.keras.layers.Dense(units=4)\n",
    "])\n",
    "\n",
    "history = compile_and_fit(lstm_model, multi_output)\n",
    "\n",
    "IPython.display.clear_output()\n",
    "val_performance['LSTM'] = lstm_model.evaluate( multi_output.val)\n",
    "performance['LSTM'] = lstm_model.evaluate( multi_output.test, verbose=0)\n",
    "\n",
    "print()"
   ]
  },
  {
   "cell_type": "code",
   "execution_count": 49,
   "metadata": {},
   "outputs": [
    {
     "data": {
      "image/png": "[encoded data removed]",
      "text/plain": [
       "<Figure size 1080x360 with 1 Axes>"
      ]
     },
     "metadata": {},
     "output_type": "display_data"
    }
   ],
   "source": [
    "x = np.arange(len(performance))\n",
    "width = 0.3\n",
    "metric_name = 'mean_absolute_error'\n",
    "metric_index = lstm_model.metrics_names.index('mean_absolute_error')\n",
    "val_mae = [v[metric_index] for v in val_performance.values()]\n",
    "test_mae = [v[metric_index] for v in performance.values()]\n",
    "\n",
    "plt.ylabel('mean_absolute_error [T (degC), normalized]')\n",
    "plt.bar(x - 0.17, val_mae, width, label='Validation')\n",
    "plt.bar(x + 0.17, test_mae, width, label='Test')\n",
    "plt.xticks(ticks=x, labels=performance.keys(),\n",
    "           rotation=45)\n",
    "_ = plt.legend()"
   ]
  },
  {
   "cell_type": "code",
   "execution_count": 46,
   "metadata": {},
   "outputs": [],
   "source": [
    "class ResidualWrapper(tf.keras.Model):\n",
    "    def __init__(self, model):\n",
    "        super().__init__()\n",
    "        self.model = model\n",
    "\n",
    "    def call(self, inputs, *args, **kwargs):\n",
    "        delta = self.model(inputs, *args, **kwargs)\n",
    "\n",
    "        # The prediction for each timestep is the input\n",
    "        # from the previous time step plus the delta\n",
    "        # calculated by the model.\n",
    "        return inputs + delta"
   ]
  },
  {
   "cell_type": "code",
   "execution_count": 48,
   "metadata": {},
   "outputs": [
    {
     "name": "stdout",
     "output_type": "stream",
     "text": [
      "No of data points discarded 407\n",
      "10/10 [==============================] - 0s 4ms/step - loss: 1.4603 - mean_absolute_error: 0.8212\n",
      "No of data points discarded 211\n",
      "\n",
      "Wall time: 14.4 s\n"
     ]
    }
   ],
   "source": [
    "%%time\n",
    "residual_lstm = ResidualWrapper(\n",
    "    tf.keras.Sequential([\n",
    "    tf.keras.layers.LSTM(32, return_sequences=True),\n",
    "    tf.keras.layers.Dense(\n",
    "        4,\n",
    "        # The predicted deltas should start small\n",
    "        # So initialize the output layer with zeros\n",
    "        kernel_initializer=tf.initializers.zeros)\n",
    "]))\n",
    "\n",
    "history = compile_and_fit(residual_lstm, multi_output)\n",
    "\n",
    "IPython.display.clear_output()\n",
    "val_performance['Residual LSTM'] = residual_lstm.evaluate(multi_output.val)\n",
    "performance['Residual LSTM'] = residual_lstm.evaluate(multi_output.test, verbose=0)\n",
    "print()"
   ]
  },
  {
   "cell_type": "code",
   "execution_count": 57,
   "metadata": {},
   "outputs": [
    {
     "data": {
      "image/png": "[encoded data removed]",
      "text/plain": [
       "<Figure size 720x360 with 1 Axes>"
      ]
     },
     "metadata": {},
     "output_type": "display_data"
    }
   ],
   "source": [
    "pd.DataFrame(history.history).plot(figsize=(10,5))\n",
    "# plt.grid(True)\n",
    "plt.gca().set_ylim(0,2)\n",
    "plt.show()"
   ]
  },
  {
   "cell_type": "markdown",
   "metadata": {},
   "source": [
    "## Understanding"
   ]
  },
  {
   "cell_type": "code",
   "execution_count": 256,
   "metadata": {},
   "outputs": [],
   "source": [
    "time_window = '30H'\n",
    "input_width = 10\n",
    "label_width = 1\n",
    "shift = 1\n",
    "\n",
    "total_window_size = input_width + shift  # total window size\n",
    "label_start = total_window_size - label_width  # Label Start index\n",
    "time_window = pd.Timedelta(time_window)"
   ]
  },
  {
   "cell_type": "code",
   "execution_count": 257,
   "metadata": {},
   "outputs": [],
   "source": [
    "input_slice = slice(0, input_width)\n",
    "label_slice = slice(label_start, None)"
   ]
  },
  {
   "cell_type": "code",
   "execution_count": 261,
   "metadata": {},
   "outputs": [
    {
     "data": {
      "text/plain": [
       "(724, 4)"
      ]
     },
     "execution_count": 261,
     "metadata": {},
     "output_type": "execute_result"
    }
   ],
   "source": [
    "# Getting full windows as a numpy array\n",
    "# will be a 3d array\n",
    "# (batch, timestep, features)\n",
    "\n",
    "td = val_df.copy()\n",
    "td.shape"
   ]
  },
  {
   "cell_type": "code",
   "execution_count": 259,
   "metadata": {},
   "outputs": [
    {
     "data": {
      "text/plain": [
       "<tf.Tensor: shape=(2, 3), dtype=int32, numpy=\n",
       "array([[1, 2, 3],\n",
       "       [4, 5, 6]])>"
      ]
     },
     "execution_count": 259,
     "metadata": {},
     "output_type": "execute_result"
    }
   ],
   "source": [
    "\n",
    "total_window_size\n",
    "\n",
    "t1 = np.array([1,2,3])\n",
    "t2 = np.array([4,5,6])\n",
    "\n",
    "# tf.concat([t1,t2], axis=1)\n",
    "\n",
    "tf.stack([t1,t2])"
   ]
  },
  {
   "cell_type": "code",
   "execution_count": 260,
   "metadata": {},
   "outputs": [
    {
     "name": "stdout",
     "output_type": "stream",
     "text": [
      "No of data points discarded 407\n"
     ]
    }
   ],
   "source": [
    "custom_window = []  # Intialize the windowed array\n",
    "time_index = []  # to get the timestamps (will help while plotting)\n",
    "\n",
    "c = 0  # count the number of discarded data points\n",
    "\n",
    "for t in td.index:\n",
    "    time_chunk = td[t: t+time_window]  # Get the data chunk in the time_window\n",
    "    \n",
    "    # datapoints in the time window should be atleast the size of the window\n",
    "    if len(time_chunk) >= total_window_size: \n",
    "        custom_window.append(time_chunk.iloc[0:total_window_size].values)  # To have constant windows \n",
    "    \n",
    "    else:\n",
    "        c+=1\n",
    "        \n",
    "print(f'No of data points discarded {c}')\n",
    "custom_window = tf.convert_to_tensor(custom_window)"
   ]
  },
  {
   "cell_type": "code",
   "execution_count": 262,
   "metadata": {},
   "outputs": [],
   "source": [
    "# Splitting\n",
    "\n",
    "inputs = custom_window[:, input_slice, :]\n",
    "labels = custom_window[:, label_slice, :]\n",
    "\n",
    "\n",
    "# Create a mapping to keep only those indixes from the labels we need\n",
    "\n",
    "inputs.set_shape([None, input_width, None])\n",
    "labels.set_shape([None, label_width, None])"
   ]
  },
  {
   "cell_type": "code",
   "execution_count": 263,
   "metadata": {},
   "outputs": [],
   "source": [
    "ds =tf.data.Dataset.from_tensor_slices((inputs, labels))"
   ]
  },
  {
   "cell_type": "code",
   "execution_count": 264,
   "metadata": {},
   "outputs": [
    {
     "data": {
      "text/plain": [
       "<TensorSliceDataset shapes: ((10, 4), (1, 4)), types: (tf.float64, tf.float64)>"
      ]
     },
     "execution_count": 264,
     "metadata": {},
     "output_type": "execute_result"
    }
   ],
   "source": [
    "ds"
   ]
  },
  {
   "cell_type": "code",
   "execution_count": 208,
   "metadata": {},
   "outputs": [],
   "source": [
    "batch_size = 32\n",
    "shuffle_buffer_size = 500\n",
    "\n",
    "ds = ds.shuffle(shuffle_buffer_size).batch(batch_size)"
   ]
  },
  {
   "cell_type": "code",
   "execution_count": 210,
   "metadata": {},
   "outputs": [
    {
     "name": "stdout",
     "output_type": "stream",
     "text": [
      "Inputs shape (batch, time, features): (32, 10, 4)\n",
      "Labels shape (batch, time, features): (32, 1, 4)\n"
     ]
    }
   ],
   "source": [
    "for example_inputs, example_labels in ds.take(1):\n",
    "    print(f'Inputs shape (batch, time, features): {example_inputs.shape}')\n",
    "    print(f'Labels shape (batch, time, features): {example_labels.shape}')"
   ]
  },
  {
   "cell_type": "code",
   "execution_count": 159,
   "metadata": {},
   "outputs": [
    {
     "data": {
      "text/plain": [
       "<TensorSliceDataset shapes: (11, 4), types: tf.float64>"
      ]
     },
     "execution_count": 159,
     "metadata": {},
     "output_type": "execute_result"
    }
   ],
   "source": [
    "tf.data.Dataset.from_tensor_slices()"
   ]
  },
  {
   "cell_type": "code",
   "execution_count": 157,
   "metadata": {},
   "outputs": [
    {
     "ename": "AttributeError",
     "evalue": "module 'tensorflow.keras.preprocessing' has no attribute 'timeseries_dataset_from_array'",
     "output_type": "error",
     "traceback": [
      "\u001b[1;31m---------------------------------------------------------------------------\u001b[0m",
      "\u001b[1;31mAttributeError\u001b[0m                            Traceback (most recent call last)",
      "\u001b[1;32m<ipython-input-157-07d80e5123d5>\u001b[0m in \u001b[0;36m<module>\u001b[1;34m\u001b[0m\n\u001b[1;32m----> 1\u001b[1;33m ds = tf.keras.preprocessing.timeseries_dataset_from_array(\n\u001b[0m\u001b[0;32m      2\u001b[0m   \u001b[0mdata\u001b[0m\u001b[1;33m=\u001b[0m\u001b[0mtwin\u001b[0m\u001b[1;33m,\u001b[0m\u001b[1;33m\u001b[0m\u001b[1;33m\u001b[0m\u001b[0m\n\u001b[0;32m      3\u001b[0m   \u001b[0mtargets\u001b[0m\u001b[1;33m=\u001b[0m\u001b[1;32mNone\u001b[0m\u001b[1;33m,\u001b[0m\u001b[1;33m\u001b[0m\u001b[1;33m\u001b[0m\u001b[0m\n\u001b[0;32m      4\u001b[0m   \u001b[0msequence_length\u001b[0m\u001b[1;33m=\u001b[0m\u001b[0mtotal_window_size\u001b[0m\u001b[1;33m,\u001b[0m\u001b[1;33m\u001b[0m\u001b[1;33m\u001b[0m\u001b[0m\n\u001b[0;32m      5\u001b[0m   \u001b[0msequence_stride\u001b[0m\u001b[1;33m=\u001b[0m\u001b[1;36m1\u001b[0m\u001b[1;33m,\u001b[0m\u001b[1;33m\u001b[0m\u001b[1;33m\u001b[0m\u001b[0m\n",
      "\u001b[1;31mAttributeError\u001b[0m: module 'tensorflow.keras.preprocessing' has no attribute 'timeseries_dataset_from_array'"
     ]
    }
   ],
   "source": [
    "ds = tf.keras.preprocessing.timeseries_dataset_from_array(\n",
    "  data=twin,\n",
    "  targets=None,\n",
    "  sequence_length=total_window_size,\n",
    "  sequence_stride=1,\n",
    "  shuffle=True,\n",
    "  batch_size=32,)"
   ]
  },
  {
   "cell_type": "code",
   "execution_count": 92,
   "metadata": {},
   "outputs": [
    {
     "data": {
      "image/png": "[encoded data removed]",
      "text/plain": [
       "<Figure size 864x576 with 3 Axes>"
      ]
     },
     "metadata": {},
     "output_type": "display_data"
    }
   ],
   "source": [
    "plot_index = 2 # Oth fd\n",
    "\n",
    "input_indices = np.arange(total_window_size)[input_slice]\n",
    "label_indices = np.arange(total_window_size)[label_slice]\n",
    "\n",
    "max_subplots=3\n",
    "plt.figure(figsize=(12, 8))\n",
    "plot_col_index = plot_index\n",
    "max_n = min(max_subplots, len(inputs))\n",
    "\n",
    "for n in range(max_n):\n",
    "    plt.subplot(3, 1, n+1)\n",
    "    plt.ylabel('0th FD [normed]')\n",
    "    plt.plot(input_indices, inputs[n, :, plot_col_index], label='Inputs', marker='.',\n",
    "            zorder=-10)\n",
    "    \n",
    "    label_col_index = 0\n",
    "    \n",
    "    plt.scatter(label_indices, labels[n, :, label_col_index], edgecolors='k', label='Labels',\n",
    "               c='#2ca02c', s=64)\n",
    "    \n",
    "    if n == 0:\n",
    "        plt.legend()"
   ]
  },
  {
   "cell_type": "code",
   "execution_count": 125,
   "metadata": {},
   "outputs": [
    {
     "data": {
      "text/plain": [
       "<TensorDataset shapes: (10, 10, 4), types: tf.float64>"
      ]
     },
     "execution_count": 125,
     "metadata": {},
     "output_type": "execute_result"
    }
   ],
   "source": [
    "tf.data.Dataset.from_tensors(inputs)"
   ]
  }
 ],
 "metadata": {
  "kernelspec": {
   "display_name": "Python 3",
   "language": "python",
   "name": "python3"
  },
  "language_info": {
   "codemirror_mode": {
    "name": "ipython",
    "version": 3
   },
   "file_extension": ".py",
   "mimetype": "text/x-python",
   "name": "python",
   "nbconvert_exporter": "python",
   "pygments_lexer": "ipython3",
   "version": "3.7.3"
  }
 },
 "nbformat": 4,
 "nbformat_minor": 4
}
