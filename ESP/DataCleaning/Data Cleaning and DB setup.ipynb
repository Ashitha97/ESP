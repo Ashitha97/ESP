{
 "cells": [
  {
   "cell_type": "markdown",
   "metadata": {},
   "source": [
    "This notebook goes over the data and sets it up in the database."
   ]
  },
  {
   "cell_type": "markdown",
   "metadata": {},
   "source": [
    "# Imports"
   ]
  },
  {
   "cell_type": "code",
   "execution_count": 1,
   "metadata": {},
   "outputs": [],
   "source": [
    "\"\"\"\n",
    "For setting up local imports in an Ipython Shell\n",
    "This is a workaround for ipython, dont need it for basic python scripts\n",
    "\"\"\"\n",
    "import os\n",
    "import sys\n",
    "module_path = os.path.abspath(os.path.join('..'))\n",
    "if module_path not in sys.path:\n",
    "    sys.path.append(module_path)"
   ]
  },
  {
   "cell_type": "code",
   "execution_count": 2,
   "metadata": {},
   "outputs": [],
   "source": [
    "import pandas as pd\n",
    "import numpy as np\n",
    "\n",
    "# Daily Streaming\n",
    "from config import username, password, endpoint, data_path\n",
    "from library import lib_aws"
   ]
  },
  {
   "cell_type": "code",
   "execution_count": 3,
   "metadata": {},
   "outputs": [],
   "source": [
    "# HELPER FUNCTIONS\n",
    "\n",
    "# Clean up strings\n",
    "def node_clean(node_str):\n",
    "    \"\"\"\n",
    "    Function that cleans up NodeID strings\n",
    "    \"\"\"\n",
    "    node_str = \" \".join(node_str.split())  # remove empty white spaces\n",
    "    node_str = node_str.replace('#', \"\").strip().lower().title()  # remove # character, plus clean characters\n",
    "    node_str =  node_str[0:-2] + node_str[-2:].upper() # last 2 characters whill alwsy be upper case\n",
    "    return node_str"
   ]
  },
  {
   "cell_type": "markdown",
   "metadata": {},
   "source": [
    "# Historical Data\n",
    "\n",
    "The following three sources of historical data are present:\n",
    "```\n",
    "- tblDataHistory from 2 sql server backups\n",
    "- ESPData.E2E.20200924.1601.csv : Latest backup in the sftp server before streaming starts\n",
    "```"
   ]
  },
  {
   "cell_type": "code",
   "execution_count": 4,
   "metadata": {},
   "outputs": [
    {
     "name": "stdout",
     "output_type": "stream",
     "text": [
      "Wall time: 1min 25s\n"
     ]
    },
    {
     "data": {
      "text/html": [
       "<div>\n",
       "<style scoped>\n",
       "    .dataframe tbody tr th:only-of-type {\n",
       "        vertical-align: middle;\n",
       "    }\n",
       "\n",
       "    .dataframe tbody tr th {\n",
       "        vertical-align: top;\n",
       "    }\n",
       "\n",
       "    .dataframe thead th {\n",
       "        text-align: right;\n",
       "    }\n",
       "</style>\n",
       "<table border=\"1\" class=\"dataframe\">\n",
       "  <thead>\n",
       "    <tr style=\"text-align: right;\">\n",
       "      <th></th>\n",
       "      <th>NodeID</th>\n",
       "      <th>Date</th>\n",
       "      <th>Address</th>\n",
       "      <th>Value</th>\n",
       "    </tr>\n",
       "  </thead>\n",
       "  <tbody>\n",
       "    <tr>\n",
       "      <th>0</th>\n",
       "      <td>Acadia 31-25H</td>\n",
       "      <td>2020-08-18</td>\n",
       "      <td>2002</td>\n",
       "      <td>38.346401</td>\n",
       "    </tr>\n",
       "    <tr>\n",
       "      <th>1</th>\n",
       "      <td>Acadia 31-25H</td>\n",
       "      <td>2020-08-18</td>\n",
       "      <td>2004</td>\n",
       "      <td>18.342501</td>\n",
       "    </tr>\n",
       "    <tr>\n",
       "      <th>2</th>\n",
       "      <td>Acadia 31-25H</td>\n",
       "      <td>2020-08-18</td>\n",
       "      <td>2005</td>\n",
       "      <td>24.000000</td>\n",
       "    </tr>\n",
       "    <tr>\n",
       "      <th>3</th>\n",
       "      <td>Acadia 31-25H</td>\n",
       "      <td>2020-08-18</td>\n",
       "      <td>2006</td>\n",
       "      <td>28735.000000</td>\n",
       "    </tr>\n",
       "    <tr>\n",
       "      <th>4</th>\n",
       "      <td>Acadia 31-25H</td>\n",
       "      <td>2020-08-18</td>\n",
       "      <td>2007</td>\n",
       "      <td>16373.000000</td>\n",
       "    </tr>\n",
       "  </tbody>\n",
       "</table>\n",
       "</div>"
      ],
      "text/plain": [
       "          NodeID       Date  Address         Value\n",
       "0  Acadia 31-25H 2020-08-18     2002     38.346401\n",
       "1  Acadia 31-25H 2020-08-18     2004     18.342501\n",
       "2  Acadia 31-25H 2020-08-18     2005     24.000000\n",
       "3  Acadia 31-25H 2020-08-18     2006  28735.000000\n",
       "4  Acadia 31-25H 2020-08-18     2007  16373.000000"
      ]
     },
     "execution_count": 4,
     "metadata": {},
     "output_type": "execute_result"
    }
   ],
   "source": [
    "%%time\n",
    "# latest backup data\n",
    "file_name = 'ESPData.E2E.20200924.1601.csv'\n",
    "full_path = os.path.join(data_path, file_name)\n",
    "\n",
    "esp_hist = pd.read_csv(full_path, parse_dates=['Date'])\n",
    "esp_hist.NodeID = esp_hist.NodeID.apply(node_clean)\n",
    "esp_hist.drop_duplicates(subset=['NodeID', 'Date', 'Address'], inplace=True)\n",
    "esp_hist.reset_index(inplace=True, drop=True)\n",
    "esp_hist.head()"
   ]
  },
  {
   "cell_type": "code",
   "execution_count": 5,
   "metadata": {},
   "outputs": [
    {
     "name": "stdout",
     "output_type": "stream",
     "text": [
      "Data replaceed on Table data in time 660.56s\n"
     ]
    }
   ],
   "source": [
    "# Add data to the db\n",
    "lib_aws.AddData.add_data(df=esp_hist, \n",
    "                 db='esp-data', \n",
    "                 table='data',\n",
    "                 merge_type='append',  # Only use replace if you know what you are doing\n",
    "                 index_col='NodeID') "
   ]
  },
  {
   "cell_type": "markdown",
   "metadata": {},
   "source": [
    "# Data Streaming\n",
    "\n",
    "- Data streams in the sftp server\n",
    "- Combine the codes with `oasis-data-stream` application.\n",
    "- Has been set up"
   ]
  },
  {
   "cell_type": "markdown",
   "metadata": {},
   "source": [
    "# Extra Tables\n",
    "\n",
    "- This includes `espaddr` table which will help in mapping the numerical addresses to Feature names we know and love :)\n",
    "- The `espParameters.xlsx` file has the necessary info."
   ]
  },
  {
   "cell_type": "code",
   "execution_count": 11,
   "metadata": {},
   "outputs": [
    {
     "data": {
      "text/html": [
       "<div>\n",
       "<style scoped>\n",
       "    .dataframe tbody tr th:only-of-type {\n",
       "        vertical-align: middle;\n",
       "    }\n",
       "\n",
       "    .dataframe tbody tr th {\n",
       "        vertical-align: top;\n",
       "    }\n",
       "\n",
       "    .dataframe thead th {\n",
       "        text-align: right;\n",
       "    }\n",
       "</style>\n",
       "<table border=\"1\" class=\"dataframe\">\n",
       "  <thead>\n",
       "    <tr style=\"text-align: right;\">\n",
       "      <th></th>\n",
       "      <th>Address</th>\n",
       "      <th>Parameter</th>\n",
       "      <th>Pump</th>\n",
       "    </tr>\n",
       "  </thead>\n",
       "  <tbody>\n",
       "    <tr>\n",
       "      <th>0</th>\n",
       "      <td>32176.0</td>\n",
       "      <td>Motor current</td>\n",
       "      <td>ESP Schlumberger Uniconn</td>\n",
       "    </tr>\n",
       "    <tr>\n",
       "      <th>1</th>\n",
       "      <td>32166.0</td>\n",
       "      <td>Frequency</td>\n",
       "      <td>ESP Schlumberger Uniconn</td>\n",
       "    </tr>\n",
       "    <tr>\n",
       "      <th>2</th>\n",
       "      <td>32141.0</td>\n",
       "      <td>Motor Temperature</td>\n",
       "      <td>ESP Schlumberger Uniconn</td>\n",
       "    </tr>\n",
       "    <tr>\n",
       "      <th>3</th>\n",
       "      <td>32145.0</td>\n",
       "      <td>Current Leakage</td>\n",
       "      <td>ESP Schlumberger Uniconn</td>\n",
       "    </tr>\n",
       "    <tr>\n",
       "      <th>4</th>\n",
       "      <td>32140.0</td>\n",
       "      <td>Pump Intake Temperature</td>\n",
       "      <td>ESP Schlumberger Uniconn</td>\n",
       "    </tr>\n",
       "  </tbody>\n",
       "</table>\n",
       "</div>"
      ],
      "text/plain": [
       "   Address                Parameter                      Pump\n",
       "0  32176.0            Motor current  ESP Schlumberger Uniconn\n",
       "1  32166.0                Frequency  ESP Schlumberger Uniconn\n",
       "2  32141.0        Motor Temperature  ESP Schlumberger Uniconn\n",
       "3  32145.0          Current Leakage  ESP Schlumberger Uniconn\n",
       "4  32140.0  Pump Intake Temperature  ESP Schlumberger Uniconn"
      ]
     },
     "execution_count": 11,
     "metadata": {},
     "output_type": "execute_result"
    }
   ],
   "source": [
    "file_path = r'C:\\Users\\rai_v\\OneDrive\\Python Coursera\\local-data\\oasis\\espParameters.xlsx'\n",
    "espaddr = pd.read_excel(file_path)\n",
    "espaddr.head()"
   ]
  },
  {
   "cell_type": "code",
   "execution_count": 10,
   "metadata": {},
   "outputs": [
    {
     "name": "stdout",
     "output_type": "stream",
     "text": [
      "Pump Value Counts\n"
     ]
    },
    {
     "data": {
      "text/plain": [
       "ESP Summit                  15\n",
       "ESP Apergy AL SPOC          14\n",
       "ESP Apergy Smarten IAM      13\n",
       "ESP Schlumberger Uniconn    13\n",
       "Name: Pump, dtype: int64"
      ]
     },
     "metadata": {},
     "output_type": "display_data"
    },
    {
     "name": "stdout",
     "output_type": "stream",
     "text": [
      "Parameter Value Counts\n"
     ]
    },
    {
     "data": {
      "text/plain": [
       "Pump Intake Temperature       4\n",
       "Pump Intake Pressure          4\n",
       "Frequency                     4\n",
       "Casing Pressure               4\n",
       "Current Leakage               4\n",
       "Tubing Pressure               4\n",
       "Motor current                 4\n",
       "Pump Discharge Pressure       4\n",
       "Output Amps                   4\n",
       "Motor Temperature             4\n",
       "Output volts                  4\n",
       "Y Vibration                   3\n",
       "X Vibration                   3\n",
       "Drive Fequency Setpoint       1\n",
       "PID Feedback Loop Setpoint    1\n",
       "Vibration                     1\n",
       "PID Setpoint                  1\n",
       "PIDTargetSetPoint             1\n",
       "Name: Parameter, dtype: int64"
      ]
     },
     "metadata": {},
     "output_type": "display_data"
    }
   ],
   "source": [
    "print(\"Pump Value Counts\")\n",
    "display(espaddr.Pump.value_counts())\n",
    "\n",
    "print(\"Parameter Value Counts\")\n",
    "display(espaddr.Parameter.value_counts())"
   ]
  },
  {
   "cell_type": "code",
   "execution_count": 12,
   "metadata": {},
   "outputs": [
    {
     "name": "stdout",
     "output_type": "stream",
     "text": [
      "Data appended on Table espaddr in time 16.10s\n"
     ]
    }
   ],
   "source": [
    "# Adding it into the database\n",
    "lib_aws.AddData.add_data(df=espaddr, \n",
    "                 db='esp-data', \n",
    "                 table='espaddr',\n",
    "                 merge_type='append',  # Only use replace if you know what you are doing\n",
    "                 index_col='Address') "
   ]
  }
 ],
 "metadata": {
  "kernelspec": {
   "display_name": "Python 3",
   "language": "python",
   "name": "python3"
  },
  "language_info": {
   "codemirror_mode": {
    "name": "ipython",
    "version": 3
   },
   "file_extension": ".py",
   "mimetype": "text/x-python",
   "name": "python",
   "nbconvert_exporter": "python",
   "pygments_lexer": "ipython3",
   "version": "3.7.3"
  }
 },
 "nbformat": 4,
 "nbformat_minor": 4
}
